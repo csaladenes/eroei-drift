{
 "cells": [
  {
   "cell_type": "code",
   "execution_count": 1,
   "metadata": {},
   "outputs": [],
   "source": [
    "import pandas as pd, numpy as np\n",
    "import matplotlib.pyplot as plt\n",
    "%matplotlib inline"
   ]
  },
  {
   "cell_type": "markdown",
   "metadata": {},
   "source": [
    "## Resources"
   ]
  },
  {
   "cell_type": "markdown",
   "metadata": {},
   "source": [
    "[OpenEI dataset](https://openei.org/doe-opendata/dataset/1be0a37f-28e5-4021-84bb-39a643250102/resource/bbeccdf5-301e-4390-b503-7d9f8d404986/download/wind50mresourcearea.xlsx)  \n",
    "[DTU wind atlas](https://globalwindatlas.info/)"
   ]
  },
  {
   "cell_type": "markdown",
   "metadata": {},
   "source": [
    "### Onshore"
   ]
  },
  {
   "cell_type": "code",
   "execution_count": 2,
   "metadata": {},
   "outputs": [],
   "source": [
    "windpath='http://en.openei.org/doe-opendata/dataset/c186913f-6684-4455-a2f2-f26e152a9b35/resource/4dc4a6fd-3a63-47df-bcbe-e9c83b83b38e/download/nrelcfddawindsc20130603.xlsx'"
   ]
  },
  {
   "cell_type": "code",
   "execution_count": 3,
   "metadata": {},
   "outputs": [],
   "source": [
    "wind=pd.read_excel(windpath,sheet_name='Onshore Power',skiprows=2)\n",
    "#http://en.openei.org/doe-opendata/dataset/c186913f-6684-4455-a2f2-f26e152a9b35/resource/4dc4a6fd-3a63-47df-bcbe-e9c83b83b38e/download/nrelcfddawindsc20130603.xlsx\n",
    "wind_cap={}\n",
    "for i in wind.T.iteritems():\n",
    "    country=i[1][0]\n",
    "    for k in range(1,10):\n",
    "        if country not in wind_cap:wind_cap[country]={}\n",
    "        clas=k\n",
    "        cap=i[1][k] + i[1][k+10]# + i[1][k+20] #last one too far 0-50,50-100,100-5000\n",
    "        wind_cap[country][clas]=cap/1000.0 #workbook reported values in GW, we use TW"
   ]
  },
  {
   "cell_type": "code",
   "execution_count": 4,
   "metadata": {},
   "outputs": [],
   "source": [
    "wind=pd.read_excel(windpath,sheet_name='Onshore Energy',skiprows=2)\n",
    "#http://en.openei.org/doe-opendata/dataset/c186913f-6684-4455-a2f2-f26e152a9b35/resource/4dc4a6fd-3a63-47df-bcbe-e9c83b83b38e/download/nrelcfddawindsc20130603.xlsx\n",
    "wind_res={}\n",
    "for i in wind.T.iteritems():\n",
    "    country=i[1][0]\n",
    "    for k in range(1,10):\n",
    "        if country not in wind_res:wind_res[country]={}\n",
    "        clas=k\n",
    "        cap=i[1][k] + i[1][k+10]# + i[1][k+20] #last one too far 0-50,50-100,100-5000\n",
    "        wind_res[country][clas]=cap*1000.0 #workbook reported values in PWh, we use TWh"
   ]
  },
  {
   "cell_type": "markdown",
   "metadata": {},
   "source": [
    "Power"
   ]
  },
  {
   "cell_type": "code",
   "execution_count": 5,
   "metadata": {},
   "outputs": [
    {
     "data": {
      "image/png": "[encoded data removed]",
      "text/plain": [
       "<Figure size 432x288 with 1 Axes>"
      ]
     },
     "metadata": {
      "needs_background": "light"
     },
     "output_type": "display_data"
    }
   ],
   "source": [
    "countries=['United Kingdom','Denmark','Germany','Kenya']\n",
    "for i,country in enumerate(countries):\n",
    "    plt.bar(np.array(list(wind_cap[country].keys()))+0.2*i,\n",
    "            wind_cap[country].values(),alpha=0.9,width=0.2,label=country)\n",
    "plt.ylabel('avail power [TW]')\n",
    "plt.title('onshore wind resources\\nwith 90m hub height\\n 5MW/km$^2$ power density')\n",
    "plt.xlabel('resource class')\n",
    "plt.legend();"
   ]
  },
  {
   "cell_type": "markdown",
   "metadata": {},
   "source": [
    "Capacity Factors"
   ]
  },
  {
   "cell_type": "code",
   "execution_count": 6,
   "metadata": {},
   "outputs": [
    {
     "data": {
      "text/html": [
       "<div>\n",
       "<style scoped>\n",
       "    .dataframe tbody tr th:only-of-type {\n",
       "        vertical-align: middle;\n",
       "    }\n",
       "\n",
       "    .dataframe tbody tr th {\n",
       "        vertical-align: top;\n",
       "    }\n",
       "\n",
       "    .dataframe thead th {\n",
       "        text-align: right;\n",
       "    }\n",
       "</style>\n",
       "<table border=\"1\" class=\"dataframe\">\n",
       "  <thead>\n",
       "    <tr style=\"text-align: right;\">\n",
       "      <th></th>\n",
       "      <th>Wind Classes</th>\n",
       "      <th>Capacity Factor</th>\n",
       "    </tr>\n",
       "  </thead>\n",
       "  <tbody>\n",
       "    <tr>\n",
       "      <th>0</th>\n",
       "      <td>c1</td>\n",
       "      <td>0-0.18</td>\n",
       "    </tr>\n",
       "    <tr>\n",
       "      <th>1</th>\n",
       "      <td>c2</td>\n",
       "      <td>0.18-0.22</td>\n",
       "    </tr>\n",
       "    <tr>\n",
       "      <th>2</th>\n",
       "      <td>c3</td>\n",
       "      <td>0.22-0.26</td>\n",
       "    </tr>\n",
       "    <tr>\n",
       "      <th>3</th>\n",
       "      <td>c4</td>\n",
       "      <td>0.26-0.3</td>\n",
       "    </tr>\n",
       "    <tr>\n",
       "      <th>4</th>\n",
       "      <td>c5</td>\n",
       "      <td>0.3-0.34</td>\n",
       "    </tr>\n",
       "    <tr>\n",
       "      <th>5</th>\n",
       "      <td>c6</td>\n",
       "      <td>0.34-0.38</td>\n",
       "    </tr>\n",
       "    <tr>\n",
       "      <th>6</th>\n",
       "      <td>c7</td>\n",
       "      <td>0.38-0.42</td>\n",
       "    </tr>\n",
       "    <tr>\n",
       "      <th>7</th>\n",
       "      <td>c8</td>\n",
       "      <td>0.42-0.46</td>\n",
       "    </tr>\n",
       "    <tr>\n",
       "      <th>8</th>\n",
       "      <td>c9</td>\n",
       "      <td>0.46-1.0</td>\n",
       "    </tr>\n",
       "  </tbody>\n",
       "</table>\n",
       "</div>"
      ],
      "text/plain": [
       "  Wind Classes Capacity Factor\n",
       "0           c1          0-0.18\n",
       "1           c2       0.18-0.22\n",
       "2           c3       0.22-0.26\n",
       "3           c4        0.26-0.3\n",
       "4           c5        0.3-0.34\n",
       "5           c6       0.34-0.38\n",
       "6           c7       0.38-0.42\n",
       "7           c8       0.42-0.46\n",
       "8           c9        0.46-1.0"
      ]
     },
     "execution_count": 6,
     "metadata": {},
     "output_type": "execute_result"
    }
   ],
   "source": [
    "cf=pd.read_excel(windpath,sheet_name='General',skiprows=1)\n",
    "cf=cf[['Wind Classes','Capacity Factor']][:9]\n",
    "cf"
   ]
  },
  {
   "cell_type": "markdown",
   "metadata": {},
   "source": [
    "Energy"
   ]
  },
  {
   "cell_type": "code",
   "execution_count": 7,
   "metadata": {},
   "outputs": [
    {
     "data": {
      "image/png": "[encoded data removed]",
      "text/plain": [
       "<Figure size 432x288 with 1 Axes>"
      ]
     },
     "metadata": {
      "needs_background": "light"
     },
     "output_type": "display_data"
    }
   ],
   "source": [
    "countries=['United Kingdom','Denmark','Germany','Kenya']\n",
    "for i,country in enumerate(countries):\n",
    "    plt.bar(np.array(list(wind_res[country].keys()))+0.2*i,\n",
    "            wind_res[country].values(),alpha=0.9,width=0.2,label=country)\n",
    "plt.ylabel('avail energy [TWh/year]')\n",
    "plt.title('onshore wind resources\\nwith 90m hub height\\n 5MW/km$^2$ power density')\n",
    "plt.xlabel('resource class')\n",
    "plt.legend();"
   ]
  },
  {
   "cell_type": "code",
   "execution_count": 8,
   "metadata": {},
   "outputs": [],
   "source": [
    "#!pip install plotly"
   ]
  },
  {
   "cell_type": "markdown",
   "metadata": {},
   "source": [
    "Intall `plotly` if you haven't before.  \n",
    "Then configure credentials at `~/.plotly/.credentials`.  \n",
    "Create user and get API key from https://plot.ly/settings/api#/"
   ]
  },
  {
   "cell_type": "code",
   "execution_count": 10,
   "metadata": {},
   "outputs": [
    {
     "data": {
      "text/html": [
       "<iframe id=\"igraph\" scrolling=\"no\" style=\"border:none;\" seamless=\"seamless\" src=\"https://plot.ly/~csaladenes/8.embed\" height=\"360px\" width=\"648px\"></iframe>"
      ],
      "text/plain": [
       "<plotly.tools.PlotlyDisplay object>"
      ]
     },
     "execution_count": 10,
     "metadata": {},
     "output_type": "execute_result"
    }
   ],
   "source": [
    "import plotly.plotly as py\n",
    "import plotly.tools as tls\n",
    "\n",
    "mpl_fig = plt.figure(figsize=(9,5))\n",
    "ax = mpl_fig.add_subplot(111)\n",
    "x=np.array(list(wind_res[countries[0]].keys()))\n",
    "    \n",
    "for i,country in enumerate(countries):\n",
    "    y=wind_res[country].values()\n",
    "    ax.bar(x,y,width=0.8)\n",
    "ax.set_ylabel('Available energy [TWh/year]')\n",
    "ax.set_xlabel('Resource class')\n",
    "ax.set_title('Onshore wind resources')\n",
    "plotly_fig = tls.mpl_to_plotly(mpl_fig)\n",
    "for i,e in enumerate(plotly_fig['data']):\n",
    "    e['name']=countries[i]\n",
    "plotly_fig[\"layout\"][\"showlegend\"] = True\n",
    "plotly_fig[\"layout\"]['hovermode']='x'\n",
    "py.iplot(plotly_fig, filename='ons1')"
   ]
  },
  {
   "cell_type": "markdown",
   "metadata": {},
   "source": [
    "### Offshore"
   ]
  },
  {
   "cell_type": "markdown",
   "metadata": {},
   "source": [
    "Power"
   ]
  },
  {
   "cell_type": "code",
   "execution_count": 14,
   "metadata": {},
   "outputs": [],
   "source": [
    "wind=pd.read_excel(windpath,sheet_name='Offshore Power',skiprows=3)\n",
    "wind_cap2={}\n",
    "country=''\n",
    "for i in wind.T.iteritems():\n",
    "    if str(i[1][0])!='nan':\n",
    "        country=str(i[1][0])\n",
    "    water=str(i[1][1])\n",
    "    if water in {'shallow','transitional'}: #skip deep for now\n",
    "        for k in range(2,11):\n",
    "            if country not in wind_cap2:wind_cap2[country]={}\n",
    "            clas=k-1\n",
    "            cap=i[1][k] + i[1][k+10]# + i[1][k+20] #last one too far 0-50,50-100,100-5000\n",
    "            if clas not in wind_cap2[country]:wind_cap2[country][clas]=0\n",
    "            wind_cap2[country][clas]+=cap/1000.0"
   ]
  },
  {
   "cell_type": "code",
   "execution_count": 15,
   "metadata": {},
   "outputs": [
    {
     "data": {
      "text/html": [
       "<iframe id=\"igraph\" scrolling=\"no\" style=\"border:none;\" seamless=\"seamless\" src=\"https://plot.ly/~csaladenes/10.embed\" height=\"432px\" width=\"648px\"></iframe>"
      ],
      "text/plain": [
       "<plotly.tools.PlotlyDisplay object>"
      ]
     },
     "execution_count": 15,
     "metadata": {},
     "output_type": "execute_result"
    }
   ],
   "source": [
    "countries=['United Kingdom','Denmark','Germany','Chile']\n",
    "mpl_fig = plt.figure(figsize=(9,6))\n",
    "ax = mpl_fig.add_subplot(111)\n",
    "x=np.array(list(wind_cap2[countries[0]].keys()))\n",
    "    \n",
    "for i,country in enumerate(countries):\n",
    "    y=wind_cap2[country].values()\n",
    "    ax.bar(x,y,width=0.8)\n",
    "ax.set_ylabel('Available power [TW]')\n",
    "ax.set_xlabel('Resource class')\n",
    "ax.set_title('Offshore wind resources')\n",
    "plotly_fig = tls.mpl_to_plotly(mpl_fig)\n",
    "for i,e in enumerate(plotly_fig['data']):\n",
    "    e['name']=countries[i]\n",
    "plotly_fig[\"layout\"][\"showlegend\"] = True\n",
    "plotly_fig[\"layout\"]['hovermode']='x'\n",
    "py.iplot(plotly_fig, filename='ofs1')"
   ]
  },
  {
   "cell_type": "markdown",
   "metadata": {},
   "source": [
    "Energy"
   ]
  },
  {
   "cell_type": "code",
   "execution_count": 16,
   "metadata": {},
   "outputs": [],
   "source": [
    "wind=pd.read_excel(windpath,sheet_name='Offshore Energy',skiprows=3)\n",
    "wind_res2={}\n",
    "country=''\n",
    "for i in wind.T.iteritems():\n",
    "    if str(i[1][0])!='nan':\n",
    "        country=str(i[1][0])\n",
    "    water=str(i[1][1])\n",
    "    if water in {'shallow','transitional'}: #skip deep for now\n",
    "        for k in range(2,11):\n",
    "            if country not in wind_res2:wind_res2[country]={}\n",
    "            clas=k-1\n",
    "            cap=i[1][k] + i[1][k+10]# + i[1][k+20] #last one too far 0-50,50-100,100-5000\n",
    "            if clas not in wind_res2[country]:wind_res2[country][clas]=0\n",
    "            wind_res2[country][clas]+=cap*1000.0"
   ]
  },
  {
   "cell_type": "code",
   "execution_count": 17,
   "metadata": {},
   "outputs": [
    {
     "data": {
      "text/html": [
       "<iframe id=\"igraph\" scrolling=\"no\" style=\"border:none;\" seamless=\"seamless\" src=\"https://plot.ly/~csaladenes/12.embed\" height=\"432px\" width=\"648px\"></iframe>"
      ],
      "text/plain": [
       "<plotly.tools.PlotlyDisplay object>"
      ]
     },
     "execution_count": 17,
     "metadata": {},
     "output_type": "execute_result"
    }
   ],
   "source": [
    "mpl_fig = plt.figure(figsize=(9,6))\n",
    "ax = mpl_fig.add_subplot(111)\n",
    "x=np.array(list(wind_res2[countries[0]].keys()))\n",
    "    \n",
    "for i,country in enumerate(countries):\n",
    "    y=wind_res2[country].values()\n",
    "    ax.bar(x,y,width=0.8)\n",
    "ax.set_ylabel('Available energy [TWh/year]')\n",
    "ax.set_xlabel('Resource class')\n",
    "ax.set_title('Offshore wind resources')\n",
    "plotly_fig = tls.mpl_to_plotly(mpl_fig)\n",
    "for i,e in enumerate(plotly_fig['data']):\n",
    "    e['name']=countries[i]\n",
    "plotly_fig[\"layout\"][\"showlegend\"] = True\n",
    "plotly_fig[\"layout\"]['hovermode']='x'\n",
    "py.iplot(plotly_fig, filename='ofs2')"
   ]
  },
  {
   "cell_type": "markdown",
   "metadata": {},
   "source": [
    "### Convert wind classes to *m/s* speeds"
   ]
  },
  {
   "cell_type": "markdown",
   "metadata": {},
   "source": [
    "https://www.nrel.gov/gis/data-wind.html"
   ]
  },
  {
   "cell_type": "code",
   "execution_count": 18,
   "metadata": {},
   "outputs": [],
   "source": [
    "df=pd.read_html('https://www.nrel.gov/gis/data-wind.html')[0]"
   ]
  },
  {
   "cell_type": "code",
   "execution_count": 19,
   "metadata": {},
   "outputs": [],
   "source": [
    "df=df[1::2].reset_index()"
   ]
  },
  {
   "cell_type": "code",
   "execution_count": 20,
   "metadata": {},
   "outputs": [],
   "source": [
    "df2=df.copy()\n",
    "df2.columns=df2.loc[0]\n",
    "df=df[1:]"
   ]
  },
  {
   "cell_type": "code",
   "execution_count": 21,
   "metadata": {},
   "outputs": [
    {
     "data": {
      "text/html": [
       "<div>\n",
       "<style scoped>\n",
       "    .dataframe tbody tr th:only-of-type {\n",
       "        vertical-align: middle;\n",
       "    }\n",
       "\n",
       "    .dataframe tbody tr th {\n",
       "        vertical-align: top;\n",
       "    }\n",
       "\n",
       "    .dataframe thead th {\n",
       "        text-align: right;\n",
       "    }\n",
       "</style>\n",
       "<table border=\"1\" class=\"dataframe\">\n",
       "  <thead>\n",
       "    <tr style=\"text-align: right;\">\n",
       "      <th></th>\n",
       "      <th>1</th>\n",
       "      <th>Wind Power Density (W/m2)</th>\n",
       "      <th>Speedb m/s (mph)</th>\n",
       "      <th>Wind Power Density (W/m2)</th>\n",
       "      <th>Speedb m/s (mph)</th>\n",
       "      <th>nan</th>\n",
       "    </tr>\n",
       "  </thead>\n",
       "  <tbody>\n",
       "    <tr>\n",
       "      <th>1</th>\n",
       "      <td>3</td>\n",
       "      <td>100</td>\n",
       "      <td>4.4 (9.8)</td>\n",
       "      <td>200</td>\n",
       "      <td>5.6 (12.5)</td>\n",
       "      <td>NaN</td>\n",
       "    </tr>\n",
       "    <tr>\n",
       "      <th>2</th>\n",
       "      <td>5</td>\n",
       "      <td>150</td>\n",
       "      <td>5.1 (11.5)</td>\n",
       "      <td>300</td>\n",
       "      <td>6.4 (14.3)</td>\n",
       "      <td>NaN</td>\n",
       "    </tr>\n",
       "    <tr>\n",
       "      <th>3</th>\n",
       "      <td>7</td>\n",
       "      <td>200</td>\n",
       "      <td>5.6 (12.5)</td>\n",
       "      <td>400</td>\n",
       "      <td>7.0 (15.7)</td>\n",
       "      <td>NaN</td>\n",
       "    </tr>\n",
       "    <tr>\n",
       "      <th>4</th>\n",
       "      <td>9</td>\n",
       "      <td>250</td>\n",
       "      <td>6.0 (13.4)</td>\n",
       "      <td>500</td>\n",
       "      <td>7.5 (16.8)</td>\n",
       "      <td>NaN</td>\n",
       "    </tr>\n",
       "    <tr>\n",
       "      <th>5</th>\n",
       "      <td>11</td>\n",
       "      <td>300</td>\n",
       "      <td>6.4 (14.3)</td>\n",
       "      <td>600</td>\n",
       "      <td>8.0 (17.9)</td>\n",
       "      <td>NaN</td>\n",
       "    </tr>\n",
       "    <tr>\n",
       "      <th>6</th>\n",
       "      <td>13</td>\n",
       "      <td>400</td>\n",
       "      <td>7.0 (15.7)</td>\n",
       "      <td>800</td>\n",
       "      <td>8.8 (19.7)</td>\n",
       "      <td>NaN</td>\n",
       "    </tr>\n",
       "    <tr>\n",
       "      <th>7</th>\n",
       "      <td>15</td>\n",
       "      <td>1000</td>\n",
       "      <td>9.4 (21.1)</td>\n",
       "      <td>2000</td>\n",
       "      <td>11.9 (26.6)</td>\n",
       "      <td>NaN</td>\n",
       "    </tr>\n",
       "  </tbody>\n",
       "</table>\n",
       "</div>"
      ],
      "text/plain": [
       "0   1 Wind Power Density (W/m2) Speedb m/s (mph) Wind Power Density (W/m2)  \\\n",
       "1   3                       100        4.4 (9.8)                       200   \n",
       "2   5                       150       5.1 (11.5)                       300   \n",
       "3   7                       200       5.6 (12.5)                       400   \n",
       "4   9                       250       6.0 (13.4)                       500   \n",
       "5  11                       300       6.4 (14.3)                       600   \n",
       "6  13                       400       7.0 (15.7)                       800   \n",
       "7  15                      1000       9.4 (21.1)                      2000   \n",
       "\n",
       "0 Speedb m/s (mph)  NaN  \n",
       "1       5.6 (12.5)  NaN  \n",
       "2       6.4 (14.3)  NaN  \n",
       "3       7.0 (15.7)  NaN  \n",
       "4       7.5 (16.8)  NaN  \n",
       "5       8.0 (17.9)  NaN  \n",
       "6       8.8 (19.7)  NaN  \n",
       "7      11.9 (26.6)  NaN  "
      ]
     },
     "execution_count": 21,
     "metadata": {},
     "output_type": "execute_result"
    }
   ],
   "source": [
    "df2[1:]"
   ]
  },
  {
   "cell_type": "code",
   "execution_count": 22,
   "metadata": {},
   "outputs": [],
   "source": [
    "classes=list(df.index) #extract classes"
   ]
  },
  {
   "cell_type": "code",
   "execution_count": 23,
   "metadata": {},
   "outputs": [],
   "source": [
    "x10m=np.array([float(i[:i.find(' ')]) for i in df[1]]) #wind speed at 10m hub height\n",
    "x50m=np.array([float(i[:i.find(' ')]) for i in df[3]]) #wind speed at 50m hub height"
   ]
  },
  {
   "cell_type": "code",
   "execution_count": 24,
   "metadata": {},
   "outputs": [
    {
     "data": {
      "text/plain": [
       "[<matplotlib.lines.Line2D at 0x1e03ae67e80>]"
      ]
     },
     "execution_count": 24,
     "metadata": {},
     "output_type": "execute_result"
    },
    {
     "data": {
      "image/png": "[encoded data removed]",
      "text/plain": [
       "<Figure size 432x288 with 1 Axes>"
      ]
     },
     "metadata": {
      "needs_background": "light"
     },
     "output_type": "display_data"
    }
   ],
   "source": [
    "plt.plot(classes,x10m)\n",
    "plt.plot(classes,x50m)"
   ]
  },
  {
   "cell_type": "markdown",
   "metadata": {},
   "source": [
    "http://windpower.generatorguide.net/wind-speed-power.html"
   ]
  },
  {
   "cell_type": "code",
   "execution_count": 25,
   "metadata": {},
   "outputs": [],
   "source": [
    "def height_converter(h,href,vref):\n",
    "    return vref*(h*1.0/href)**(1/7)"
   ]
  },
  {
   "cell_type": "code",
   "execution_count": 26,
   "metadata": {},
   "outputs": [],
   "source": [
    "x90m1=height_converter(90,10,x10m)\n",
    "x90m2=height_converter(90,50,x50m)\n",
    "x90m=(x90m1+x90m2)/2.0"
   ]
  },
  {
   "cell_type": "code",
   "execution_count": 27,
   "metadata": {},
   "outputs": [
    {
     "data": {
      "text/plain": [
       "[<matplotlib.lines.Line2D at 0x1e03b740e10>]"
      ]
     },
     "execution_count": 27,
     "metadata": {},
     "output_type": "execute_result"
    },
    {
     "data": {
      "image/png": "[encoded data removed]",
      "text/plain": [
       "<Figure size 432x288 with 1 Axes>"
      ]
     },
     "metadata": {
      "needs_background": "light"
     },
     "output_type": "display_data"
    }
   ],
   "source": [
    "plt.plot(classes,x90m1)\n",
    "plt.plot(classes,x90m2)\n",
    "plt.plot(classes,x90m)"
   ]
  },
  {
   "cell_type": "markdown",
   "metadata": {},
   "source": [
    "Cast the NREL 7 classes into the map's 9 classes."
   ]
  },
  {
   "cell_type": "code",
   "execution_count": 28,
   "metadata": {},
   "outputs": [],
   "source": [
    "x90m9cl=np.array(list(x90m[:-1])+[x90m[-2]+(x90m[-1]-x90m[-2])*1/3,\n",
    "                                  x90m[-2]+(x90m[-1]-x90m[-2])*2/3,\n",
    "                                  x90m[-1]])"
   ]
  },
  {
   "cell_type": "code",
   "execution_count": 29,
   "metadata": {},
   "outputs": [
    {
     "data": {
      "text/plain": [
       "[<matplotlib.lines.Line2D at 0x1e03b8b3f98>]"
      ]
     },
     "execution_count": 29,
     "metadata": {},
     "output_type": "execute_result"
    },
    {
     "data": {
      "image/png": "[encoded data removed]",
      "text/plain": [
       "<Figure size 432x288 with 1 Axes>"
      ]
     },
     "metadata": {
      "needs_background": "light"
     },
     "output_type": "display_data"
    }
   ],
   "source": [
    "plt.plot(classes,x10m)\n",
    "plt.plot(classes,x50m)\n",
    "plt.plot(classes,x90m)\n",
    "plt.plot(classes+[8,9],x90m9cl)"
   ]
  },
  {
   "cell_type": "code",
   "execution_count": 30,
   "metadata": {},
   "outputs": [],
   "source": [
    "class2speed={i+1:np.round(x90m9cl[i],1) for i in range(len(x90m9cl))}"
   ]
  },
  {
   "cell_type": "markdown",
   "metadata": {},
   "source": [
    "New plot with speeds"
   ]
  },
  {
   "cell_type": "code",
   "execution_count": 31,
   "metadata": {},
   "outputs": [
    {
     "data": {
      "text/html": [
       "<iframe id=\"igraph\" scrolling=\"no\" style=\"border:none;\" seamless=\"seamless\" src=\"https://plot.ly/~csaladenes/14.embed\" height=\"432px\" width=\"648px\"></iframe>"
      ],
      "text/plain": [
       "<plotly.tools.PlotlyDisplay object>"
      ]
     },
     "execution_count": 31,
     "metadata": {},
     "output_type": "execute_result"
    }
   ],
   "source": [
    "countries=['United Kingdom','Denmark','Germany','Chile']\n",
    "mpl_fig = plt.figure(figsize=(9,6))\n",
    "ax = mpl_fig.add_subplot(111)\n",
    "x=[class2speed[i] for i in wind_res[countries[0]].keys()]\n",
    "    \n",
    "for i,country in enumerate(countries):\n",
    "    y=wind_res[country].values()\n",
    "    ax.bar(x,y,width=0.8)\n",
    "ax.set_ylabel('Available energy (TWh/year)')\n",
    "ax.set_xlabel('Wind speed (m/s)')\n",
    "ax.set_title('Onshore wind resources')\n",
    "plotly_fig = tls.mpl_to_plotly(mpl_fig)\n",
    "for i,e in enumerate(plotly_fig['data']):\n",
    "    e['name']=countries[i]\n",
    "plotly_fig[\"layout\"][\"showlegend\"] = True\n",
    "plotly_fig[\"layout\"]['hovermode']='x'\n",
    "py.iplot(plotly_fig, filename='ons3')"
   ]
  },
  {
   "cell_type": "code",
   "execution_count": 32,
   "metadata": {},
   "outputs": [
    {
     "data": {
      "text/html": [
       "<iframe id=\"igraph\" scrolling=\"no\" style=\"border:none;\" seamless=\"seamless\" src=\"https://plot.ly/~csaladenes/16.embed\" height=\"432px\" width=\"648px\"></iframe>"
      ],
      "text/plain": [
       "<plotly.tools.PlotlyDisplay object>"
      ]
     },
     "execution_count": 32,
     "metadata": {},
     "output_type": "execute_result"
    }
   ],
   "source": [
    "mpl_fig = plt.figure(figsize=(9,6))\n",
    "ax = mpl_fig.add_subplot(111)\n",
    "x=[class2speed[i] for i in wind_res2[countries[0]].keys()]\n",
    "    \n",
    "for i,country in enumerate(countries):\n",
    "    y=wind_res2[country].values()\n",
    "    ax.bar(x,y,width=0.8)\n",
    "ax.set_ylabel('Available energy (TWh/year)')\n",
    "ax.set_xlabel('Wind speed (m/s)')\n",
    "ax.set_title('Offshore wind resources')\n",
    "plotly_fig = tls.mpl_to_plotly(mpl_fig)\n",
    "for i,e in enumerate(plotly_fig['data']):\n",
    "    e['name']=countries[i]\n",
    "plotly_fig[\"layout\"][\"showlegend\"] = True\n",
    "plotly_fig[\"layout\"]['hovermode']='x'\n",
    "py.iplot(plotly_fig, filename='ofs3')"
   ]
  },
  {
   "cell_type": "markdown",
   "metadata": {},
   "source": [
    "## Turbines"
   ]
  },
  {
   "cell_type": "code",
   "execution_count": 33,
   "metadata": {},
   "outputs": [],
   "source": [
    "df=pd.read_excel('data/wind_farms_with_ws_2k_5k_sgouris edited.xlsx',sheet_name='BASE')\n",
    "df=df.dropna()\n",
    "turbines=df.set_index(['ISO_CODE','Year'])"
   ]
  },
  {
   "cell_type": "code",
   "execution_count": 34,
   "metadata": {},
   "outputs": [
    {
     "data": {
      "text/html": [
       "<div>\n",
       "<style scoped>\n",
       "    .dataframe tbody tr th:only-of-type {\n",
       "        vertical-align: middle;\n",
       "    }\n",
       "\n",
       "    .dataframe tbody tr th {\n",
       "        vertical-align: top;\n",
       "    }\n",
       "\n",
       "    .dataframe thead th {\n",
       "        text-align: right;\n",
       "    }\n",
       "</style>\n",
       "<table border=\"1\" class=\"dataframe\">\n",
       "  <thead>\n",
       "    <tr style=\"text-align: right;\">\n",
       "      <th></th>\n",
       "      <th></th>\n",
       "      <th>ID</th>\n",
       "      <th>OFFSHORE</th>\n",
       "      <th>POWER_KW</th>\n",
       "      <th>WS_est</th>\n",
       "    </tr>\n",
       "    <tr>\n",
       "      <th>ISO_CODE</th>\n",
       "      <th>Year</th>\n",
       "      <th></th>\n",
       "      <th></th>\n",
       "      <th></th>\n",
       "      <th></th>\n",
       "    </tr>\n",
       "  </thead>\n",
       "  <tbody>\n",
       "    <tr>\n",
       "      <th rowspan=\"5\" valign=\"top\">FR</th>\n",
       "      <th>2003.0</th>\n",
       "      <td>1</td>\n",
       "      <td>no</td>\n",
       "      <td>12000</td>\n",
       "      <td>8.55312</td>\n",
       "    </tr>\n",
       "    <tr>\n",
       "      <th>2003.0</th>\n",
       "      <td>2</td>\n",
       "      <td>no</td>\n",
       "      <td>7500</td>\n",
       "      <td>8.58871</td>\n",
       "    </tr>\n",
       "    <tr>\n",
       "      <th>2005.0</th>\n",
       "      <td>5</td>\n",
       "      <td>no</td>\n",
       "      <td>11900</td>\n",
       "      <td>8.30861</td>\n",
       "    </tr>\n",
       "    <tr>\n",
       "      <th>2002.0</th>\n",
       "      <td>6</td>\n",
       "      <td>no</td>\n",
       "      <td>8000</td>\n",
       "      <td>6.72163</td>\n",
       "    </tr>\n",
       "    <tr>\n",
       "      <th>2002.0</th>\n",
       "      <td>7</td>\n",
       "      <td>no</td>\n",
       "      <td>1500</td>\n",
       "      <td>6.72163</td>\n",
       "    </tr>\n",
       "  </tbody>\n",
       "</table>\n",
       "</div>"
      ],
      "text/plain": [
       "                 ID OFFSHORE POWER_KW   WS_est\n",
       "ISO_CODE Year                                 \n",
       "FR       2003.0   1       no    12000  8.55312\n",
       "         2003.0   2       no     7500  8.58871\n",
       "         2005.0   5       no    11900  8.30861\n",
       "         2002.0   6       no     8000  6.72163\n",
       "         2002.0   7       no     1500  6.72163"
      ]
     },
     "execution_count": 34,
     "metadata": {},
     "output_type": "execute_result"
    }
   ],
   "source": [
    "turbines.head()"
   ]
  },
  {
   "cell_type": "markdown",
   "metadata": {},
   "source": [
    "### Onshore"
   ]
  },
  {
   "cell_type": "code",
   "execution_count": 35,
   "metadata": {},
   "outputs": [],
   "source": [
    "def projects(df,c):\n",
    "    x=[]\n",
    "    y=[]\n",
    "    z=[]\n",
    "    for i in df.loc[c].sort_index().index.unique():\n",
    "        x.append(i)\n",
    "        dz=df.loc[c].loc[[k for k in df.loc[c].index.unique() if k<=i]]\n",
    "        y.append(np.average(dz['WS_est'].astype(float).values))\n",
    "        try:\n",
    "            z.append(np.average(dz['WS_est'],weights=dz['POWER_KW'].astype(float).values))\n",
    "        except:\n",
    "            z.append(np.average(dz['WS_est']))\n",
    "    return x,y,z"
   ]
  },
  {
   "cell_type": "code",
   "execution_count": 36,
   "metadata": {},
   "outputs": [
    {
     "data": {
      "text/html": [
       "<iframe id=\"igraph\" scrolling=\"no\" style=\"border:none;\" seamless=\"seamless\" src=\"https://plot.ly/~csaladenes/18.embed\" height=\"360px\" width=\"648px\"></iframe>"
      ],
      "text/plain": [
       "<plotly.tools.PlotlyDisplay object>"
      ]
     },
     "execution_count": 36,
     "metadata": {},
     "output_type": "execute_result"
    }
   ],
   "source": [
    "df=turbines[((turbines['POWER_KW'].replace('#ND',0).astype(int)>0)&\\\n",
    "       (turbines['POWER_KW'].replace('#ND',0).astype(int)<1000000)&(turbines['OFFSHORE']=='no'))]\n",
    "countries=[{'BR','AR','GB','CA','US','IN'},{'FR','DE','CN','IT','ES','GB'}]\n",
    "\n",
    "\n",
    "fig, ax = plt.subplots(1,2,figsize=(9,5))\n",
    "for s in range(len(countries)):\n",
    "    for c in countries[s]:\n",
    "        x,y,z=projects(df,c)\n",
    "        ax[s].plot(x,z,label=c)\n",
    "\n",
    "    ax[s].set_ylabel('Capacity weighted mean windspeed [m/s]')\n",
    "    ax[s].set_title(\"Onshore turbines | Cumulative\")\n",
    "\n",
    "plotly_fig = tls.mpl_to_plotly(fig)\n",
    "plotly_fig[\"layout\"][\"showlegend\"] = True\n",
    "plotly_fig[\"layout\"]['hovermode']='x'\n",
    "py.iplot(plotly_fig, filename='ons4')"
   ]
  },
  {
   "cell_type": "markdown",
   "metadata": {},
   "source": [
    "### Offshore"
   ]
  },
  {
   "cell_type": "code",
   "execution_count": 37,
   "metadata": {},
   "outputs": [
    {
     "data": {
      "text/html": [
       "<iframe id=\"igraph\" scrolling=\"no\" style=\"border:none;\" seamless=\"seamless\" src=\"https://plot.ly/~csaladenes/20.embed\" height=\"360px\" width=\"648px\"></iframe>"
      ],
      "text/plain": [
       "<plotly.tools.PlotlyDisplay object>"
      ]
     },
     "execution_count": 37,
     "metadata": {},
     "output_type": "execute_result"
    }
   ],
   "source": [
    "df=turbines[((turbines['POWER_KW'].replace('#ND',0).astype(int)>0)&\\\n",
    "       (turbines['POWER_KW'].replace('#ND',0).astype(int)<1000000)&(turbines['OFFSHORE']=='yes'))]\n",
    "countries=[{'GB','US','IN','CN','FR','DE'},{'GB'}]\n",
    "\n",
    "\n",
    "fig, ax = plt.subplots(1,2,figsize=(9,5))\n",
    "for s in range(len(countries)):\n",
    "    for c in countries[s]:\n",
    "        x,y,z=projects(df,c)\n",
    "        ax[s].plot(x,z,label=c)\n",
    "\n",
    "    ax[s].set_ylabel('Capacity weighted mean windspeed [m/s]')\n",
    "    ax[s].set_title(\"Onshore turbines | Cumulative\")\n",
    "\n",
    "plotly_fig = tls.mpl_to_plotly(fig)\n",
    "plotly_fig[\"layout\"][\"showlegend\"] = True\n",
    "plotly_fig[\"layout\"]['hovermode']='x'\n",
    "py.iplot(plotly_fig, filename='ofs4')"
   ]
  },
  {
   "cell_type": "markdown",
   "metadata": {},
   "source": [
    "Compare turbines with resources"
   ]
  },
  {
   "cell_type": "code",
   "execution_count": 163,
   "metadata": {},
   "outputs": [],
   "source": [
    "df=turbines[((turbines['POWER_KW'].replace('#ND',0).astype(int)>0)&\\\n",
    "       (turbines['POWER_KW'].replace('#ND',0).astype(int)<1000000)&(turbines['OFFSHORE']=='no'))]"
   ]
  },
  {
   "cell_type": "code",
   "execution_count": 164,
   "metadata": {},
   "outputs": [
    {
     "name": "stdout",
     "output_type": "stream",
     "text": [
      "This is the format of your plot grid:\n",
      "[ (1,1) x1,y1 ]  [ (1,2) x2,y1 ]\n",
      "\n"
     ]
    },
    {
     "data": {
      "text/html": [
       "<iframe id=\"igraph\" scrolling=\"no\" style=\"border:none;\" seamless=\"seamless\" src=\"https://plot.ly/~csaladenes/22.embed\" height=\"525px\" width=\"100%\"></iframe>"
      ],
      "text/plain": [
       "<plotly.tools.PlotlyDisplay object>"
      ]
     },
     "execution_count": 164,
     "metadata": {},
     "output_type": "execute_result"
    }
   ],
   "source": [
    "cs=['GB','DE','FR']\n",
    "c2s=['United Kingdom','Germany','France']\n",
    "#generate nice colorscale: http://paletton.com\n",
    "colors=['#AA5585','#499272','#D4CB6A']\n",
    "smoothing=0.5,0.2\n",
    "fig = tools.make_subplots(rows=1, cols=2, shared_yaxes=True);\n",
    "for i in range(len(cs)):\n",
    "    c=cs[i]\n",
    "    c2=c2s[i]\n",
    "    x,y,z=projects(df,c)\n",
    "    x2=[class2speed[i] for i in wind_res[c2].keys()]\n",
    "    y2=np.array(list(wind_res[c2].values()))\n",
    "    fig.append_trace(\n",
    "        go.Scatter(x=y2,y=x2,\n",
    "            mode = 'lines',\n",
    "            fill='toself',\n",
    "            legendgroup= c2,\n",
    "            name = c2,\n",
    "            line=dict(\n",
    "                color=colors[i],\n",
    "                shape='spline',\n",
    "                smoothing=smoothing[1]\n",
    "            )\n",
    "        ),1,1\n",
    "    )\n",
    "    fig.append_trace(\n",
    "        go.Scatter(x=x,y=z,\n",
    "            mode = 'lines',\n",
    "            name = c2,  \n",
    "            legendgroup= c2,\n",
    "            line=dict(\n",
    "                color=colors[i],\n",
    "                shape='spline',\n",
    "                smoothing=smoothing[0]\n",
    "            ),\n",
    "            showlegend=False\n",
    "        ),1,2\n",
    "    )\n",
    "layout = go.Layout(\n",
    "    xaxis=dict(\n",
    "        domain=[0, 0.3],\n",
    "        title='Available power (TW)',\n",
    "        autorange='reversed'\n",
    "    ),\n",
    "    xaxis2=dict(\n",
    "        domain=[0.3, 1],\n",
    "        title='Year'\n",
    "    ),\n",
    "    yaxis=dict(\n",
    "        title='Wind speed (m/s)'\n",
    "    ),\n",
    "    yaxis2=dict(\n",
    "        anchor='x2',\n",
    "    ),\n",
    "    title='Onshore wind turbine projects and available power by wind speed'\n",
    ")\n",
    "fig[\"layout\"]=layout\n",
    "fig[\"layout\"][\"showlegend\"] = True\n",
    "fig[\"layout\"]['hovermode']='x'\n",
    "py.iplot(fig, filename='ons5')"
   ]
  },
  {
   "cell_type": "code",
   "execution_count": 165,
   "metadata": {},
   "outputs": [],
   "source": [
    "df=turbines[((turbines['POWER_KW'].replace('#ND',0).astype(int)>0)&\\\n",
    "       (turbines['POWER_KW'].replace('#ND',0).astype(int)<1000000)&(turbines['OFFSHORE']=='yes'))]"
   ]
  },
  {
   "cell_type": "code",
   "execution_count": 166,
   "metadata": {},
   "outputs": [
    {
     "name": "stdout",
     "output_type": "stream",
     "text": [
      "This is the format of your plot grid:\n",
      "[ (1,1) x1,y1 ]  [ (1,2) x2,y1 ]\n",
      "\n"
     ]
    },
    {
     "data": {
      "text/html": [
       "<iframe id=\"igraph\" scrolling=\"no\" style=\"border:none;\" seamless=\"seamless\" src=\"https://plot.ly/~csaladenes/24.embed\" height=\"525px\" width=\"100%\"></iframe>"
      ],
      "text/plain": [
       "<plotly.tools.PlotlyDisplay object>"
      ]
     },
     "execution_count": 166,
     "metadata": {},
     "output_type": "execute_result"
    }
   ],
   "source": [
    "fig = tools.make_subplots(rows=1, cols=2, shared_yaxes=True);\n",
    "for i in range(len(cs)):\n",
    "    c=cs[i]\n",
    "    c2=c2s[i]\n",
    "    x,y,z=projects(df,c)\n",
    "    x2=[class2speed[i] for i in wind_res2[c2].keys()]\n",
    "    y2=np.array(list(wind_res2[c2].values()))\n",
    "    fig.append_trace(\n",
    "        go.Scatter(x=y2,y=x2,\n",
    "            mode = 'lines',\n",
    "            fill='toself',\n",
    "            legendgroup= c2,\n",
    "            name = c2,\n",
    "            line=dict(\n",
    "                color=colors[i],\n",
    "                shape='spline',\n",
    "                smoothing=smoothing[1]\n",
    "            )\n",
    "        ),1,1\n",
    "    )\n",
    "    fig.append_trace(\n",
    "        go.Scatter(x=x,y=z,\n",
    "            mode = 'lines',\n",
    "            name = c2,  \n",
    "            legendgroup= c2,\n",
    "            line=dict(\n",
    "                color=colors[i],\n",
    "                shape='spline',\n",
    "                smoothing=smoothing[0]\n",
    "            ),\n",
    "            showlegend=False\n",
    "        ),1,2\n",
    "    )\n",
    "layout = go.Layout(\n",
    "    xaxis=dict(\n",
    "        domain=[0, 0.3],\n",
    "        title='Available power (TW)',\n",
    "        autorange='reversed'\n",
    "    ),\n",
    "    xaxis2=dict(\n",
    "        domain=[0.3, 1],\n",
    "        title='Year'\n",
    "    ),\n",
    "    yaxis=dict(\n",
    "        title='Wind speed (m/s)'\n",
    "    ),\n",
    "    yaxis2=dict(\n",
    "        anchor='x2',\n",
    "    ),\n",
    "    title='Offshore wind turbine projects and available power by wind speed'\n",
    ")\n",
    "fig[\"layout\"]=layout\n",
    "fig[\"layout\"][\"showlegend\"] = True\n",
    "fig[\"layout\"]['hovermode']='x'\n",
    "py.iplot(fig, filename='ofs5')"
   ]
  },
  {
   "cell_type": "code",
   "execution_count": 170,
   "metadata": {},
   "outputs": [
    {
     "name": "stdout",
     "output_type": "stream",
     "text": [
      "This is the format of your plot grid:\n",
      "[ (1,1) x1,y1 ]  [ (1,2) x2,y1 ]\n",
      "\n"
     ]
    },
    {
     "ename": "PlotlyRequestError",
     "evalue": "Hi there, you've reached the threshold of 100 combined image exports and chart saves per 24h period. If you need to raise your daily limit, please consider upgrading to a paid plan\n(see: https://plot.ly/products/cloud ).",
     "output_type": "error",
     "traceback": [
      "\u001b[1;31m---------------------------------------------------------------------------\u001b[0m",
      "\u001b[1;31mPlotlyRequestError\u001b[0m                        Traceback (most recent call last)",
      "\u001b[1;32m<ipython-input-170-6d5eed23ad83>\u001b[0m in \u001b[0;36m<module>\u001b[1;34m()\u001b[0m\n\u001b[0;32m     47\u001b[0m \u001b[0mfig\u001b[0m\u001b[1;33m[\u001b[0m\u001b[1;34m\"layout\"\u001b[0m\u001b[1;33m]\u001b[0m\u001b[1;33m[\u001b[0m\u001b[1;34m\"showlegend\"\u001b[0m\u001b[1;33m]\u001b[0m \u001b[1;33m=\u001b[0m \u001b[1;32mTrue\u001b[0m\u001b[1;33m\u001b[0m\u001b[0m\n\u001b[0;32m     48\u001b[0m \u001b[0mfig\u001b[0m\u001b[1;33m[\u001b[0m\u001b[1;34m\"layout\"\u001b[0m\u001b[1;33m]\u001b[0m\u001b[1;33m[\u001b[0m\u001b[1;34m'hovermode'\u001b[0m\u001b[1;33m]\u001b[0m\u001b[1;33m=\u001b[0m\u001b[1;34m'x'\u001b[0m\u001b[1;33m\u001b[0m\u001b[0m\n\u001b[1;32m---> 49\u001b[1;33m \u001b[0mpy\u001b[0m\u001b[1;33m.\u001b[0m\u001b[0miplot\u001b[0m\u001b[1;33m(\u001b[0m\u001b[0mfig\u001b[0m\u001b[1;33m,\u001b[0m \u001b[0mfilename\u001b[0m\u001b[1;33m=\u001b[0m\u001b[1;34m'ofs5'\u001b[0m\u001b[1;33m)\u001b[0m\u001b[1;33m\u001b[0m\u001b[0m\n\u001b[0m",
      "\u001b[1;32mC:\\ProgramData\\Anaconda3\\lib\\site-packages\\plotly\\plotly\\plotly.py\u001b[0m in \u001b[0;36miplot\u001b[1;34m(figure_or_data, **plot_options)\u001b[0m\n\u001b[0;32m    140\u001b[0m     \u001b[1;32mif\u001b[0m \u001b[1;34m'auto_open'\u001b[0m \u001b[1;32mnot\u001b[0m \u001b[1;32min\u001b[0m \u001b[0mplot_options\u001b[0m\u001b[1;33m:\u001b[0m\u001b[1;33m\u001b[0m\u001b[0m\n\u001b[0;32m    141\u001b[0m         \u001b[0mplot_options\u001b[0m\u001b[1;33m[\u001b[0m\u001b[1;34m'auto_open'\u001b[0m\u001b[1;33m]\u001b[0m \u001b[1;33m=\u001b[0m \u001b[1;32mFalse\u001b[0m\u001b[1;33m\u001b[0m\u001b[0m\n\u001b[1;32m--> 142\u001b[1;33m     \u001b[0murl\u001b[0m \u001b[1;33m=\u001b[0m \u001b[0mplot\u001b[0m\u001b[1;33m(\u001b[0m\u001b[0mfigure_or_data\u001b[0m\u001b[1;33m,\u001b[0m \u001b[1;33m**\u001b[0m\u001b[0mplot_options\u001b[0m\u001b[1;33m)\u001b[0m\u001b[1;33m\u001b[0m\u001b[0m\n\u001b[0m\u001b[0;32m    143\u001b[0m \u001b[1;33m\u001b[0m\u001b[0m\n\u001b[0;32m    144\u001b[0m     \u001b[1;32mif\u001b[0m \u001b[0misinstance\u001b[0m\u001b[1;33m(\u001b[0m\u001b[0mfigure_or_data\u001b[0m\u001b[1;33m,\u001b[0m \u001b[0mdict\u001b[0m\u001b[1;33m)\u001b[0m\u001b[1;33m:\u001b[0m\u001b[1;33m\u001b[0m\u001b[0m\n",
      "\u001b[1;32mC:\\ProgramData\\Anaconda3\\lib\\site-packages\\plotly\\plotly\\plotly.py\u001b[0m in \u001b[0;36mplot\u001b[1;34m(figure_or_data, validate, **plot_options)\u001b[0m\n\u001b[0;32m    237\u001b[0m     \u001b[0mdata\u001b[0m \u001b[1;33m=\u001b[0m \u001b[0mfig\u001b[0m\u001b[1;33m.\u001b[0m\u001b[0mget\u001b[0m\u001b[1;33m(\u001b[0m\u001b[1;34m'data'\u001b[0m\u001b[1;33m,\u001b[0m \u001b[1;33m[\u001b[0m\u001b[1;33m]\u001b[0m\u001b[1;33m)\u001b[0m\u001b[1;33m\u001b[0m\u001b[0m\n\u001b[0;32m    238\u001b[0m     \u001b[0mplot_options\u001b[0m\u001b[1;33m[\u001b[0m\u001b[1;34m'layout'\u001b[0m\u001b[1;33m]\u001b[0m \u001b[1;33m=\u001b[0m \u001b[0mfig\u001b[0m\u001b[1;33m.\u001b[0m\u001b[0mget\u001b[0m\u001b[1;33m(\u001b[0m\u001b[1;34m'layout'\u001b[0m\u001b[1;33m,\u001b[0m \u001b[1;33m{\u001b[0m\u001b[1;33m}\u001b[0m\u001b[1;33m)\u001b[0m\u001b[1;33m\u001b[0m\u001b[0m\n\u001b[1;32m--> 239\u001b[1;33m     \u001b[0mresponse\u001b[0m \u001b[1;33m=\u001b[0m \u001b[0mv1\u001b[0m\u001b[1;33m.\u001b[0m\u001b[0mclientresp\u001b[0m\u001b[1;33m(\u001b[0m\u001b[0mdata\u001b[0m\u001b[1;33m,\u001b[0m \u001b[1;33m**\u001b[0m\u001b[0mplot_options\u001b[0m\u001b[1;33m)\u001b[0m\u001b[1;33m\u001b[0m\u001b[0m\n\u001b[0m\u001b[0;32m    240\u001b[0m \u001b[1;33m\u001b[0m\u001b[0m\n\u001b[0;32m    241\u001b[0m     \u001b[1;31m# Check if the url needs a secret key\u001b[0m\u001b[1;33m\u001b[0m\u001b[1;33m\u001b[0m\u001b[0m\n",
      "\u001b[1;32mC:\\ProgramData\\Anaconda3\\lib\\site-packages\\plotly\\api\\v1\\clientresp.py\u001b[0m in \u001b[0;36mclientresp\u001b[1;34m(data, **kwargs)\u001b[0m\n\u001b[0;32m     33\u001b[0m \u001b[1;33m\u001b[0m\u001b[0m\n\u001b[0;32m     34\u001b[0m     \u001b[0murl\u001b[0m \u001b[1;33m=\u001b[0m \u001b[1;34m'{plotly_domain}/clientresp'\u001b[0m\u001b[1;33m.\u001b[0m\u001b[0mformat\u001b[0m\u001b[1;33m(\u001b[0m\u001b[1;33m**\u001b[0m\u001b[0mcfg\u001b[0m\u001b[1;33m)\u001b[0m\u001b[1;33m\u001b[0m\u001b[0m\n\u001b[1;32m---> 35\u001b[1;33m     \u001b[0mresponse\u001b[0m \u001b[1;33m=\u001b[0m \u001b[0mrequest\u001b[0m\u001b[1;33m(\u001b[0m\u001b[1;34m'post'\u001b[0m\u001b[1;33m,\u001b[0m \u001b[0murl\u001b[0m\u001b[1;33m,\u001b[0m \u001b[0mdata\u001b[0m\u001b[1;33m=\u001b[0m\u001b[0mpayload\u001b[0m\u001b[1;33m)\u001b[0m\u001b[1;33m\u001b[0m\u001b[0m\n\u001b[0m\u001b[0;32m     36\u001b[0m \u001b[1;33m\u001b[0m\u001b[0m\n\u001b[0;32m     37\u001b[0m     \u001b[1;31m# Old functionality, just keeping it around.\u001b[0m\u001b[1;33m\u001b[0m\u001b[1;33m\u001b[0m\u001b[0m\n",
      "\u001b[1;32mC:\\ProgramData\\Anaconda3\\lib\\site-packages\\retrying.py\u001b[0m in \u001b[0;36mwrapped_f\u001b[1;34m(*args, **kw)\u001b[0m\n\u001b[0;32m     47\u001b[0m             \u001b[1;33m@\u001b[0m\u001b[0msix\u001b[0m\u001b[1;33m.\u001b[0m\u001b[0mwraps\u001b[0m\u001b[1;33m(\u001b[0m\u001b[0mf\u001b[0m\u001b[1;33m)\u001b[0m\u001b[1;33m\u001b[0m\u001b[0m\n\u001b[0;32m     48\u001b[0m             \u001b[1;32mdef\u001b[0m \u001b[0mwrapped_f\u001b[0m\u001b[1;33m(\u001b[0m\u001b[1;33m*\u001b[0m\u001b[0margs\u001b[0m\u001b[1;33m,\u001b[0m \u001b[1;33m**\u001b[0m\u001b[0mkw\u001b[0m\u001b[1;33m)\u001b[0m\u001b[1;33m:\u001b[0m\u001b[1;33m\u001b[0m\u001b[0m\n\u001b[1;32m---> 49\u001b[1;33m                 \u001b[1;32mreturn\u001b[0m \u001b[0mRetrying\u001b[0m\u001b[1;33m(\u001b[0m\u001b[1;33m*\u001b[0m\u001b[0mdargs\u001b[0m\u001b[1;33m,\u001b[0m \u001b[1;33m**\u001b[0m\u001b[0mdkw\u001b[0m\u001b[1;33m)\u001b[0m\u001b[1;33m.\u001b[0m\u001b[0mcall\u001b[0m\u001b[1;33m(\u001b[0m\u001b[0mf\u001b[0m\u001b[1;33m,\u001b[0m \u001b[1;33m*\u001b[0m\u001b[0margs\u001b[0m\u001b[1;33m,\u001b[0m \u001b[1;33m**\u001b[0m\u001b[0mkw\u001b[0m\u001b[1;33m)\u001b[0m\u001b[1;33m\u001b[0m\u001b[0m\n\u001b[0m\u001b[0;32m     50\u001b[0m \u001b[1;33m\u001b[0m\u001b[0m\n\u001b[0;32m     51\u001b[0m             \u001b[1;32mreturn\u001b[0m \u001b[0mwrapped_f\u001b[0m\u001b[1;33m\u001b[0m\u001b[0m\n",
      "\u001b[1;32mC:\\ProgramData\\Anaconda3\\lib\\site-packages\\retrying.py\u001b[0m in \u001b[0;36mcall\u001b[1;34m(self, fn, *args, **kwargs)\u001b[0m\n\u001b[0;32m    204\u001b[0m \u001b[1;33m\u001b[0m\u001b[0m\n\u001b[0;32m    205\u001b[0m             \u001b[1;32mif\u001b[0m \u001b[1;32mnot\u001b[0m \u001b[0mself\u001b[0m\u001b[1;33m.\u001b[0m\u001b[0mshould_reject\u001b[0m\u001b[1;33m(\u001b[0m\u001b[0mattempt\u001b[0m\u001b[1;33m)\u001b[0m\u001b[1;33m:\u001b[0m\u001b[1;33m\u001b[0m\u001b[0m\n\u001b[1;32m--> 206\u001b[1;33m                 \u001b[1;32mreturn\u001b[0m \u001b[0mattempt\u001b[0m\u001b[1;33m.\u001b[0m\u001b[0mget\u001b[0m\u001b[1;33m(\u001b[0m\u001b[0mself\u001b[0m\u001b[1;33m.\u001b[0m\u001b[0m_wrap_exception\u001b[0m\u001b[1;33m)\u001b[0m\u001b[1;33m\u001b[0m\u001b[0m\n\u001b[0m\u001b[0;32m    207\u001b[0m \u001b[1;33m\u001b[0m\u001b[0m\n\u001b[0;32m    208\u001b[0m             \u001b[0mdelay_since_first_attempt_ms\u001b[0m \u001b[1;33m=\u001b[0m \u001b[0mint\u001b[0m\u001b[1;33m(\u001b[0m\u001b[0mround\u001b[0m\u001b[1;33m(\u001b[0m\u001b[0mtime\u001b[0m\u001b[1;33m.\u001b[0m\u001b[0mtime\u001b[0m\u001b[1;33m(\u001b[0m\u001b[1;33m)\u001b[0m \u001b[1;33m*\u001b[0m \u001b[1;36m1000\u001b[0m\u001b[1;33m)\u001b[0m\u001b[1;33m)\u001b[0m \u001b[1;33m-\u001b[0m \u001b[0mstart_time\u001b[0m\u001b[1;33m\u001b[0m\u001b[0m\n",
      "\u001b[1;32mC:\\ProgramData\\Anaconda3\\lib\\site-packages\\retrying.py\u001b[0m in \u001b[0;36mget\u001b[1;34m(self, wrap_exception)\u001b[0m\n\u001b[0;32m    245\u001b[0m                 \u001b[1;32mraise\u001b[0m \u001b[0mRetryError\u001b[0m\u001b[1;33m(\u001b[0m\u001b[0mself\u001b[0m\u001b[1;33m)\u001b[0m\u001b[1;33m\u001b[0m\u001b[0m\n\u001b[0;32m    246\u001b[0m             \u001b[1;32melse\u001b[0m\u001b[1;33m:\u001b[0m\u001b[1;33m\u001b[0m\u001b[0m\n\u001b[1;32m--> 247\u001b[1;33m                 \u001b[0msix\u001b[0m\u001b[1;33m.\u001b[0m\u001b[0mreraise\u001b[0m\u001b[1;33m(\u001b[0m\u001b[0mself\u001b[0m\u001b[1;33m.\u001b[0m\u001b[0mvalue\u001b[0m\u001b[1;33m[\u001b[0m\u001b[1;36m0\u001b[0m\u001b[1;33m]\u001b[0m\u001b[1;33m,\u001b[0m \u001b[0mself\u001b[0m\u001b[1;33m.\u001b[0m\u001b[0mvalue\u001b[0m\u001b[1;33m[\u001b[0m\u001b[1;36m1\u001b[0m\u001b[1;33m]\u001b[0m\u001b[1;33m,\u001b[0m \u001b[0mself\u001b[0m\u001b[1;33m.\u001b[0m\u001b[0mvalue\u001b[0m\u001b[1;33m[\u001b[0m\u001b[1;36m2\u001b[0m\u001b[1;33m]\u001b[0m\u001b[1;33m)\u001b[0m\u001b[1;33m\u001b[0m\u001b[0m\n\u001b[0m\u001b[0;32m    248\u001b[0m         \u001b[1;32melse\u001b[0m\u001b[1;33m:\u001b[0m\u001b[1;33m\u001b[0m\u001b[0m\n\u001b[0;32m    249\u001b[0m             \u001b[1;32mreturn\u001b[0m \u001b[0mself\u001b[0m\u001b[1;33m.\u001b[0m\u001b[0mvalue\u001b[0m\u001b[1;33m\u001b[0m\u001b[0m\n",
      "\u001b[1;32mC:\\ProgramData\\Anaconda3\\lib\\site-packages\\six.py\u001b[0m in \u001b[0;36mreraise\u001b[1;34m(tp, value, tb)\u001b[0m\n\u001b[0;32m    691\u001b[0m             \u001b[1;32mif\u001b[0m \u001b[0mvalue\u001b[0m\u001b[1;33m.\u001b[0m\u001b[0m__traceback__\u001b[0m \u001b[1;32mis\u001b[0m \u001b[1;32mnot\u001b[0m \u001b[0mtb\u001b[0m\u001b[1;33m:\u001b[0m\u001b[1;33m\u001b[0m\u001b[0m\n\u001b[0;32m    692\u001b[0m                 \u001b[1;32mraise\u001b[0m \u001b[0mvalue\u001b[0m\u001b[1;33m.\u001b[0m\u001b[0mwith_traceback\u001b[0m\u001b[1;33m(\u001b[0m\u001b[0mtb\u001b[0m\u001b[1;33m)\u001b[0m\u001b[1;33m\u001b[0m\u001b[0m\n\u001b[1;32m--> 693\u001b[1;33m             \u001b[1;32mraise\u001b[0m \u001b[0mvalue\u001b[0m\u001b[1;33m\u001b[0m\u001b[0m\n\u001b[0m\u001b[0;32m    694\u001b[0m         \u001b[1;32mfinally\u001b[0m\u001b[1;33m:\u001b[0m\u001b[1;33m\u001b[0m\u001b[0m\n\u001b[0;32m    695\u001b[0m             \u001b[0mvalue\u001b[0m \u001b[1;33m=\u001b[0m \u001b[1;32mNone\u001b[0m\u001b[1;33m\u001b[0m\u001b[0m\n",
      "\u001b[1;32mC:\\ProgramData\\Anaconda3\\lib\\site-packages\\retrying.py\u001b[0m in \u001b[0;36mcall\u001b[1;34m(self, fn, *args, **kwargs)\u001b[0m\n\u001b[0;32m    198\u001b[0m         \u001b[1;32mwhile\u001b[0m \u001b[1;32mTrue\u001b[0m\u001b[1;33m:\u001b[0m\u001b[1;33m\u001b[0m\u001b[0m\n\u001b[0;32m    199\u001b[0m             \u001b[1;32mtry\u001b[0m\u001b[1;33m:\u001b[0m\u001b[1;33m\u001b[0m\u001b[0m\n\u001b[1;32m--> 200\u001b[1;33m                 \u001b[0mattempt\u001b[0m \u001b[1;33m=\u001b[0m \u001b[0mAttempt\u001b[0m\u001b[1;33m(\u001b[0m\u001b[0mfn\u001b[0m\u001b[1;33m(\u001b[0m\u001b[1;33m*\u001b[0m\u001b[0margs\u001b[0m\u001b[1;33m,\u001b[0m \u001b[1;33m**\u001b[0m\u001b[0mkwargs\u001b[0m\u001b[1;33m)\u001b[0m\u001b[1;33m,\u001b[0m \u001b[0mattempt_number\u001b[0m\u001b[1;33m,\u001b[0m \u001b[1;32mFalse\u001b[0m\u001b[1;33m)\u001b[0m\u001b[1;33m\u001b[0m\u001b[0m\n\u001b[0m\u001b[0;32m    201\u001b[0m             \u001b[1;32mexcept\u001b[0m\u001b[1;33m:\u001b[0m\u001b[1;33m\u001b[0m\u001b[0m\n\u001b[0;32m    202\u001b[0m                 \u001b[0mtb\u001b[0m \u001b[1;33m=\u001b[0m \u001b[0msys\u001b[0m\u001b[1;33m.\u001b[0m\u001b[0mexc_info\u001b[0m\u001b[1;33m(\u001b[0m\u001b[1;33m)\u001b[0m\u001b[1;33m\u001b[0m\u001b[0m\n",
      "\u001b[1;32mC:\\ProgramData\\Anaconda3\\lib\\site-packages\\plotly\\api\\v1\\utils.py\u001b[0m in \u001b[0;36mrequest\u001b[1;34m(method, url, **kwargs)\u001b[0m\n\u001b[0;32m     88\u001b[0m         \u001b[0mcontent\u001b[0m \u001b[1;33m=\u001b[0m \u001b[0mresponse\u001b[0m\u001b[1;33m.\u001b[0m\u001b[0mcontent\u001b[0m \u001b[1;32mif\u001b[0m \u001b[0mresponse\u001b[0m \u001b[1;32melse\u001b[0m \u001b[1;34m'No content'\u001b[0m\u001b[1;33m\u001b[0m\u001b[0m\n\u001b[0;32m     89\u001b[0m         \u001b[1;32mraise\u001b[0m \u001b[0mexceptions\u001b[0m\u001b[1;33m.\u001b[0m\u001b[0mPlotlyRequestError\u001b[0m\u001b[1;33m(\u001b[0m\u001b[0mmessage\u001b[0m\u001b[1;33m,\u001b[0m \u001b[0mstatus_code\u001b[0m\u001b[1;33m,\u001b[0m \u001b[0mcontent\u001b[0m\u001b[1;33m)\u001b[0m\u001b[1;33m\u001b[0m\u001b[0m\n\u001b[1;32m---> 90\u001b[1;33m     \u001b[0mvalidate_response\u001b[0m\u001b[1;33m(\u001b[0m\u001b[0mresponse\u001b[0m\u001b[1;33m)\u001b[0m\u001b[1;33m\u001b[0m\u001b[0m\n\u001b[0m\u001b[0;32m     91\u001b[0m     \u001b[1;32mreturn\u001b[0m \u001b[0mresponse\u001b[0m\u001b[1;33m\u001b[0m\u001b[0m\n",
      "\u001b[1;32mC:\\ProgramData\\Anaconda3\\lib\\site-packages\\plotly\\api\\v1\\utils.py\u001b[0m in \u001b[0;36mvalidate_response\u001b[1;34m(response)\u001b[0m\n\u001b[0;32m     38\u001b[0m         \u001b[0mmessage\u001b[0m \u001b[1;33m=\u001b[0m \u001b[0mcontent\u001b[0m \u001b[1;32mif\u001b[0m \u001b[0mcontent\u001b[0m \u001b[1;32melse\u001b[0m \u001b[1;34m'No Content'\u001b[0m\u001b[1;33m\u001b[0m\u001b[0m\n\u001b[0;32m     39\u001b[0m \u001b[1;33m\u001b[0m\u001b[0m\n\u001b[1;32m---> 40\u001b[1;33m     \u001b[1;32mraise\u001b[0m \u001b[0mexceptions\u001b[0m\u001b[1;33m.\u001b[0m\u001b[0mPlotlyRequestError\u001b[0m\u001b[1;33m(\u001b[0m\u001b[0mmessage\u001b[0m\u001b[1;33m,\u001b[0m \u001b[0mstatus_code\u001b[0m\u001b[1;33m,\u001b[0m \u001b[0mcontent\u001b[0m\u001b[1;33m)\u001b[0m\u001b[1;33m\u001b[0m\u001b[0m\n\u001b[0m\u001b[0;32m     41\u001b[0m \u001b[1;33m\u001b[0m\u001b[0m\n\u001b[0;32m     42\u001b[0m \u001b[1;33m\u001b[0m\u001b[0m\n",
      "\u001b[1;31mPlotlyRequestError\u001b[0m: Hi there, you've reached the threshold of 100 combined image exports and chart saves per 24h period. If you need to raise your daily limit, please consider upgrading to a paid plan\n(see: https://plot.ly/products/cloud )."
     ]
    }
   ],
   "source": [
    "fig = tools.make_subplots(rows=1, cols=2, shared_yaxes=True);\n",
    "for i in range(len(cs)):\n",
    "    c=cs[i]\n",
    "    c2=c2s[i]\n",
    "    x,y,z=projects(df,c)\n",
    "    x2=[class2speed[i] for i in wind_res2[c2].keys()]\n",
    "    y2=np.array(list(wind_res2[c2].values()))\n",
    "    fig.append_trace(\n",
    "        go.Bar(x=y2,y=x2,\n",
    "            legendgroup= c2,\n",
    "            name = c2,\n",
    "            orientation='h'\n",
    "        ),1,1\n",
    "    )\n",
    "    fig.append_trace(\n",
    "        go.Scatter(x=x,y=z,\n",
    "            mode = 'lines',\n",
    "            name = c2,  \n",
    "            legendgroup= c2,\n",
    "            line=dict(\n",
    "                color=colors[i],\n",
    "                shape='spline',\n",
    "                smoothing=smoothing[0]\n",
    "            ),\n",
    "            showlegend=False\n",
    "        ),1,2\n",
    "    )\n",
    "layout = go.Layout(\n",
    "    xaxis=dict(\n",
    "        domain=[0, 0.3],\n",
    "        title='Available power (TW)',\n",
    "        autorange='reversed'\n",
    "    ),\n",
    "    xaxis2=dict(\n",
    "        domain=[0.3, 1],\n",
    "        title='Year'\n",
    "    ),\n",
    "    yaxis=dict(\n",
    "        title='Wind speed (m/s)'\n",
    "    ),\n",
    "    yaxis2=dict(\n",
    "        anchor='x2',\n",
    "    ),\n",
    "    title='Offshore wind turbine projects and available power by wind speed'\n",
    ")\n",
    "fig[\"layout\"]=layout\n",
    "fig[\"layout\"][\"showlegend\"] = True\n",
    "fig[\"layout\"]['hovermode']='x'\n",
    "py.iplot(fig, filename='ofs5')"
   ]
  },
  {
   "cell_type": "markdown",
   "metadata": {},
   "source": [
    "Select countries to conisder (those with 50 projects at least) to further data collection"
   ]
  },
  {
   "cell_type": "code",
   "execution_count": null,
   "metadata": {},
   "outputs": [],
   "source": []
  }
 ],
 "metadata": {
  "anaconda-cloud": {},
  "kernelspec": {
   "display_name": "Python 3",
   "language": "python",
   "name": "python3"
  },
  "language_info": {
   "codemirror_mode": {
    "name": "ipython",
    "version": 3
   },
   "file_extension": ".py",
   "mimetype": "text/x-python",
   "name": "python",
   "nbconvert_exporter": "python",
   "pygments_lexer": "ipython3",
   "version": "3.7.0"
  }
 },
 "nbformat": 4,
 "nbformat_minor": 2
}
