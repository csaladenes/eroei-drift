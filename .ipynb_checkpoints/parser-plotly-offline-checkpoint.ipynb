{
 "cells": [
  {
   "cell_type": "code",
   "execution_count": 1,
   "metadata": {},
   "outputs": [],
   "source": [
    "import pandas as pd, numpy as np\n",
    "import matplotlib.pyplot as plt\n",
    "%matplotlib inline"
   ]
  },
  {
   "cell_type": "markdown",
   "metadata": {},
   "source": [
    "## Resources"
   ]
  },
  {
   "cell_type": "markdown",
   "metadata": {},
   "source": [
    "[OpenEI dataset](https://openei.org/doe-opendata/dataset/1be0a37f-28e5-4021-84bb-39a643250102/resource/bbeccdf5-301e-4390-b503-7d9f8d404986/download/wind50mresourcearea.xlsx)  \n",
    "[DTU wind atlas](https://globalwindatlas.info/)"
   ]
  },
  {
   "cell_type": "markdown",
   "metadata": {},
   "source": [
    "### Onshore"
   ]
  },
  {
   "cell_type": "code",
   "execution_count": 2,
   "metadata": {},
   "outputs": [],
   "source": [
    "windpath='http://en.openei.org/doe-opendata/dataset/c186913f-6684-4455-a2f2-f26e152a9b35/resource/4dc4a6fd-3a63-47df-bcbe-e9c83b83b38e/download/nrelcfddawindsc20130603.xlsx'"
   ]
  },
  {
   "cell_type": "code",
   "execution_count": 3,
   "metadata": {},
   "outputs": [],
   "source": [
    "wind=pd.read_excel(windpath,sheet_name='Onshore Power',skiprows=2)\n",
    "#http://en.openei.org/doe-opendata/dataset/c186913f-6684-4455-a2f2-f26e152a9b35/resource/4dc4a6fd-3a63-47df-bcbe-e9c83b83b38e/download/nrelcfddawindsc20130603.xlsx\n",
    "wind_cap={}\n",
    "for i in wind.T.iteritems():\n",
    "    country=i[1][0]\n",
    "    for k in range(1,10):\n",
    "        if country not in wind_cap:wind_cap[country]={}\n",
    "        clas=k\n",
    "        cap=i[1][k] + i[1][k+10]# + i[1][k+20] #last one too far 0-50,50-100,100-5000\n",
    "        wind_cap[country][clas]=cap/1000.0 #workbook reported values in GW, we use TW"
   ]
  },
  {
   "cell_type": "code",
   "execution_count": 4,
   "metadata": {},
   "outputs": [],
   "source": [
    "wind=pd.read_excel(windpath,sheet_name='Onshore Energy',skiprows=2)\n",
    "#http://en.openei.org/doe-opendata/dataset/c186913f-6684-4455-a2f2-f26e152a9b35/resource/4dc4a6fd-3a63-47df-bcbe-e9c83b83b38e/download/nrelcfddawindsc20130603.xlsx\n",
    "wind_res={}\n",
    "for i in wind.T.iteritems():\n",
    "    country=i[1][0]\n",
    "    for k in range(1,10):\n",
    "        if country not in wind_res:wind_res[country]={}\n",
    "        clas=k\n",
    "        cap=i[1][k] + i[1][k+10]# + i[1][k+20] #last one too far 0-50,50-100,100-5000\n",
    "        wind_res[country][clas]=cap*1000.0 #workbook reported values in PWh, we use TWh"
   ]
  },
  {
   "cell_type": "markdown",
   "metadata": {},
   "source": [
    "Power"
   ]
  },
  {
   "cell_type": "code",
   "execution_count": 5,
   "metadata": {},
   "outputs": [
    {
     "data": {
      "image/png": "[encoded data removed]",
      "text/plain": [
       "<Figure size 432x288 with 1 Axes>"
      ]
     },
     "metadata": {
      "needs_background": "light"
     },
     "output_type": "display_data"
    }
   ],
   "source": [
    "countries=['United Kingdom','Denmark','Germany','Kenya']\n",
    "for i,country in enumerate(countries):\n",
    "    plt.bar(np.array(list(wind_cap[country].keys()))+0.2*i,\n",
    "            wind_cap[country].values(),alpha=0.9,width=0.2,label=country)\n",
    "plt.ylabel('avail power [TW]')\n",
    "plt.title('onshore wind resources\\nwith 90m hub height\\n 5MW/km$^2$ power density')\n",
    "plt.xlabel('resource class')\n",
    "plt.legend();"
   ]
  },
  {
   "cell_type": "markdown",
   "metadata": {},
   "source": [
    "Capacity Factors"
   ]
  },
  {
   "cell_type": "code",
   "execution_count": 6,
   "metadata": {},
   "outputs": [
    {
     "data": {
      "text/html": [
       "<div>\n",
       "<style scoped>\n",
       "    .dataframe tbody tr th:only-of-type {\n",
       "        vertical-align: middle;\n",
       "    }\n",
       "\n",
       "    .dataframe tbody tr th {\n",
       "        vertical-align: top;\n",
       "    }\n",
       "\n",
       "    .dataframe thead th {\n",
       "        text-align: right;\n",
       "    }\n",
       "</style>\n",
       "<table border=\"1\" class=\"dataframe\">\n",
       "  <thead>\n",
       "    <tr style=\"text-align: right;\">\n",
       "      <th></th>\n",
       "      <th>Wind Classes</th>\n",
       "      <th>Capacity Factor</th>\n",
       "    </tr>\n",
       "  </thead>\n",
       "  <tbody>\n",
       "    <tr>\n",
       "      <th>0</th>\n",
       "      <td>c1</td>\n",
       "      <td>0-0.18</td>\n",
       "    </tr>\n",
       "    <tr>\n",
       "      <th>1</th>\n",
       "      <td>c2</td>\n",
       "      <td>0.18-0.22</td>\n",
       "    </tr>\n",
       "    <tr>\n",
       "      <th>2</th>\n",
       "      <td>c3</td>\n",
       "      <td>0.22-0.26</td>\n",
       "    </tr>\n",
       "    <tr>\n",
       "      <th>3</th>\n",
       "      <td>c4</td>\n",
       "      <td>0.26-0.3</td>\n",
       "    </tr>\n",
       "    <tr>\n",
       "      <th>4</th>\n",
       "      <td>c5</td>\n",
       "      <td>0.3-0.34</td>\n",
       "    </tr>\n",
       "    <tr>\n",
       "      <th>5</th>\n",
       "      <td>c6</td>\n",
       "      <td>0.34-0.38</td>\n",
       "    </tr>\n",
       "    <tr>\n",
       "      <th>6</th>\n",
       "      <td>c7</td>\n",
       "      <td>0.38-0.42</td>\n",
       "    </tr>\n",
       "    <tr>\n",
       "      <th>7</th>\n",
       "      <td>c8</td>\n",
       "      <td>0.42-0.46</td>\n",
       "    </tr>\n",
       "    <tr>\n",
       "      <th>8</th>\n",
       "      <td>c9</td>\n",
       "      <td>0.46-1.0</td>\n",
       "    </tr>\n",
       "  </tbody>\n",
       "</table>\n",
       "</div>"
      ],
      "text/plain": [
       "  Wind Classes Capacity Factor\n",
       "0           c1          0-0.18\n",
       "1           c2       0.18-0.22\n",
       "2           c3       0.22-0.26\n",
       "3           c4        0.26-0.3\n",
       "4           c5        0.3-0.34\n",
       "5           c6       0.34-0.38\n",
       "6           c7       0.38-0.42\n",
       "7           c8       0.42-0.46\n",
       "8           c9        0.46-1.0"
      ]
     },
     "execution_count": 6,
     "metadata": {},
     "output_type": "execute_result"
    }
   ],
   "source": [
    "cf=pd.read_excel(windpath,sheet_name='General',skiprows=1)\n",
    "cf=cf[['Wind Classes','Capacity Factor']][:9]\n",
    "cf"
   ]
  },
  {
   "cell_type": "markdown",
   "metadata": {},
   "source": [
    "Energy"
   ]
  },
  {
   "cell_type": "code",
   "execution_count": 7,
   "metadata": {},
   "outputs": [
    {
     "data": {
      "image/png": "[encoded data removed]",
      "text/plain": [
       "<Figure size 432x288 with 1 Axes>"
      ]
     },
     "metadata": {
      "needs_background": "light"
     },
     "output_type": "display_data"
    }
   ],
   "source": [
    "countries=['United Kingdom','Denmark','Germany','Kenya']\n",
    "for i,country in enumerate(countries):\n",
    "    plt.bar(np.array(list(wind_res[country].keys()))+0.2*i,\n",
    "            wind_res[country].values(),alpha=0.9,width=0.2,label=country)\n",
    "plt.ylabel('avail energy [TWh/year]')\n",
    "plt.title('onshore wind resources\\nwith 90m hub height\\n 5MW/km$^2$ power density')\n",
    "plt.xlabel('resource class')\n",
    "plt.legend();"
   ]
  },
  {
   "cell_type": "code",
   "execution_count": 8,
   "metadata": {},
   "outputs": [],
   "source": [
    "#!pip install plotly"
   ]
  },
  {
   "cell_type": "markdown",
   "metadata": {},
   "source": [
    "Intall `plotly` if you haven't before.  \n",
    "Then configure credentials at `~/.plotly/.credentials`.  \n",
    "Create user and get API key from https://plot.ly/settings/api#/"
   ]
  },
  {
   "cell_type": "markdown",
   "metadata": {},
   "source": [
    "This workbook run plotly in offline mode."
   ]
  },
  {
   "cell_type": "code",
   "execution_count": 9,
   "metadata": {},
   "outputs": [
    {
     "data": {
      "text/html": [
       "<script>requirejs.config({paths: { 'plotly': ['https://cdn.plot.ly/plotly-latest.min']},});if(!window.Plotly) {{require(['plotly'],function(plotly) {window.Plotly=plotly;});}}</script>"
      ],
      "text/vnd.plotly.v1+html": [
       "<script>requirejs.config({paths: { 'plotly': ['https://cdn.plot.ly/plotly-latest.min']},});if(!window.Plotly) {{require(['plotly'],function(plotly) {window.Plotly=plotly;});}}</script>"
      ]
     },
     "metadata": {},
     "output_type": "display_data"
    },
    {
     "data": {
      "application/vnd.plotly.v1+json": {
       "data": [
        {
         "marker": {
          "color": "#1F77B4",
          "line": {
           "width": 1
          }
         },
         "name": "United Kingdom",
         "opacity": 1,
         "orientation": "v",
         "type": "bar",
         "uid": "7e862a30-cf0e-11e8-8fc7-b00594f12df5",
         "x": [
          1,
          2,
          3,
          4,
          5,
          6,
          7,
          8,
          9
         ],
         "xaxis": "x",
         "y": [
          0,
          0,
          0,
          0,
          632.5816338156643,
          862.8978288297716,
          82.84682320313401,
          4.770151493654107,
          0
         ],
         "yaxis": "y"
        },
        {
         "marker": {
          "color": "#FF7F0E",
          "line": {
           "width": 1
          }
         },
         "name": "Denmark",
         "opacity": 1,
         "orientation": "v",
         "type": "bar",
         "uid": "7e89faba-cf0e-11e8-af1c-b00594f12df5",
         "x": [
          1,
          2,
          3,
          4,
          5,
          6,
          7,
          8,
          9
         ],
         "xaxis": "x",
         "y": [
          0,
          0,
          0,
          0,
          148.57241847990133,
          175.54030555061044,
          0,
          0,
          0
         ],
         "yaxis": "y"
        },
        {
         "marker": {
          "color": "#2CA02C",
          "line": {
           "width": 1
          }
         },
         "name": "Germany",
         "opacity": 1,
         "orientation": "v",
         "type": "bar",
         "uid": "7e8e8e9a-cf0e-11e8-b314-b00594f12df5",
         "x": [
          1,
          2,
          3,
          4,
          5,
          6,
          7,
          8,
          9
         ],
         "xaxis": "x",
         "y": [
          0,
          242.5148525488719,
          190.7132987184146,
          668.4905765204946,
          173.99549903864298,
          31.787314732676556,
          0,
          0,
          0
         ],
         "yaxis": "y"
        },
        {
         "marker": {
          "color": "#D62728",
          "line": {
           "width": 1
          }
         },
         "name": "Kenya",
         "opacity": 1,
         "orientation": "v",
         "type": "bar",
         "uid": "7e93227e-cf0e-11e8-a5e9-b00594f12df5",
         "x": [
          1,
          2,
          3,
          4,
          5,
          6,
          7,
          8,
          9
         ],
         "xaxis": "x",
         "y": [
          356.80344366693447,
          261.41131803060773,
          363.6100612945221,
          526.6760183148344,
          944.0149370178082,
          201.33774800474413,
          30.663937497837182,
          0,
          2.2849105236237937
         ],
         "yaxis": "y"
        }
       ],
       "layout": {
        "autosize": false,
        "bargap": 0.20000000000000018,
        "height": 360,
        "hovermode": "x",
        "margin": {
         "b": 45,
         "l": 81,
         "pad": 0,
         "r": 64,
         "t": 43
        },
        "showlegend": true,
        "title": "Onshore wind resources",
        "titlefont": {
         "color": "#000000",
         "size": 12
        },
        "width": 648,
        "xaxis": {
         "anchor": "y",
         "domain": [
          0,
          1
         ],
         "mirror": "ticks",
         "nticks": 6,
         "range": [
          0.15999999999999992,
          9.84
         ],
         "showgrid": false,
         "showline": true,
         "side": "bottom",
         "tickfont": {
          "size": 10
         },
         "ticks": "inside",
         "title": "Resource class",
         "titlefont": {
          "color": "#000000",
          "size": 10
         },
         "type": "linear",
         "zeroline": false
        },
        "yaxis": {
         "anchor": "x",
         "domain": [
          0,
          1
         ],
         "mirror": "ticks",
         "nticks": 6,
         "range": [
          0,
          991.2156838686985
         ],
         "showgrid": false,
         "showline": true,
         "side": "left",
         "tickfont": {
          "size": 10
         },
         "ticks": "inside",
         "title": "Available energy [TWh/year]",
         "titlefont": {
          "color": "#000000",
          "size": 10
         },
         "type": "linear",
         "zeroline": false
        }
       }
      },
      "text/html": [
       "<div id=\"5fe1201c-014a-4ec9-a75c-9baf16180df4\" style=\"height: 360px; width: 648px;\" class=\"plotly-graph-div\"></div><script type=\"text/javascript\">require([\"plotly\"], function(Plotly) { window.PLOTLYENV=window.PLOTLYENV || {};window.PLOTLYENV.BASE_URL=\"https://plot.ly\";Plotly.newPlot(\"5fe1201c-014a-4ec9-a75c-9baf16180df4\", [{\"marker\": {\"color\": \"#1F77B4\", \"line\": {\"width\": 1.0}}, \"opacity\": 1, \"orientation\": \"v\", \"x\": [1.0, 2.0, 3.0, 4.0, 5.0, 6.0, 7.0, 8.0, 9.0], \"xaxis\": \"x\", \"y\": [0.0, 0.0, 0.0, 0.0, 632.5816338156643, 862.8978288297716, 82.84682320313401, 4.770151493654107, 0.0], \"yaxis\": \"y\", \"type\": \"bar\", \"uid\": \"7e862a30-cf0e-11e8-8fc7-b00594f12df5\", \"name\": \"United Kingdom\"}, {\"marker\": {\"color\": \"#FF7F0E\", \"line\": {\"width\": 1.0}}, \"opacity\": 1, \"orientation\": \"v\", \"x\": [1.0, 2.0, 3.0, 4.0, 5.0, 6.0, 7.0, 8.0, 9.0], \"xaxis\": \"x\", \"y\": [0.0, 0.0, 0.0, 0.0, 148.57241847990133, 175.54030555061044, 0.0, 0.0, 0.0], \"yaxis\": \"y\", \"type\": \"bar\", \"uid\": \"7e89faba-cf0e-11e8-af1c-b00594f12df5\", \"name\": \"Denmark\"}, {\"marker\": {\"color\": \"#2CA02C\", \"line\": {\"width\": 1.0}}, \"opacity\": 1, \"orientation\": \"v\", \"x\": [1.0, 2.0, 3.0, 4.0, 5.0, 6.0, 7.0, 8.0, 9.0], \"xaxis\": \"x\", \"y\": [0.0, 242.5148525488719, 190.7132987184146, 668.4905765204946, 173.99549903864298, 31.787314732676556, 0.0, 0.0, 0.0], \"yaxis\": \"y\", \"type\": \"bar\", \"uid\": \"7e8e8e9a-cf0e-11e8-b314-b00594f12df5\", \"name\": \"Germany\"}, {\"marker\": {\"color\": \"#D62728\", \"line\": {\"width\": 1.0}}, \"opacity\": 1, \"orientation\": \"v\", \"x\": [1.0, 2.0, 3.0, 4.0, 5.0, 6.0, 7.0, 8.0, 9.0], \"xaxis\": \"x\", \"y\": [356.80344366693447, 261.41131803060773, 363.6100612945221, 526.6760183148344, 944.0149370178082, 201.33774800474413, 30.663937497837182, 0.0, 2.2849105236237937], \"yaxis\": \"y\", \"type\": \"bar\", \"uid\": \"7e93227e-cf0e-11e8-a5e9-b00594f12df5\", \"name\": \"Kenya\"}], {\"autosize\": false, \"height\": 360, \"hovermode\": \"x\", \"width\": 648, \"margin\": {\"b\": 45, \"l\": 81, \"pad\": 0, \"r\": 64, \"t\": 43}, \"xaxis\": {\"anchor\": \"y\", \"domain\": [0.0, 1.0], \"mirror\": \"ticks\", \"nticks\": 6, \"range\": [0.15999999999999992, 9.84], \"showgrid\": false, \"showline\": true, \"side\": \"bottom\", \"tickfont\": {\"size\": 10.0}, \"ticks\": \"inside\", \"type\": \"linear\", \"zeroline\": false, \"title\": \"Resource class\", \"titlefont\": {\"color\": \"#000000\", \"size\": 10.0}}, \"yaxis\": {\"anchor\": \"x\", \"domain\": [0.0, 1.0], \"mirror\": \"ticks\", \"nticks\": 6, \"range\": [0.0, 991.2156838686985], \"showgrid\": false, \"showline\": true, \"side\": \"left\", \"tickfont\": {\"size\": 10.0}, \"ticks\": \"inside\", \"type\": \"linear\", \"zeroline\": false, \"title\": \"Available energy [TWh/year]\", \"titlefont\": {\"color\": \"#000000\", \"size\": 10.0}}, \"title\": \"Onshore wind resources\", \"titlefont\": {\"color\": \"#000000\", \"size\": 12.0}, \"bargap\": 0.20000000000000018, \"showlegend\": true}, {\"showLink\": true, \"linkText\": \"Export to plot.ly\"})});</script>"
      ],
      "text/vnd.plotly.v1+html": [
       "<div id=\"5fe1201c-014a-4ec9-a75c-9baf16180df4\" style=\"height: 360px; width: 648px;\" class=\"plotly-graph-div\"></div><script type=\"text/javascript\">require([\"plotly\"], function(Plotly) { window.PLOTLYENV=window.PLOTLYENV || {};window.PLOTLYENV.BASE_URL=\"https://plot.ly\";Plotly.newPlot(\"5fe1201c-014a-4ec9-a75c-9baf16180df4\", [{\"marker\": {\"color\": \"#1F77B4\", \"line\": {\"width\": 1.0}}, \"opacity\": 1, \"orientation\": \"v\", \"x\": [1.0, 2.0, 3.0, 4.0, 5.0, 6.0, 7.0, 8.0, 9.0], \"xaxis\": \"x\", \"y\": [0.0, 0.0, 0.0, 0.0, 632.5816338156643, 862.8978288297716, 82.84682320313401, 4.770151493654107, 0.0], \"yaxis\": \"y\", \"type\": \"bar\", \"uid\": \"7e862a30-cf0e-11e8-8fc7-b00594f12df5\", \"name\": \"United Kingdom\"}, {\"marker\": {\"color\": \"#FF7F0E\", \"line\": {\"width\": 1.0}}, \"opacity\": 1, \"orientation\": \"v\", \"x\": [1.0, 2.0, 3.0, 4.0, 5.0, 6.0, 7.0, 8.0, 9.0], \"xaxis\": \"x\", \"y\": [0.0, 0.0, 0.0, 0.0, 148.57241847990133, 175.54030555061044, 0.0, 0.0, 0.0], \"yaxis\": \"y\", \"type\": \"bar\", \"uid\": \"7e89faba-cf0e-11e8-af1c-b00594f12df5\", \"name\": \"Denmark\"}, {\"marker\": {\"color\": \"#2CA02C\", \"line\": {\"width\": 1.0}}, \"opacity\": 1, \"orientation\": \"v\", \"x\": [1.0, 2.0, 3.0, 4.0, 5.0, 6.0, 7.0, 8.0, 9.0], \"xaxis\": \"x\", \"y\": [0.0, 242.5148525488719, 190.7132987184146, 668.4905765204946, 173.99549903864298, 31.787314732676556, 0.0, 0.0, 0.0], \"yaxis\": \"y\", \"type\": \"bar\", \"uid\": \"7e8e8e9a-cf0e-11e8-b314-b00594f12df5\", \"name\": \"Germany\"}, {\"marker\": {\"color\": \"#D62728\", \"line\": {\"width\": 1.0}}, \"opacity\": 1, \"orientation\": \"v\", \"x\": [1.0, 2.0, 3.0, 4.0, 5.0, 6.0, 7.0, 8.0, 9.0], \"xaxis\": \"x\", \"y\": [356.80344366693447, 261.41131803060773, 363.6100612945221, 526.6760183148344, 944.0149370178082, 201.33774800474413, 30.663937497837182, 0.0, 2.2849105236237937], \"yaxis\": \"y\", \"type\": \"bar\", \"uid\": \"7e93227e-cf0e-11e8-a5e9-b00594f12df5\", \"name\": \"Kenya\"}], {\"autosize\": false, \"height\": 360, \"hovermode\": \"x\", \"width\": 648, \"margin\": {\"b\": 45, \"l\": 81, \"pad\": 0, \"r\": 64, \"t\": 43}, \"xaxis\": {\"anchor\": \"y\", \"domain\": [0.0, 1.0], \"mirror\": \"ticks\", \"nticks\": 6, \"range\": [0.15999999999999992, 9.84], \"showgrid\": false, \"showline\": true, \"side\": \"bottom\", \"tickfont\": {\"size\": 10.0}, \"ticks\": \"inside\", \"type\": \"linear\", \"zeroline\": false, \"title\": \"Resource class\", \"titlefont\": {\"color\": \"#000000\", \"size\": 10.0}}, \"yaxis\": {\"anchor\": \"x\", \"domain\": [0.0, 1.0], \"mirror\": \"ticks\", \"nticks\": 6, \"range\": [0.0, 991.2156838686985], \"showgrid\": false, \"showline\": true, \"side\": \"left\", \"tickfont\": {\"size\": 10.0}, \"ticks\": \"inside\", \"type\": \"linear\", \"zeroline\": false, \"title\": \"Available energy [TWh/year]\", \"titlefont\": {\"color\": \"#000000\", \"size\": 10.0}}, \"title\": \"Onshore wind resources\", \"titlefont\": {\"color\": \"#000000\", \"size\": 12.0}, \"bargap\": 0.20000000000000018, \"showlegend\": true}, {\"showLink\": true, \"linkText\": \"Export to plot.ly\"})});</script>"
      ]
     },
     "metadata": {},
     "output_type": "display_data"
    }
   ],
   "source": [
    "import plotly.plotly as py\n",
    "import plotly.tools as tls\n",
    "from plotly.offline import download_plotlyjs, init_notebook_mode, plot, iplot\n",
    "init_notebook_mode(connected=True)\n",
    "\n",
    "mpl_fig = plt.figure(figsize=(9,5))\n",
    "ax = mpl_fig.add_subplot(111)\n",
    "x=np.array(list(wind_res[countries[0]].keys()))\n",
    "    \n",
    "for i,country in enumerate(countries):\n",
    "    y=wind_res[country].values()\n",
    "    ax.bar(x,y,width=0.8)\n",
    "ax.set_ylabel('Available energy [TWh/year]')\n",
    "ax.set_xlabel('Resource class')\n",
    "ax.set_title('Onshore wind resources')\n",
    "plotly_fig = tls.mpl_to_plotly(mpl_fig)\n",
    "for i,e in enumerate(plotly_fig['data']):\n",
    "    e['name']=countries[i]\n",
    "plotly_fig[\"layout\"][\"showlegend\"] = True\n",
    "plotly_fig[\"layout\"]['hovermode']='x'\n",
    "iplot(plotly_fig, filename='ons1')"
   ]
  },
  {
   "cell_type": "markdown",
   "metadata": {},
   "source": [
    "### Offshore"
   ]
  },
  {
   "cell_type": "markdown",
   "metadata": {},
   "source": [
    "Power"
   ]
  },
  {
   "cell_type": "code",
   "execution_count": 10,
   "metadata": {},
   "outputs": [],
   "source": [
    "wind=pd.read_excel(windpath,sheet_name='Offshore Power',skiprows=3)\n",
    "wind_cap2={}\n",
    "country=''\n",
    "for i in wind.T.iteritems():\n",
    "    if str(i[1][0])!='nan':\n",
    "        country=str(i[1][0])\n",
    "    water=str(i[1][1])\n",
    "    if water in {'shallow','transitional'}: #skip deep for now\n",
    "        for k in range(2,11):\n",
    "            if country not in wind_cap2:wind_cap2[country]={}\n",
    "            clas=k-1\n",
    "            cap=i[1][k] + i[1][k+10]# + i[1][k+20] #last one too far 0-50,50-100,100-5000\n",
    "            if clas not in wind_cap2[country]:wind_cap2[country][clas]=0\n",
    "            wind_cap2[country][clas]+=cap/1000.0"
   ]
  },
  {
   "cell_type": "code",
   "execution_count": 11,
   "metadata": {},
   "outputs": [
    {
     "data": {
      "application/vnd.plotly.v1+json": {
       "data": [
        {
         "marker": {
          "color": "#1F77B4",
          "line": {
           "width": 1
          }
         },
         "name": "United Kingdom",
         "opacity": 1,
         "orientation": "v",
         "type": "bar",
         "uid": "94ff62b0-cf0e-11e8-875f-b00594f12df5",
         "x": [
          1,
          2,
          3,
          4,
          5,
          6,
          7,
          8,
          9
         ],
         "xaxis": "x",
         "y": [
          0,
          0,
          0,
          0,
          0.0406,
          0.34954,
          0.08514000000000001,
          0.0018800000000000002,
          0
         ],
         "yaxis": "y"
        },
        {
         "marker": {
          "color": "#FF7F0E",
          "line": {
           "width": 1
          }
         },
         "name": "Denmark",
         "opacity": 1,
         "orientation": "v",
         "type": "bar",
         "uid": "95019d76-cf0e-11e8-bdd5-b00594f12df5",
         "x": [
          1,
          2,
          3,
          4,
          5,
          6,
          7,
          8,
          9
         ],
         "xaxis": "x",
         "y": [
          0,
          0,
          0,
          0.00017999999999999998,
          0.06766000000000001,
          0.07798000000000001,
          0.07382,
          0,
          0
         ],
         "yaxis": "y"
        },
        {
         "marker": {
          "color": "#2CA02C",
          "line": {
           "width": 1
          }
         },
         "name": "Germany",
         "opacity": 1,
         "orientation": "v",
         "type": "bar",
         "uid": "950313a8-cf0e-11e8-904d-b00594f12df5",
         "x": [
          1,
          2,
          3,
          4,
          5,
          6,
          7,
          8,
          9
         ],
         "xaxis": "x",
         "y": [
          0,
          0,
          0,
          0.00198,
          0.02598,
          0.04812,
          0.016440000000000003,
          0,
          0
         ],
         "yaxis": "y"
        },
        {
         "marker": {
          "color": "#D62728",
          "line": {
           "width": 1
          }
         },
         "name": "Chile",
         "opacity": 1,
         "orientation": "v",
         "type": "bar",
         "uid": "9507c564-cf0e-11e8-8337-b00594f12df5",
         "x": [
          1,
          2,
          3,
          4,
          5,
          6,
          7,
          8,
          9
         ],
         "xaxis": "x",
         "y": [
          0.00446,
          0.0024799999999999996,
          0.00276,
          0.00142,
          0.00122,
          0.00398,
          0.00036,
          0.01666,
          0.027299999999999998
         ],
         "yaxis": "y"
        }
       ],
       "layout": {
        "autosize": false,
        "bargap": 0.20000000000000018,
        "height": 432,
        "hovermode": "x",
        "margin": {
         "b": 54,
         "l": 81,
         "pad": 0,
         "r": 64,
         "t": 51
        },
        "showlegend": true,
        "title": "Offshore wind resources",
        "titlefont": {
         "color": "#000000",
         "size": 12
        },
        "width": 648,
        "xaxis": {
         "anchor": "y",
         "domain": [
          0,
          1
         ],
         "mirror": "ticks",
         "nticks": 6,
         "range": [
          0.15999999999999992,
          9.84
         ],
         "showgrid": false,
         "showline": true,
         "side": "bottom",
         "tickfont": {
          "size": 10
         },
         "ticks": "inside",
         "title": "Resource class",
         "titlefont": {
          "color": "#000000",
          "size": 10
         },
         "type": "linear",
         "zeroline": false
        },
        "yaxis": {
         "anchor": "x",
         "domain": [
          0,
          1
         ],
         "mirror": "ticks",
         "nticks": 9,
         "range": [
          0,
          0.36701700000000004
         ],
         "showgrid": false,
         "showline": true,
         "side": "left",
         "tickfont": {
          "size": 10
         },
         "ticks": "inside",
         "title": "Available power [TW]",
         "titlefont": {
          "color": "#000000",
          "size": 10
         },
         "type": "linear",
         "zeroline": false
        }
       }
      },
      "text/html": [
       "<div id=\"6138e8c8-a1be-4f9d-bd96-e7419db1e42c\" style=\"height: 432px; width: 648px;\" class=\"plotly-graph-div\"></div><script type=\"text/javascript\">require([\"plotly\"], function(Plotly) { window.PLOTLYENV=window.PLOTLYENV || {};window.PLOTLYENV.BASE_URL=\"https://plot.ly\";Plotly.newPlot(\"6138e8c8-a1be-4f9d-bd96-e7419db1e42c\", [{\"marker\": {\"color\": \"#1F77B4\", \"line\": {\"width\": 1.0}}, \"opacity\": 1, \"orientation\": \"v\", \"x\": [1.0, 2.0, 3.0, 4.0, 5.0, 6.0, 7.0, 8.0, 9.0], \"xaxis\": \"x\", \"y\": [0.0, 0.0, 0.0, 0.0, 0.0406, 0.34954, 0.08514000000000001, 0.0018800000000000002, 0.0], \"yaxis\": \"y\", \"type\": \"bar\", \"uid\": \"94ff62b0-cf0e-11e8-875f-b00594f12df5\", \"name\": \"United Kingdom\"}, {\"marker\": {\"color\": \"#FF7F0E\", \"line\": {\"width\": 1.0}}, \"opacity\": 1, \"orientation\": \"v\", \"x\": [1.0, 2.0, 3.0, 4.0, 5.0, 6.0, 7.0, 8.0, 9.0], \"xaxis\": \"x\", \"y\": [0.0, 0.0, 0.0, 0.00017999999999999998, 0.06766000000000001, 0.07798000000000001, 0.07382, 0.0, 0.0], \"yaxis\": \"y\", \"type\": \"bar\", \"uid\": \"95019d76-cf0e-11e8-bdd5-b00594f12df5\", \"name\": \"Denmark\"}, {\"marker\": {\"color\": \"#2CA02C\", \"line\": {\"width\": 1.0}}, \"opacity\": 1, \"orientation\": \"v\", \"x\": [1.0, 2.0, 3.0, 4.0, 5.0, 6.0, 7.0, 8.0, 9.0], \"xaxis\": \"x\", \"y\": [0.0, 0.0, 0.0, 0.00198, 0.02598, 0.04812, 0.016440000000000003, 0.0, 0.0], \"yaxis\": \"y\", \"type\": \"bar\", \"uid\": \"950313a8-cf0e-11e8-904d-b00594f12df5\", \"name\": \"Germany\"}, {\"marker\": {\"color\": \"#D62728\", \"line\": {\"width\": 1.0}}, \"opacity\": 1, \"orientation\": \"v\", \"x\": [1.0, 2.0, 3.0, 4.0, 5.0, 6.0, 7.0, 8.0, 9.0], \"xaxis\": \"x\", \"y\": [0.00446, 0.0024799999999999996, 0.00276, 0.00142, 0.00122, 0.00398, 0.00036, 0.01666, 0.027299999999999998], \"yaxis\": \"y\", \"type\": \"bar\", \"uid\": \"9507c564-cf0e-11e8-8337-b00594f12df5\", \"name\": \"Chile\"}], {\"autosize\": false, \"height\": 432, \"hovermode\": \"x\", \"width\": 648, \"margin\": {\"b\": 54, \"l\": 81, \"pad\": 0, \"r\": 64, \"t\": 51}, \"xaxis\": {\"anchor\": \"y\", \"domain\": [0.0, 1.0], \"mirror\": \"ticks\", \"nticks\": 6, \"range\": [0.15999999999999992, 9.84], \"showgrid\": false, \"showline\": true, \"side\": \"bottom\", \"tickfont\": {\"size\": 10.0}, \"ticks\": \"inside\", \"type\": \"linear\", \"zeroline\": false, \"title\": \"Resource class\", \"titlefont\": {\"color\": \"#000000\", \"size\": 10.0}}, \"yaxis\": {\"anchor\": \"x\", \"domain\": [0.0, 1.0], \"mirror\": \"ticks\", \"nticks\": 9, \"range\": [0.0, 0.36701700000000004], \"showgrid\": false, \"showline\": true, \"side\": \"left\", \"tickfont\": {\"size\": 10.0}, \"ticks\": \"inside\", \"type\": \"linear\", \"zeroline\": false, \"title\": \"Available power [TW]\", \"titlefont\": {\"color\": \"#000000\", \"size\": 10.0}}, \"title\": \"Offshore wind resources\", \"titlefont\": {\"color\": \"#000000\", \"size\": 12.0}, \"bargap\": 0.20000000000000018, \"showlegend\": true}, {\"showLink\": true, \"linkText\": \"Export to plot.ly\"})});</script>"
      ],
      "text/vnd.plotly.v1+html": [
       "<div id=\"6138e8c8-a1be-4f9d-bd96-e7419db1e42c\" style=\"height: 432px; width: 648px;\" class=\"plotly-graph-div\"></div><script type=\"text/javascript\">require([\"plotly\"], function(Plotly) { window.PLOTLYENV=window.PLOTLYENV || {};window.PLOTLYENV.BASE_URL=\"https://plot.ly\";Plotly.newPlot(\"6138e8c8-a1be-4f9d-bd96-e7419db1e42c\", [{\"marker\": {\"color\": \"#1F77B4\", \"line\": {\"width\": 1.0}}, \"opacity\": 1, \"orientation\": \"v\", \"x\": [1.0, 2.0, 3.0, 4.0, 5.0, 6.0, 7.0, 8.0, 9.0], \"xaxis\": \"x\", \"y\": [0.0, 0.0, 0.0, 0.0, 0.0406, 0.34954, 0.08514000000000001, 0.0018800000000000002, 0.0], \"yaxis\": \"y\", \"type\": \"bar\", \"uid\": \"94ff62b0-cf0e-11e8-875f-b00594f12df5\", \"name\": \"United Kingdom\"}, {\"marker\": {\"color\": \"#FF7F0E\", \"line\": {\"width\": 1.0}}, \"opacity\": 1, \"orientation\": \"v\", \"x\": [1.0, 2.0, 3.0, 4.0, 5.0, 6.0, 7.0, 8.0, 9.0], \"xaxis\": \"x\", \"y\": [0.0, 0.0, 0.0, 0.00017999999999999998, 0.06766000000000001, 0.07798000000000001, 0.07382, 0.0, 0.0], \"yaxis\": \"y\", \"type\": \"bar\", \"uid\": \"95019d76-cf0e-11e8-bdd5-b00594f12df5\", \"name\": \"Denmark\"}, {\"marker\": {\"color\": \"#2CA02C\", \"line\": {\"width\": 1.0}}, \"opacity\": 1, \"orientation\": \"v\", \"x\": [1.0, 2.0, 3.0, 4.0, 5.0, 6.0, 7.0, 8.0, 9.0], \"xaxis\": \"x\", \"y\": [0.0, 0.0, 0.0, 0.00198, 0.02598, 0.04812, 0.016440000000000003, 0.0, 0.0], \"yaxis\": \"y\", \"type\": \"bar\", \"uid\": \"950313a8-cf0e-11e8-904d-b00594f12df5\", \"name\": \"Germany\"}, {\"marker\": {\"color\": \"#D62728\", \"line\": {\"width\": 1.0}}, \"opacity\": 1, \"orientation\": \"v\", \"x\": [1.0, 2.0, 3.0, 4.0, 5.0, 6.0, 7.0, 8.0, 9.0], \"xaxis\": \"x\", \"y\": [0.00446, 0.0024799999999999996, 0.00276, 0.00142, 0.00122, 0.00398, 0.00036, 0.01666, 0.027299999999999998], \"yaxis\": \"y\", \"type\": \"bar\", \"uid\": \"9507c564-cf0e-11e8-8337-b00594f12df5\", \"name\": \"Chile\"}], {\"autosize\": false, \"height\": 432, \"hovermode\": \"x\", \"width\": 648, \"margin\": {\"b\": 54, \"l\": 81, \"pad\": 0, \"r\": 64, \"t\": 51}, \"xaxis\": {\"anchor\": \"y\", \"domain\": [0.0, 1.0], \"mirror\": \"ticks\", \"nticks\": 6, \"range\": [0.15999999999999992, 9.84], \"showgrid\": false, \"showline\": true, \"side\": \"bottom\", \"tickfont\": {\"size\": 10.0}, \"ticks\": \"inside\", \"type\": \"linear\", \"zeroline\": false, \"title\": \"Resource class\", \"titlefont\": {\"color\": \"#000000\", \"size\": 10.0}}, \"yaxis\": {\"anchor\": \"x\", \"domain\": [0.0, 1.0], \"mirror\": \"ticks\", \"nticks\": 9, \"range\": [0.0, 0.36701700000000004], \"showgrid\": false, \"showline\": true, \"side\": \"left\", \"tickfont\": {\"size\": 10.0}, \"ticks\": \"inside\", \"type\": \"linear\", \"zeroline\": false, \"title\": \"Available power [TW]\", \"titlefont\": {\"color\": \"#000000\", \"size\": 10.0}}, \"title\": \"Offshore wind resources\", \"titlefont\": {\"color\": \"#000000\", \"size\": 12.0}, \"bargap\": 0.20000000000000018, \"showlegend\": true}, {\"showLink\": true, \"linkText\": \"Export to plot.ly\"})});</script>"
      ]
     },
     "metadata": {},
     "output_type": "display_data"
    }
   ],
   "source": [
    "countries=['United Kingdom','Denmark','Germany','Chile']\n",
    "mpl_fig = plt.figure(figsize=(9,6))\n",
    "ax = mpl_fig.add_subplot(111)\n",
    "x=np.array(list(wind_cap2[countries[0]].keys()))\n",
    "    \n",
    "for i,country in enumerate(countries):\n",
    "    y=wind_cap2[country].values()\n",
    "    ax.bar(x,y,width=0.8)\n",
    "ax.set_ylabel('Available power [TW]')\n",
    "ax.set_xlabel('Resource class')\n",
    "ax.set_title('Offshore wind resources')\n",
    "plotly_fig = tls.mpl_to_plotly(mpl_fig)\n",
    "for i,e in enumerate(plotly_fig['data']):\n",
    "    e['name']=countries[i]\n",
    "plotly_fig[\"layout\"][\"showlegend\"] = True\n",
    "plotly_fig[\"layout\"]['hovermode']='x'\n",
    "iplot(plotly_fig, filename='ofs1')"
   ]
  },
  {
   "cell_type": "markdown",
   "metadata": {},
   "source": [
    "Energy"
   ]
  },
  {
   "cell_type": "code",
   "execution_count": 12,
   "metadata": {},
   "outputs": [],
   "source": [
    "wind=pd.read_excel(windpath,sheet_name='Offshore Energy',skiprows=3)\n",
    "wind_res2={}\n",
    "country=''\n",
    "for i in wind.T.iteritems():\n",
    "    if str(i[1][0])!='nan':\n",
    "        country=str(i[1][0])\n",
    "    water=str(i[1][1])\n",
    "    if water in {'shallow','transitional'}: #skip deep for now\n",
    "        for k in range(2,11):\n",
    "            if country not in wind_res2:wind_res2[country]={}\n",
    "            clas=k-1\n",
    "            cap=i[1][k] + i[1][k+10]# + i[1][k+20] #last one too far 0-50,50-100,100-5000\n",
    "            if clas not in wind_res2[country]:wind_res2[country][clas]=0\n",
    "            wind_res2[country][clas]+=cap*1000.0"
   ]
  },
  {
   "cell_type": "code",
   "execution_count": 13,
   "metadata": {},
   "outputs": [
    {
     "data": {
      "application/vnd.plotly.v1+json": {
       "data": [
        {
         "marker": {
          "color": "#1F77B4",
          "line": {
           "width": 1
          }
         },
         "name": "United Kingdom",
         "opacity": 1,
         "orientation": "v",
         "type": "bar",
         "uid": "9a18e9c0-cf0e-11e8-985c-b00594f12df5",
         "x": [
          1,
          2,
          3,
          4,
          5,
          6,
          7,
          8,
          9
         ],
         "xaxis": "x",
         "y": [
          0,
          0,
          0,
          0,
          116.94847569595635,
          1108.4278851044735,
          292.7286431643525,
          6.9409166095039145,
          0
         ],
         "yaxis": "y"
        },
        {
         "marker": {
          "color": "#FF7F0E",
          "line": {
           "width": 1
          }
         },
         "name": "Denmark",
         "opacity": 1,
         "orientation": "v",
         "type": "bar",
         "uid": "9a1d5686-cf0e-11e8-8dcc-b00594f12df5",
         "x": [
          1,
          2,
          3,
          4,
          5,
          6,
          7,
          8,
          9
         ],
         "xaxis": "x",
         "y": [
          0,
          0,
          0,
          0.4586406261423828,
          191.6997872121452,
          243.06456317735731,
          250.70056633669006,
          0,
          0
         ],
         "yaxis": "y"
        },
        {
         "marker": {
          "color": "#2CA02C",
          "line": {
           "width": 1
          }
         },
         "name": "Germany",
         "opacity": 1,
         "orientation": "v",
         "type": "bar",
         "uid": "9a1feed4-cf0e-11e8-9af8-b00594f12df5",
         "x": [
          1,
          2,
          3,
          4,
          5,
          6,
          7,
          8,
          9
         ],
         "xaxis": "x",
         "y": [
          0,
          0,
          0,
          5.0890195522969215,
          74.30827093511061,
          151.88721668743847,
          55.034432604449286,
          0,
          0
         ],
         "yaxis": "y"
        },
        {
         "marker": {
          "color": "#D62728",
          "line": {
           "width": 1
          }
         },
         "name": "Chile",
         "opacity": 1,
         "orientation": "v",
         "type": "bar",
         "uid": "9a223866-cf0e-11e8-9ee0-b00594f12df5",
         "x": [
          1,
          2,
          3,
          4,
          5,
          6,
          7,
          8,
          9
         ],
         "xaxis": "x",
         "y": [
          0.43195775186773655,
          4.766924538915325,
          5.725201250864694,
          3.5583583731613686,
          3.3411058415670536,
          12.717061954597762,
          1.2408593358678646,
          65.10737472521274,
          130.8132729110102
         ],
         "yaxis": "y"
        }
       ],
       "layout": {
        "autosize": false,
        "bargap": 0.20000000000000018,
        "height": 432,
        "hovermode": "x",
        "margin": {
         "b": 54,
         "l": 81,
         "pad": 0,
         "r": 64,
         "t": 51
        },
        "showlegend": true,
        "title": "Offshore wind resources",
        "titlefont": {
         "color": "#000000",
         "size": 12
        },
        "width": 648,
        "xaxis": {
         "anchor": "y",
         "domain": [
          0,
          1
         ],
         "mirror": "ticks",
         "nticks": 6,
         "range": [
          0.15999999999999992,
          9.84
         ],
         "showgrid": false,
         "showline": true,
         "side": "bottom",
         "tickfont": {
          "size": 10
         },
         "ticks": "inside",
         "title": "Resource class",
         "titlefont": {
          "color": "#000000",
          "size": 10
         },
         "type": "linear",
         "zeroline": false
        },
        "yaxis": {
         "anchor": "x",
         "domain": [
          0,
          1
         ],
         "mirror": "ticks",
         "nticks": 7,
         "range": [
          0,
          1163.8492793596972
         ],
         "showgrid": false,
         "showline": true,
         "side": "left",
         "tickfont": {
          "size": 10
         },
         "ticks": "inside",
         "title": "Available energy [TWh/year]",
         "titlefont": {
          "color": "#000000",
          "size": 10
         },
         "type": "linear",
         "zeroline": false
        }
       }
      },
      "text/html": [
       "<div id=\"097230fe-f89b-4ff6-ac3f-2c4aff6eba33\" style=\"height: 432px; width: 648px;\" class=\"plotly-graph-div\"></div><script type=\"text/javascript\">require([\"plotly\"], function(Plotly) { window.PLOTLYENV=window.PLOTLYENV || {};window.PLOTLYENV.BASE_URL=\"https://plot.ly\";Plotly.newPlot(\"097230fe-f89b-4ff6-ac3f-2c4aff6eba33\", [{\"marker\": {\"color\": \"#1F77B4\", \"line\": {\"width\": 1.0}}, \"opacity\": 1, \"orientation\": \"v\", \"x\": [1.0, 2.0, 3.0, 4.0, 5.0, 6.0, 7.0, 8.0, 9.0], \"xaxis\": \"x\", \"y\": [0.0, 0.0, 0.0, 0.0, 116.94847569595635, 1108.4278851044735, 292.7286431643525, 6.9409166095039145, 0.0], \"yaxis\": \"y\", \"type\": \"bar\", \"uid\": \"9a18e9c0-cf0e-11e8-985c-b00594f12df5\", \"name\": \"United Kingdom\"}, {\"marker\": {\"color\": \"#FF7F0E\", \"line\": {\"width\": 1.0}}, \"opacity\": 1, \"orientation\": \"v\", \"x\": [1.0, 2.0, 3.0, 4.0, 5.0, 6.0, 7.0, 8.0, 9.0], \"xaxis\": \"x\", \"y\": [0.0, 0.0, 0.0, 0.4586406261423828, 191.6997872121452, 243.06456317735731, 250.70056633669006, 0.0, 0.0], \"yaxis\": \"y\", \"type\": \"bar\", \"uid\": \"9a1d5686-cf0e-11e8-8dcc-b00594f12df5\", \"name\": \"Denmark\"}, {\"marker\": {\"color\": \"#2CA02C\", \"line\": {\"width\": 1.0}}, \"opacity\": 1, \"orientation\": \"v\", \"x\": [1.0, 2.0, 3.0, 4.0, 5.0, 6.0, 7.0, 8.0, 9.0], \"xaxis\": \"x\", \"y\": [0.0, 0.0, 0.0, 5.0890195522969215, 74.30827093511061, 151.88721668743847, 55.034432604449286, 0.0, 0.0], \"yaxis\": \"y\", \"type\": \"bar\", \"uid\": \"9a1feed4-cf0e-11e8-9af8-b00594f12df5\", \"name\": \"Germany\"}, {\"marker\": {\"color\": \"#D62728\", \"line\": {\"width\": 1.0}}, \"opacity\": 1, \"orientation\": \"v\", \"x\": [1.0, 2.0, 3.0, 4.0, 5.0, 6.0, 7.0, 8.0, 9.0], \"xaxis\": \"x\", \"y\": [0.43195775186773655, 4.766924538915325, 5.725201250864694, 3.5583583731613686, 3.3411058415670536, 12.717061954597762, 1.2408593358678646, 65.10737472521274, 130.8132729110102], \"yaxis\": \"y\", \"type\": \"bar\", \"uid\": \"9a223866-cf0e-11e8-9ee0-b00594f12df5\", \"name\": \"Chile\"}], {\"autosize\": false, \"height\": 432, \"hovermode\": \"x\", \"width\": 648, \"margin\": {\"b\": 54, \"l\": 81, \"pad\": 0, \"r\": 64, \"t\": 51}, \"xaxis\": {\"anchor\": \"y\", \"domain\": [0.0, 1.0], \"mirror\": \"ticks\", \"nticks\": 6, \"range\": [0.15999999999999992, 9.84], \"showgrid\": false, \"showline\": true, \"side\": \"bottom\", \"tickfont\": {\"size\": 10.0}, \"ticks\": \"inside\", \"type\": \"linear\", \"zeroline\": false, \"title\": \"Resource class\", \"titlefont\": {\"color\": \"#000000\", \"size\": 10.0}}, \"yaxis\": {\"anchor\": \"x\", \"domain\": [0.0, 1.0], \"mirror\": \"ticks\", \"nticks\": 7, \"range\": [0.0, 1163.8492793596972], \"showgrid\": false, \"showline\": true, \"side\": \"left\", \"tickfont\": {\"size\": 10.0}, \"ticks\": \"inside\", \"type\": \"linear\", \"zeroline\": false, \"title\": \"Available energy [TWh/year]\", \"titlefont\": {\"color\": \"#000000\", \"size\": 10.0}}, \"title\": \"Offshore wind resources\", \"titlefont\": {\"color\": \"#000000\", \"size\": 12.0}, \"bargap\": 0.20000000000000018, \"showlegend\": true}, {\"showLink\": true, \"linkText\": \"Export to plot.ly\"})});</script>"
      ],
      "text/vnd.plotly.v1+html": [
       "<div id=\"097230fe-f89b-4ff6-ac3f-2c4aff6eba33\" style=\"height: 432px; width: 648px;\" class=\"plotly-graph-div\"></div><script type=\"text/javascript\">require([\"plotly\"], function(Plotly) { window.PLOTLYENV=window.PLOTLYENV || {};window.PLOTLYENV.BASE_URL=\"https://plot.ly\";Plotly.newPlot(\"097230fe-f89b-4ff6-ac3f-2c4aff6eba33\", [{\"marker\": {\"color\": \"#1F77B4\", \"line\": {\"width\": 1.0}}, \"opacity\": 1, \"orientation\": \"v\", \"x\": [1.0, 2.0, 3.0, 4.0, 5.0, 6.0, 7.0, 8.0, 9.0], \"xaxis\": \"x\", \"y\": [0.0, 0.0, 0.0, 0.0, 116.94847569595635, 1108.4278851044735, 292.7286431643525, 6.9409166095039145, 0.0], \"yaxis\": \"y\", \"type\": \"bar\", \"uid\": \"9a18e9c0-cf0e-11e8-985c-b00594f12df5\", \"name\": \"United Kingdom\"}, {\"marker\": {\"color\": \"#FF7F0E\", \"line\": {\"width\": 1.0}}, \"opacity\": 1, \"orientation\": \"v\", \"x\": [1.0, 2.0, 3.0, 4.0, 5.0, 6.0, 7.0, 8.0, 9.0], \"xaxis\": \"x\", \"y\": [0.0, 0.0, 0.0, 0.4586406261423828, 191.6997872121452, 243.06456317735731, 250.70056633669006, 0.0, 0.0], \"yaxis\": \"y\", \"type\": \"bar\", \"uid\": \"9a1d5686-cf0e-11e8-8dcc-b00594f12df5\", \"name\": \"Denmark\"}, {\"marker\": {\"color\": \"#2CA02C\", \"line\": {\"width\": 1.0}}, \"opacity\": 1, \"orientation\": \"v\", \"x\": [1.0, 2.0, 3.0, 4.0, 5.0, 6.0, 7.0, 8.0, 9.0], \"xaxis\": \"x\", \"y\": [0.0, 0.0, 0.0, 5.0890195522969215, 74.30827093511061, 151.88721668743847, 55.034432604449286, 0.0, 0.0], \"yaxis\": \"y\", \"type\": \"bar\", \"uid\": \"9a1feed4-cf0e-11e8-9af8-b00594f12df5\", \"name\": \"Germany\"}, {\"marker\": {\"color\": \"#D62728\", \"line\": {\"width\": 1.0}}, \"opacity\": 1, \"orientation\": \"v\", \"x\": [1.0, 2.0, 3.0, 4.0, 5.0, 6.0, 7.0, 8.0, 9.0], \"xaxis\": \"x\", \"y\": [0.43195775186773655, 4.766924538915325, 5.725201250864694, 3.5583583731613686, 3.3411058415670536, 12.717061954597762, 1.2408593358678646, 65.10737472521274, 130.8132729110102], \"yaxis\": \"y\", \"type\": \"bar\", \"uid\": \"9a223866-cf0e-11e8-9ee0-b00594f12df5\", \"name\": \"Chile\"}], {\"autosize\": false, \"height\": 432, \"hovermode\": \"x\", \"width\": 648, \"margin\": {\"b\": 54, \"l\": 81, \"pad\": 0, \"r\": 64, \"t\": 51}, \"xaxis\": {\"anchor\": \"y\", \"domain\": [0.0, 1.0], \"mirror\": \"ticks\", \"nticks\": 6, \"range\": [0.15999999999999992, 9.84], \"showgrid\": false, \"showline\": true, \"side\": \"bottom\", \"tickfont\": {\"size\": 10.0}, \"ticks\": \"inside\", \"type\": \"linear\", \"zeroline\": false, \"title\": \"Resource class\", \"titlefont\": {\"color\": \"#000000\", \"size\": 10.0}}, \"yaxis\": {\"anchor\": \"x\", \"domain\": [0.0, 1.0], \"mirror\": \"ticks\", \"nticks\": 7, \"range\": [0.0, 1163.8492793596972], \"showgrid\": false, \"showline\": true, \"side\": \"left\", \"tickfont\": {\"size\": 10.0}, \"ticks\": \"inside\", \"type\": \"linear\", \"zeroline\": false, \"title\": \"Available energy [TWh/year]\", \"titlefont\": {\"color\": \"#000000\", \"size\": 10.0}}, \"title\": \"Offshore wind resources\", \"titlefont\": {\"color\": \"#000000\", \"size\": 12.0}, \"bargap\": 0.20000000000000018, \"showlegend\": true}, {\"showLink\": true, \"linkText\": \"Export to plot.ly\"})});</script>"
      ]
     },
     "metadata": {},
     "output_type": "display_data"
    }
   ],
   "source": [
    "mpl_fig = plt.figure(figsize=(9,6))\n",
    "ax = mpl_fig.add_subplot(111)\n",
    "x=np.array(list(wind_res2[countries[0]].keys()))\n",
    "    \n",
    "for i,country in enumerate(countries):\n",
    "    y=wind_res2[country].values()\n",
    "    ax.bar(x,y,width=0.8)\n",
    "ax.set_ylabel('Available energy [TWh/year]')\n",
    "ax.set_xlabel('Resource class')\n",
    "ax.set_title('Offshore wind resources')\n",
    "plotly_fig = tls.mpl_to_plotly(mpl_fig)\n",
    "for i,e in enumerate(plotly_fig['data']):\n",
    "    e['name']=countries[i]\n",
    "plotly_fig[\"layout\"][\"showlegend\"] = True\n",
    "plotly_fig[\"layout\"]['hovermode']='x'\n",
    "iplot(plotly_fig, filename='ofs2')"
   ]
  },
  {
   "cell_type": "markdown",
   "metadata": {},
   "source": [
    "### Convert wind classes to *m/s* speeds"
   ]
  },
  {
   "cell_type": "markdown",
   "metadata": {},
   "source": [
    "https://www.nrel.gov/gis/data-wind.html"
   ]
  },
  {
   "cell_type": "code",
   "execution_count": 14,
   "metadata": {},
   "outputs": [],
   "source": [
    "df=pd.read_html('https://www.nrel.gov/gis/data-wind.html')[0]"
   ]
  },
  {
   "cell_type": "code",
   "execution_count": 15,
   "metadata": {},
   "outputs": [],
   "source": [
    "df=df[1::2].reset_index()"
   ]
  },
  {
   "cell_type": "code",
   "execution_count": 16,
   "metadata": {},
   "outputs": [],
   "source": [
    "df2=df.copy()\n",
    "df2.columns=df2.loc[0]\n",
    "df=df[1:]"
   ]
  },
  {
   "cell_type": "code",
   "execution_count": 17,
   "metadata": {},
   "outputs": [
    {
     "data": {
      "text/html": [
       "<div>\n",
       "<style scoped>\n",
       "    .dataframe tbody tr th:only-of-type {\n",
       "        vertical-align: middle;\n",
       "    }\n",
       "\n",
       "    .dataframe tbody tr th {\n",
       "        vertical-align: top;\n",
       "    }\n",
       "\n",
       "    .dataframe thead th {\n",
       "        text-align: right;\n",
       "    }\n",
       "</style>\n",
       "<table border=\"1\" class=\"dataframe\">\n",
       "  <thead>\n",
       "    <tr style=\"text-align: right;\">\n",
       "      <th></th>\n",
       "      <th>1</th>\n",
       "      <th>Wind Power Density (W/m2)</th>\n",
       "      <th>Speedb m/s (mph)</th>\n",
       "      <th>Wind Power Density (W/m2)</th>\n",
       "      <th>Speedb m/s (mph)</th>\n",
       "      <th>nan</th>\n",
       "    </tr>\n",
       "  </thead>\n",
       "  <tbody>\n",
       "    <tr>\n",
       "      <th>1</th>\n",
       "      <td>3</td>\n",
       "      <td>100</td>\n",
       "      <td>4.4 (9.8)</td>\n",
       "      <td>200</td>\n",
       "      <td>5.6 (12.5)</td>\n",
       "      <td>NaN</td>\n",
       "    </tr>\n",
       "    <tr>\n",
       "      <th>2</th>\n",
       "      <td>5</td>\n",
       "      <td>150</td>\n",
       "      <td>5.1 (11.5)</td>\n",
       "      <td>300</td>\n",
       "      <td>6.4 (14.3)</td>\n",
       "      <td>NaN</td>\n",
       "    </tr>\n",
       "    <tr>\n",
       "      <th>3</th>\n",
       "      <td>7</td>\n",
       "      <td>200</td>\n",
       "      <td>5.6 (12.5)</td>\n",
       "      <td>400</td>\n",
       "      <td>7.0 (15.7)</td>\n",
       "      <td>NaN</td>\n",
       "    </tr>\n",
       "    <tr>\n",
       "      <th>4</th>\n",
       "      <td>9</td>\n",
       "      <td>250</td>\n",
       "      <td>6.0 (13.4)</td>\n",
       "      <td>500</td>\n",
       "      <td>7.5 (16.8)</td>\n",
       "      <td>NaN</td>\n",
       "    </tr>\n",
       "    <tr>\n",
       "      <th>5</th>\n",
       "      <td>11</td>\n",
       "      <td>300</td>\n",
       "      <td>6.4 (14.3)</td>\n",
       "      <td>600</td>\n",
       "      <td>8.0 (17.9)</td>\n",
       "      <td>NaN</td>\n",
       "    </tr>\n",
       "    <tr>\n",
       "      <th>6</th>\n",
       "      <td>13</td>\n",
       "      <td>400</td>\n",
       "      <td>7.0 (15.7)</td>\n",
       "      <td>800</td>\n",
       "      <td>8.8 (19.7)</td>\n",
       "      <td>NaN</td>\n",
       "    </tr>\n",
       "    <tr>\n",
       "      <th>7</th>\n",
       "      <td>15</td>\n",
       "      <td>1000</td>\n",
       "      <td>9.4 (21.1)</td>\n",
       "      <td>2000</td>\n",
       "      <td>11.9 (26.6)</td>\n",
       "      <td>NaN</td>\n",
       "    </tr>\n",
       "  </tbody>\n",
       "</table>\n",
       "</div>"
      ],
      "text/plain": [
       "0   1 Wind Power Density (W/m2) Speedb m/s (mph) Wind Power Density (W/m2)  \\\n",
       "1   3                       100        4.4 (9.8)                       200   \n",
       "2   5                       150       5.1 (11.5)                       300   \n",
       "3   7                       200       5.6 (12.5)                       400   \n",
       "4   9                       250       6.0 (13.4)                       500   \n",
       "5  11                       300       6.4 (14.3)                       600   \n",
       "6  13                       400       7.0 (15.7)                       800   \n",
       "7  15                      1000       9.4 (21.1)                      2000   \n",
       "\n",
       "0 Speedb m/s (mph)  NaN  \n",
       "1       5.6 (12.5)  NaN  \n",
       "2       6.4 (14.3)  NaN  \n",
       "3       7.0 (15.7)  NaN  \n",
       "4       7.5 (16.8)  NaN  \n",
       "5       8.0 (17.9)  NaN  \n",
       "6       8.8 (19.7)  NaN  \n",
       "7      11.9 (26.6)  NaN  "
      ]
     },
     "execution_count": 17,
     "metadata": {},
     "output_type": "execute_result"
    }
   ],
   "source": [
    "df2[1:]"
   ]
  },
  {
   "cell_type": "code",
   "execution_count": 18,
   "metadata": {},
   "outputs": [],
   "source": [
    "classes=list(df.index) #extract classes"
   ]
  },
  {
   "cell_type": "code",
   "execution_count": 19,
   "metadata": {},
   "outputs": [],
   "source": [
    "x10m=np.array([float(i[:i.find(' ')]) for i in df[1]]) #wind speed at 10m hub height\n",
    "x50m=np.array([float(i[:i.find(' ')]) for i in df[3]]) #wind speed at 50m hub height"
   ]
  },
  {
   "cell_type": "code",
   "execution_count": 20,
   "metadata": {},
   "outputs": [
    {
     "data": {
      "text/plain": [
       "[<matplotlib.lines.Line2D at 0x1dd79435d30>]"
      ]
     },
     "execution_count": 20,
     "metadata": {},
     "output_type": "execute_result"
    },
    {
     "data": {
      "image/png": "[encoded data removed]",
      "text/plain": [
       "<Figure size 432x288 with 1 Axes>"
      ]
     },
     "metadata": {
      "needs_background": "light"
     },
     "output_type": "display_data"
    }
   ],
   "source": [
    "plt.plot(classes,x10m)\n",
    "plt.plot(classes,x50m)"
   ]
  },
  {
   "cell_type": "markdown",
   "metadata": {},
   "source": [
    "http://windpower.generatorguide.net/wind-speed-power.html"
   ]
  },
  {
   "cell_type": "code",
   "execution_count": 21,
   "metadata": {},
   "outputs": [],
   "source": [
    "def height_converter(h,href,vref):\n",
    "    return vref*(h*1.0/href)**(1/7)"
   ]
  },
  {
   "cell_type": "code",
   "execution_count": 22,
   "metadata": {},
   "outputs": [],
   "source": [
    "x90m1=height_converter(90,10,x10m)\n",
    "x90m2=height_converter(90,50,x50m)\n",
    "x90m=(x90m1+x90m2)/2.0"
   ]
  },
  {
   "cell_type": "code",
   "execution_count": 23,
   "metadata": {},
   "outputs": [
    {
     "data": {
      "text/plain": [
       "[<matplotlib.lines.Line2D at 0x1dd794d9c88>]"
      ]
     },
     "execution_count": 23,
     "metadata": {},
     "output_type": "execute_result"
    },
    {
     "data": {
      "image/png": "[encoded data removed]",
      "text/plain": [
       "<Figure size 432x288 with 1 Axes>"
      ]
     },
     "metadata": {
      "needs_background": "light"
     },
     "output_type": "display_data"
    }
   ],
   "source": [
    "plt.plot(classes,x90m1)\n",
    "plt.plot(classes,x90m2)\n",
    "plt.plot(classes,x90m)"
   ]
  },
  {
   "cell_type": "markdown",
   "metadata": {},
   "source": [
    "Cast the NREL 7 classes into the map's 9 classes."
   ]
  },
  {
   "cell_type": "code",
   "execution_count": 24,
   "metadata": {},
   "outputs": [],
   "source": [
    "x90m9cl=np.array(list(x90m[:-1])+[x90m[-2]+(x90m[-1]-x90m[-2])*1/3,\n",
    "                                  x90m[-2]+(x90m[-1]-x90m[-2])*2/3,\n",
    "                                  x90m[-1]])"
   ]
  },
  {
   "cell_type": "code",
   "execution_count": 25,
   "metadata": {},
   "outputs": [
    {
     "data": {
      "text/plain": [
       "[<matplotlib.lines.Line2D at 0x1dd79540c18>]"
      ]
     },
     "execution_count": 25,
     "metadata": {},
     "output_type": "execute_result"
    },
    {
     "data": {
      "image/png": "[encoded data removed]",
      "text/plain": [
       "<Figure size 432x288 with 1 Axes>"
      ]
     },
     "metadata": {
      "needs_background": "light"
     },
     "output_type": "display_data"
    }
   ],
   "source": [
    "plt.plot(classes,x10m)\n",
    "plt.plot(classes,x50m)\n",
    "plt.plot(classes,x90m)\n",
    "plt.plot(classes+[8,9],x90m9cl)"
   ]
  },
  {
   "cell_type": "code",
   "execution_count": 26,
   "metadata": {},
   "outputs": [],
   "source": [
    "class2speed={i+1:np.round(x90m9cl[i],1) for i in range(len(x90m9cl))}"
   ]
  },
  {
   "cell_type": "markdown",
   "metadata": {},
   "source": [
    "New plot with speeds"
   ]
  },
  {
   "cell_type": "code",
   "execution_count": 28,
   "metadata": {},
   "outputs": [
    {
     "data": {
      "application/vnd.plotly.v1+json": {
       "data": [
        {
         "marker": {
          "color": "#1F77B4",
          "line": {
           "width": 1
          }
         },
         "name": "United Kingdom",
         "opacity": 1,
         "orientation": "v",
         "type": "bar",
         "uid": "a45ed4e8-cf0e-11e8-9da1-b00594f12df5",
         "x": [
          6.1,
          7,
          7.6,
          8.2,
          8.7,
          9.6,
          10.7,
          11.8,
          12.9
         ],
         "xaxis": "x",
         "y": [
          0,
          0,
          0,
          0,
          632.5816338156643,
          862.8978288297716,
          82.84682320313401,
          4.770151493654107,
          0
         ],
         "yaxis": "y"
        },
        {
         "marker": {
          "color": "#FF7F0E",
          "line": {
           "width": 1
          }
         },
         "name": "Denmark",
         "opacity": 1,
         "orientation": "v",
         "type": "bar",
         "uid": "a463689c-cf0e-11e8-9c56-b00594f12df5",
         "x": [
          6.1,
          7,
          7.6,
          8.2,
          8.7,
          9.6,
          10.7,
          11.8,
          12.9
         ],
         "xaxis": "x",
         "y": [
          0,
          0,
          0,
          0,
          148.57241847990133,
          175.54030555061044,
          0,
          0,
          0
         ],
         "yaxis": "y"
        },
        {
         "marker": {
          "color": "#2CA02C",
          "line": {
           "width": 1
          }
         },
         "name": "Germany",
         "opacity": 1,
         "orientation": "v",
         "type": "bar",
         "uid": "a467fc90-cf0e-11e8-9c6d-b00594f12df5",
         "x": [
          6.1,
          7,
          7.6,
          8.2,
          8.7,
          9.6,
          10.7,
          11.8,
          12.9
         ],
         "xaxis": "x",
         "y": [
          0,
          242.5148525488719,
          190.7132987184146,
          668.4905765204946,
          173.99549903864298,
          31.787314732676556,
          0,
          0,
          0
         ],
         "yaxis": "y"
        },
        {
         "marker": {
          "color": "#D62728",
          "line": {
           "width": 1
          }
         },
         "name": "Chile",
         "opacity": 1,
         "orientation": "v",
         "type": "bar",
         "uid": "a46c1b40-cf0e-11e8-b6e1-b00594f12df5",
         "x": [
          6.1,
          7,
          7.6,
          8.2,
          8.7,
          9.6,
          10.7,
          11.8,
          12.9
         ],
         "xaxis": "x",
         "y": [
          610.6897394769475,
          384.09973449714715,
          196.18989492837275,
          104.13294282643898,
          26.465781528468735,
          2.1349183974621586,
          0.9379090840955417,
          156.52778467599248,
          158.08484974015528
         ],
         "yaxis": "y"
        }
       ],
       "layout": {
        "autosize": false,
        "height": 432,
        "hovermode": "x",
        "margin": {
         "b": 54,
         "l": 81,
         "pad": 0,
         "r": 64,
         "t": 51
        },
        "showlegend": true,
        "title": "Onshore wind resources",
        "titlefont": {
         "color": "#000000",
         "size": 12
        },
        "width": 648,
        "xaxis": {
         "anchor": "y",
         "domain": [
          0,
          1
         ],
         "mirror": "ticks",
         "nticks": 10,
         "range": [
          5.319999999999999,
          13.680000000000001
         ],
         "showgrid": false,
         "showline": true,
         "side": "bottom",
         "tickfont": {
          "size": 10
         },
         "ticks": "inside",
         "title": "Wind speed (m/s)",
         "titlefont": {
          "color": "#000000",
          "size": 10
         },
         "type": "linear",
         "zeroline": false
        },
        "yaxis": {
         "anchor": "x",
         "domain": [
          0,
          1
         ],
         "mirror": "ticks",
         "nticks": 6,
         "range": [
          0,
          906.0427202712601
         ],
         "showgrid": false,
         "showline": true,
         "side": "left",
         "tickfont": {
          "size": 10
         },
         "ticks": "inside",
         "title": "Available energy (TWh/year)",
         "titlefont": {
          "color": "#000000",
          "size": 10
         },
         "type": "linear",
         "zeroline": false
        }
       }
      },
      "text/html": [
       "<div id=\"e823516f-4a68-46d4-8c25-ea6cddfb19fd\" style=\"height: 432px; width: 648px;\" class=\"plotly-graph-div\"></div><script type=\"text/javascript\">require([\"plotly\"], function(Plotly) { window.PLOTLYENV=window.PLOTLYENV || {};window.PLOTLYENV.BASE_URL=\"https://plot.ly\";Plotly.newPlot(\"e823516f-4a68-46d4-8c25-ea6cddfb19fd\", [{\"marker\": {\"color\": \"#1F77B4\", \"line\": {\"width\": 1.0}}, \"opacity\": 1, \"orientation\": \"v\", \"x\": [6.1, 7.0, 7.6, 8.2, 8.7, 9.6, 10.7, 11.8, 12.9], \"xaxis\": \"x\", \"y\": [0.0, 0.0, 0.0, 0.0, 632.5816338156643, 862.8978288297716, 82.84682320313401, 4.770151493654107, 0.0], \"yaxis\": \"y\", \"type\": \"bar\", \"uid\": \"a45ed4e8-cf0e-11e8-9da1-b00594f12df5\", \"name\": \"United Kingdom\"}, {\"marker\": {\"color\": \"#FF7F0E\", \"line\": {\"width\": 1.0}}, \"opacity\": 1, \"orientation\": \"v\", \"x\": [6.1, 7.0, 7.6, 8.2, 8.7, 9.6, 10.7, 11.8, 12.9], \"xaxis\": \"x\", \"y\": [0.0, 0.0, 0.0, 0.0, 148.57241847990133, 175.54030555061044, 0.0, 0.0, 0.0], \"yaxis\": \"y\", \"type\": \"bar\", \"uid\": \"a463689c-cf0e-11e8-9c56-b00594f12df5\", \"name\": \"Denmark\"}, {\"marker\": {\"color\": \"#2CA02C\", \"line\": {\"width\": 1.0}}, \"opacity\": 1, \"orientation\": \"v\", \"x\": [6.1, 7.0, 7.6, 8.2, 8.7, 9.6, 10.7, 11.8, 12.9], \"xaxis\": \"x\", \"y\": [0.0, 242.5148525488719, 190.7132987184146, 668.4905765204946, 173.99549903864298, 31.787314732676556, 0.0, 0.0, 0.0], \"yaxis\": \"y\", \"type\": \"bar\", \"uid\": \"a467fc90-cf0e-11e8-9c6d-b00594f12df5\", \"name\": \"Germany\"}, {\"marker\": {\"color\": \"#D62728\", \"line\": {\"width\": 1.0}}, \"opacity\": 1, \"orientation\": \"v\", \"x\": [6.1, 7.0, 7.6, 8.2, 8.7, 9.6, 10.7, 11.8, 12.9], \"xaxis\": \"x\", \"y\": [610.6897394769475, 384.09973449714715, 196.18989492837275, 104.13294282643898, 26.465781528468735, 2.1349183974621586, 0.9379090840955417, 156.52778467599248, 158.08484974015528], \"yaxis\": \"y\", \"type\": \"bar\", \"uid\": \"a46c1b40-cf0e-11e8-b6e1-b00594f12df5\", \"name\": \"Chile\"}], {\"autosize\": false, \"height\": 432, \"hovermode\": \"x\", \"width\": 648, \"margin\": {\"b\": 54, \"l\": 81, \"pad\": 0, \"r\": 64, \"t\": 51}, \"xaxis\": {\"anchor\": \"y\", \"domain\": [0.0, 1.0], \"mirror\": \"ticks\", \"nticks\": 10, \"range\": [5.319999999999999, 13.680000000000001], \"showgrid\": false, \"showline\": true, \"side\": \"bottom\", \"tickfont\": {\"size\": 10.0}, \"ticks\": \"inside\", \"type\": \"linear\", \"zeroline\": false, \"title\": \"Wind speed (m/s)\", \"titlefont\": {\"color\": \"#000000\", \"size\": 10.0}}, \"yaxis\": {\"anchor\": \"x\", \"domain\": [0.0, 1.0], \"mirror\": \"ticks\", \"nticks\": 6, \"range\": [0.0, 906.0427202712601], \"showgrid\": false, \"showline\": true, \"side\": \"left\", \"tickfont\": {\"size\": 10.0}, \"ticks\": \"inside\", \"type\": \"linear\", \"zeroline\": false, \"title\": \"Available energy (TWh/year)\", \"titlefont\": {\"color\": \"#000000\", \"size\": 10.0}}, \"title\": \"Onshore wind resources\", \"titlefont\": {\"color\": \"#000000\", \"size\": 12.0}, \"showlegend\": true}, {\"showLink\": true, \"linkText\": \"Export to plot.ly\"})});</script>"
      ],
      "text/vnd.plotly.v1+html": [
       "<div id=\"e823516f-4a68-46d4-8c25-ea6cddfb19fd\" style=\"height: 432px; width: 648px;\" class=\"plotly-graph-div\"></div><script type=\"text/javascript\">require([\"plotly\"], function(Plotly) { window.PLOTLYENV=window.PLOTLYENV || {};window.PLOTLYENV.BASE_URL=\"https://plot.ly\";Plotly.newPlot(\"e823516f-4a68-46d4-8c25-ea6cddfb19fd\", [{\"marker\": {\"color\": \"#1F77B4\", \"line\": {\"width\": 1.0}}, \"opacity\": 1, \"orientation\": \"v\", \"x\": [6.1, 7.0, 7.6, 8.2, 8.7, 9.6, 10.7, 11.8, 12.9], \"xaxis\": \"x\", \"y\": [0.0, 0.0, 0.0, 0.0, 632.5816338156643, 862.8978288297716, 82.84682320313401, 4.770151493654107, 0.0], \"yaxis\": \"y\", \"type\": \"bar\", \"uid\": \"a45ed4e8-cf0e-11e8-9da1-b00594f12df5\", \"name\": \"United Kingdom\"}, {\"marker\": {\"color\": \"#FF7F0E\", \"line\": {\"width\": 1.0}}, \"opacity\": 1, \"orientation\": \"v\", \"x\": [6.1, 7.0, 7.6, 8.2, 8.7, 9.6, 10.7, 11.8, 12.9], \"xaxis\": \"x\", \"y\": [0.0, 0.0, 0.0, 0.0, 148.57241847990133, 175.54030555061044, 0.0, 0.0, 0.0], \"yaxis\": \"y\", \"type\": \"bar\", \"uid\": \"a463689c-cf0e-11e8-9c56-b00594f12df5\", \"name\": \"Denmark\"}, {\"marker\": {\"color\": \"#2CA02C\", \"line\": {\"width\": 1.0}}, \"opacity\": 1, \"orientation\": \"v\", \"x\": [6.1, 7.0, 7.6, 8.2, 8.7, 9.6, 10.7, 11.8, 12.9], \"xaxis\": \"x\", \"y\": [0.0, 242.5148525488719, 190.7132987184146, 668.4905765204946, 173.99549903864298, 31.787314732676556, 0.0, 0.0, 0.0], \"yaxis\": \"y\", \"type\": \"bar\", \"uid\": \"a467fc90-cf0e-11e8-9c6d-b00594f12df5\", \"name\": \"Germany\"}, {\"marker\": {\"color\": \"#D62728\", \"line\": {\"width\": 1.0}}, \"opacity\": 1, \"orientation\": \"v\", \"x\": [6.1, 7.0, 7.6, 8.2, 8.7, 9.6, 10.7, 11.8, 12.9], \"xaxis\": \"x\", \"y\": [610.6897394769475, 384.09973449714715, 196.18989492837275, 104.13294282643898, 26.465781528468735, 2.1349183974621586, 0.9379090840955417, 156.52778467599248, 158.08484974015528], \"yaxis\": \"y\", \"type\": \"bar\", \"uid\": \"a46c1b40-cf0e-11e8-b6e1-b00594f12df5\", \"name\": \"Chile\"}], {\"autosize\": false, \"height\": 432, \"hovermode\": \"x\", \"width\": 648, \"margin\": {\"b\": 54, \"l\": 81, \"pad\": 0, \"r\": 64, \"t\": 51}, \"xaxis\": {\"anchor\": \"y\", \"domain\": [0.0, 1.0], \"mirror\": \"ticks\", \"nticks\": 10, \"range\": [5.319999999999999, 13.680000000000001], \"showgrid\": false, \"showline\": true, \"side\": \"bottom\", \"tickfont\": {\"size\": 10.0}, \"ticks\": \"inside\", \"type\": \"linear\", \"zeroline\": false, \"title\": \"Wind speed (m/s)\", \"titlefont\": {\"color\": \"#000000\", \"size\": 10.0}}, \"yaxis\": {\"anchor\": \"x\", \"domain\": [0.0, 1.0], \"mirror\": \"ticks\", \"nticks\": 6, \"range\": [0.0, 906.0427202712601], \"showgrid\": false, \"showline\": true, \"side\": \"left\", \"tickfont\": {\"size\": 10.0}, \"ticks\": \"inside\", \"type\": \"linear\", \"zeroline\": false, \"title\": \"Available energy (TWh/year)\", \"titlefont\": {\"color\": \"#000000\", \"size\": 10.0}}, \"title\": \"Onshore wind resources\", \"titlefont\": {\"color\": \"#000000\", \"size\": 12.0}, \"showlegend\": true}, {\"showLink\": true, \"linkText\": \"Export to plot.ly\"})});</script>"
      ]
     },
     "metadata": {},
     "output_type": "display_data"
    }
   ],
   "source": [
    "countries=['United Kingdom','Denmark','Germany','Chile']\n",
    "mpl_fig = plt.figure(figsize=(9,6))\n",
    "ax = mpl_fig.add_subplot(111)\n",
    "x=[class2speed[i] for i in wind_res[countries[0]].keys()]\n",
    "    \n",
    "for i,country in enumerate(countries):\n",
    "    y=wind_res[country].values()\n",
    "    ax.bar(x,y,width=0.8)\n",
    "ax.set_ylabel('Available energy (TWh/year)')\n",
    "ax.set_xlabel('Wind speed (m/s)')\n",
    "ax.set_title('Onshore wind resources')\n",
    "plotly_fig = tls.mpl_to_plotly(mpl_fig)\n",
    "for i,e in enumerate(plotly_fig['data']):\n",
    "    e['name']=countries[i]\n",
    "plotly_fig[\"layout\"][\"showlegend\"] = True\n",
    "plotly_fig[\"layout\"]['hovermode']='x'\n",
    "iplot(plotly_fig, filename='ons3')"
   ]
  },
  {
   "cell_type": "code",
   "execution_count": 29,
   "metadata": {},
   "outputs": [
    {
     "data": {
      "application/vnd.plotly.v1+json": {
       "data": [
        {
         "marker": {
          "color": "#1F77B4",
          "line": {
           "width": 1
          }
         },
         "name": "United Kingdom",
         "opacity": 1,
         "orientation": "v",
         "type": "bar",
         "uid": "a646a71c-cf0e-11e8-89ba-b00594f12df5",
         "x": [
          6.1,
          7,
          7.6,
          8.2,
          8.7,
          9.6,
          10.7,
          11.8,
          12.9
         ],
         "xaxis": "x",
         "y": [
          0,
          0,
          0,
          0,
          116.94847569595635,
          1108.4278851044735,
          292.7286431643525,
          6.9409166095039145,
          0
         ],
         "yaxis": "y"
        },
        {
         "marker": {
          "color": "#FF7F0E",
          "line": {
           "width": 1
          }
         },
         "name": "Denmark",
         "opacity": 1,
         "orientation": "v",
         "type": "bar",
         "uid": "a64a2976-cf0e-11e8-b30f-b00594f12df5",
         "x": [
          6.1,
          7,
          7.6,
          8.2,
          8.7,
          9.6,
          10.7,
          11.8,
          12.9
         ],
         "xaxis": "x",
         "y": [
          0,
          0,
          0,
          0.4586406261423828,
          191.6997872121452,
          243.06456317735731,
          250.70056633669006,
          0,
          0
         ],
         "yaxis": "y"
        },
        {
         "marker": {
          "color": "#2CA02C",
          "line": {
           "width": 1
          }
         },
         "name": "Germany",
         "opacity": 1,
         "orientation": "v",
         "type": "bar",
         "uid": "a64d84e8-cf0e-11e8-ba04-b00594f12df5",
         "x": [
          6.1,
          7,
          7.6,
          8.2,
          8.7,
          9.6,
          10.7,
          11.8,
          12.9
         ],
         "xaxis": "x",
         "y": [
          0,
          0,
          0,
          5.0890195522969215,
          74.30827093511061,
          151.88721668743847,
          55.034432604449286,
          0,
          0
         ],
         "yaxis": "y"
        },
        {
         "marker": {
          "color": "#D62728",
          "line": {
           "width": 1
          }
         },
         "name": "Chile",
         "opacity": 1,
         "orientation": "v",
         "type": "bar",
         "uid": "a651a3a6-cf0e-11e8-a6e9-b00594f12df5",
         "x": [
          6.1,
          7,
          7.6,
          8.2,
          8.7,
          9.6,
          10.7,
          11.8,
          12.9
         ],
         "xaxis": "x",
         "y": [
          0.43195775186773655,
          4.766924538915325,
          5.725201250864694,
          3.5583583731613686,
          3.3411058415670536,
          12.717061954597762,
          1.2408593358678646,
          65.10737472521274,
          130.8132729110102
         ],
         "yaxis": "y"
        }
       ],
       "layout": {
        "autosize": false,
        "height": 432,
        "hovermode": "x",
        "margin": {
         "b": 54,
         "l": 81,
         "pad": 0,
         "r": 64,
         "t": 51
        },
        "showlegend": true,
        "title": "Offshore wind resources",
        "titlefont": {
         "color": "#000000",
         "size": 12
        },
        "width": 648,
        "xaxis": {
         "anchor": "y",
         "domain": [
          0,
          1
         ],
         "mirror": "ticks",
         "nticks": 10,
         "range": [
          5.319999999999999,
          13.680000000000001
         ],
         "showgrid": false,
         "showline": true,
         "side": "bottom",
         "tickfont": {
          "size": 10
         },
         "ticks": "inside",
         "title": "Wind speed (m/s)",
         "titlefont": {
          "color": "#000000",
          "size": 10
         },
         "type": "linear",
         "zeroline": false
        },
        "yaxis": {
         "anchor": "x",
         "domain": [
          0,
          1
         ],
         "mirror": "ticks",
         "nticks": 7,
         "range": [
          0,
          1163.8492793596972
         ],
         "showgrid": false,
         "showline": true,
         "side": "left",
         "tickfont": {
          "size": 10
         },
         "ticks": "inside",
         "title": "Available energy (TWh/year)",
         "titlefont": {
          "color": "#000000",
          "size": 10
         },
         "type": "linear",
         "zeroline": false
        }
       }
      },
      "text/html": [
       "<div id=\"d617ca60-0252-48d8-8ead-220e0ed9b7fc\" style=\"height: 432px; width: 648px;\" class=\"plotly-graph-div\"></div><script type=\"text/javascript\">require([\"plotly\"], function(Plotly) { window.PLOTLYENV=window.PLOTLYENV || {};window.PLOTLYENV.BASE_URL=\"https://plot.ly\";Plotly.newPlot(\"d617ca60-0252-48d8-8ead-220e0ed9b7fc\", [{\"marker\": {\"color\": \"#1F77B4\", \"line\": {\"width\": 1.0}}, \"opacity\": 1, \"orientation\": \"v\", \"x\": [6.1, 7.0, 7.6, 8.2, 8.7, 9.6, 10.7, 11.8, 12.9], \"xaxis\": \"x\", \"y\": [0.0, 0.0, 0.0, 0.0, 116.94847569595635, 1108.4278851044735, 292.7286431643525, 6.9409166095039145, 0.0], \"yaxis\": \"y\", \"type\": \"bar\", \"uid\": \"a646a71c-cf0e-11e8-89ba-b00594f12df5\", \"name\": \"United Kingdom\"}, {\"marker\": {\"color\": \"#FF7F0E\", \"line\": {\"width\": 1.0}}, \"opacity\": 1, \"orientation\": \"v\", \"x\": [6.1, 7.0, 7.6, 8.2, 8.7, 9.6, 10.7, 11.8, 12.9], \"xaxis\": \"x\", \"y\": [0.0, 0.0, 0.0, 0.4586406261423828, 191.6997872121452, 243.06456317735731, 250.70056633669006, 0.0, 0.0], \"yaxis\": \"y\", \"type\": \"bar\", \"uid\": \"a64a2976-cf0e-11e8-b30f-b00594f12df5\", \"name\": \"Denmark\"}, {\"marker\": {\"color\": \"#2CA02C\", \"line\": {\"width\": 1.0}}, \"opacity\": 1, \"orientation\": \"v\", \"x\": [6.1, 7.0, 7.6, 8.2, 8.7, 9.6, 10.7, 11.8, 12.9], \"xaxis\": \"x\", \"y\": [0.0, 0.0, 0.0, 5.0890195522969215, 74.30827093511061, 151.88721668743847, 55.034432604449286, 0.0, 0.0], \"yaxis\": \"y\", \"type\": \"bar\", \"uid\": \"a64d84e8-cf0e-11e8-ba04-b00594f12df5\", \"name\": \"Germany\"}, {\"marker\": {\"color\": \"#D62728\", \"line\": {\"width\": 1.0}}, \"opacity\": 1, \"orientation\": \"v\", \"x\": [6.1, 7.0, 7.6, 8.2, 8.7, 9.6, 10.7, 11.8, 12.9], \"xaxis\": \"x\", \"y\": [0.43195775186773655, 4.766924538915325, 5.725201250864694, 3.5583583731613686, 3.3411058415670536, 12.717061954597762, 1.2408593358678646, 65.10737472521274, 130.8132729110102], \"yaxis\": \"y\", \"type\": \"bar\", \"uid\": \"a651a3a6-cf0e-11e8-a6e9-b00594f12df5\", \"name\": \"Chile\"}], {\"autosize\": false, \"height\": 432, \"hovermode\": \"x\", \"width\": 648, \"margin\": {\"b\": 54, \"l\": 81, \"pad\": 0, \"r\": 64, \"t\": 51}, \"xaxis\": {\"anchor\": \"y\", \"domain\": [0.0, 1.0], \"mirror\": \"ticks\", \"nticks\": 10, \"range\": [5.319999999999999, 13.680000000000001], \"showgrid\": false, \"showline\": true, \"side\": \"bottom\", \"tickfont\": {\"size\": 10.0}, \"ticks\": \"inside\", \"type\": \"linear\", \"zeroline\": false, \"title\": \"Wind speed (m/s)\", \"titlefont\": {\"color\": \"#000000\", \"size\": 10.0}}, \"yaxis\": {\"anchor\": \"x\", \"domain\": [0.0, 1.0], \"mirror\": \"ticks\", \"nticks\": 7, \"range\": [0.0, 1163.8492793596972], \"showgrid\": false, \"showline\": true, \"side\": \"left\", \"tickfont\": {\"size\": 10.0}, \"ticks\": \"inside\", \"type\": \"linear\", \"zeroline\": false, \"title\": \"Available energy (TWh/year)\", \"titlefont\": {\"color\": \"#000000\", \"size\": 10.0}}, \"title\": \"Offshore wind resources\", \"titlefont\": {\"color\": \"#000000\", \"size\": 12.0}, \"showlegend\": true}, {\"showLink\": true, \"linkText\": \"Export to plot.ly\"})});</script>"
      ],
      "text/vnd.plotly.v1+html": [
       "<div id=\"d617ca60-0252-48d8-8ead-220e0ed9b7fc\" style=\"height: 432px; width: 648px;\" class=\"plotly-graph-div\"></div><script type=\"text/javascript\">require([\"plotly\"], function(Plotly) { window.PLOTLYENV=window.PLOTLYENV || {};window.PLOTLYENV.BASE_URL=\"https://plot.ly\";Plotly.newPlot(\"d617ca60-0252-48d8-8ead-220e0ed9b7fc\", [{\"marker\": {\"color\": \"#1F77B4\", \"line\": {\"width\": 1.0}}, \"opacity\": 1, \"orientation\": \"v\", \"x\": [6.1, 7.0, 7.6, 8.2, 8.7, 9.6, 10.7, 11.8, 12.9], \"xaxis\": \"x\", \"y\": [0.0, 0.0, 0.0, 0.0, 116.94847569595635, 1108.4278851044735, 292.7286431643525, 6.9409166095039145, 0.0], \"yaxis\": \"y\", \"type\": \"bar\", \"uid\": \"a646a71c-cf0e-11e8-89ba-b00594f12df5\", \"name\": \"United Kingdom\"}, {\"marker\": {\"color\": \"#FF7F0E\", \"line\": {\"width\": 1.0}}, \"opacity\": 1, \"orientation\": \"v\", \"x\": [6.1, 7.0, 7.6, 8.2, 8.7, 9.6, 10.7, 11.8, 12.9], \"xaxis\": \"x\", \"y\": [0.0, 0.0, 0.0, 0.4586406261423828, 191.6997872121452, 243.06456317735731, 250.70056633669006, 0.0, 0.0], \"yaxis\": \"y\", \"type\": \"bar\", \"uid\": \"a64a2976-cf0e-11e8-b30f-b00594f12df5\", \"name\": \"Denmark\"}, {\"marker\": {\"color\": \"#2CA02C\", \"line\": {\"width\": 1.0}}, \"opacity\": 1, \"orientation\": \"v\", \"x\": [6.1, 7.0, 7.6, 8.2, 8.7, 9.6, 10.7, 11.8, 12.9], \"xaxis\": \"x\", \"y\": [0.0, 0.0, 0.0, 5.0890195522969215, 74.30827093511061, 151.88721668743847, 55.034432604449286, 0.0, 0.0], \"yaxis\": \"y\", \"type\": \"bar\", \"uid\": \"a64d84e8-cf0e-11e8-ba04-b00594f12df5\", \"name\": \"Germany\"}, {\"marker\": {\"color\": \"#D62728\", \"line\": {\"width\": 1.0}}, \"opacity\": 1, \"orientation\": \"v\", \"x\": [6.1, 7.0, 7.6, 8.2, 8.7, 9.6, 10.7, 11.8, 12.9], \"xaxis\": \"x\", \"y\": [0.43195775186773655, 4.766924538915325, 5.725201250864694, 3.5583583731613686, 3.3411058415670536, 12.717061954597762, 1.2408593358678646, 65.10737472521274, 130.8132729110102], \"yaxis\": \"y\", \"type\": \"bar\", \"uid\": \"a651a3a6-cf0e-11e8-a6e9-b00594f12df5\", \"name\": \"Chile\"}], {\"autosize\": false, \"height\": 432, \"hovermode\": \"x\", \"width\": 648, \"margin\": {\"b\": 54, \"l\": 81, \"pad\": 0, \"r\": 64, \"t\": 51}, \"xaxis\": {\"anchor\": \"y\", \"domain\": [0.0, 1.0], \"mirror\": \"ticks\", \"nticks\": 10, \"range\": [5.319999999999999, 13.680000000000001], \"showgrid\": false, \"showline\": true, \"side\": \"bottom\", \"tickfont\": {\"size\": 10.0}, \"ticks\": \"inside\", \"type\": \"linear\", \"zeroline\": false, \"title\": \"Wind speed (m/s)\", \"titlefont\": {\"color\": \"#000000\", \"size\": 10.0}}, \"yaxis\": {\"anchor\": \"x\", \"domain\": [0.0, 1.0], \"mirror\": \"ticks\", \"nticks\": 7, \"range\": [0.0, 1163.8492793596972], \"showgrid\": false, \"showline\": true, \"side\": \"left\", \"tickfont\": {\"size\": 10.0}, \"ticks\": \"inside\", \"type\": \"linear\", \"zeroline\": false, \"title\": \"Available energy (TWh/year)\", \"titlefont\": {\"color\": \"#000000\", \"size\": 10.0}}, \"title\": \"Offshore wind resources\", \"titlefont\": {\"color\": \"#000000\", \"size\": 12.0}, \"showlegend\": true}, {\"showLink\": true, \"linkText\": \"Export to plot.ly\"})});</script>"
      ]
     },
     "metadata": {},
     "output_type": "display_data"
    }
   ],
   "source": [
    "mpl_fig = plt.figure(figsize=(9,6))\n",
    "ax = mpl_fig.add_subplot(111)\n",
    "x=[class2speed[i] for i in wind_res2[countries[0]].keys()]\n",
    "    \n",
    "for i,country in enumerate(countries):\n",
    "    y=wind_res2[country].values()\n",
    "    ax.bar(x,y,width=0.8)\n",
    "ax.set_ylabel('Available energy (TWh/year)')\n",
    "ax.set_xlabel('Wind speed (m/s)')\n",
    "ax.set_title('Offshore wind resources')\n",
    "plotly_fig = tls.mpl_to_plotly(mpl_fig)\n",
    "for i,e in enumerate(plotly_fig['data']):\n",
    "    e['name']=countries[i]\n",
    "plotly_fig[\"layout\"][\"showlegend\"] = True\n",
    "plotly_fig[\"layout\"]['hovermode']='x'\n",
    "iplot(plotly_fig, filename='ofs3')"
   ]
  },
  {
   "cell_type": "markdown",
   "metadata": {},
   "source": [
    "## Turbines"
   ]
  },
  {
   "cell_type": "code",
   "execution_count": 30,
   "metadata": {},
   "outputs": [],
   "source": [
    "df=pd.read_excel('data/wind_farms_with_ws_2k_5k_sgouris edited.xlsx',sheet_name='BASE')\n",
    "df=df.dropna()\n",
    "turbines=df.set_index(['ISO_CODE','Year'])"
   ]
  },
  {
   "cell_type": "code",
   "execution_count": 31,
   "metadata": {},
   "outputs": [
    {
     "data": {
      "text/html": [
       "<div>\n",
       "<style scoped>\n",
       "    .dataframe tbody tr th:only-of-type {\n",
       "        vertical-align: middle;\n",
       "    }\n",
       "\n",
       "    .dataframe tbody tr th {\n",
       "        vertical-align: top;\n",
       "    }\n",
       "\n",
       "    .dataframe thead th {\n",
       "        text-align: right;\n",
       "    }\n",
       "</style>\n",
       "<table border=\"1\" class=\"dataframe\">\n",
       "  <thead>\n",
       "    <tr style=\"text-align: right;\">\n",
       "      <th></th>\n",
       "      <th></th>\n",
       "      <th>ID</th>\n",
       "      <th>OFFSHORE</th>\n",
       "      <th>POWER_KW</th>\n",
       "      <th>WS_est</th>\n",
       "    </tr>\n",
       "    <tr>\n",
       "      <th>ISO_CODE</th>\n",
       "      <th>Year</th>\n",
       "      <th></th>\n",
       "      <th></th>\n",
       "      <th></th>\n",
       "      <th></th>\n",
       "    </tr>\n",
       "  </thead>\n",
       "  <tbody>\n",
       "    <tr>\n",
       "      <th rowspan=\"5\" valign=\"top\">FR</th>\n",
       "      <th>2003.0</th>\n",
       "      <td>1</td>\n",
       "      <td>no</td>\n",
       "      <td>12000</td>\n",
       "      <td>8.55312</td>\n",
       "    </tr>\n",
       "    <tr>\n",
       "      <th>2003.0</th>\n",
       "      <td>2</td>\n",
       "      <td>no</td>\n",
       "      <td>7500</td>\n",
       "      <td>8.58871</td>\n",
       "    </tr>\n",
       "    <tr>\n",
       "      <th>2005.0</th>\n",
       "      <td>5</td>\n",
       "      <td>no</td>\n",
       "      <td>11900</td>\n",
       "      <td>8.30861</td>\n",
       "    </tr>\n",
       "    <tr>\n",
       "      <th>2002.0</th>\n",
       "      <td>6</td>\n",
       "      <td>no</td>\n",
       "      <td>8000</td>\n",
       "      <td>6.72163</td>\n",
       "    </tr>\n",
       "    <tr>\n",
       "      <th>2002.0</th>\n",
       "      <td>7</td>\n",
       "      <td>no</td>\n",
       "      <td>1500</td>\n",
       "      <td>6.72163</td>\n",
       "    </tr>\n",
       "  </tbody>\n",
       "</table>\n",
       "</div>"
      ],
      "text/plain": [
       "                 ID OFFSHORE POWER_KW   WS_est\n",
       "ISO_CODE Year                                 \n",
       "FR       2003.0   1       no    12000  8.55312\n",
       "         2003.0   2       no     7500  8.58871\n",
       "         2005.0   5       no    11900  8.30861\n",
       "         2002.0   6       no     8000  6.72163\n",
       "         2002.0   7       no     1500  6.72163"
      ]
     },
     "execution_count": 31,
     "metadata": {},
     "output_type": "execute_result"
    }
   ],
   "source": [
    "turbines.head()"
   ]
  },
  {
   "cell_type": "markdown",
   "metadata": {},
   "source": [
    "### Onshore"
   ]
  },
  {
   "cell_type": "code",
   "execution_count": 230,
   "metadata": {},
   "outputs": [],
   "source": [
    "def projects(df,c,cumulative=True):\n",
    "    x=[]\n",
    "    y=[]\n",
    "    z=[]\n",
    "    w=[]\n",
    "    for i in df.loc[c].sort_index().index.unique():\n",
    "        x.append(i)\n",
    "        if cumulative:\n",
    "            dz=df.loc[c].loc[[k for k in df.loc[c].index.unique() if k<=i]]\n",
    "        else:\n",
    "            dz=df.loc[c].loc[[k for k in df.loc[c].index.unique() if k==i]]\n",
    "        y.append(np.average(dz['WS_est'].astype(float).values))\n",
    "        try:\n",
    "            z.append(np.average(dz['WS_est'],weights=dz['POWER_KW'].astype(float).values))\n",
    "        except:\n",
    "            z.append(np.average(dz['WS_est']))\n",
    "        w.append(np.sum(dz['POWER_KW']))\n",
    "    return x,y,z,w"
   ]
  },
  {
   "cell_type": "code",
   "execution_count": 354,
   "metadata": {},
   "outputs": [],
   "source": [
    "ons=turbines[((turbines['POWER_KW'].replace('#ND',0).astype(int)>0)&\\\n",
    "       (turbines['POWER_KW'].replace('#ND',0).astype(int)<1000000)&(turbines['OFFSHORE']=='no'))]\n",
    "ofs=turbines[((turbines['POWER_KW'].replace('#ND',0).astype(int)>0)&\\\n",
    "       (turbines['POWER_KW'].replace('#ND',0).astype(int)<1000000)&(turbines['OFFSHORE']=='yes'))]"
   ]
  },
  {
   "cell_type": "code",
   "execution_count": 355,
   "metadata": {},
   "outputs": [
    {
     "data": {
      "application/vnd.plotly.v1+json": {
       "data": [
        {
         "line": {
          "color": "rgba (31, 119, 180, 1)",
          "dash": "solid",
          "width": 1.5
         },
         "mode": "lines",
         "name": "US",
         "type": "scatter",
         "uid": "f2f5c52c-cf2d-11e8-8fac-b00594f12df5",
         "x": [
          1983,
          1984,
          1985,
          1986,
          1987,
          1989,
          1990,
          1992,
          1993,
          1994,
          1995,
          1996,
          1997,
          1998,
          1999,
          2000,
          2001,
          2002,
          2003,
          2004,
          2005,
          2006,
          2007,
          2008,
          2009,
          2010,
          2011,
          2012,
          2013,
          2014,
          2015,
          2016,
          2018
         ],
         "xaxis": "x",
         "y": [
          6.06786,
          5.471171409395973,
          5.626705360284708,
          5.653235515244111,
          5.670991561060788,
          5.710550541628247,
          5.724098120833422,
          5.726066299503046,
          5.771670081411837,
          6.008711976852698,
          6.008992736121769,
          6.011431998798827,
          6.037845538512852,
          6.3487590796141875,
          6.911496812807794,
          6.9437795342223465,
          7.25242030842483,
          7.239300111557071,
          7.382119592389899,
          7.393028088813574,
          7.481987616437015,
          7.483351468164566,
          7.519008222062335,
          7.620439498646545,
          7.604480579281491,
          7.575661131191355,
          7.5463906798322675,
          7.5521273879235915,
          7.5591960953628945,
          7.573887841376304,
          7.596657600478103,
          7.621200642328282,
          7.625733688422616
         ],
         "yaxis": "y"
        },
        {
         "line": {
          "color": "rgba (255, 127, 14, 1)",
          "dash": "solid",
          "width": 1.5
         },
         "mode": "lines",
         "name": "CA",
         "type": "scatter",
         "uid": "f2f8f976-cf2d-11e8-9482-b00594f12df5",
         "x": [
          1993,
          1995,
          1997,
          1998,
          1999,
          2000,
          2001,
          2002,
          2003,
          2004,
          2005,
          2006,
          2007,
          2008,
          2009,
          2010,
          2011,
          2012,
          2013,
          2014,
          2015,
          2016,
          2018
         ],
         "xaxis": "x",
         "y": [
          7.8954200000000005,
          7.547813333333334,
          7.775387999999999,
          8.10222181818182,
          8.833962067448681,
          8.916623200317124,
          8.623421720501323,
          8.580004881878558,
          8.511146616451049,
          8.47472321977515,
          8.35894804118,
          8.270548064787459,
          8.395678426639645,
          8.398202031702203,
          8.403558748363412,
          8.34085988179569,
          8.286173795657684,
          8.239378426770227,
          8.090346066970659,
          8.14635123554901,
          8.084182788097815,
          8.067970845220213,
          8.057556646403738
         ],
         "yaxis": "y"
        },
        {
         "line": {
          "color": "rgba (44, 160, 44, 1)",
          "dash": "solid",
          "width": 1.5
         },
         "mode": "lines",
         "name": "AR",
         "type": "scatter",
         "uid": "f2fc06ae-cf2d-11e8-8fce-b00594f12df5",
         "x": [
          1994,
          1995,
          1996,
          1997,
          1998,
          1999,
          2001,
          2002,
          2007,
          2010,
          2011,
          2014,
          2015,
          2018
         ],
         "xaxis": "x",
         "y": [
          9.271061111111111,
          9.30484,
          9.216300967741935,
          9.346167556561086,
          9.365463618677044,
          9.365146323529412,
          9.456072066246058,
          9.43355931454684,
          9.433289016277424,
          9.36102148726852,
          7.974949173360106,
          7.411123147363465,
          7.4070540296901894,
          8.163058197765228
         ],
         "yaxis": "y"
        },
        {
         "line": {
          "color": "rgba (214, 39, 40, 1)",
          "dash": "solid",
          "width": 1.5
         },
         "mode": "lines",
         "name": "BR",
         "type": "scatter",
         "uid": "f2fe9eba-cf2d-11e8-baf4-b00594f12df5",
         "x": [
          1994,
          1998,
          1999,
          2002,
          2003,
          2004,
          2006,
          2007,
          2008,
          2009,
          2010,
          2011,
          2012,
          2013,
          2014,
          2015,
          2016,
          2017,
          2018
         ],
         "xaxis": "x",
         "y": [
          5.84896,
          8.516801666666666,
          9.27283572763685,
          9.26623258918297,
          9.299932369819341,
          9.257641129744044,
          8.067848126253844,
          8.19701672854641,
          8.410566935190314,
          8.380277949864556,
          8.477368859525972,
          8.251770018366233,
          8.19925014089389,
          8.14700582540756,
          7.934199086686084,
          7.846243087559005,
          7.806982440163636,
          7.803916814593175,
          7.806425714686347
         ],
         "yaxis": "y"
        },
        {
         "line": {
          "color": "rgba (148, 103, 189, 1)",
          "dash": "solid",
          "width": 1.5
         },
         "mode": "lines",
         "name": "GB",
         "type": "scatter",
         "uid": "f3026f48-cf2d-11e8-b17d-b00594f12df5",
         "x": [
          1992,
          1993,
          1994,
          1995,
          1996,
          1997,
          1998,
          1999,
          2000,
          2001,
          2002,
          2003,
          2004,
          2005,
          2006,
          2007,
          2008,
          2009,
          2010,
          2011,
          2012,
          2013,
          2014,
          2015,
          2016,
          2017,
          2018
         ],
         "xaxis": "x",
         "y": [
          9.052826196279666,
          8.97770125041792,
          9.0069373154715,
          8.90205133770622,
          8.819440759022696,
          8.811251064434297,
          8.833980300709218,
          8.808248375631871,
          8.825377634788145,
          8.818932683050908,
          8.866841465667742,
          8.855797749597716,
          8.755327330874321,
          8.680626783913933,
          8.66047478617187,
          8.65454770171637,
          8.563881533535167,
          8.54312825244643,
          8.53833322535382,
          8.570713073511815,
          8.530615173384525,
          8.542275468017527,
          8.544388541010354,
          8.540381140323,
          8.528885496264223,
          8.528872745626595,
          8.507290179853987
         ],
         "yaxis": "y"
        },
        {
         "line": {
          "color": "rgba (140, 86, 75, 1)",
          "dash": "solid",
          "width": 1.5
         },
         "mode": "lines",
         "name": "IN",
         "type": "scatter",
         "uid": "f3050776-cf2d-11e8-90aa-b00594f12df5",
         "x": [
          1995,
          1996,
          1997,
          2000,
          2001,
          2002,
          2003,
          2004,
          2005,
          2006,
          2007,
          2008,
          2009,
          2010,
          2011,
          2012,
          2013,
          2014,
          2015,
          2016,
          2017,
          2018
         ],
         "xaxis": "x",
         "y": [
          8.02541,
          6.694095903111296,
          6.690750047727744,
          6.5912010233639915,
          6.558788386501179,
          6.446585975877522,
          6.312601278343662,
          6.2707925592143265,
          6.2551433903258244,
          6.096862381977595,
          6.204129645938614,
          6.407789926709749,
          6.465120064665506,
          6.432535591955334,
          6.455344639281603,
          6.4224130179875045,
          6.384560196133947,
          6.37733735147736,
          6.469106487249476,
          6.460554795856906,
          6.510216945072598,
          6.538129955525235
         ],
         "yaxis": "y"
        },
        {
         "line": {
          "color": "rgba (31, 119, 180, 1)",
          "dash": "solid",
          "width": 1.5
         },
         "mode": "lines",
         "name": "FR",
         "type": "scatter",
         "uid": "f30cab52-cf2d-11e8-bb1d-b00594f12df5",
         "x": [
          1991,
          1993,
          1996,
          1997,
          1998,
          1999,
          2000,
          2001,
          2002,
          2003,
          2004,
          2005,
          2006,
          2007,
          2008,
          2009,
          2010,
          2011,
          2012,
          2013,
          2014,
          2015,
          2016,
          2017,
          2018
         ],
         "xaxis": "x2",
         "y": [
          8.7361,
          8.7361,
          7.969746326530612,
          7.9440137735849055,
          7.938146036036036,
          8.0113136162653,
          8.02078965070319,
          8.080178414891884,
          8.20524875786874,
          8.231236166575156,
          8.09342348993203,
          7.717175316624374,
          7.589645421553206,
          7.47241775695195,
          7.431261433791472,
          7.3964038946452755,
          7.336683542744167,
          7.346605033508236,
          7.34765429727374,
          7.3431476074620265,
          7.330832850449616,
          7.307462063774282,
          7.302649338768402,
          7.300275714986752,
          7.289803736025247
         ],
         "yaxis": "y2"
        },
        {
         "line": {
          "color": "rgba (255, 127, 14, 1)",
          "dash": "solid",
          "width": 1.5
         },
         "mode": "lines",
         "name": "ES",
         "type": "scatter",
         "uid": "f30e4866-cf2d-11e8-ad82-b00594f12df5",
         "x": [
          1995,
          1996,
          1997,
          1998,
          1999,
          2000,
          2001,
          2002,
          2003,
          2004,
          2005,
          2006,
          2007,
          2008,
          2009,
          2010,
          2011,
          2012,
          2014,
          2015,
          2016,
          2018
         ],
         "xaxis": "x2",
         "y": [
          6.6514,
          6.891705806451612,
          8.523910599051007,
          8.195605616438355,
          7.866949090410959,
          7.526598939371675,
          7.481695192674805,
          7.279724586591787,
          7.242392976162745,
          7.210181079454283,
          7.223225272734075,
          7.217021508101798,
          7.168373616300772,
          7.149980470822658,
          7.074909255999261,
          7.101262862333692,
          7.112675116544681,
          7.101541532139403,
          7.103504389046913,
          7.108938231322068,
          7.123368382373445,
          7.126615821284368
         ],
         "yaxis": "y2"
        },
        {
         "line": {
          "color": "rgba (44, 160, 44, 1)",
          "dash": "solid",
          "width": 1.5
         },
         "mode": "lines",
         "name": "IT",
         "type": "scatter",
         "uid": "f30fe66c-cf2d-11e8-93f8-b00594f12df5",
         "x": [
          1992,
          1994,
          1995,
          1996,
          1997,
          1998,
          1999,
          2000,
          2001,
          2002,
          2003,
          2004,
          2005,
          2006,
          2007,
          2008,
          2009,
          2010,
          2011,
          2012,
          2013,
          2014,
          2015,
          2016,
          2018
         ],
         "xaxis": "x2",
         "y": [
          7.86807,
          7.6429599999999995,
          7.445045,
          6.743190268817204,
          6.856091324324324,
          6.748706209876544,
          6.707637287649818,
          6.673119697171512,
          6.761892032588768,
          6.765632384890514,
          6.74317000247151,
          6.738836648850017,
          6.706466394798515,
          6.817826902311786,
          6.830574716550736,
          6.827330491886858,
          6.868050785461057,
          6.861312786217427,
          6.853788009976552,
          6.845774643457262,
          6.843215576936263,
          6.839651874115963,
          6.846278261753347,
          6.845989934842574,
          6.8535720484931995
         ],
         "yaxis": "y2"
        },
        {
         "line": {
          "color": "rgba (214, 39, 40, 1)",
          "dash": "solid",
          "width": 1.5
         },
         "mode": "lines",
         "name": "CN",
         "type": "scatter",
         "uid": "f3124a74-cf2d-11e8-8384-b00594f12df5",
         "x": [
          1989,
          1991,
          1992,
          1993,
          1994,
          1995,
          1996,
          1997,
          1998,
          1999,
          2000,
          2001,
          2002,
          2003,
          2004,
          2005,
          2006,
          2007,
          2008,
          2009,
          2010,
          2011,
          2012,
          2013,
          2014,
          2015,
          2016,
          2018
         ],
         "xaxis": "x2",
         "y": [
          8.350138636363637,
          8.348459060542798,
          8.453354499381954,
          8.549965086848635,
          8.576358139255703,
          8.507771896501879,
          8.356544348546192,
          8.35517346839669,
          8.193899817264965,
          8.128992993751027,
          8.131136918002506,
          8.211824024537465,
          8.15832902026367,
          8.032179066460268,
          7.896704990623791,
          7.863261775308353,
          7.8750786136056705,
          7.689887643596605,
          7.643351575325961,
          7.552851239940726,
          7.556952036268272,
          7.505455370905942,
          7.484778256817341,
          7.454248059947388,
          7.337134695427023,
          7.327254852497993,
          7.318904755443887,
          7.224430521928937
         ],
         "yaxis": "y2"
        },
        {
         "line": {
          "color": "rgba (148, 103, 189, 1)",
          "dash": "solid",
          "width": 1.5
         },
         "mode": "lines",
         "name": "GB",
         "type": "scatter",
         "uid": "f31470d0-cf2d-11e8-885f-b00594f12df5",
         "x": [
          1992,
          1993,
          1994,
          1995,
          1996,
          1997,
          1998,
          1999,
          2000,
          2001,
          2002,
          2003,
          2004,
          2005,
          2006,
          2007,
          2008,
          2009,
          2010,
          2011,
          2012,
          2013,
          2014,
          2015,
          2016,
          2017,
          2018
         ],
         "xaxis": "x2",
         "y": [
          9.052826196279666,
          8.97770125041792,
          9.0069373154715,
          8.90205133770622,
          8.819440759022696,
          8.811251064434297,
          8.833980300709218,
          8.808248375631871,
          8.825377634788145,
          8.818932683050908,
          8.866841465667742,
          8.855797749597716,
          8.755327330874321,
          8.680626783913933,
          8.66047478617187,
          8.65454770171637,
          8.563881533535167,
          8.54312825244643,
          8.53833322535382,
          8.570713073511815,
          8.530615173384525,
          8.542275468017527,
          8.544388541010354,
          8.540381140323,
          8.528885496264223,
          8.528872745626595,
          8.507290179853987
         ],
         "yaxis": "y2"
        },
        {
         "line": {
          "color": "rgba (140, 86, 75, 1)",
          "dash": "solid",
          "width": 1.5
         },
         "mode": "lines",
         "name": "DE",
         "type": "scatter",
         "uid": "f31799de-cf2d-11e8-ac94-b00594f12df5",
         "x": [
          1983,
          1990,
          1991,
          1992,
          1993,
          1994,
          1995,
          1996,
          1997,
          1998,
          1999,
          2000,
          2001,
          2002,
          2003,
          2004,
          2005,
          2006,
          2007,
          2008,
          2009,
          2010,
          2011,
          2012,
          2013,
          2014,
          2015,
          2016,
          2017,
          2018
         ],
         "xaxis": "x2",
         "y": [
          9.48143,
          8.353140700549451,
          7.992785361328126,
          7.775758683341798,
          8.006475163425733,
          7.632702140854399,
          7.319423983832645,
          7.2376122765108635,
          7.094800448846894,
          7.031499690788499,
          6.9038595603371515,
          6.819535409985023,
          6.777125695152,
          6.696810953611478,
          6.686244621734933,
          6.670227842521389,
          6.643205767820324,
          6.628754504357796,
          6.620756158282636,
          6.6182469029824516,
          6.615801969036588,
          6.625464690460019,
          6.630435350433767,
          6.631403435749736,
          6.639190567552989,
          6.647288550107171,
          6.654560811691851,
          6.658163889039707,
          6.657664300626021,
          6.6646041164980385
         ],
         "yaxis": "y2"
        }
       ],
       "layout": {
        "annotations": [
         {
          "font": {
           "color": "#000000",
           "size": 12
          },
          "showarrow": false,
          "text": "Onshore turbines | Cumulative",
          "x": 0.22691125971444062,
          "xanchor": "center",
          "xref": "paper",
          "y": 1.0433823529411768,
          "yanchor": "bottom",
          "yref": "paper"
         },
         {
          "font": {
           "color": "#000000",
           "size": 12
          },
          "showarrow": false,
          "text": "Onshore turbines | Cumulative",
          "x": 0.7714982830290981,
          "xanchor": "center",
          "xref": "paper",
          "y": 1.0433823529411768,
          "yanchor": "bottom",
          "yref": "paper"
         }
        ],
        "autosize": false,
        "height": 360,
        "hovermode": "x",
        "margin": {
         "b": 45,
         "l": 81,
         "pad": 0,
         "r": 64,
         "t": 43
        },
        "showlegend": true,
        "width": 648,
        "xaxis": {
         "anchor": "y",
         "domain": [
          0,
          0.45454545454545453
         ],
         "mirror": "ticks",
         "nticks": 5,
         "range": [
          1981.25,
          2019.75
         ],
         "showgrid": false,
         "showline": true,
         "side": "bottom",
         "tickfont": {
          "size": 10
         },
         "ticks": "inside",
         "type": "linear",
         "zeroline": false
        },
        "xaxis2": {
         "anchor": "y2",
         "domain": [
          0.5454545454545454,
          1
         ],
         "mirror": "ticks",
         "nticks": 5,
         "range": [
          1981.25,
          2019.75
         ],
         "showgrid": false,
         "showline": true,
         "side": "bottom",
         "tickfont": {
          "size": 10
         },
         "ticks": "inside",
         "type": "linear",
         "zeroline": false
        },
        "yaxis": {
         "anchor": "x",
         "domain": [
          0,
          1
         ],
         "mirror": "ticks",
         "nticks": 11,
         "range": [
          5.271926376553469,
          9.655317099088563
         ],
         "showgrid": false,
         "showline": true,
         "side": "left",
         "tickfont": {
          "size": 10
         },
         "ticks": "inside",
         "title": "Capacity weighted mean windspeed [m/s]",
         "titlefont": {
          "color": "#000000",
          "size": 10
         },
         "type": "linear",
         "zeroline": false
        },
        "yaxis2": {
         "anchor": "x2",
         "domain": [
          0,
          1
         ],
         "mirror": "ticks",
         "nticks": 9,
         "range": [
          6.472520567488417,
          9.62471140154817
         ],
         "showgrid": false,
         "showline": true,
         "side": "left",
         "tickfont": {
          "size": 10
         },
         "ticks": "inside",
         "title": "Capacity weighted mean windspeed [m/s]",
         "titlefont": {
          "color": "#000000",
          "size": 10
         },
         "type": "linear",
         "zeroline": false
        }
       }
      },
      "text/html": [
       "<div id=\"aaf1fc28-5c1b-47d1-9cd2-55f5611eb684\" style=\"height: 360px; width: 648px;\" class=\"plotly-graph-div\"></div><script type=\"text/javascript\">require([\"plotly\"], function(Plotly) { window.PLOTLYENV=window.PLOTLYENV || {};window.PLOTLYENV.BASE_URL=\"https://plot.ly\";Plotly.newPlot(\"aaf1fc28-5c1b-47d1-9cd2-55f5611eb684\", [{\"line\": {\"color\": \"rgba (31, 119, 180, 1)\", \"dash\": \"solid\", \"width\": 1.5}, \"mode\": \"lines\", \"name\": \"US\", \"x\": [1983.0, 1984.0, 1985.0, 1986.0, 1987.0, 1989.0, 1990.0, 1992.0, 1993.0, 1994.0, 1995.0, 1996.0, 1997.0, 1998.0, 1999.0, 2000.0, 2001.0, 2002.0, 2003.0, 2004.0, 2005.0, 2006.0, 2007.0, 2008.0, 2009.0, 2010.0, 2011.0, 2012.0, 2013.0, 2014.0, 2015.0, 2016.0, 2018.0], \"xaxis\": \"x\", \"y\": [6.06786, 5.471171409395973, 5.626705360284708, 5.653235515244111, 5.670991561060788, 5.710550541628247, 5.724098120833422, 5.726066299503046, 5.771670081411837, 6.008711976852698, 6.008992736121769, 6.011431998798827, 6.037845538512852, 6.3487590796141875, 6.911496812807794, 6.9437795342223465, 7.25242030842483, 7.239300111557071, 7.382119592389899, 7.393028088813574, 7.481987616437015, 7.483351468164566, 7.519008222062335, 7.620439498646545, 7.604480579281491, 7.575661131191355, 7.5463906798322675, 7.5521273879235915, 7.5591960953628945, 7.573887841376304, 7.596657600478103, 7.621200642328282, 7.625733688422616], \"yaxis\": \"y\", \"type\": \"scatter\", \"uid\": \"f2f5c52c-cf2d-11e8-8fac-b00594f12df5\"}, {\"line\": {\"color\": \"rgba (255, 127, 14, 1)\", \"dash\": \"solid\", \"width\": 1.5}, \"mode\": \"lines\", \"name\": \"CA\", \"x\": [1993.0, 1995.0, 1997.0, 1998.0, 1999.0, 2000.0, 2001.0, 2002.0, 2003.0, 2004.0, 2005.0, 2006.0, 2007.0, 2008.0, 2009.0, 2010.0, 2011.0, 2012.0, 2013.0, 2014.0, 2015.0, 2016.0, 2018.0], \"xaxis\": \"x\", \"y\": [7.8954200000000005, 7.547813333333334, 7.775387999999999, 8.10222181818182, 8.833962067448681, 8.916623200317124, 8.623421720501323, 8.580004881878558, 8.511146616451049, 8.47472321977515, 8.35894804118, 8.270548064787459, 8.395678426639645, 8.398202031702203, 8.403558748363412, 8.34085988179569, 8.286173795657684, 8.239378426770227, 8.090346066970659, 8.14635123554901, 8.084182788097815, 8.067970845220213, 8.057556646403738], \"yaxis\": \"y\", \"type\": \"scatter\", \"uid\": \"f2f8f976-cf2d-11e8-9482-b00594f12df5\"}, {\"line\": {\"color\": \"rgba (44, 160, 44, 1)\", \"dash\": \"solid\", \"width\": 1.5}, \"mode\": \"lines\", \"name\": \"AR\", \"x\": [1994.0, 1995.0, 1996.0, 1997.0, 1998.0, 1999.0, 2001.0, 2002.0, 2007.0, 2010.0, 2011.0, 2014.0, 2015.0, 2018.0], \"xaxis\": \"x\", \"y\": [9.271061111111111, 9.30484, 9.216300967741935, 9.346167556561086, 9.365463618677044, 9.365146323529412, 9.456072066246058, 9.43355931454684, 9.433289016277424, 9.36102148726852, 7.974949173360106, 7.411123147363465, 7.4070540296901894, 8.163058197765228], \"yaxis\": \"y\", \"type\": \"scatter\", \"uid\": \"f2fc06ae-cf2d-11e8-8fce-b00594f12df5\"}, {\"line\": {\"color\": \"rgba (214, 39, 40, 1)\", \"dash\": \"solid\", \"width\": 1.5}, \"mode\": \"lines\", \"name\": \"BR\", \"x\": [1994.0, 1998.0, 1999.0, 2002.0, 2003.0, 2004.0, 2006.0, 2007.0, 2008.0, 2009.0, 2010.0, 2011.0, 2012.0, 2013.0, 2014.0, 2015.0, 2016.0, 2017.0, 2018.0], \"xaxis\": \"x\", \"y\": [5.84896, 8.516801666666666, 9.27283572763685, 9.26623258918297, 9.299932369819341, 9.257641129744044, 8.067848126253844, 8.19701672854641, 8.410566935190314, 8.380277949864556, 8.477368859525972, 8.251770018366233, 8.19925014089389, 8.14700582540756, 7.934199086686084, 7.846243087559005, 7.806982440163636, 7.803916814593175, 7.806425714686347], \"yaxis\": \"y\", \"type\": \"scatter\", \"uid\": \"f2fe9eba-cf2d-11e8-baf4-b00594f12df5\"}, {\"line\": {\"color\": \"rgba (148, 103, 189, 1)\", \"dash\": \"solid\", \"width\": 1.5}, \"mode\": \"lines\", \"name\": \"GB\", \"x\": [1992.0, 1993.0, 1994.0, 1995.0, 1996.0, 1997.0, 1998.0, 1999.0, 2000.0, 2001.0, 2002.0, 2003.0, 2004.0, 2005.0, 2006.0, 2007.0, 2008.0, 2009.0, 2010.0, 2011.0, 2012.0, 2013.0, 2014.0, 2015.0, 2016.0, 2017.0, 2018.0], \"xaxis\": \"x\", \"y\": [9.052826196279666, 8.97770125041792, 9.0069373154715, 8.90205133770622, 8.819440759022696, 8.811251064434297, 8.833980300709218, 8.808248375631871, 8.825377634788145, 8.818932683050908, 8.866841465667742, 8.855797749597716, 8.755327330874321, 8.680626783913933, 8.66047478617187, 8.65454770171637, 8.563881533535167, 8.54312825244643, 8.53833322535382, 8.570713073511815, 8.530615173384525, 8.542275468017527, 8.544388541010354, 8.540381140323, 8.528885496264223, 8.528872745626595, 8.507290179853987], \"yaxis\": \"y\", \"type\": \"scatter\", \"uid\": \"f3026f48-cf2d-11e8-b17d-b00594f12df5\"}, {\"line\": {\"color\": \"rgba (140, 86, 75, 1)\", \"dash\": \"solid\", \"width\": 1.5}, \"mode\": \"lines\", \"name\": \"IN\", \"x\": [1995.0, 1996.0, 1997.0, 2000.0, 2001.0, 2002.0, 2003.0, 2004.0, 2005.0, 2006.0, 2007.0, 2008.0, 2009.0, 2010.0, 2011.0, 2012.0, 2013.0, 2014.0, 2015.0, 2016.0, 2017.0, 2018.0], \"xaxis\": \"x\", \"y\": [8.02541, 6.694095903111296, 6.690750047727744, 6.5912010233639915, 6.558788386501179, 6.446585975877522, 6.312601278343662, 6.2707925592143265, 6.2551433903258244, 6.096862381977595, 6.204129645938614, 6.407789926709749, 6.465120064665506, 6.432535591955334, 6.455344639281603, 6.4224130179875045, 6.384560196133947, 6.37733735147736, 6.469106487249476, 6.460554795856906, 6.510216945072598, 6.538129955525235], \"yaxis\": \"y\", \"type\": \"scatter\", \"uid\": \"f3050776-cf2d-11e8-90aa-b00594f12df5\"}, {\"line\": {\"color\": \"rgba (31, 119, 180, 1)\", \"dash\": \"solid\", \"width\": 1.5}, \"mode\": \"lines\", \"name\": \"FR\", \"x\": [1991.0, 1993.0, 1996.0, 1997.0, 1998.0, 1999.0, 2000.0, 2001.0, 2002.0, 2003.0, 2004.0, 2005.0, 2006.0, 2007.0, 2008.0, 2009.0, 2010.0, 2011.0, 2012.0, 2013.0, 2014.0, 2015.0, 2016.0, 2017.0, 2018.0], \"xaxis\": \"x2\", \"y\": [8.7361, 8.7361, 7.969746326530612, 7.9440137735849055, 7.938146036036036, 8.0113136162653, 8.02078965070319, 8.080178414891884, 8.20524875786874, 8.231236166575156, 8.09342348993203, 7.717175316624374, 7.589645421553206, 7.47241775695195, 7.431261433791472, 7.3964038946452755, 7.336683542744167, 7.346605033508236, 7.34765429727374, 7.3431476074620265, 7.330832850449616, 7.307462063774282, 7.302649338768402, 7.300275714986752, 7.289803736025247], \"yaxis\": \"y2\", \"type\": \"scatter\", \"uid\": \"f30cab52-cf2d-11e8-bb1d-b00594f12df5\"}, {\"line\": {\"color\": \"rgba (255, 127, 14, 1)\", \"dash\": \"solid\", \"width\": 1.5}, \"mode\": \"lines\", \"name\": \"ES\", \"x\": [1995.0, 1996.0, 1997.0, 1998.0, 1999.0, 2000.0, 2001.0, 2002.0, 2003.0, 2004.0, 2005.0, 2006.0, 2007.0, 2008.0, 2009.0, 2010.0, 2011.0, 2012.0, 2014.0, 2015.0, 2016.0, 2018.0], \"xaxis\": \"x2\", \"y\": [6.6514, 6.891705806451612, 8.523910599051007, 8.195605616438355, 7.866949090410959, 7.526598939371675, 7.481695192674805, 7.279724586591787, 7.242392976162745, 7.210181079454283, 7.223225272734075, 7.217021508101798, 7.168373616300772, 7.149980470822658, 7.074909255999261, 7.101262862333692, 7.112675116544681, 7.101541532139403, 7.103504389046913, 7.108938231322068, 7.123368382373445, 7.126615821284368], \"yaxis\": \"y2\", \"type\": \"scatter\", \"uid\": \"f30e4866-cf2d-11e8-ad82-b00594f12df5\"}, {\"line\": {\"color\": \"rgba (44, 160, 44, 1)\", \"dash\": \"solid\", \"width\": 1.5}, \"mode\": \"lines\", \"name\": \"IT\", \"x\": [1992.0, 1994.0, 1995.0, 1996.0, 1997.0, 1998.0, 1999.0, 2000.0, 2001.0, 2002.0, 2003.0, 2004.0, 2005.0, 2006.0, 2007.0, 2008.0, 2009.0, 2010.0, 2011.0, 2012.0, 2013.0, 2014.0, 2015.0, 2016.0, 2018.0], \"xaxis\": \"x2\", \"y\": [7.86807, 7.6429599999999995, 7.445045, 6.743190268817204, 6.856091324324324, 6.748706209876544, 6.707637287649818, 6.673119697171512, 6.761892032588768, 6.765632384890514, 6.74317000247151, 6.738836648850017, 6.706466394798515, 6.817826902311786, 6.830574716550736, 6.827330491886858, 6.868050785461057, 6.861312786217427, 6.853788009976552, 6.845774643457262, 6.843215576936263, 6.839651874115963, 6.846278261753347, 6.845989934842574, 6.8535720484931995], \"yaxis\": \"y2\", \"type\": \"scatter\", \"uid\": \"f30fe66c-cf2d-11e8-93f8-b00594f12df5\"}, {\"line\": {\"color\": \"rgba (214, 39, 40, 1)\", \"dash\": \"solid\", \"width\": 1.5}, \"mode\": \"lines\", \"name\": \"CN\", \"x\": [1989.0, 1991.0, 1992.0, 1993.0, 1994.0, 1995.0, 1996.0, 1997.0, 1998.0, 1999.0, 2000.0, 2001.0, 2002.0, 2003.0, 2004.0, 2005.0, 2006.0, 2007.0, 2008.0, 2009.0, 2010.0, 2011.0, 2012.0, 2013.0, 2014.0, 2015.0, 2016.0, 2018.0], \"xaxis\": \"x2\", \"y\": [8.350138636363637, 8.348459060542798, 8.453354499381954, 8.549965086848635, 8.576358139255703, 8.507771896501879, 8.356544348546192, 8.35517346839669, 8.193899817264965, 8.128992993751027, 8.131136918002506, 8.211824024537465, 8.15832902026367, 8.032179066460268, 7.896704990623791, 7.863261775308353, 7.8750786136056705, 7.689887643596605, 7.643351575325961, 7.552851239940726, 7.556952036268272, 7.505455370905942, 7.484778256817341, 7.454248059947388, 7.337134695427023, 7.327254852497993, 7.318904755443887, 7.224430521928937], \"yaxis\": \"y2\", \"type\": \"scatter\", \"uid\": \"f3124a74-cf2d-11e8-8384-b00594f12df5\"}, {\"line\": {\"color\": \"rgba (148, 103, 189, 1)\", \"dash\": \"solid\", \"width\": 1.5}, \"mode\": \"lines\", \"name\": \"GB\", \"x\": [1992.0, 1993.0, 1994.0, 1995.0, 1996.0, 1997.0, 1998.0, 1999.0, 2000.0, 2001.0, 2002.0, 2003.0, 2004.0, 2005.0, 2006.0, 2007.0, 2008.0, 2009.0, 2010.0, 2011.0, 2012.0, 2013.0, 2014.0, 2015.0, 2016.0, 2017.0, 2018.0], \"xaxis\": \"x2\", \"y\": [9.052826196279666, 8.97770125041792, 9.0069373154715, 8.90205133770622, 8.819440759022696, 8.811251064434297, 8.833980300709218, 8.808248375631871, 8.825377634788145, 8.818932683050908, 8.866841465667742, 8.855797749597716, 8.755327330874321, 8.680626783913933, 8.66047478617187, 8.65454770171637, 8.563881533535167, 8.54312825244643, 8.53833322535382, 8.570713073511815, 8.530615173384525, 8.542275468017527, 8.544388541010354, 8.540381140323, 8.528885496264223, 8.528872745626595, 8.507290179853987], \"yaxis\": \"y2\", \"type\": \"scatter\", \"uid\": \"f31470d0-cf2d-11e8-885f-b00594f12df5\"}, {\"line\": {\"color\": \"rgba (140, 86, 75, 1)\", \"dash\": \"solid\", \"width\": 1.5}, \"mode\": \"lines\", \"name\": \"DE\", \"x\": [1983.0, 1990.0, 1991.0, 1992.0, 1993.0, 1994.0, 1995.0, 1996.0, 1997.0, 1998.0, 1999.0, 2000.0, 2001.0, 2002.0, 2003.0, 2004.0, 2005.0, 2006.0, 2007.0, 2008.0, 2009.0, 2010.0, 2011.0, 2012.0, 2013.0, 2014.0, 2015.0, 2016.0, 2017.0, 2018.0], \"xaxis\": \"x2\", \"y\": [9.48143, 8.353140700549451, 7.992785361328126, 7.775758683341798, 8.006475163425733, 7.632702140854399, 7.319423983832645, 7.2376122765108635, 7.094800448846894, 7.031499690788499, 6.9038595603371515, 6.819535409985023, 6.777125695152, 6.696810953611478, 6.686244621734933, 6.670227842521389, 6.643205767820324, 6.628754504357796, 6.620756158282636, 6.6182469029824516, 6.615801969036588, 6.625464690460019, 6.630435350433767, 6.631403435749736, 6.639190567552989, 6.647288550107171, 6.654560811691851, 6.658163889039707, 6.657664300626021, 6.6646041164980385], \"yaxis\": \"y2\", \"type\": \"scatter\", \"uid\": \"f31799de-cf2d-11e8-ac94-b00594f12df5\"}], {\"autosize\": false, \"height\": 360, \"hovermode\": \"x\", \"width\": 648, \"margin\": {\"b\": 45, \"l\": 81, \"pad\": 0, \"r\": 64, \"t\": 43}, \"xaxis\": {\"anchor\": \"y\", \"domain\": [0.0, 0.45454545454545453], \"mirror\": \"ticks\", \"nticks\": 5, \"range\": [1981.25, 2019.75], \"showgrid\": false, \"showline\": true, \"side\": \"bottom\", \"tickfont\": {\"size\": 10.0}, \"ticks\": \"inside\", \"type\": \"linear\", \"zeroline\": false}, \"yaxis\": {\"anchor\": \"x\", \"domain\": [0.0, 1.0], \"mirror\": \"ticks\", \"nticks\": 11, \"range\": [5.271926376553469, 9.655317099088563], \"showgrid\": false, \"showline\": true, \"side\": \"left\", \"tickfont\": {\"size\": 10.0}, \"ticks\": \"inside\", \"type\": \"linear\", \"zeroline\": false, \"title\": \"Capacity weighted mean windspeed [m/s]\", \"titlefont\": {\"color\": \"#000000\", \"size\": 10.0}}, \"annotations\": [{\"font\": {\"color\": \"#000000\", \"size\": 12.0}, \"showarrow\": false, \"text\": \"Onshore turbines | Cumulative\", \"x\": 0.22691125971444062, \"xanchor\": \"center\", \"xref\": \"paper\", \"y\": 1.0433823529411768, \"yanchor\": \"bottom\", \"yref\": \"paper\"}, {\"font\": {\"color\": \"#000000\", \"size\": 12.0}, \"showarrow\": false, \"text\": \"Onshore turbines | Cumulative\", \"x\": 0.7714982830290981, \"xanchor\": \"center\", \"xref\": \"paper\", \"y\": 1.0433823529411768, \"yanchor\": \"bottom\", \"yref\": \"paper\"}], \"xaxis2\": {\"anchor\": \"y2\", \"domain\": [0.5454545454545454, 1.0], \"mirror\": \"ticks\", \"nticks\": 5, \"range\": [1981.25, 2019.75], \"showgrid\": false, \"showline\": true, \"side\": \"bottom\", \"tickfont\": {\"size\": 10.0}, \"ticks\": \"inside\", \"type\": \"linear\", \"zeroline\": false}, \"yaxis2\": {\"anchor\": \"x2\", \"domain\": [0.0, 1.0], \"mirror\": \"ticks\", \"nticks\": 9, \"range\": [6.472520567488417, 9.62471140154817], \"showgrid\": false, \"showline\": true, \"side\": \"left\", \"tickfont\": {\"size\": 10.0}, \"ticks\": \"inside\", \"type\": \"linear\", \"zeroline\": false, \"title\": \"Capacity weighted mean windspeed [m/s]\", \"titlefont\": {\"color\": \"#000000\", \"size\": 10.0}}, \"showlegend\": true}, {\"showLink\": true, \"linkText\": \"Export to plot.ly\"})});</script>"
      ],
      "text/vnd.plotly.v1+html": [
       "<div id=\"aaf1fc28-5c1b-47d1-9cd2-55f5611eb684\" style=\"height: 360px; width: 648px;\" class=\"plotly-graph-div\"></div><script type=\"text/javascript\">require([\"plotly\"], function(Plotly) { window.PLOTLYENV=window.PLOTLYENV || {};window.PLOTLYENV.BASE_URL=\"https://plot.ly\";Plotly.newPlot(\"aaf1fc28-5c1b-47d1-9cd2-55f5611eb684\", [{\"line\": {\"color\": \"rgba (31, 119, 180, 1)\", \"dash\": \"solid\", \"width\": 1.5}, \"mode\": \"lines\", \"name\": \"US\", \"x\": [1983.0, 1984.0, 1985.0, 1986.0, 1987.0, 1989.0, 1990.0, 1992.0, 1993.0, 1994.0, 1995.0, 1996.0, 1997.0, 1998.0, 1999.0, 2000.0, 2001.0, 2002.0, 2003.0, 2004.0, 2005.0, 2006.0, 2007.0, 2008.0, 2009.0, 2010.0, 2011.0, 2012.0, 2013.0, 2014.0, 2015.0, 2016.0, 2018.0], \"xaxis\": \"x\", \"y\": [6.06786, 5.471171409395973, 5.626705360284708, 5.653235515244111, 5.670991561060788, 5.710550541628247, 5.724098120833422, 5.726066299503046, 5.771670081411837, 6.008711976852698, 6.008992736121769, 6.011431998798827, 6.037845538512852, 6.3487590796141875, 6.911496812807794, 6.9437795342223465, 7.25242030842483, 7.239300111557071, 7.382119592389899, 7.393028088813574, 7.481987616437015, 7.483351468164566, 7.519008222062335, 7.620439498646545, 7.604480579281491, 7.575661131191355, 7.5463906798322675, 7.5521273879235915, 7.5591960953628945, 7.573887841376304, 7.596657600478103, 7.621200642328282, 7.625733688422616], \"yaxis\": \"y\", \"type\": \"scatter\", \"uid\": \"f2f5c52c-cf2d-11e8-8fac-b00594f12df5\"}, {\"line\": {\"color\": \"rgba (255, 127, 14, 1)\", \"dash\": \"solid\", \"width\": 1.5}, \"mode\": \"lines\", \"name\": \"CA\", \"x\": [1993.0, 1995.0, 1997.0, 1998.0, 1999.0, 2000.0, 2001.0, 2002.0, 2003.0, 2004.0, 2005.0, 2006.0, 2007.0, 2008.0, 2009.0, 2010.0, 2011.0, 2012.0, 2013.0, 2014.0, 2015.0, 2016.0, 2018.0], \"xaxis\": \"x\", \"y\": [7.8954200000000005, 7.547813333333334, 7.775387999999999, 8.10222181818182, 8.833962067448681, 8.916623200317124, 8.623421720501323, 8.580004881878558, 8.511146616451049, 8.47472321977515, 8.35894804118, 8.270548064787459, 8.395678426639645, 8.398202031702203, 8.403558748363412, 8.34085988179569, 8.286173795657684, 8.239378426770227, 8.090346066970659, 8.14635123554901, 8.084182788097815, 8.067970845220213, 8.057556646403738], \"yaxis\": \"y\", \"type\": \"scatter\", \"uid\": \"f2f8f976-cf2d-11e8-9482-b00594f12df5\"}, {\"line\": {\"color\": \"rgba (44, 160, 44, 1)\", \"dash\": \"solid\", \"width\": 1.5}, \"mode\": \"lines\", \"name\": \"AR\", \"x\": [1994.0, 1995.0, 1996.0, 1997.0, 1998.0, 1999.0, 2001.0, 2002.0, 2007.0, 2010.0, 2011.0, 2014.0, 2015.0, 2018.0], \"xaxis\": \"x\", \"y\": [9.271061111111111, 9.30484, 9.216300967741935, 9.346167556561086, 9.365463618677044, 9.365146323529412, 9.456072066246058, 9.43355931454684, 9.433289016277424, 9.36102148726852, 7.974949173360106, 7.411123147363465, 7.4070540296901894, 8.163058197765228], \"yaxis\": \"y\", \"type\": \"scatter\", \"uid\": \"f2fc06ae-cf2d-11e8-8fce-b00594f12df5\"}, {\"line\": {\"color\": \"rgba (214, 39, 40, 1)\", \"dash\": \"solid\", \"width\": 1.5}, \"mode\": \"lines\", \"name\": \"BR\", \"x\": [1994.0, 1998.0, 1999.0, 2002.0, 2003.0, 2004.0, 2006.0, 2007.0, 2008.0, 2009.0, 2010.0, 2011.0, 2012.0, 2013.0, 2014.0, 2015.0, 2016.0, 2017.0, 2018.0], \"xaxis\": \"x\", \"y\": [5.84896, 8.516801666666666, 9.27283572763685, 9.26623258918297, 9.299932369819341, 9.257641129744044, 8.067848126253844, 8.19701672854641, 8.410566935190314, 8.380277949864556, 8.477368859525972, 8.251770018366233, 8.19925014089389, 8.14700582540756, 7.934199086686084, 7.846243087559005, 7.806982440163636, 7.803916814593175, 7.806425714686347], \"yaxis\": \"y\", \"type\": \"scatter\", \"uid\": \"f2fe9eba-cf2d-11e8-baf4-b00594f12df5\"}, {\"line\": {\"color\": \"rgba (148, 103, 189, 1)\", \"dash\": \"solid\", \"width\": 1.5}, \"mode\": \"lines\", \"name\": \"GB\", \"x\": [1992.0, 1993.0, 1994.0, 1995.0, 1996.0, 1997.0, 1998.0, 1999.0, 2000.0, 2001.0, 2002.0, 2003.0, 2004.0, 2005.0, 2006.0, 2007.0, 2008.0, 2009.0, 2010.0, 2011.0, 2012.0, 2013.0, 2014.0, 2015.0, 2016.0, 2017.0, 2018.0], \"xaxis\": \"x\", \"y\": [9.052826196279666, 8.97770125041792, 9.0069373154715, 8.90205133770622, 8.819440759022696, 8.811251064434297, 8.833980300709218, 8.808248375631871, 8.825377634788145, 8.818932683050908, 8.866841465667742, 8.855797749597716, 8.755327330874321, 8.680626783913933, 8.66047478617187, 8.65454770171637, 8.563881533535167, 8.54312825244643, 8.53833322535382, 8.570713073511815, 8.530615173384525, 8.542275468017527, 8.544388541010354, 8.540381140323, 8.528885496264223, 8.528872745626595, 8.507290179853987], \"yaxis\": \"y\", \"type\": \"scatter\", \"uid\": \"f3026f48-cf2d-11e8-b17d-b00594f12df5\"}, {\"line\": {\"color\": \"rgba (140, 86, 75, 1)\", \"dash\": \"solid\", \"width\": 1.5}, \"mode\": \"lines\", \"name\": \"IN\", \"x\": [1995.0, 1996.0, 1997.0, 2000.0, 2001.0, 2002.0, 2003.0, 2004.0, 2005.0, 2006.0, 2007.0, 2008.0, 2009.0, 2010.0, 2011.0, 2012.0, 2013.0, 2014.0, 2015.0, 2016.0, 2017.0, 2018.0], \"xaxis\": \"x\", \"y\": [8.02541, 6.694095903111296, 6.690750047727744, 6.5912010233639915, 6.558788386501179, 6.446585975877522, 6.312601278343662, 6.2707925592143265, 6.2551433903258244, 6.096862381977595, 6.204129645938614, 6.407789926709749, 6.465120064665506, 6.432535591955334, 6.455344639281603, 6.4224130179875045, 6.384560196133947, 6.37733735147736, 6.469106487249476, 6.460554795856906, 6.510216945072598, 6.538129955525235], \"yaxis\": \"y\", \"type\": \"scatter\", \"uid\": \"f3050776-cf2d-11e8-90aa-b00594f12df5\"}, {\"line\": {\"color\": \"rgba (31, 119, 180, 1)\", \"dash\": \"solid\", \"width\": 1.5}, \"mode\": \"lines\", \"name\": \"FR\", \"x\": [1991.0, 1993.0, 1996.0, 1997.0, 1998.0, 1999.0, 2000.0, 2001.0, 2002.0, 2003.0, 2004.0, 2005.0, 2006.0, 2007.0, 2008.0, 2009.0, 2010.0, 2011.0, 2012.0, 2013.0, 2014.0, 2015.0, 2016.0, 2017.0, 2018.0], \"xaxis\": \"x2\", \"y\": [8.7361, 8.7361, 7.969746326530612, 7.9440137735849055, 7.938146036036036, 8.0113136162653, 8.02078965070319, 8.080178414891884, 8.20524875786874, 8.231236166575156, 8.09342348993203, 7.717175316624374, 7.589645421553206, 7.47241775695195, 7.431261433791472, 7.3964038946452755, 7.336683542744167, 7.346605033508236, 7.34765429727374, 7.3431476074620265, 7.330832850449616, 7.307462063774282, 7.302649338768402, 7.300275714986752, 7.289803736025247], \"yaxis\": \"y2\", \"type\": \"scatter\", \"uid\": \"f30cab52-cf2d-11e8-bb1d-b00594f12df5\"}, {\"line\": {\"color\": \"rgba (255, 127, 14, 1)\", \"dash\": \"solid\", \"width\": 1.5}, \"mode\": \"lines\", \"name\": \"ES\", \"x\": [1995.0, 1996.0, 1997.0, 1998.0, 1999.0, 2000.0, 2001.0, 2002.0, 2003.0, 2004.0, 2005.0, 2006.0, 2007.0, 2008.0, 2009.0, 2010.0, 2011.0, 2012.0, 2014.0, 2015.0, 2016.0, 2018.0], \"xaxis\": \"x2\", \"y\": [6.6514, 6.891705806451612, 8.523910599051007, 8.195605616438355, 7.866949090410959, 7.526598939371675, 7.481695192674805, 7.279724586591787, 7.242392976162745, 7.210181079454283, 7.223225272734075, 7.217021508101798, 7.168373616300772, 7.149980470822658, 7.074909255999261, 7.101262862333692, 7.112675116544681, 7.101541532139403, 7.103504389046913, 7.108938231322068, 7.123368382373445, 7.126615821284368], \"yaxis\": \"y2\", \"type\": \"scatter\", \"uid\": \"f30e4866-cf2d-11e8-ad82-b00594f12df5\"}, {\"line\": {\"color\": \"rgba (44, 160, 44, 1)\", \"dash\": \"solid\", \"width\": 1.5}, \"mode\": \"lines\", \"name\": \"IT\", \"x\": [1992.0, 1994.0, 1995.0, 1996.0, 1997.0, 1998.0, 1999.0, 2000.0, 2001.0, 2002.0, 2003.0, 2004.0, 2005.0, 2006.0, 2007.0, 2008.0, 2009.0, 2010.0, 2011.0, 2012.0, 2013.0, 2014.0, 2015.0, 2016.0, 2018.0], \"xaxis\": \"x2\", \"y\": [7.86807, 7.6429599999999995, 7.445045, 6.743190268817204, 6.856091324324324, 6.748706209876544, 6.707637287649818, 6.673119697171512, 6.761892032588768, 6.765632384890514, 6.74317000247151, 6.738836648850017, 6.706466394798515, 6.817826902311786, 6.830574716550736, 6.827330491886858, 6.868050785461057, 6.861312786217427, 6.853788009976552, 6.845774643457262, 6.843215576936263, 6.839651874115963, 6.846278261753347, 6.845989934842574, 6.8535720484931995], \"yaxis\": \"y2\", \"type\": \"scatter\", \"uid\": \"f30fe66c-cf2d-11e8-93f8-b00594f12df5\"}, {\"line\": {\"color\": \"rgba (214, 39, 40, 1)\", \"dash\": \"solid\", \"width\": 1.5}, \"mode\": \"lines\", \"name\": \"CN\", \"x\": [1989.0, 1991.0, 1992.0, 1993.0, 1994.0, 1995.0, 1996.0, 1997.0, 1998.0, 1999.0, 2000.0, 2001.0, 2002.0, 2003.0, 2004.0, 2005.0, 2006.0, 2007.0, 2008.0, 2009.0, 2010.0, 2011.0, 2012.0, 2013.0, 2014.0, 2015.0, 2016.0, 2018.0], \"xaxis\": \"x2\", \"y\": [8.350138636363637, 8.348459060542798, 8.453354499381954, 8.549965086848635, 8.576358139255703, 8.507771896501879, 8.356544348546192, 8.35517346839669, 8.193899817264965, 8.128992993751027, 8.131136918002506, 8.211824024537465, 8.15832902026367, 8.032179066460268, 7.896704990623791, 7.863261775308353, 7.8750786136056705, 7.689887643596605, 7.643351575325961, 7.552851239940726, 7.556952036268272, 7.505455370905942, 7.484778256817341, 7.454248059947388, 7.337134695427023, 7.327254852497993, 7.318904755443887, 7.224430521928937], \"yaxis\": \"y2\", \"type\": \"scatter\", \"uid\": \"f3124a74-cf2d-11e8-8384-b00594f12df5\"}, {\"line\": {\"color\": \"rgba (148, 103, 189, 1)\", \"dash\": \"solid\", \"width\": 1.5}, \"mode\": \"lines\", \"name\": \"GB\", \"x\": [1992.0, 1993.0, 1994.0, 1995.0, 1996.0, 1997.0, 1998.0, 1999.0, 2000.0, 2001.0, 2002.0, 2003.0, 2004.0, 2005.0, 2006.0, 2007.0, 2008.0, 2009.0, 2010.0, 2011.0, 2012.0, 2013.0, 2014.0, 2015.0, 2016.0, 2017.0, 2018.0], \"xaxis\": \"x2\", \"y\": [9.052826196279666, 8.97770125041792, 9.0069373154715, 8.90205133770622, 8.819440759022696, 8.811251064434297, 8.833980300709218, 8.808248375631871, 8.825377634788145, 8.818932683050908, 8.866841465667742, 8.855797749597716, 8.755327330874321, 8.680626783913933, 8.66047478617187, 8.65454770171637, 8.563881533535167, 8.54312825244643, 8.53833322535382, 8.570713073511815, 8.530615173384525, 8.542275468017527, 8.544388541010354, 8.540381140323, 8.528885496264223, 8.528872745626595, 8.507290179853987], \"yaxis\": \"y2\", \"type\": \"scatter\", \"uid\": \"f31470d0-cf2d-11e8-885f-b00594f12df5\"}, {\"line\": {\"color\": \"rgba (140, 86, 75, 1)\", \"dash\": \"solid\", \"width\": 1.5}, \"mode\": \"lines\", \"name\": \"DE\", \"x\": [1983.0, 1990.0, 1991.0, 1992.0, 1993.0, 1994.0, 1995.0, 1996.0, 1997.0, 1998.0, 1999.0, 2000.0, 2001.0, 2002.0, 2003.0, 2004.0, 2005.0, 2006.0, 2007.0, 2008.0, 2009.0, 2010.0, 2011.0, 2012.0, 2013.0, 2014.0, 2015.0, 2016.0, 2017.0, 2018.0], \"xaxis\": \"x2\", \"y\": [9.48143, 8.353140700549451, 7.992785361328126, 7.775758683341798, 8.006475163425733, 7.632702140854399, 7.319423983832645, 7.2376122765108635, 7.094800448846894, 7.031499690788499, 6.9038595603371515, 6.819535409985023, 6.777125695152, 6.696810953611478, 6.686244621734933, 6.670227842521389, 6.643205767820324, 6.628754504357796, 6.620756158282636, 6.6182469029824516, 6.615801969036588, 6.625464690460019, 6.630435350433767, 6.631403435749736, 6.639190567552989, 6.647288550107171, 6.654560811691851, 6.658163889039707, 6.657664300626021, 6.6646041164980385], \"yaxis\": \"y2\", \"type\": \"scatter\", \"uid\": \"f31799de-cf2d-11e8-ac94-b00594f12df5\"}], {\"autosize\": false, \"height\": 360, \"hovermode\": \"x\", \"width\": 648, \"margin\": {\"b\": 45, \"l\": 81, \"pad\": 0, \"r\": 64, \"t\": 43}, \"xaxis\": {\"anchor\": \"y\", \"domain\": [0.0, 0.45454545454545453], \"mirror\": \"ticks\", \"nticks\": 5, \"range\": [1981.25, 2019.75], \"showgrid\": false, \"showline\": true, \"side\": \"bottom\", \"tickfont\": {\"size\": 10.0}, \"ticks\": \"inside\", \"type\": \"linear\", \"zeroline\": false}, \"yaxis\": {\"anchor\": \"x\", \"domain\": [0.0, 1.0], \"mirror\": \"ticks\", \"nticks\": 11, \"range\": [5.271926376553469, 9.655317099088563], \"showgrid\": false, \"showline\": true, \"side\": \"left\", \"tickfont\": {\"size\": 10.0}, \"ticks\": \"inside\", \"type\": \"linear\", \"zeroline\": false, \"title\": \"Capacity weighted mean windspeed [m/s]\", \"titlefont\": {\"color\": \"#000000\", \"size\": 10.0}}, \"annotations\": [{\"font\": {\"color\": \"#000000\", \"size\": 12.0}, \"showarrow\": false, \"text\": \"Onshore turbines | Cumulative\", \"x\": 0.22691125971444062, \"xanchor\": \"center\", \"xref\": \"paper\", \"y\": 1.0433823529411768, \"yanchor\": \"bottom\", \"yref\": \"paper\"}, {\"font\": {\"color\": \"#000000\", \"size\": 12.0}, \"showarrow\": false, \"text\": \"Onshore turbines | Cumulative\", \"x\": 0.7714982830290981, \"xanchor\": \"center\", \"xref\": \"paper\", \"y\": 1.0433823529411768, \"yanchor\": \"bottom\", \"yref\": \"paper\"}], \"xaxis2\": {\"anchor\": \"y2\", \"domain\": [0.5454545454545454, 1.0], \"mirror\": \"ticks\", \"nticks\": 5, \"range\": [1981.25, 2019.75], \"showgrid\": false, \"showline\": true, \"side\": \"bottom\", \"tickfont\": {\"size\": 10.0}, \"ticks\": \"inside\", \"type\": \"linear\", \"zeroline\": false}, \"yaxis2\": {\"anchor\": \"x2\", \"domain\": [0.0, 1.0], \"mirror\": \"ticks\", \"nticks\": 9, \"range\": [6.472520567488417, 9.62471140154817], \"showgrid\": false, \"showline\": true, \"side\": \"left\", \"tickfont\": {\"size\": 10.0}, \"ticks\": \"inside\", \"type\": \"linear\", \"zeroline\": false, \"title\": \"Capacity weighted mean windspeed [m/s]\", \"titlefont\": {\"color\": \"#000000\", \"size\": 10.0}}, \"showlegend\": true}, {\"showLink\": true, \"linkText\": \"Export to plot.ly\"})});</script>"
      ]
     },
     "metadata": {},
     "output_type": "display_data"
    }
   ],
   "source": [
    "countries=[{'BR','AR','GB','CA','US','IN'},{'FR','DE','CN','IT','ES','GB'}]\n",
    "\n",
    "\n",
    "fig, ax = plt.subplots(1,2,figsize=(9,5))\n",
    "for s in range(len(countries)):\n",
    "    for c in countries[s]:\n",
    "        x,y,z,w=projects(ons,c)\n",
    "        ax[s].plot(x,z,label=c)\n",
    "\n",
    "    ax[s].set_ylabel('Capacity weighted mean windspeed [m/s]')\n",
    "    ax[s].set_title(\"Onshore turbines | Cumulative\")\n",
    "\n",
    "plotly_fig = tls.mpl_to_plotly(fig)\n",
    "plotly_fig[\"layout\"][\"showlegend\"] = True\n",
    "plotly_fig[\"layout\"]['hovermode']='x'\n",
    "iplot(plotly_fig, filename='ons4')"
   ]
  },
  {
   "cell_type": "markdown",
   "metadata": {},
   "source": [
    "### Offshore"
   ]
  },
  {
   "cell_type": "code",
   "execution_count": 356,
   "metadata": {},
   "outputs": [
    {
     "data": {
      "application/vnd.plotly.v1+json": {
       "data": [
        {
         "line": {
          "color": "rgba (31, 119, 180, 1)",
          "dash": "solid",
          "width": 1.5
         },
         "mode": "lines",
         "name": "US",
         "type": "scatter",
         "uid": "f7120fa8-cf2d-11e8-bbe2-b00594f12df5",
         "x": [
          2015,
          2016,
          2018,
          2019
         ],
         "xaxis": "x",
         "y": [
          5.527009999999999,
          9.495793402489626,
          9.026571385681294,
          7.69402661070789
         ],
         "yaxis": "y"
        },
        {
         "line": {
          "color": "rgba (255, 127, 14, 1)",
          "dash": "solid",
          "width": 1.5
         },
         "mode": "lines",
         "name": "FR",
         "type": "scatter",
         "uid": "f7167c68-cf2d-11e8-8b3b-b00594f12df5",
         "x": [
          2012,
          2015,
          2018,
          2019
         ],
         "xaxis": "x",
         "y": [
          7.51338,
          8.761631428571429,
          8.75387625,
          9.022859823949005
         ],
         "yaxis": "y"
        },
        {
         "line": {
          "color": "rgba (44, 160, 44, 1)",
          "dash": "solid",
          "width": 1.5
         },
         "mode": "lines",
         "name": "CN",
         "type": "scatter",
         "uid": "f71989a2-cf2d-11e8-8d3a-b00594f12df5",
         "x": [
          2007,
          2009,
          2010,
          2011,
          2012,
          2013,
          2014,
          2015,
          2016,
          2018,
          2019
         ],
         "xaxis": "x",
         "y": [
          7.86113,
          7.437616315789473,
          7.49528089041096,
          7.4718452203600245,
          7.426217367766024,
          7.445050376258612,
          7.623601299644569,
          7.648889218489864,
          7.7441372793101175,
          6.931119136527525,
          7.5242622166730495
         ],
         "yaxis": "y"
        },
        {
         "line": {
          "color": "rgba (214, 39, 40, 1)",
          "dash": "solid",
          "width": 1.5
         },
         "mode": "lines",
         "name": "GB",
         "type": "scatter",
         "uid": "f71e6ba2-cf2d-11e8-b4f0-b00594f12df5",
         "x": [
          2003,
          2004,
          2005,
          2006,
          2007,
          2009,
          2010,
          2011,
          2012,
          2013,
          2014,
          2015,
          2016,
          2018,
          2019
         ],
         "xaxis": "x",
         "y": [
          9.35932,
          9.237325,
          9.254585714285714,
          9.26149,
          9.27352,
          9.422690035587188,
          9.322648925399644,
          9.37293808444097,
          9.432361213743864,
          9.347033650110346,
          9.351255929321914,
          9.342738530193992,
          9.34355767058999,
          9.204796740701097,
          8.14233380795427
         ],
         "yaxis": "y"
        },
        {
         "line": {
          "color": "rgba (148, 103, 189, 1)",
          "dash": "solid",
          "width": 1.5
         },
         "mode": "lines",
         "name": "DE",
         "type": "scatter",
         "uid": "f7213268-cf2d-11e8-9494-b00594f12df5",
         "x": [
          2004,
          2006,
          2009,
          2011,
          2013,
          2014,
          2015,
          2017,
          2018,
          2019
         ],
         "xaxis": "x",
         "y": [
          8.76715,
          9.007121428571429,
          9.446355970149256,
          9.131452549869906,
          6.947254956336114,
          5.06961597607813,
          6.918375563063751,
          6.987687127166685,
          6.113952125085596,
          6.195107493025836
         ],
         "yaxis": "y"
        },
        {
         "line": {
          "color": "rgba (140, 86, 75, 1)",
          "dash": "solid",
          "width": 1.5
         },
         "mode": "lines",
         "name": "IN",
         "type": "scatter",
         "uid": "f7255112-cf2d-11e8-abe5-b00594f12df5",
         "x": [
          2019
         ],
         "xaxis": "x",
         "y": [
          8.054443636363636
         ],
         "yaxis": "y"
        },
        {
         "line": {
          "color": "rgba (31, 119, 180, 1)",
          "dash": "solid",
          "width": 1.5
         },
         "mode": "lines",
         "name": "GB",
         "type": "scatter",
         "uid": "f73370cc-cf2d-11e8-ad91-b00594f12df5",
         "x": [
          2003,
          2004,
          2005,
          2006,
          2007,
          2009,
          2010,
          2011,
          2012,
          2013,
          2014,
          2015,
          2016,
          2018,
          2019
         ],
         "xaxis": "x2",
         "y": [
          9.35932,
          9.237325,
          9.254585714285714,
          9.26149,
          9.27352,
          9.422690035587188,
          9.322648925399644,
          9.37293808444097,
          9.432361213743864,
          9.347033650110346,
          9.351255929321914,
          9.342738530193992,
          9.34355767058999,
          9.204796740701097,
          8.14233380795427
         ],
         "yaxis": "y2"
        }
       ],
       "layout": {
        "annotations": [
         {
          "font": {
           "color": "#000000",
           "size": 12
          },
          "showarrow": false,
          "text": "Onshore turbines | Cumulative",
          "x": 0.22691125971444062,
          "xanchor": "center",
          "xref": "paper",
          "y": 1.0433823529411768,
          "yanchor": "bottom",
          "yref": "paper"
         },
         {
          "font": {
           "color": "#000000",
           "size": 12
          },
          "showarrow": false,
          "text": "Onshore turbines | Cumulative",
          "x": 0.7714982830290981,
          "xanchor": "center",
          "xref": "paper",
          "y": 1.0433823529411768,
          "yanchor": "bottom",
          "yref": "paper"
         }
        ],
        "autosize": false,
        "height": 360,
        "hovermode": "x",
        "margin": {
         "b": 45,
         "l": 81,
         "pad": 0,
         "r": 64,
         "t": 43
        },
        "showlegend": true,
        "width": 648,
        "xaxis": {
         "anchor": "y",
         "domain": [
          0,
          0.45454545454545453
         ],
         "mirror": "ticks",
         "nticks": 5,
         "range": [
          2002.2,
          2019.8
         ],
         "showgrid": false,
         "showline": true,
         "side": "bottom",
         "tickfont": {
          "size": 10
         },
         "ticks": "inside",
         "type": "linear",
         "zeroline": false
        },
        "xaxis2": {
         "anchor": "y2",
         "domain": [
          0.5454545454545454,
          1
         ],
         "mirror": "ticks",
         "nticks": 5,
         "range": [
          2002.2,
          2019.8
         ],
         "showgrid": false,
         "showline": true,
         "side": "bottom",
         "tickfont": {
          "size": 10
         },
         "ticks": "inside",
         "type": "linear",
         "zeroline": false
        },
        "yaxis": {
         "anchor": "x",
         "domain": [
          0,
          1
         ],
         "mirror": "ticks",
         "nticks": 7,
         "range": [
          4.848307104757556,
          9.717102273810202
         ],
         "showgrid": false,
         "showline": true,
         "side": "left",
         "tickfont": {
          "size": 10
         },
         "ticks": "inside",
         "title": "Capacity weighted mean windspeed [m/s]",
         "titlefont": {
          "color": "#000000",
          "size": 10
         },
         "type": "linear",
         "zeroline": false
        },
        "yaxis2": {
         "anchor": "x2",
         "domain": [
          0,
          1
         ],
         "mirror": "ticks",
         "nticks": 9,
         "range": [
          8.07783243766479,
          9.496862584033343
         ],
         "showgrid": false,
         "showline": true,
         "side": "left",
         "tickfont": {
          "size": 10
         },
         "ticks": "inside",
         "title": "Capacity weighted mean windspeed [m/s]",
         "titlefont": {
          "color": "#000000",
          "size": 10
         },
         "type": "linear",
         "zeroline": false
        }
       }
      },
      "text/html": [
       "<div id=\"92cc51e0-7de8-4e2d-8c72-4bd65640e6e5\" style=\"height: 360px; width: 648px;\" class=\"plotly-graph-div\"></div><script type=\"text/javascript\">require([\"plotly\"], function(Plotly) { window.PLOTLYENV=window.PLOTLYENV || {};window.PLOTLYENV.BASE_URL=\"https://plot.ly\";Plotly.newPlot(\"92cc51e0-7de8-4e2d-8c72-4bd65640e6e5\", [{\"line\": {\"color\": \"rgba (31, 119, 180, 1)\", \"dash\": \"solid\", \"width\": 1.5}, \"mode\": \"lines\", \"name\": \"US\", \"x\": [2015.0, 2016.0, 2018.0, 2019.0], \"xaxis\": \"x\", \"y\": [5.527009999999999, 9.495793402489626, 9.026571385681294, 7.69402661070789], \"yaxis\": \"y\", \"type\": \"scatter\", \"uid\": \"f7120fa8-cf2d-11e8-bbe2-b00594f12df5\"}, {\"line\": {\"color\": \"rgba (255, 127, 14, 1)\", \"dash\": \"solid\", \"width\": 1.5}, \"mode\": \"lines\", \"name\": \"FR\", \"x\": [2012.0, 2015.0, 2018.0, 2019.0], \"xaxis\": \"x\", \"y\": [7.51338, 8.761631428571429, 8.75387625, 9.022859823949005], \"yaxis\": \"y\", \"type\": \"scatter\", \"uid\": \"f7167c68-cf2d-11e8-8b3b-b00594f12df5\"}, {\"line\": {\"color\": \"rgba (44, 160, 44, 1)\", \"dash\": \"solid\", \"width\": 1.5}, \"mode\": \"lines\", \"name\": \"CN\", \"x\": [2007.0, 2009.0, 2010.0, 2011.0, 2012.0, 2013.0, 2014.0, 2015.0, 2016.0, 2018.0, 2019.0], \"xaxis\": \"x\", \"y\": [7.86113, 7.437616315789473, 7.49528089041096, 7.4718452203600245, 7.426217367766024, 7.445050376258612, 7.623601299644569, 7.648889218489864, 7.7441372793101175, 6.931119136527525, 7.5242622166730495], \"yaxis\": \"y\", \"type\": \"scatter\", \"uid\": \"f71989a2-cf2d-11e8-8d3a-b00594f12df5\"}, {\"line\": {\"color\": \"rgba (214, 39, 40, 1)\", \"dash\": \"solid\", \"width\": 1.5}, \"mode\": \"lines\", \"name\": \"GB\", \"x\": [2003.0, 2004.0, 2005.0, 2006.0, 2007.0, 2009.0, 2010.0, 2011.0, 2012.0, 2013.0, 2014.0, 2015.0, 2016.0, 2018.0, 2019.0], \"xaxis\": \"x\", \"y\": [9.35932, 9.237325, 9.254585714285714, 9.26149, 9.27352, 9.422690035587188, 9.322648925399644, 9.37293808444097, 9.432361213743864, 9.347033650110346, 9.351255929321914, 9.342738530193992, 9.34355767058999, 9.204796740701097, 8.14233380795427], \"yaxis\": \"y\", \"type\": \"scatter\", \"uid\": \"f71e6ba2-cf2d-11e8-b4f0-b00594f12df5\"}, {\"line\": {\"color\": \"rgba (148, 103, 189, 1)\", \"dash\": \"solid\", \"width\": 1.5}, \"mode\": \"lines\", \"name\": \"DE\", \"x\": [2004.0, 2006.0, 2009.0, 2011.0, 2013.0, 2014.0, 2015.0, 2017.0, 2018.0, 2019.0], \"xaxis\": \"x\", \"y\": [8.76715, 9.007121428571429, 9.446355970149256, 9.131452549869906, 6.947254956336114, 5.06961597607813, 6.918375563063751, 6.987687127166685, 6.113952125085596, 6.195107493025836], \"yaxis\": \"y\", \"type\": \"scatter\", \"uid\": \"f7213268-cf2d-11e8-9494-b00594f12df5\"}, {\"line\": {\"color\": \"rgba (140, 86, 75, 1)\", \"dash\": \"solid\", \"width\": 1.5}, \"mode\": \"lines\", \"name\": \"IN\", \"x\": [2019.0], \"xaxis\": \"x\", \"y\": [8.054443636363636], \"yaxis\": \"y\", \"type\": \"scatter\", \"uid\": \"f7255112-cf2d-11e8-abe5-b00594f12df5\"}, {\"line\": {\"color\": \"rgba (31, 119, 180, 1)\", \"dash\": \"solid\", \"width\": 1.5}, \"mode\": \"lines\", \"name\": \"GB\", \"x\": [2003.0, 2004.0, 2005.0, 2006.0, 2007.0, 2009.0, 2010.0, 2011.0, 2012.0, 2013.0, 2014.0, 2015.0, 2016.0, 2018.0, 2019.0], \"xaxis\": \"x2\", \"y\": [9.35932, 9.237325, 9.254585714285714, 9.26149, 9.27352, 9.422690035587188, 9.322648925399644, 9.37293808444097, 9.432361213743864, 9.347033650110346, 9.351255929321914, 9.342738530193992, 9.34355767058999, 9.204796740701097, 8.14233380795427], \"yaxis\": \"y2\", \"type\": \"scatter\", \"uid\": \"f73370cc-cf2d-11e8-ad91-b00594f12df5\"}], {\"autosize\": false, \"height\": 360, \"hovermode\": \"x\", \"width\": 648, \"margin\": {\"b\": 45, \"l\": 81, \"pad\": 0, \"r\": 64, \"t\": 43}, \"xaxis\": {\"anchor\": \"y\", \"domain\": [0.0, 0.45454545454545453], \"mirror\": \"ticks\", \"nticks\": 5, \"range\": [2002.2, 2019.8], \"showgrid\": false, \"showline\": true, \"side\": \"bottom\", \"tickfont\": {\"size\": 10.0}, \"ticks\": \"inside\", \"type\": \"linear\", \"zeroline\": false}, \"yaxis\": {\"anchor\": \"x\", \"domain\": [0.0, 1.0], \"mirror\": \"ticks\", \"nticks\": 7, \"range\": [4.848307104757556, 9.717102273810202], \"showgrid\": false, \"showline\": true, \"side\": \"left\", \"tickfont\": {\"size\": 10.0}, \"ticks\": \"inside\", \"type\": \"linear\", \"zeroline\": false, \"title\": \"Capacity weighted mean windspeed [m/s]\", \"titlefont\": {\"color\": \"#000000\", \"size\": 10.0}}, \"annotations\": [{\"font\": {\"color\": \"#000000\", \"size\": 12.0}, \"showarrow\": false, \"text\": \"Onshore turbines | Cumulative\", \"x\": 0.22691125971444062, \"xanchor\": \"center\", \"xref\": \"paper\", \"y\": 1.0433823529411768, \"yanchor\": \"bottom\", \"yref\": \"paper\"}, {\"font\": {\"color\": \"#000000\", \"size\": 12.0}, \"showarrow\": false, \"text\": \"Onshore turbines | Cumulative\", \"x\": 0.7714982830290981, \"xanchor\": \"center\", \"xref\": \"paper\", \"y\": 1.0433823529411768, \"yanchor\": \"bottom\", \"yref\": \"paper\"}], \"xaxis2\": {\"anchor\": \"y2\", \"domain\": [0.5454545454545454, 1.0], \"mirror\": \"ticks\", \"nticks\": 5, \"range\": [2002.2, 2019.8], \"showgrid\": false, \"showline\": true, \"side\": \"bottom\", \"tickfont\": {\"size\": 10.0}, \"ticks\": \"inside\", \"type\": \"linear\", \"zeroline\": false}, \"yaxis2\": {\"anchor\": \"x2\", \"domain\": [0.0, 1.0], \"mirror\": \"ticks\", \"nticks\": 9, \"range\": [8.07783243766479, 9.496862584033343], \"showgrid\": false, \"showline\": true, \"side\": \"left\", \"tickfont\": {\"size\": 10.0}, \"ticks\": \"inside\", \"type\": \"linear\", \"zeroline\": false, \"title\": \"Capacity weighted mean windspeed [m/s]\", \"titlefont\": {\"color\": \"#000000\", \"size\": 10.0}}, \"showlegend\": true}, {\"showLink\": true, \"linkText\": \"Export to plot.ly\"})});</script>"
      ],
      "text/vnd.plotly.v1+html": [
       "<div id=\"92cc51e0-7de8-4e2d-8c72-4bd65640e6e5\" style=\"height: 360px; width: 648px;\" class=\"plotly-graph-div\"></div><script type=\"text/javascript\">require([\"plotly\"], function(Plotly) { window.PLOTLYENV=window.PLOTLYENV || {};window.PLOTLYENV.BASE_URL=\"https://plot.ly\";Plotly.newPlot(\"92cc51e0-7de8-4e2d-8c72-4bd65640e6e5\", [{\"line\": {\"color\": \"rgba (31, 119, 180, 1)\", \"dash\": \"solid\", \"width\": 1.5}, \"mode\": \"lines\", \"name\": \"US\", \"x\": [2015.0, 2016.0, 2018.0, 2019.0], \"xaxis\": \"x\", \"y\": [5.527009999999999, 9.495793402489626, 9.026571385681294, 7.69402661070789], \"yaxis\": \"y\", \"type\": \"scatter\", \"uid\": \"f7120fa8-cf2d-11e8-bbe2-b00594f12df5\"}, {\"line\": {\"color\": \"rgba (255, 127, 14, 1)\", \"dash\": \"solid\", \"width\": 1.5}, \"mode\": \"lines\", \"name\": \"FR\", \"x\": [2012.0, 2015.0, 2018.0, 2019.0], \"xaxis\": \"x\", \"y\": [7.51338, 8.761631428571429, 8.75387625, 9.022859823949005], \"yaxis\": \"y\", \"type\": \"scatter\", \"uid\": \"f7167c68-cf2d-11e8-8b3b-b00594f12df5\"}, {\"line\": {\"color\": \"rgba (44, 160, 44, 1)\", \"dash\": \"solid\", \"width\": 1.5}, \"mode\": \"lines\", \"name\": \"CN\", \"x\": [2007.0, 2009.0, 2010.0, 2011.0, 2012.0, 2013.0, 2014.0, 2015.0, 2016.0, 2018.0, 2019.0], \"xaxis\": \"x\", \"y\": [7.86113, 7.437616315789473, 7.49528089041096, 7.4718452203600245, 7.426217367766024, 7.445050376258612, 7.623601299644569, 7.648889218489864, 7.7441372793101175, 6.931119136527525, 7.5242622166730495], \"yaxis\": \"y\", \"type\": \"scatter\", \"uid\": \"f71989a2-cf2d-11e8-8d3a-b00594f12df5\"}, {\"line\": {\"color\": \"rgba (214, 39, 40, 1)\", \"dash\": \"solid\", \"width\": 1.5}, \"mode\": \"lines\", \"name\": \"GB\", \"x\": [2003.0, 2004.0, 2005.0, 2006.0, 2007.0, 2009.0, 2010.0, 2011.0, 2012.0, 2013.0, 2014.0, 2015.0, 2016.0, 2018.0, 2019.0], \"xaxis\": \"x\", \"y\": [9.35932, 9.237325, 9.254585714285714, 9.26149, 9.27352, 9.422690035587188, 9.322648925399644, 9.37293808444097, 9.432361213743864, 9.347033650110346, 9.351255929321914, 9.342738530193992, 9.34355767058999, 9.204796740701097, 8.14233380795427], \"yaxis\": \"y\", \"type\": \"scatter\", \"uid\": \"f71e6ba2-cf2d-11e8-b4f0-b00594f12df5\"}, {\"line\": {\"color\": \"rgba (148, 103, 189, 1)\", \"dash\": \"solid\", \"width\": 1.5}, \"mode\": \"lines\", \"name\": \"DE\", \"x\": [2004.0, 2006.0, 2009.0, 2011.0, 2013.0, 2014.0, 2015.0, 2017.0, 2018.0, 2019.0], \"xaxis\": \"x\", \"y\": [8.76715, 9.007121428571429, 9.446355970149256, 9.131452549869906, 6.947254956336114, 5.06961597607813, 6.918375563063751, 6.987687127166685, 6.113952125085596, 6.195107493025836], \"yaxis\": \"y\", \"type\": \"scatter\", \"uid\": \"f7213268-cf2d-11e8-9494-b00594f12df5\"}, {\"line\": {\"color\": \"rgba (140, 86, 75, 1)\", \"dash\": \"solid\", \"width\": 1.5}, \"mode\": \"lines\", \"name\": \"IN\", \"x\": [2019.0], \"xaxis\": \"x\", \"y\": [8.054443636363636], \"yaxis\": \"y\", \"type\": \"scatter\", \"uid\": \"f7255112-cf2d-11e8-abe5-b00594f12df5\"}, {\"line\": {\"color\": \"rgba (31, 119, 180, 1)\", \"dash\": \"solid\", \"width\": 1.5}, \"mode\": \"lines\", \"name\": \"GB\", \"x\": [2003.0, 2004.0, 2005.0, 2006.0, 2007.0, 2009.0, 2010.0, 2011.0, 2012.0, 2013.0, 2014.0, 2015.0, 2016.0, 2018.0, 2019.0], \"xaxis\": \"x2\", \"y\": [9.35932, 9.237325, 9.254585714285714, 9.26149, 9.27352, 9.422690035587188, 9.322648925399644, 9.37293808444097, 9.432361213743864, 9.347033650110346, 9.351255929321914, 9.342738530193992, 9.34355767058999, 9.204796740701097, 8.14233380795427], \"yaxis\": \"y2\", \"type\": \"scatter\", \"uid\": \"f73370cc-cf2d-11e8-ad91-b00594f12df5\"}], {\"autosize\": false, \"height\": 360, \"hovermode\": \"x\", \"width\": 648, \"margin\": {\"b\": 45, \"l\": 81, \"pad\": 0, \"r\": 64, \"t\": 43}, \"xaxis\": {\"anchor\": \"y\", \"domain\": [0.0, 0.45454545454545453], \"mirror\": \"ticks\", \"nticks\": 5, \"range\": [2002.2, 2019.8], \"showgrid\": false, \"showline\": true, \"side\": \"bottom\", \"tickfont\": {\"size\": 10.0}, \"ticks\": \"inside\", \"type\": \"linear\", \"zeroline\": false}, \"yaxis\": {\"anchor\": \"x\", \"domain\": [0.0, 1.0], \"mirror\": \"ticks\", \"nticks\": 7, \"range\": [4.848307104757556, 9.717102273810202], \"showgrid\": false, \"showline\": true, \"side\": \"left\", \"tickfont\": {\"size\": 10.0}, \"ticks\": \"inside\", \"type\": \"linear\", \"zeroline\": false, \"title\": \"Capacity weighted mean windspeed [m/s]\", \"titlefont\": {\"color\": \"#000000\", \"size\": 10.0}}, \"annotations\": [{\"font\": {\"color\": \"#000000\", \"size\": 12.0}, \"showarrow\": false, \"text\": \"Onshore turbines | Cumulative\", \"x\": 0.22691125971444062, \"xanchor\": \"center\", \"xref\": \"paper\", \"y\": 1.0433823529411768, \"yanchor\": \"bottom\", \"yref\": \"paper\"}, {\"font\": {\"color\": \"#000000\", \"size\": 12.0}, \"showarrow\": false, \"text\": \"Onshore turbines | Cumulative\", \"x\": 0.7714982830290981, \"xanchor\": \"center\", \"xref\": \"paper\", \"y\": 1.0433823529411768, \"yanchor\": \"bottom\", \"yref\": \"paper\"}], \"xaxis2\": {\"anchor\": \"y2\", \"domain\": [0.5454545454545454, 1.0], \"mirror\": \"ticks\", \"nticks\": 5, \"range\": [2002.2, 2019.8], \"showgrid\": false, \"showline\": true, \"side\": \"bottom\", \"tickfont\": {\"size\": 10.0}, \"ticks\": \"inside\", \"type\": \"linear\", \"zeroline\": false}, \"yaxis2\": {\"anchor\": \"x2\", \"domain\": [0.0, 1.0], \"mirror\": \"ticks\", \"nticks\": 9, \"range\": [8.07783243766479, 9.496862584033343], \"showgrid\": false, \"showline\": true, \"side\": \"left\", \"tickfont\": {\"size\": 10.0}, \"ticks\": \"inside\", \"type\": \"linear\", \"zeroline\": false, \"title\": \"Capacity weighted mean windspeed [m/s]\", \"titlefont\": {\"color\": \"#000000\", \"size\": 10.0}}, \"showlegend\": true}, {\"showLink\": true, \"linkText\": \"Export to plot.ly\"})});</script>"
      ]
     },
     "metadata": {},
     "output_type": "display_data"
    }
   ],
   "source": [
    "df=turbines[((turbines['POWER_KW'].replace('#ND',0).astype(int)>0)&\\\n",
    "       (turbines['POWER_KW'].replace('#ND',0).astype(int)<1000000)&(turbines['OFFSHORE']=='yes'))]\n",
    "countries=[{'GB','US','IN','CN','FR','DE'},{'GB'}]\n",
    "\n",
    "\n",
    "fig, ax = plt.subplots(1,2,figsize=(9,5))\n",
    "for s in range(len(countries)):\n",
    "    for c in countries[s]:\n",
    "        x,y,z,w=projects(ofs,c)\n",
    "        ax[s].plot(x,z,label=c)\n",
    "\n",
    "    ax[s].set_ylabel('Capacity weighted mean windspeed [m/s]')\n",
    "    ax[s].set_title(\"Onshore turbines | Cumulative\")\n",
    "\n",
    "plotly_fig = tls.mpl_to_plotly(fig)\n",
    "plotly_fig[\"layout\"][\"showlegend\"] = True\n",
    "plotly_fig[\"layout\"]['hovermode']='x'\n",
    "iplot(plotly_fig, filename='ofs4')"
   ]
  },
  {
   "cell_type": "markdown",
   "metadata": {},
   "source": [
    "Compare turbines with resources"
   ]
  },
  {
   "cell_type": "code",
   "execution_count": 357,
   "metadata": {},
   "outputs": [
    {
     "name": "stdout",
     "output_type": "stream",
     "text": [
      "This is the format of your plot grid:\n",
      "[ (1,1) x1,y1 ]  [ (1,2) x2,y2 ]  [ (1,3) x3,y3 ]\n",
      "\n"
     ]
    },
    {
     "data": {
      "application/vnd.plotly.v1+json": {
       "data": [
        {
         "fill": "toself",
         "legendgroup": "United Kingdom",
         "line": {
          "color": "#AA5585",
          "shape": "spline",
          "smoothing": 0.9
         },
         "mode": "lines",
         "name": "United Kingdom",
         "type": "scatter",
         "uid": "fb75db86-cf2d-11e8-b526-b00594f12df5",
         "x": [
          0,
          0,
          0,
          0,
          632.5816338156643,
          862.8978288297716,
          82.84682320313401,
          4.770151493654107,
          0
         ],
         "xaxis": "x",
         "y": [
          6.1,
          7,
          7.6,
          8.2,
          8.7,
          9.6,
          10.7,
          11.8,
          12.9
         ],
         "yaxis": "y"
        },
        {
         "legendgroup": "United Kingdom",
         "marker": {
          "color": "#AA5585"
         },
         "name": "mean GB",
         "showlegend": false,
         "type": "scatter",
         "uid": "fb7a79e4-cf2d-11e8-97f9-b00594f12df5",
         "x": [
          -100
         ],
         "xaxis": "x",
         "y": [
          9.304567820006087
         ],
         "yaxis": "y"
        },
        {
         "legendgroup": "United Kingdom",
         "line": {
          "color": "#AA5585",
          "shape": "spline",
          "smoothing": 0.4
         },
         "mode": "lines",
         "name": "wind speed GB",
         "showlegend": false,
         "type": "scatter",
         "uid": "fb7d9b24-cf2d-11e8-acfd-b00594f12df5",
         "x": [
          1992,
          1993,
          1994,
          1995,
          1996,
          1997,
          1998,
          1999,
          2000,
          2001,
          2002,
          2003,
          2004,
          2005,
          2006,
          2007,
          2008,
          2009,
          2010,
          2011,
          2012,
          2013,
          2014,
          2015,
          2016,
          2017,
          2018
         ],
         "xaxis": "x2",
         "y": [
          9.052826196279666,
          8.97770125041792,
          9.0069373154715,
          8.90205133770622,
          8.819440759022696,
          8.811251064434297,
          8.833980300709218,
          8.808248375631871,
          8.825377634788145,
          8.818932683050908,
          8.866841465667742,
          8.855797749597716,
          8.755327330874321,
          8.680626783913933,
          8.66047478617187,
          8.65454770171637,
          8.563881533535167,
          8.54312825244643,
          8.53833322535382,
          8.570713073511815,
          8.530615173384525,
          8.542275468017527,
          8.544388541010354,
          8.540381140323,
          8.528885496264223,
          8.528872745626595,
          8.507290179853987
         ],
         "yaxis": "y"
        },
        {
         "legendgroup": "United Kingdom",
         "line": {
          "color": "#AA5585",
          "dash": "dash",
          "shape": "spline",
          "smoothing": 0.4
         },
         "mode": "lines",
         "name": "capacity GB",
         "showlegend": false,
         "type": "scatter",
         "uid": "fb81e0d2-cf2d-11e8-b58e-b00594f12df5",
         "x": [
          1992,
          1993,
          1994,
          1995,
          1996,
          1997,
          1998,
          1999,
          2000,
          2001,
          2002,
          2003,
          2004,
          2005,
          2006,
          2007,
          2008,
          2009,
          2010,
          2011,
          2012,
          2013,
          2014,
          2015,
          2016,
          2017,
          2018
         ],
         "xaxis": "x2",
         "y": [
          0.038975,
          0.074775,
          0.095175,
          0.125775,
          0.201575,
          0.246375,
          0.264375,
          0.287835,
          0.345635,
          0.412795,
          0.501205,
          0.54688,
          0.727935,
          1.10891,
          1.61251,
          1.97976,
          2.53346,
          3.35489,
          3.837765,
          4.37916,
          5.47223,
          6.66834,
          7.658005,
          7.945205,
          8.385805,
          8.474805,
          10.062885
         ],
         "yaxis": "y2"
        },
        {
         "fill": "toself",
         "legendgroup": "Germany",
         "line": {
          "color": "#499272",
          "shape": "spline",
          "smoothing": 0.9
         },
         "mode": "lines",
         "name": "Germany",
         "type": "scatter",
         "uid": "fbdb79d2-cf2d-11e8-a600-b00594f12df5",
         "x": [
          0,
          242.5148525488719,
          190.7132987184146,
          668.4905765204946,
          173.99549903864298,
          31.787314732676556,
          0,
          0,
          0
         ],
         "xaxis": "x",
         "y": [
          6.1,
          7,
          7.6,
          8.2,
          8.7,
          9.6,
          10.7,
          11.8,
          12.9
         ],
         "yaxis": "y"
        },
        {
         "legendgroup": "Germany",
         "marker": {
          "color": "#499272"
         },
         "name": "mean DE",
         "showlegend": false,
         "type": "scatter",
         "uid": "fbdd75c2-cf2d-11e8-86e7-b00594f12df5",
         "x": [
          -100
         ],
         "xaxis": "x",
         "y": [
          7.990481461445953
         ],
         "yaxis": "y"
        },
        {
         "legendgroup": "Germany",
         "line": {
          "color": "#499272",
          "shape": "spline",
          "smoothing": 0.4
         },
         "mode": "lines",
         "name": "wind speed DE",
         "showlegend": false,
         "type": "scatter",
         "uid": "fbdf2366-cf2d-11e8-b13b-b00594f12df5",
         "x": [
          1983,
          1990,
          1991,
          1992,
          1993,
          1994,
          1995,
          1996,
          1997,
          1998,
          1999,
          2000,
          2001,
          2002,
          2003,
          2004,
          2005,
          2006,
          2007,
          2008,
          2009,
          2010,
          2011,
          2012,
          2013,
          2014,
          2015,
          2016,
          2017,
          2018
         ],
         "xaxis": "x2",
         "y": [
          9.48143,
          8.353140700549451,
          7.992785361328126,
          7.775758683341798,
          8.006475163425733,
          7.632702140854399,
          7.319423983832645,
          7.2376122765108635,
          7.094800448846894,
          7.031499690788499,
          6.9038595603371515,
          6.819535409985023,
          6.777125695152,
          6.696810953611478,
          6.686244621734933,
          6.670227842521389,
          6.643205767820324,
          6.628754504357796,
          6.620756158282636,
          6.6182469029824516,
          6.615801969036588,
          6.625464690460019,
          6.630435350433767,
          6.631403435749736,
          6.639190567552989,
          6.647288550107171,
          6.654560811691851,
          6.658163889039707,
          6.657664300626021,
          6.6646041164980385
         ],
         "yaxis": "y"
        },
        {
         "legendgroup": "Germany",
         "line": {
          "color": "#499272",
          "dash": "dash",
          "shape": "spline",
          "smoothing": 0.4
         },
         "mode": "lines",
         "name": "capacity DE",
         "showlegend": false,
         "type": "scatter",
         "uid": "fbe0f826-cf2d-11e8-9497-b00594f12df5",
         "x": [
          1983,
          1990,
          1991,
          1992,
          1993,
          1994,
          1995,
          1996,
          1997,
          1998,
          1999,
          2000,
          2001,
          2002,
          2003,
          2004,
          2005,
          2006,
          2007,
          2008,
          2009,
          2010,
          2011,
          2012,
          2013,
          2014,
          2015,
          2016,
          2017,
          2018
         ],
         "xaxis": "x2",
         "y": [
          0.0003,
          0.00728,
          0.02048,
          0.03938,
          0.09668,
          0.226475,
          0.526493,
          0.805632,
          1.146382,
          1.929262,
          3.159057,
          4.862202,
          8.186447,
          11.446517,
          14.322602,
          16.437572,
          18.347997,
          20.909307,
          22.704057,
          23.744457,
          26.394507,
          27.339457,
          28.367857,
          29.284307,
          30.324957,
          31.679707,
          32.924847,
          33.539547,
          33.573747,
          34.153897
         ],
         "yaxis": "y2"
        },
        {
         "fill": "toself",
         "legendgroup": "France",
         "line": {
          "color": "#D4CB6A",
          "shape": "spline",
          "smoothing": 0.9
         },
         "mode": "lines",
         "name": "France",
         "type": "scatter",
         "uid": "fc1113ee-cf2d-11e8-ad4d-b00594f12df5",
         "x": [
          33.42148578645111,
          443.7292391139924,
          1275.9867975162203,
          1073.562661829521,
          225.2576723282198,
          22.266624274739918,
          0,
          0,
          0
         ],
         "xaxis": "x",
         "y": [
          6.1,
          7,
          7.6,
          8.2,
          8.7,
          9.6,
          10.7,
          11.8,
          12.9
         ],
         "yaxis": "y"
        },
        {
         "legendgroup": "France",
         "marker": {
          "color": "#D4CB6A"
         },
         "name": "mean FR",
         "showlegend": false,
         "type": "scatter",
         "uid": "fc1818c0-cf2d-11e8-afe5-b00594f12df5",
         "x": [
          -100
         ],
         "xaxis": "x",
         "y": [
          7.80170437029663
         ],
         "yaxis": "y"
        },
        {
         "legendgroup": "France",
         "line": {
          "color": "#D4CB6A",
          "shape": "spline",
          "smoothing": 0.4
         },
         "mode": "lines",
         "name": "wind speed FR",
         "showlegend": false,
         "type": "scatter",
         "uid": "fc1dbe2e-cf2d-11e8-9bf5-b00594f12df5",
         "x": [
          1991,
          1993,
          1996,
          1997,
          1998,
          1999,
          2000,
          2001,
          2002,
          2003,
          2004,
          2005,
          2006,
          2007,
          2008,
          2009,
          2010,
          2011,
          2012,
          2013,
          2014,
          2015,
          2016,
          2017,
          2018
         ],
         "xaxis": "x2",
         "y": [
          8.7361,
          8.7361,
          7.969746326530612,
          7.9440137735849055,
          7.938146036036036,
          8.0113136162653,
          8.02078965070319,
          8.080178414891884,
          8.20524875786874,
          8.231236166575156,
          8.09342348993203,
          7.717175316624374,
          7.589645421553206,
          7.47241775695195,
          7.431261433791472,
          7.3964038946452755,
          7.336683542744167,
          7.346605033508236,
          7.34765429727374,
          7.3431476074620265,
          7.330832850449616,
          7.307462063774282,
          7.302649338768402,
          7.300275714986752,
          7.289803736025247
         ],
         "yaxis": "y"
        },
        {
         "legendgroup": "France",
         "line": {
          "color": "#D4CB6A",
          "dash": "dash",
          "shape": "spline",
          "smoothing": 0.4
         },
         "mode": "lines",
         "name": "capacity FR",
         "showlegend": false,
         "type": "scatter",
         "uid": "fc24ea24-cf2d-11e8-bba3-b00594f12df5",
         "x": [
          1991,
          1993,
          1996,
          1997,
          1998,
          1999,
          2000,
          2001,
          2002,
          2003,
          2004,
          2005,
          2006,
          2007,
          2008,
          2009,
          2010,
          2011,
          2012,
          2013,
          2014,
          2015,
          2016,
          2017,
          2018
         ],
         "xaxis": "x2",
         "y": [
          0.0002,
          0.0022,
          0.0049,
          0.0053,
          0.00555,
          0.012665,
          0.054395,
          0.092265,
          0.166005,
          0.264085,
          0.392085,
          0.78421,
          1.452545,
          2.206395,
          3.33741,
          4.53506,
          5.940635,
          6.730435,
          7.589335,
          8.246285,
          9.319635,
          10.3882,
          11.4258,
          11.4728,
          11.96175
         ],
         "yaxis": "y2"
        }
       ],
       "layout": {
        "hovermode": "x",
        "legend": {
         "orientation": "h",
         "x": 0.55,
         "xanchor": "center",
         "y": 1
        },
        "showlegend": true,
        "title": "Onshore wind resources vs. projects by capacity weighted average wind speed",
        "xaxis": {
         "autorange": "reversed",
         "domain": [
          0,
          0.3
         ],
         "title": "Available power (TW)"
        },
        "xaxis2": {
         "domain": [
          0.3,
          1
         ],
         "title": "Year"
        },
        "yaxis": {
         "hoverformat": ".2f",
         "title": "Wind speed (m/s)"
        },
        "yaxis2": {
         "anchor": "x2",
         "hoverformat": ".2f",
         "overlaying": "y",
         "showgrid": false,
         "side": "right",
         "title": "Cumulative project capacity (GW)"
        }
       }
      },
      "text/html": [
       "<div id=\"7543784c-2238-48f0-bcf4-f73be78747e8\" style=\"height: 525px; width: 100%;\" class=\"plotly-graph-div\"></div><script type=\"text/javascript\">require([\"plotly\"], function(Plotly) { window.PLOTLYENV=window.PLOTLYENV || {};window.PLOTLYENV.BASE_URL=\"https://plot.ly\";Plotly.newPlot(\"7543784c-2238-48f0-bcf4-f73be78747e8\", [{\"fill\": \"toself\", \"legendgroup\": \"United Kingdom\", \"line\": {\"color\": \"#AA5585\", \"shape\": \"spline\", \"smoothing\": 0.9}, \"mode\": \"lines\", \"name\": \"United Kingdom\", \"x\": [0.0, 0.0, 0.0, 0.0, 632.5816338156643, 862.8978288297716, 82.84682320313401, 4.770151493654107, 0.0], \"y\": [6.1, 7.0, 7.6, 8.2, 8.7, 9.6, 10.7, 11.8, 12.9], \"type\": \"scatter\", \"uid\": \"fb75db86-cf2d-11e8-b526-b00594f12df5\", \"xaxis\": \"x\", \"yaxis\": \"y\"}, {\"legendgroup\": \"United Kingdom\", \"marker\": {\"color\": \"#AA5585\"}, \"name\": \"mean GB\", \"showlegend\": false, \"x\": [-100], \"y\": [9.304567820006087], \"type\": \"scatter\", \"uid\": \"fb7a79e4-cf2d-11e8-97f9-b00594f12df5\", \"xaxis\": \"x\", \"yaxis\": \"y\"}, {\"legendgroup\": \"United Kingdom\", \"line\": {\"color\": \"#AA5585\", \"shape\": \"spline\", \"smoothing\": 0.4}, \"mode\": \"lines\", \"name\": \"wind speed GB\", \"showlegend\": false, \"x\": [1992.0, 1993.0, 1994.0, 1995.0, 1996.0, 1997.0, 1998.0, 1999.0, 2000.0, 2001.0, 2002.0, 2003.0, 2004.0, 2005.0, 2006.0, 2007.0, 2008.0, 2009.0, 2010.0, 2011.0, 2012.0, 2013.0, 2014.0, 2015.0, 2016.0, 2017.0, 2018.0], \"y\": [9.052826196279666, 8.97770125041792, 9.0069373154715, 8.90205133770622, 8.819440759022696, 8.811251064434297, 8.833980300709218, 8.808248375631871, 8.825377634788145, 8.818932683050908, 8.866841465667742, 8.855797749597716, 8.755327330874321, 8.680626783913933, 8.66047478617187, 8.65454770171637, 8.563881533535167, 8.54312825244643, 8.53833322535382, 8.570713073511815, 8.530615173384525, 8.542275468017527, 8.544388541010354, 8.540381140323, 8.528885496264223, 8.528872745626595, 8.507290179853987], \"type\": \"scatter\", \"uid\": \"fb7d9b24-cf2d-11e8-acfd-b00594f12df5\", \"xaxis\": \"x2\", \"yaxis\": \"y\"}, {\"legendgroup\": \"United Kingdom\", \"line\": {\"color\": \"#AA5585\", \"dash\": \"dash\", \"shape\": \"spline\", \"smoothing\": 0.4}, \"mode\": \"lines\", \"name\": \"capacity GB\", \"showlegend\": false, \"x\": [1992.0, 1993.0, 1994.0, 1995.0, 1996.0, 1997.0, 1998.0, 1999.0, 2000.0, 2001.0, 2002.0, 2003.0, 2004.0, 2005.0, 2006.0, 2007.0, 2008.0, 2009.0, 2010.0, 2011.0, 2012.0, 2013.0, 2014.0, 2015.0, 2016.0, 2017.0, 2018.0], \"y\": [0.038975, 0.074775, 0.095175, 0.125775, 0.201575, 0.246375, 0.264375, 0.287835, 0.345635, 0.412795, 0.501205, 0.54688, 0.727935, 1.10891, 1.61251, 1.97976, 2.53346, 3.35489, 3.837765, 4.37916, 5.47223, 6.66834, 7.658005, 7.945205, 8.385805, 8.474805, 10.062885], \"type\": \"scatter\", \"uid\": \"fb81e0d2-cf2d-11e8-b58e-b00594f12df5\", \"xaxis\": \"x2\", \"yaxis\": \"y2\"}, {\"fill\": \"toself\", \"legendgroup\": \"Germany\", \"line\": {\"color\": \"#499272\", \"shape\": \"spline\", \"smoothing\": 0.9}, \"mode\": \"lines\", \"name\": \"Germany\", \"x\": [0.0, 242.5148525488719, 190.7132987184146, 668.4905765204946, 173.99549903864298, 31.787314732676556, 0.0, 0.0, 0.0], \"y\": [6.1, 7.0, 7.6, 8.2, 8.7, 9.6, 10.7, 11.8, 12.9], \"type\": \"scatter\", \"uid\": \"fbdb79d2-cf2d-11e8-a600-b00594f12df5\", \"xaxis\": \"x\", \"yaxis\": \"y\"}, {\"legendgroup\": \"Germany\", \"marker\": {\"color\": \"#499272\"}, \"name\": \"mean DE\", \"showlegend\": false, \"x\": [-100], \"y\": [7.990481461445953], \"type\": \"scatter\", \"uid\": \"fbdd75c2-cf2d-11e8-86e7-b00594f12df5\", \"xaxis\": \"x\", \"yaxis\": \"y\"}, {\"legendgroup\": \"Germany\", \"line\": {\"color\": \"#499272\", \"shape\": \"spline\", \"smoothing\": 0.4}, \"mode\": \"lines\", \"name\": \"wind speed DE\", \"showlegend\": false, \"x\": [1983.0, 1990.0, 1991.0, 1992.0, 1993.0, 1994.0, 1995.0, 1996.0, 1997.0, 1998.0, 1999.0, 2000.0, 2001.0, 2002.0, 2003.0, 2004.0, 2005.0, 2006.0, 2007.0, 2008.0, 2009.0, 2010.0, 2011.0, 2012.0, 2013.0, 2014.0, 2015.0, 2016.0, 2017.0, 2018.0], \"y\": [9.48143, 8.353140700549451, 7.992785361328126, 7.775758683341798, 8.006475163425733, 7.632702140854399, 7.319423983832645, 7.2376122765108635, 7.094800448846894, 7.031499690788499, 6.9038595603371515, 6.819535409985023, 6.777125695152, 6.696810953611478, 6.686244621734933, 6.670227842521389, 6.643205767820324, 6.628754504357796, 6.620756158282636, 6.6182469029824516, 6.615801969036588, 6.625464690460019, 6.630435350433767, 6.631403435749736, 6.639190567552989, 6.647288550107171, 6.654560811691851, 6.658163889039707, 6.657664300626021, 6.6646041164980385], \"type\": \"scatter\", \"uid\": \"fbdf2366-cf2d-11e8-b13b-b00594f12df5\", \"xaxis\": \"x2\", \"yaxis\": \"y\"}, {\"legendgroup\": \"Germany\", \"line\": {\"color\": \"#499272\", \"dash\": \"dash\", \"shape\": \"spline\", \"smoothing\": 0.4}, \"mode\": \"lines\", \"name\": \"capacity DE\", \"showlegend\": false, \"x\": [1983.0, 1990.0, 1991.0, 1992.0, 1993.0, 1994.0, 1995.0, 1996.0, 1997.0, 1998.0, 1999.0, 2000.0, 2001.0, 2002.0, 2003.0, 2004.0, 2005.0, 2006.0, 2007.0, 2008.0, 2009.0, 2010.0, 2011.0, 2012.0, 2013.0, 2014.0, 2015.0, 2016.0, 2017.0, 2018.0], \"y\": [0.0003, 0.00728, 0.02048, 0.03938, 0.09668, 0.226475, 0.526493, 0.805632, 1.146382, 1.929262, 3.159057, 4.862202, 8.186447, 11.446517, 14.322602, 16.437572, 18.347997, 20.909307, 22.704057, 23.744457, 26.394507, 27.339457, 28.367857, 29.284307, 30.324957, 31.679707, 32.924847, 33.539547, 33.573747, 34.153897], \"type\": \"scatter\", \"uid\": \"fbe0f826-cf2d-11e8-9497-b00594f12df5\", \"xaxis\": \"x2\", \"yaxis\": \"y2\"}, {\"fill\": \"toself\", \"legendgroup\": \"France\", \"line\": {\"color\": \"#D4CB6A\", \"shape\": \"spline\", \"smoothing\": 0.9}, \"mode\": \"lines\", \"name\": \"France\", \"x\": [33.42148578645111, 443.7292391139924, 1275.9867975162203, 1073.562661829521, 225.2576723282198, 22.266624274739918, 0.0, 0.0, 0.0], \"y\": [6.1, 7.0, 7.6, 8.2, 8.7, 9.6, 10.7, 11.8, 12.9], \"type\": \"scatter\", \"uid\": \"fc1113ee-cf2d-11e8-ad4d-b00594f12df5\", \"xaxis\": \"x\", \"yaxis\": \"y\"}, {\"legendgroup\": \"France\", \"marker\": {\"color\": \"#D4CB6A\"}, \"name\": \"mean FR\", \"showlegend\": false, \"x\": [-100], \"y\": [7.80170437029663], \"type\": \"scatter\", \"uid\": \"fc1818c0-cf2d-11e8-afe5-b00594f12df5\", \"xaxis\": \"x\", \"yaxis\": \"y\"}, {\"legendgroup\": \"France\", \"line\": {\"color\": \"#D4CB6A\", \"shape\": \"spline\", \"smoothing\": 0.4}, \"mode\": \"lines\", \"name\": \"wind speed FR\", \"showlegend\": false, \"x\": [1991.0, 1993.0, 1996.0, 1997.0, 1998.0, 1999.0, 2000.0, 2001.0, 2002.0, 2003.0, 2004.0, 2005.0, 2006.0, 2007.0, 2008.0, 2009.0, 2010.0, 2011.0, 2012.0, 2013.0, 2014.0, 2015.0, 2016.0, 2017.0, 2018.0], \"y\": [8.7361, 8.7361, 7.969746326530612, 7.9440137735849055, 7.938146036036036, 8.0113136162653, 8.02078965070319, 8.080178414891884, 8.20524875786874, 8.231236166575156, 8.09342348993203, 7.717175316624374, 7.589645421553206, 7.47241775695195, 7.431261433791472, 7.3964038946452755, 7.336683542744167, 7.346605033508236, 7.34765429727374, 7.3431476074620265, 7.330832850449616, 7.307462063774282, 7.302649338768402, 7.300275714986752, 7.289803736025247], \"type\": \"scatter\", \"uid\": \"fc1dbe2e-cf2d-11e8-9bf5-b00594f12df5\", \"xaxis\": \"x2\", \"yaxis\": \"y\"}, {\"legendgroup\": \"France\", \"line\": {\"color\": \"#D4CB6A\", \"dash\": \"dash\", \"shape\": \"spline\", \"smoothing\": 0.4}, \"mode\": \"lines\", \"name\": \"capacity FR\", \"showlegend\": false, \"x\": [1991.0, 1993.0, 1996.0, 1997.0, 1998.0, 1999.0, 2000.0, 2001.0, 2002.0, 2003.0, 2004.0, 2005.0, 2006.0, 2007.0, 2008.0, 2009.0, 2010.0, 2011.0, 2012.0, 2013.0, 2014.0, 2015.0, 2016.0, 2017.0, 2018.0], \"y\": [0.0002, 0.0022, 0.0049, 0.0053, 0.00555, 0.012665, 0.054395, 0.092265, 0.166005, 0.264085, 0.392085, 0.78421, 1.452545, 2.206395, 3.33741, 4.53506, 5.940635, 6.730435, 7.589335, 8.246285, 9.319635, 10.3882, 11.4258, 11.4728, 11.96175], \"type\": \"scatter\", \"uid\": \"fc24ea24-cf2d-11e8-bba3-b00594f12df5\", \"xaxis\": \"x2\", \"yaxis\": \"y2\"}], {\"legend\": {\"orientation\": \"h\", \"x\": 0.55, \"xanchor\": \"center\", \"y\": 1}, \"title\": \"Onshore wind resources vs. projects by capacity weighted average wind speed\", \"xaxis\": {\"autorange\": \"reversed\", \"domain\": [0, 0.3], \"title\": \"Available power (TW)\"}, \"yaxis\": {\"hoverformat\": \".2f\", \"title\": \"Wind speed (m/s)\"}, \"xaxis2\": {\"domain\": [0.3, 1], \"title\": \"Year\"}, \"yaxis2\": {\"anchor\": \"x2\", \"hoverformat\": \".2f\", \"overlaying\": \"y\", \"showgrid\": false, \"side\": \"right\", \"title\": \"Cumulative project capacity (GW)\"}, \"showlegend\": true, \"hovermode\": \"x\"}, {\"showLink\": true, \"linkText\": \"Export to plot.ly\"})});</script>"
      ],
      "text/vnd.plotly.v1+html": [
       "<div id=\"7543784c-2238-48f0-bcf4-f73be78747e8\" style=\"height: 525px; width: 100%;\" class=\"plotly-graph-div\"></div><script type=\"text/javascript\">require([\"plotly\"], function(Plotly) { window.PLOTLYENV=window.PLOTLYENV || {};window.PLOTLYENV.BASE_URL=\"https://plot.ly\";Plotly.newPlot(\"7543784c-2238-48f0-bcf4-f73be78747e8\", [{\"fill\": \"toself\", \"legendgroup\": \"United Kingdom\", \"line\": {\"color\": \"#AA5585\", \"shape\": \"spline\", \"smoothing\": 0.9}, \"mode\": \"lines\", \"name\": \"United Kingdom\", \"x\": [0.0, 0.0, 0.0, 0.0, 632.5816338156643, 862.8978288297716, 82.84682320313401, 4.770151493654107, 0.0], \"y\": [6.1, 7.0, 7.6, 8.2, 8.7, 9.6, 10.7, 11.8, 12.9], \"type\": \"scatter\", \"uid\": \"fb75db86-cf2d-11e8-b526-b00594f12df5\", \"xaxis\": \"x\", \"yaxis\": \"y\"}, {\"legendgroup\": \"United Kingdom\", \"marker\": {\"color\": \"#AA5585\"}, \"name\": \"mean GB\", \"showlegend\": false, \"x\": [-100], \"y\": [9.304567820006087], \"type\": \"scatter\", \"uid\": \"fb7a79e4-cf2d-11e8-97f9-b00594f12df5\", \"xaxis\": \"x\", \"yaxis\": \"y\"}, {\"legendgroup\": \"United Kingdom\", \"line\": {\"color\": \"#AA5585\", \"shape\": \"spline\", \"smoothing\": 0.4}, \"mode\": \"lines\", \"name\": \"wind speed GB\", \"showlegend\": false, \"x\": [1992.0, 1993.0, 1994.0, 1995.0, 1996.0, 1997.0, 1998.0, 1999.0, 2000.0, 2001.0, 2002.0, 2003.0, 2004.0, 2005.0, 2006.0, 2007.0, 2008.0, 2009.0, 2010.0, 2011.0, 2012.0, 2013.0, 2014.0, 2015.0, 2016.0, 2017.0, 2018.0], \"y\": [9.052826196279666, 8.97770125041792, 9.0069373154715, 8.90205133770622, 8.819440759022696, 8.811251064434297, 8.833980300709218, 8.808248375631871, 8.825377634788145, 8.818932683050908, 8.866841465667742, 8.855797749597716, 8.755327330874321, 8.680626783913933, 8.66047478617187, 8.65454770171637, 8.563881533535167, 8.54312825244643, 8.53833322535382, 8.570713073511815, 8.530615173384525, 8.542275468017527, 8.544388541010354, 8.540381140323, 8.528885496264223, 8.528872745626595, 8.507290179853987], \"type\": \"scatter\", \"uid\": \"fb7d9b24-cf2d-11e8-acfd-b00594f12df5\", \"xaxis\": \"x2\", \"yaxis\": \"y\"}, {\"legendgroup\": \"United Kingdom\", \"line\": {\"color\": \"#AA5585\", \"dash\": \"dash\", \"shape\": \"spline\", \"smoothing\": 0.4}, \"mode\": \"lines\", \"name\": \"capacity GB\", \"showlegend\": false, \"x\": [1992.0, 1993.0, 1994.0, 1995.0, 1996.0, 1997.0, 1998.0, 1999.0, 2000.0, 2001.0, 2002.0, 2003.0, 2004.0, 2005.0, 2006.0, 2007.0, 2008.0, 2009.0, 2010.0, 2011.0, 2012.0, 2013.0, 2014.0, 2015.0, 2016.0, 2017.0, 2018.0], \"y\": [0.038975, 0.074775, 0.095175, 0.125775, 0.201575, 0.246375, 0.264375, 0.287835, 0.345635, 0.412795, 0.501205, 0.54688, 0.727935, 1.10891, 1.61251, 1.97976, 2.53346, 3.35489, 3.837765, 4.37916, 5.47223, 6.66834, 7.658005, 7.945205, 8.385805, 8.474805, 10.062885], \"type\": \"scatter\", \"uid\": \"fb81e0d2-cf2d-11e8-b58e-b00594f12df5\", \"xaxis\": \"x2\", \"yaxis\": \"y2\"}, {\"fill\": \"toself\", \"legendgroup\": \"Germany\", \"line\": {\"color\": \"#499272\", \"shape\": \"spline\", \"smoothing\": 0.9}, \"mode\": \"lines\", \"name\": \"Germany\", \"x\": [0.0, 242.5148525488719, 190.7132987184146, 668.4905765204946, 173.99549903864298, 31.787314732676556, 0.0, 0.0, 0.0], \"y\": [6.1, 7.0, 7.6, 8.2, 8.7, 9.6, 10.7, 11.8, 12.9], \"type\": \"scatter\", \"uid\": \"fbdb79d2-cf2d-11e8-a600-b00594f12df5\", \"xaxis\": \"x\", \"yaxis\": \"y\"}, {\"legendgroup\": \"Germany\", \"marker\": {\"color\": \"#499272\"}, \"name\": \"mean DE\", \"showlegend\": false, \"x\": [-100], \"y\": [7.990481461445953], \"type\": \"scatter\", \"uid\": \"fbdd75c2-cf2d-11e8-86e7-b00594f12df5\", \"xaxis\": \"x\", \"yaxis\": \"y\"}, {\"legendgroup\": \"Germany\", \"line\": {\"color\": \"#499272\", \"shape\": \"spline\", \"smoothing\": 0.4}, \"mode\": \"lines\", \"name\": \"wind speed DE\", \"showlegend\": false, \"x\": [1983.0, 1990.0, 1991.0, 1992.0, 1993.0, 1994.0, 1995.0, 1996.0, 1997.0, 1998.0, 1999.0, 2000.0, 2001.0, 2002.0, 2003.0, 2004.0, 2005.0, 2006.0, 2007.0, 2008.0, 2009.0, 2010.0, 2011.0, 2012.0, 2013.0, 2014.0, 2015.0, 2016.0, 2017.0, 2018.0], \"y\": [9.48143, 8.353140700549451, 7.992785361328126, 7.775758683341798, 8.006475163425733, 7.632702140854399, 7.319423983832645, 7.2376122765108635, 7.094800448846894, 7.031499690788499, 6.9038595603371515, 6.819535409985023, 6.777125695152, 6.696810953611478, 6.686244621734933, 6.670227842521389, 6.643205767820324, 6.628754504357796, 6.620756158282636, 6.6182469029824516, 6.615801969036588, 6.625464690460019, 6.630435350433767, 6.631403435749736, 6.639190567552989, 6.647288550107171, 6.654560811691851, 6.658163889039707, 6.657664300626021, 6.6646041164980385], \"type\": \"scatter\", \"uid\": \"fbdf2366-cf2d-11e8-b13b-b00594f12df5\", \"xaxis\": \"x2\", \"yaxis\": \"y\"}, {\"legendgroup\": \"Germany\", \"line\": {\"color\": \"#499272\", \"dash\": \"dash\", \"shape\": \"spline\", \"smoothing\": 0.4}, \"mode\": \"lines\", \"name\": \"capacity DE\", \"showlegend\": false, \"x\": [1983.0, 1990.0, 1991.0, 1992.0, 1993.0, 1994.0, 1995.0, 1996.0, 1997.0, 1998.0, 1999.0, 2000.0, 2001.0, 2002.0, 2003.0, 2004.0, 2005.0, 2006.0, 2007.0, 2008.0, 2009.0, 2010.0, 2011.0, 2012.0, 2013.0, 2014.0, 2015.0, 2016.0, 2017.0, 2018.0], \"y\": [0.0003, 0.00728, 0.02048, 0.03938, 0.09668, 0.226475, 0.526493, 0.805632, 1.146382, 1.929262, 3.159057, 4.862202, 8.186447, 11.446517, 14.322602, 16.437572, 18.347997, 20.909307, 22.704057, 23.744457, 26.394507, 27.339457, 28.367857, 29.284307, 30.324957, 31.679707, 32.924847, 33.539547, 33.573747, 34.153897], \"type\": \"scatter\", \"uid\": \"fbe0f826-cf2d-11e8-9497-b00594f12df5\", \"xaxis\": \"x2\", \"yaxis\": \"y2\"}, {\"fill\": \"toself\", \"legendgroup\": \"France\", \"line\": {\"color\": \"#D4CB6A\", \"shape\": \"spline\", \"smoothing\": 0.9}, \"mode\": \"lines\", \"name\": \"France\", \"x\": [33.42148578645111, 443.7292391139924, 1275.9867975162203, 1073.562661829521, 225.2576723282198, 22.266624274739918, 0.0, 0.0, 0.0], \"y\": [6.1, 7.0, 7.6, 8.2, 8.7, 9.6, 10.7, 11.8, 12.9], \"type\": \"scatter\", \"uid\": \"fc1113ee-cf2d-11e8-ad4d-b00594f12df5\", \"xaxis\": \"x\", \"yaxis\": \"y\"}, {\"legendgroup\": \"France\", \"marker\": {\"color\": \"#D4CB6A\"}, \"name\": \"mean FR\", \"showlegend\": false, \"x\": [-100], \"y\": [7.80170437029663], \"type\": \"scatter\", \"uid\": \"fc1818c0-cf2d-11e8-afe5-b00594f12df5\", \"xaxis\": \"x\", \"yaxis\": \"y\"}, {\"legendgroup\": \"France\", \"line\": {\"color\": \"#D4CB6A\", \"shape\": \"spline\", \"smoothing\": 0.4}, \"mode\": \"lines\", \"name\": \"wind speed FR\", \"showlegend\": false, \"x\": [1991.0, 1993.0, 1996.0, 1997.0, 1998.0, 1999.0, 2000.0, 2001.0, 2002.0, 2003.0, 2004.0, 2005.0, 2006.0, 2007.0, 2008.0, 2009.0, 2010.0, 2011.0, 2012.0, 2013.0, 2014.0, 2015.0, 2016.0, 2017.0, 2018.0], \"y\": [8.7361, 8.7361, 7.969746326530612, 7.9440137735849055, 7.938146036036036, 8.0113136162653, 8.02078965070319, 8.080178414891884, 8.20524875786874, 8.231236166575156, 8.09342348993203, 7.717175316624374, 7.589645421553206, 7.47241775695195, 7.431261433791472, 7.3964038946452755, 7.336683542744167, 7.346605033508236, 7.34765429727374, 7.3431476074620265, 7.330832850449616, 7.307462063774282, 7.302649338768402, 7.300275714986752, 7.289803736025247], \"type\": \"scatter\", \"uid\": \"fc1dbe2e-cf2d-11e8-9bf5-b00594f12df5\", \"xaxis\": \"x2\", \"yaxis\": \"y\"}, {\"legendgroup\": \"France\", \"line\": {\"color\": \"#D4CB6A\", \"dash\": \"dash\", \"shape\": \"spline\", \"smoothing\": 0.4}, \"mode\": \"lines\", \"name\": \"capacity FR\", \"showlegend\": false, \"x\": [1991.0, 1993.0, 1996.0, 1997.0, 1998.0, 1999.0, 2000.0, 2001.0, 2002.0, 2003.0, 2004.0, 2005.0, 2006.0, 2007.0, 2008.0, 2009.0, 2010.0, 2011.0, 2012.0, 2013.0, 2014.0, 2015.0, 2016.0, 2017.0, 2018.0], \"y\": [0.0002, 0.0022, 0.0049, 0.0053, 0.00555, 0.012665, 0.054395, 0.092265, 0.166005, 0.264085, 0.392085, 0.78421, 1.452545, 2.206395, 3.33741, 4.53506, 5.940635, 6.730435, 7.589335, 8.246285, 9.319635, 10.3882, 11.4258, 11.4728, 11.96175], \"type\": \"scatter\", \"uid\": \"fc24ea24-cf2d-11e8-bba3-b00594f12df5\", \"xaxis\": \"x2\", \"yaxis\": \"y2\"}], {\"legend\": {\"orientation\": \"h\", \"x\": 0.55, \"xanchor\": \"center\", \"y\": 1}, \"title\": \"Onshore wind resources vs. projects by capacity weighted average wind speed\", \"xaxis\": {\"autorange\": \"reversed\", \"domain\": [0, 0.3], \"title\": \"Available power (TW)\"}, \"yaxis\": {\"hoverformat\": \".2f\", \"title\": \"Wind speed (m/s)\"}, \"xaxis2\": {\"domain\": [0.3, 1], \"title\": \"Year\"}, \"yaxis2\": {\"anchor\": \"x2\", \"hoverformat\": \".2f\", \"overlaying\": \"y\", \"showgrid\": false, \"side\": \"right\", \"title\": \"Cumulative project capacity (GW)\"}, \"showlegend\": true, \"hovermode\": \"x\"}, {\"showLink\": true, \"linkText\": \"Export to plot.ly\"})});</script>"
      ]
     },
     "metadata": {},
     "output_type": "display_data"
    }
   ],
   "source": [
    "fig = tools.make_subplots(rows=1, cols=3);\n",
    "axes=[]\n",
    "for i in range(len(cs)):\n",
    "    c=cs[i]\n",
    "    c2=c2s[i]\n",
    "    x,y,z,w=projects(ons,c)\n",
    "    x2=[class2speed[i] for i in wind_res[c2].keys()]\n",
    "    y2=np.array(list(wind_res[c2].values()))\n",
    "    #calculate average resource class, weighted by available capacity in each class \n",
    "    x2a=np.average(x2,weights=y2)\n",
    "    fig.append_trace(\n",
    "        go.Scatter(x=y2,y=x2,\n",
    "            mode = 'lines',\n",
    "            fill='toself',\n",
    "            legendgroup= c2,\n",
    "            name = c2,\n",
    "            line=dict(\n",
    "                color=colors[i],\n",
    "                shape='spline',\n",
    "                smoothing=smoothing[1]\n",
    "            )\n",
    "        ),1,1\n",
    "    ); axes.append({'x':'','y':''});\n",
    "    fig.append_trace(\n",
    "        go.Scatter(x=[-100],y=[x2a],\n",
    "            legendgroup= c2,\n",
    "            name = 'mean '+c,\n",
    "            marker=dict(\n",
    "                color=colors[i],\n",
    "            ),\n",
    "            showlegend=False\n",
    "        ),1,1\n",
    "    ); axes.append({'x':'','y':''});\n",
    "    fig.append_trace(\n",
    "        go.Scatter(x=x,y=z,\n",
    "            mode = 'lines',\n",
    "            name = 'wind speed '+ c,  \n",
    "            legendgroup= c2,\n",
    "            line=dict(\n",
    "                color=colors[i],\n",
    "                shape='spline',\n",
    "                smoothing=smoothing[0]\n",
    "            ),\n",
    "            showlegend=False\n",
    "        ),1,2\n",
    "    ); axes.append({'x':'2','y':''});\n",
    "    fig.append_trace(\n",
    "        go.Scatter(x=x,y=np.array(w)/1e6, #kW to GW conversion\n",
    "            mode = 'lines',\n",
    "            name = 'capacity '+ c,  \n",
    "            legendgroup= c2,\n",
    "            line=dict(\n",
    "                color=colors[i],\n",
    "                shape='spline',\n",
    "                dash='dash',\n",
    "                smoothing=smoothing[0]\n",
    "            ),\n",
    "            showlegend=False\n",
    "        ),1,3\n",
    "    ); axes.append({'x':'2','y':'2'});\n",
    "\n",
    "for i in range(len(fig['data'])):\n",
    "    fig['data'][i]['xaxis']='x'+axes[i]['x']\n",
    "    fig['data'][i]['yaxis']='y'+axes[i]['y']\n",
    "\n",
    "layout = go.Layout(\n",
    "    xaxis=dict(\n",
    "        domain=[0, 0.3],\n",
    "        title='Available power (TW)',\n",
    "        autorange='reversed'\n",
    "    ),\n",
    "    yaxis=dict(\n",
    "        title='Wind speed (m/s)',\n",
    "        hoverformat = '.2f'\n",
    "    ),\n",
    "    xaxis2=dict(\n",
    "        domain=[0.3, 1],\n",
    "        title='Year'\n",
    "    ),\n",
    "    yaxis2=dict(\n",
    "        overlaying='y',\n",
    "        showgrid=False,\n",
    "        side='right',\n",
    "        anchor='x2',\n",
    "        hoverformat = '.2f',\n",
    "        title='Cumulative project capacity (GW)',\n",
    "    ),\n",
    "    title='Onshore wind resources vs. projects by capacity weighted average wind speed',\n",
    "    legend=dict(\n",
    "        orientation='h',\n",
    "        x=0.55,\n",
    "        y=1,\n",
    "        xanchor='center'\n",
    "    )\n",
    ")\n",
    "fig[\"layout\"]=layout\n",
    "fig[\"layout\"][\"showlegend\"] = True\n",
    "fig[\"layout\"]['hovermode']='x'\n",
    "iplot(fig, filename='ons5')"
   ]
  },
  {
   "cell_type": "code",
   "execution_count": 358,
   "metadata": {},
   "outputs": [
    {
     "name": "stdout",
     "output_type": "stream",
     "text": [
      "This is the format of your plot grid:\n",
      "[ (1,1) x1,y1 ]  [ (1,2) x2,y2 ]  [ (1,3) x3,y3 ]\n",
      "\n"
     ]
    },
    {
     "data": {
      "application/vnd.plotly.v1+json": {
       "data": [
        {
         "fill": "toself",
         "legendgroup": "United Kingdom",
         "line": {
          "color": "#AA5585",
          "shape": "spline",
          "smoothing": 0.9
         },
         "mode": "lines",
         "name": "United Kingdom",
         "type": "scatter",
         "uid": "00009ba8-cf2e-11e8-ba51-b00594f12df5",
         "x": [
          0,
          0,
          0,
          0,
          632.5816338156643,
          862.8978288297716,
          82.84682320313401,
          4.770151493654107,
          0
         ],
         "xaxis": "x",
         "y": [
          6.1,
          7,
          7.6,
          8.2,
          8.7,
          9.6,
          10.7,
          11.8,
          12.9
         ],
         "yaxis": "y"
        },
        {
         "legendgroup": "United Kingdom",
         "marker": {
          "color": "#AA5585"
         },
         "name": "mean GB",
         "showlegend": false,
         "type": "scatter",
         "uid": "0003afca-cf2e-11e8-9309-b00594f12df5",
         "x": [
          -100
         ],
         "xaxis": "x",
         "y": [
          9.304567820006087
         ],
         "yaxis": "y"
        },
        {
         "legendgroup": "United Kingdom",
         "line": {
          "color": "#AA5585",
          "shape": "spline",
          "smoothing": 0.4
         },
         "mode": "lines",
         "name": "wind speed GB",
         "showlegend": false,
         "type": "scatter",
         "uid": "0006eb1e-cf2e-11e8-9be1-b00594f12df5",
         "x": [
          1992,
          1993,
          1994,
          1995,
          1996,
          1997,
          1998,
          1999,
          2000,
          2001,
          2002,
          2003,
          2004,
          2005,
          2006,
          2007,
          2008,
          2009,
          2010,
          2011,
          2012,
          2013,
          2014,
          2015,
          2016,
          2017,
          2018
         ],
         "xaxis": "x2",
         "y": [
          9.052826196279666,
          8.895913687150838,
          9.114100392156864,
          8.575825098039216,
          8.682364960422163,
          8.77440200892857,
          9.14508672222222,
          8.51827063938619,
          8.910678678200691,
          8.785764117033949,
          9.090532291595975,
          8.734611855500821,
          8.451854559664191,
          8.537895259137736,
          8.616100775416996,
          8.628523241660993,
          8.23970372403829,
          8.479120841581146,
          8.505018623349729,
          8.800242803128954,
          8.369971188716187,
          8.595621576736255,
          8.558626378218891,
          8.433526354456824,
          8.321588064003633,
          8.527671348314607,
          8.392114599075613
         ],
         "yaxis": "y"
        },
        {
         "legendgroup": "United Kingdom",
         "line": {
          "color": "#AA5585",
          "dash": "dash",
          "shape": "spline",
          "smoothing": 0.4
         },
         "mode": "lines",
         "name": "capacity GB",
         "showlegend": false,
         "type": "scatter",
         "uid": "0009d150-cf2e-11e8-9e18-b00594f12df5",
         "x": [
          1992,
          1993,
          1994,
          1995,
          1996,
          1997,
          1998,
          1999,
          2000,
          2001,
          2002,
          2003,
          2004,
          2005,
          2006,
          2007,
          2008,
          2009,
          2010,
          2011,
          2012,
          2013,
          2014,
          2015,
          2016,
          2017,
          2018
         ],
         "xaxis": "x2",
         "y": [
          0.038975,
          0.0358,
          0.0204,
          0.0306,
          0.0758,
          0.0448,
          0.018,
          0.02346,
          0.0578,
          0.06716,
          0.08841,
          0.045675,
          0.181055,
          0.380975,
          0.5036,
          0.36725,
          0.5537,
          0.82143,
          0.482875,
          0.541395,
          1.09307,
          1.19611,
          0.989665,
          0.2872,
          0.4406,
          0.089,
          1.58808
         ],
         "yaxis": "y2"
        },
        {
         "fill": "toself",
         "legendgroup": "Germany",
         "line": {
          "color": "#499272",
          "shape": "spline",
          "smoothing": 0.9
         },
         "mode": "lines",
         "name": "Germany",
         "type": "scatter",
         "uid": "0058634a-cf2e-11e8-8bad-b00594f12df5",
         "x": [
          0,
          242.5148525488719,
          190.7132987184146,
          668.4905765204946,
          173.99549903864298,
          31.787314732676556,
          0,
          0,
          0
         ],
         "xaxis": "x",
         "y": [
          6.1,
          7,
          7.6,
          8.2,
          8.7,
          9.6,
          10.7,
          11.8,
          12.9
         ],
         "yaxis": "y"
        },
        {
         "legendgroup": "Germany",
         "marker": {
          "color": "#499272"
         },
         "name": "mean DE",
         "showlegend": false,
         "type": "scatter",
         "uid": "005c1aee-cf2e-11e8-a139-b00594f12df5",
         "x": [
          -100
         ],
         "xaxis": "x",
         "y": [
          7.990481461445953
         ],
         "yaxis": "y"
        },
        {
         "legendgroup": "Germany",
         "line": {
          "color": "#499272",
          "shape": "spline",
          "smoothing": 0.4
         },
         "mode": "lines",
         "name": "wind speed DE",
         "showlegend": false,
         "type": "scatter",
         "uid": "006039d0-cf2e-11e8-8996-b00594f12df5",
         "x": [
          1983,
          1990,
          1991,
          1992,
          1993,
          1994,
          1995,
          1996,
          1997,
          1998,
          1999,
          2000,
          2001,
          2002,
          2003,
          2004,
          2005,
          2006,
          2007,
          2008,
          2009,
          2010,
          2011,
          2012,
          2013,
          2014,
          2015,
          2016,
          2017,
          2018
         ],
         "xaxis": "x2",
         "y": [
          9.48143,
          8.304646891117478,
          7.794043931818181,
          7.540589034391534,
          8.165037379581152,
          7.3542909861705,
          7.082939270877081,
          7.083304597458614,
          6.757151796331622,
          6.938807516222154,
          6.7036219163763064,
          6.663127824348485,
          6.715095188892516,
          6.495130506584215,
          6.644191727800117,
          6.5617620231492655,
          6.410703943101665,
          6.525232580554483,
          6.527573334169104,
          6.56348885284506,
          6.593895352578254,
          6.895365498174506,
          6.7625776536367175,
          6.661369615909214,
          6.858323569403738,
          6.828555184351356,
          6.83958668527234,
          6.851153591996096,
          6.167723684210526,
          7.066216841334137
         ],
         "yaxis": "y"
        },
        {
         "legendgroup": "Germany",
         "line": {
          "color": "#499272",
          "dash": "dash",
          "shape": "spline",
          "smoothing": 0.4
         },
         "mode": "lines",
         "name": "capacity DE",
         "showlegend": false,
         "type": "scatter",
         "uid": "00640a46-cf2e-11e8-b780-b00594f12df5",
         "x": [
          1983,
          1990,
          1991,
          1992,
          1993,
          1994,
          1995,
          1996,
          1997,
          1998,
          1999,
          2000,
          2001,
          2002,
          2003,
          2004,
          2005,
          2006,
          2007,
          2008,
          2009,
          2010,
          2011,
          2012,
          2013,
          2014,
          2015,
          2016,
          2017,
          2018
         ],
         "xaxis": "x2",
         "y": [
          0.0003,
          0.00698,
          0.0132,
          0.0189,
          0.0573,
          0.129795,
          0.300018,
          0.279139,
          0.34075,
          0.78288,
          1.229795,
          1.703145,
          3.324245,
          3.26007,
          2.876085,
          2.11497,
          1.910425,
          2.56131,
          1.79475,
          1.0404,
          2.65005,
          0.94495,
          1.0284,
          0.91645,
          1.04065,
          1.35475,
          1.24514,
          0.6147,
          0.0342,
          0.58015
         ],
         "yaxis": "y2"
        },
        {
         "fill": "toself",
         "legendgroup": "France",
         "line": {
          "color": "#D4CB6A",
          "shape": "spline",
          "smoothing": 0.9
         },
         "mode": "lines",
         "name": "France",
         "type": "scatter",
         "uid": "0093b738-cf2e-11e8-a61b-b00594f12df5",
         "x": [
          33.42148578645111,
          443.7292391139924,
          1275.9867975162203,
          1073.562661829521,
          225.2576723282198,
          22.266624274739918,
          0,
          0,
          0
         ],
         "xaxis": "x",
         "y": [
          6.1,
          7,
          7.6,
          8.2,
          8.7,
          9.6,
          10.7,
          11.8,
          12.9
         ],
         "yaxis": "y"
        },
        {
         "legendgroup": "France",
         "marker": {
          "color": "#D4CB6A"
         },
         "name": "mean FR",
         "showlegend": false,
         "type": "scatter",
         "uid": "00969d6e-cf2e-11e8-8276-b00594f12df5",
         "x": [
          -100
         ],
         "xaxis": "x",
         "y": [
          7.80170437029663
         ],
         "yaxis": "y"
        },
        {
         "legendgroup": "France",
         "line": {
          "color": "#D4CB6A",
          "shape": "spline",
          "smoothing": 0.4
         },
         "mode": "lines",
         "name": "wind speed FR",
         "showlegend": false,
         "type": "scatter",
         "uid": "0099d1b6-cf2e-11e8-ac84-b00594f12df5",
         "x": [
          1991,
          1993,
          1996,
          1997,
          1998,
          1999,
          2000,
          2001,
          2002,
          2003,
          2004,
          2005,
          2006,
          2007,
          2008,
          2009,
          2010,
          2011,
          2012,
          2013,
          2014,
          2015,
          2016,
          2017,
          2018
         ],
         "xaxis": "x2",
         "y": [
          8.7361,
          8.7361,
          7.34531,
          7.62879,
          7.81375,
          8.068387413914266,
          8.02366561466571,
          8.165482133614999,
          8.36173933550312,
          8.275221074632954,
          7.809093328125,
          7.340965523748805,
          7.4400045692654135,
          7.246539322146315,
          7.350973280548889,
          7.29926875522899,
          7.1439970058516975,
          7.421231464611294,
          7.355876443707066,
          7.291084621356267,
          7.2362215903479745,
          7.103630568753422,
          7.254465501156515,
          6.7232427234042555,
          7.044087568258513
         ],
         "yaxis": "y"
        },
        {
         "legendgroup": "France",
         "line": {
          "color": "#D4CB6A",
          "dash": "dash",
          "shape": "spline",
          "smoothing": 0.4
         },
         "mode": "lines",
         "name": "capacity FR",
         "showlegend": false,
         "type": "scatter",
         "uid": "009d6910-cf2e-11e8-a2e3-b00594f12df5",
         "x": [
          1991,
          1993,
          1996,
          1997,
          1998,
          1999,
          2000,
          2001,
          2002,
          2003,
          2004,
          2005,
          2006,
          2007,
          2008,
          2009,
          2010,
          2011,
          2012,
          2013,
          2014,
          2015,
          2016,
          2017,
          2018
         ],
         "xaxis": "x2",
         "y": [
          0.0002,
          0.002,
          0.0027,
          0.0004,
          0.00025,
          0.007115,
          0.04173,
          0.03787,
          0.07374,
          0.09808,
          0.128,
          0.392125,
          0.668335,
          0.75385,
          1.131015,
          1.19765,
          1.405575,
          0.7898,
          0.8589,
          0.65695,
          1.07335,
          1.068565,
          1.0376,
          0.047,
          0.48895
         ],
         "yaxis": "y2"
        }
       ],
       "layout": {
        "hovermode": "x",
        "legend": {
         "orientation": "h",
         "x": 0.55,
         "xanchor": "center",
         "y": 1
        },
        "showlegend": true,
        "title": "Onshore wind resources vs. projects by capacity weighted average wind speed",
        "xaxis": {
         "autorange": "reversed",
         "domain": [
          0,
          0.3
         ],
         "title": "Available power (TW)"
        },
        "xaxis2": {
         "domain": [
          0.3,
          1
         ],
         "title": "Year"
        },
        "yaxis": {
         "hoverformat": ".2f",
         "title": "Wind speed (m/s)"
        },
        "yaxis2": {
         "anchor": "x2",
         "hoverformat": ".2f",
         "overlaying": "y",
         "showgrid": false,
         "side": "right",
         "title": "Yearly project capacity (GW)"
        }
       }
      },
      "text/html": [
       "<div id=\"68a69323-a038-4118-b08b-e38c8e4e1651\" style=\"height: 525px; width: 100%;\" class=\"plotly-graph-div\"></div><script type=\"text/javascript\">require([\"plotly\"], function(Plotly) { window.PLOTLYENV=window.PLOTLYENV || {};window.PLOTLYENV.BASE_URL=\"https://plot.ly\";Plotly.newPlot(\"68a69323-a038-4118-b08b-e38c8e4e1651\", [{\"fill\": \"toself\", \"legendgroup\": \"United Kingdom\", \"line\": {\"color\": \"#AA5585\", \"shape\": \"spline\", \"smoothing\": 0.9}, \"mode\": \"lines\", \"name\": \"United Kingdom\", \"x\": [0.0, 0.0, 0.0, 0.0, 632.5816338156643, 862.8978288297716, 82.84682320313401, 4.770151493654107, 0.0], \"y\": [6.1, 7.0, 7.6, 8.2, 8.7, 9.6, 10.7, 11.8, 12.9], \"type\": \"scatter\", \"uid\": \"00009ba8-cf2e-11e8-ba51-b00594f12df5\", \"xaxis\": \"x\", \"yaxis\": \"y\"}, {\"legendgroup\": \"United Kingdom\", \"marker\": {\"color\": \"#AA5585\"}, \"name\": \"mean GB\", \"showlegend\": false, \"x\": [-100], \"y\": [9.304567820006087], \"type\": \"scatter\", \"uid\": \"0003afca-cf2e-11e8-9309-b00594f12df5\", \"xaxis\": \"x\", \"yaxis\": \"y\"}, {\"legendgroup\": \"United Kingdom\", \"line\": {\"color\": \"#AA5585\", \"shape\": \"spline\", \"smoothing\": 0.4}, \"mode\": \"lines\", \"name\": \"wind speed GB\", \"showlegend\": false, \"x\": [1992.0, 1993.0, 1994.0, 1995.0, 1996.0, 1997.0, 1998.0, 1999.0, 2000.0, 2001.0, 2002.0, 2003.0, 2004.0, 2005.0, 2006.0, 2007.0, 2008.0, 2009.0, 2010.0, 2011.0, 2012.0, 2013.0, 2014.0, 2015.0, 2016.0, 2017.0, 2018.0], \"y\": [9.052826196279666, 8.895913687150838, 9.114100392156864, 8.575825098039216, 8.682364960422163, 8.77440200892857, 9.14508672222222, 8.51827063938619, 8.910678678200691, 8.785764117033949, 9.090532291595975, 8.734611855500821, 8.451854559664191, 8.537895259137736, 8.616100775416996, 8.628523241660993, 8.23970372403829, 8.479120841581146, 8.505018623349729, 8.800242803128954, 8.369971188716187, 8.595621576736255, 8.558626378218891, 8.433526354456824, 8.321588064003633, 8.527671348314607, 8.392114599075613], \"type\": \"scatter\", \"uid\": \"0006eb1e-cf2e-11e8-9be1-b00594f12df5\", \"xaxis\": \"x2\", \"yaxis\": \"y\"}, {\"legendgroup\": \"United Kingdom\", \"line\": {\"color\": \"#AA5585\", \"dash\": \"dash\", \"shape\": \"spline\", \"smoothing\": 0.4}, \"mode\": \"lines\", \"name\": \"capacity GB\", \"showlegend\": false, \"x\": [1992.0, 1993.0, 1994.0, 1995.0, 1996.0, 1997.0, 1998.0, 1999.0, 2000.0, 2001.0, 2002.0, 2003.0, 2004.0, 2005.0, 2006.0, 2007.0, 2008.0, 2009.0, 2010.0, 2011.0, 2012.0, 2013.0, 2014.0, 2015.0, 2016.0, 2017.0, 2018.0], \"y\": [0.038975, 0.0358, 0.0204, 0.0306, 0.0758, 0.0448, 0.018, 0.02346, 0.0578, 0.06716, 0.08841, 0.045675, 0.181055, 0.380975, 0.5036, 0.36725, 0.5537, 0.82143, 0.482875, 0.541395, 1.09307, 1.19611, 0.989665, 0.2872, 0.4406, 0.089, 1.58808], \"type\": \"scatter\", \"uid\": \"0009d150-cf2e-11e8-9e18-b00594f12df5\", \"xaxis\": \"x2\", \"yaxis\": \"y2\"}, {\"fill\": \"toself\", \"legendgroup\": \"Germany\", \"line\": {\"color\": \"#499272\", \"shape\": \"spline\", \"smoothing\": 0.9}, \"mode\": \"lines\", \"name\": \"Germany\", \"x\": [0.0, 242.5148525488719, 190.7132987184146, 668.4905765204946, 173.99549903864298, 31.787314732676556, 0.0, 0.0, 0.0], \"y\": [6.1, 7.0, 7.6, 8.2, 8.7, 9.6, 10.7, 11.8, 12.9], \"type\": \"scatter\", \"uid\": \"0058634a-cf2e-11e8-8bad-b00594f12df5\", \"xaxis\": \"x\", \"yaxis\": \"y\"}, {\"legendgroup\": \"Germany\", \"marker\": {\"color\": \"#499272\"}, \"name\": \"mean DE\", \"showlegend\": false, \"x\": [-100], \"y\": [7.990481461445953], \"type\": \"scatter\", \"uid\": \"005c1aee-cf2e-11e8-a139-b00594f12df5\", \"xaxis\": \"x\", \"yaxis\": \"y\"}, {\"legendgroup\": \"Germany\", \"line\": {\"color\": \"#499272\", \"shape\": \"spline\", \"smoothing\": 0.4}, \"mode\": \"lines\", \"name\": \"wind speed DE\", \"showlegend\": false, \"x\": [1983.0, 1990.0, 1991.0, 1992.0, 1993.0, 1994.0, 1995.0, 1996.0, 1997.0, 1998.0, 1999.0, 2000.0, 2001.0, 2002.0, 2003.0, 2004.0, 2005.0, 2006.0, 2007.0, 2008.0, 2009.0, 2010.0, 2011.0, 2012.0, 2013.0, 2014.0, 2015.0, 2016.0, 2017.0, 2018.0], \"y\": [9.48143, 8.304646891117478, 7.794043931818181, 7.540589034391534, 8.165037379581152, 7.3542909861705, 7.082939270877081, 7.083304597458614, 6.757151796331622, 6.938807516222154, 6.7036219163763064, 6.663127824348485, 6.715095188892516, 6.495130506584215, 6.644191727800117, 6.5617620231492655, 6.410703943101665, 6.525232580554483, 6.527573334169104, 6.56348885284506, 6.593895352578254, 6.895365498174506, 6.7625776536367175, 6.661369615909214, 6.858323569403738, 6.828555184351356, 6.83958668527234, 6.851153591996096, 6.167723684210526, 7.066216841334137], \"type\": \"scatter\", \"uid\": \"006039d0-cf2e-11e8-8996-b00594f12df5\", \"xaxis\": \"x2\", \"yaxis\": \"y\"}, {\"legendgroup\": \"Germany\", \"line\": {\"color\": \"#499272\", \"dash\": \"dash\", \"shape\": \"spline\", \"smoothing\": 0.4}, \"mode\": \"lines\", \"name\": \"capacity DE\", \"showlegend\": false, \"x\": [1983.0, 1990.0, 1991.0, 1992.0, 1993.0, 1994.0, 1995.0, 1996.0, 1997.0, 1998.0, 1999.0, 2000.0, 2001.0, 2002.0, 2003.0, 2004.0, 2005.0, 2006.0, 2007.0, 2008.0, 2009.0, 2010.0, 2011.0, 2012.0, 2013.0, 2014.0, 2015.0, 2016.0, 2017.0, 2018.0], \"y\": [0.0003, 0.00698, 0.0132, 0.0189, 0.0573, 0.129795, 0.300018, 0.279139, 0.34075, 0.78288, 1.229795, 1.703145, 3.324245, 3.26007, 2.876085, 2.11497, 1.910425, 2.56131, 1.79475, 1.0404, 2.65005, 0.94495, 1.0284, 0.91645, 1.04065, 1.35475, 1.24514, 0.6147, 0.0342, 0.58015], \"type\": \"scatter\", \"uid\": \"00640a46-cf2e-11e8-b780-b00594f12df5\", \"xaxis\": \"x2\", \"yaxis\": \"y2\"}, {\"fill\": \"toself\", \"legendgroup\": \"France\", \"line\": {\"color\": \"#D4CB6A\", \"shape\": \"spline\", \"smoothing\": 0.9}, \"mode\": \"lines\", \"name\": \"France\", \"x\": [33.42148578645111, 443.7292391139924, 1275.9867975162203, 1073.562661829521, 225.2576723282198, 22.266624274739918, 0.0, 0.0, 0.0], \"y\": [6.1, 7.0, 7.6, 8.2, 8.7, 9.6, 10.7, 11.8, 12.9], \"type\": \"scatter\", \"uid\": \"0093b738-cf2e-11e8-a61b-b00594f12df5\", \"xaxis\": \"x\", \"yaxis\": \"y\"}, {\"legendgroup\": \"France\", \"marker\": {\"color\": \"#D4CB6A\"}, \"name\": \"mean FR\", \"showlegend\": false, \"x\": [-100], \"y\": [7.80170437029663], \"type\": \"scatter\", \"uid\": \"00969d6e-cf2e-11e8-8276-b00594f12df5\", \"xaxis\": \"x\", \"yaxis\": \"y\"}, {\"legendgroup\": \"France\", \"line\": {\"color\": \"#D4CB6A\", \"shape\": \"spline\", \"smoothing\": 0.4}, \"mode\": \"lines\", \"name\": \"wind speed FR\", \"showlegend\": false, \"x\": [1991.0, 1993.0, 1996.0, 1997.0, 1998.0, 1999.0, 2000.0, 2001.0, 2002.0, 2003.0, 2004.0, 2005.0, 2006.0, 2007.0, 2008.0, 2009.0, 2010.0, 2011.0, 2012.0, 2013.0, 2014.0, 2015.0, 2016.0, 2017.0, 2018.0], \"y\": [8.7361, 8.7361, 7.34531, 7.62879, 7.81375, 8.068387413914266, 8.02366561466571, 8.165482133614999, 8.36173933550312, 8.275221074632954, 7.809093328125, 7.340965523748805, 7.4400045692654135, 7.246539322146315, 7.350973280548889, 7.29926875522899, 7.1439970058516975, 7.421231464611294, 7.355876443707066, 7.291084621356267, 7.2362215903479745, 7.103630568753422, 7.254465501156515, 6.7232427234042555, 7.044087568258513], \"type\": \"scatter\", \"uid\": \"0099d1b6-cf2e-11e8-ac84-b00594f12df5\", \"xaxis\": \"x2\", \"yaxis\": \"y\"}, {\"legendgroup\": \"France\", \"line\": {\"color\": \"#D4CB6A\", \"dash\": \"dash\", \"shape\": \"spline\", \"smoothing\": 0.4}, \"mode\": \"lines\", \"name\": \"capacity FR\", \"showlegend\": false, \"x\": [1991.0, 1993.0, 1996.0, 1997.0, 1998.0, 1999.0, 2000.0, 2001.0, 2002.0, 2003.0, 2004.0, 2005.0, 2006.0, 2007.0, 2008.0, 2009.0, 2010.0, 2011.0, 2012.0, 2013.0, 2014.0, 2015.0, 2016.0, 2017.0, 2018.0], \"y\": [0.0002, 0.002, 0.0027, 0.0004, 0.00025, 0.007115, 0.04173, 0.03787, 0.07374, 0.09808, 0.128, 0.392125, 0.668335, 0.75385, 1.131015, 1.19765, 1.405575, 0.7898, 0.8589, 0.65695, 1.07335, 1.068565, 1.0376, 0.047, 0.48895], \"type\": \"scatter\", \"uid\": \"009d6910-cf2e-11e8-a2e3-b00594f12df5\", \"xaxis\": \"x2\", \"yaxis\": \"y2\"}], {\"legend\": {\"orientation\": \"h\", \"x\": 0.55, \"xanchor\": \"center\", \"y\": 1}, \"title\": \"Onshore wind resources vs. projects by capacity weighted average wind speed\", \"xaxis\": {\"autorange\": \"reversed\", \"domain\": [0, 0.3], \"title\": \"Available power (TW)\"}, \"yaxis\": {\"hoverformat\": \".2f\", \"title\": \"Wind speed (m/s)\"}, \"xaxis2\": {\"domain\": [0.3, 1], \"title\": \"Year\"}, \"yaxis2\": {\"anchor\": \"x2\", \"hoverformat\": \".2f\", \"overlaying\": \"y\", \"showgrid\": false, \"side\": \"right\", \"title\": \"Yearly project capacity (GW)\"}, \"showlegend\": true, \"hovermode\": \"x\"}, {\"showLink\": true, \"linkText\": \"Export to plot.ly\"})});</script>"
      ],
      "text/vnd.plotly.v1+html": [
       "<div id=\"68a69323-a038-4118-b08b-e38c8e4e1651\" style=\"height: 525px; width: 100%;\" class=\"plotly-graph-div\"></div><script type=\"text/javascript\">require([\"plotly\"], function(Plotly) { window.PLOTLYENV=window.PLOTLYENV || {};window.PLOTLYENV.BASE_URL=\"https://plot.ly\";Plotly.newPlot(\"68a69323-a038-4118-b08b-e38c8e4e1651\", [{\"fill\": \"toself\", \"legendgroup\": \"United Kingdom\", \"line\": {\"color\": \"#AA5585\", \"shape\": \"spline\", \"smoothing\": 0.9}, \"mode\": \"lines\", \"name\": \"United Kingdom\", \"x\": [0.0, 0.0, 0.0, 0.0, 632.5816338156643, 862.8978288297716, 82.84682320313401, 4.770151493654107, 0.0], \"y\": [6.1, 7.0, 7.6, 8.2, 8.7, 9.6, 10.7, 11.8, 12.9], \"type\": \"scatter\", \"uid\": \"00009ba8-cf2e-11e8-ba51-b00594f12df5\", \"xaxis\": \"x\", \"yaxis\": \"y\"}, {\"legendgroup\": \"United Kingdom\", \"marker\": {\"color\": \"#AA5585\"}, \"name\": \"mean GB\", \"showlegend\": false, \"x\": [-100], \"y\": [9.304567820006087], \"type\": \"scatter\", \"uid\": \"0003afca-cf2e-11e8-9309-b00594f12df5\", \"xaxis\": \"x\", \"yaxis\": \"y\"}, {\"legendgroup\": \"United Kingdom\", \"line\": {\"color\": \"#AA5585\", \"shape\": \"spline\", \"smoothing\": 0.4}, \"mode\": \"lines\", \"name\": \"wind speed GB\", \"showlegend\": false, \"x\": [1992.0, 1993.0, 1994.0, 1995.0, 1996.0, 1997.0, 1998.0, 1999.0, 2000.0, 2001.0, 2002.0, 2003.0, 2004.0, 2005.0, 2006.0, 2007.0, 2008.0, 2009.0, 2010.0, 2011.0, 2012.0, 2013.0, 2014.0, 2015.0, 2016.0, 2017.0, 2018.0], \"y\": [9.052826196279666, 8.895913687150838, 9.114100392156864, 8.575825098039216, 8.682364960422163, 8.77440200892857, 9.14508672222222, 8.51827063938619, 8.910678678200691, 8.785764117033949, 9.090532291595975, 8.734611855500821, 8.451854559664191, 8.537895259137736, 8.616100775416996, 8.628523241660993, 8.23970372403829, 8.479120841581146, 8.505018623349729, 8.800242803128954, 8.369971188716187, 8.595621576736255, 8.558626378218891, 8.433526354456824, 8.321588064003633, 8.527671348314607, 8.392114599075613], \"type\": \"scatter\", \"uid\": \"0006eb1e-cf2e-11e8-9be1-b00594f12df5\", \"xaxis\": \"x2\", \"yaxis\": \"y\"}, {\"legendgroup\": \"United Kingdom\", \"line\": {\"color\": \"#AA5585\", \"dash\": \"dash\", \"shape\": \"spline\", \"smoothing\": 0.4}, \"mode\": \"lines\", \"name\": \"capacity GB\", \"showlegend\": false, \"x\": [1992.0, 1993.0, 1994.0, 1995.0, 1996.0, 1997.0, 1998.0, 1999.0, 2000.0, 2001.0, 2002.0, 2003.0, 2004.0, 2005.0, 2006.0, 2007.0, 2008.0, 2009.0, 2010.0, 2011.0, 2012.0, 2013.0, 2014.0, 2015.0, 2016.0, 2017.0, 2018.0], \"y\": [0.038975, 0.0358, 0.0204, 0.0306, 0.0758, 0.0448, 0.018, 0.02346, 0.0578, 0.06716, 0.08841, 0.045675, 0.181055, 0.380975, 0.5036, 0.36725, 0.5537, 0.82143, 0.482875, 0.541395, 1.09307, 1.19611, 0.989665, 0.2872, 0.4406, 0.089, 1.58808], \"type\": \"scatter\", \"uid\": \"0009d150-cf2e-11e8-9e18-b00594f12df5\", \"xaxis\": \"x2\", \"yaxis\": \"y2\"}, {\"fill\": \"toself\", \"legendgroup\": \"Germany\", \"line\": {\"color\": \"#499272\", \"shape\": \"spline\", \"smoothing\": 0.9}, \"mode\": \"lines\", \"name\": \"Germany\", \"x\": [0.0, 242.5148525488719, 190.7132987184146, 668.4905765204946, 173.99549903864298, 31.787314732676556, 0.0, 0.0, 0.0], \"y\": [6.1, 7.0, 7.6, 8.2, 8.7, 9.6, 10.7, 11.8, 12.9], \"type\": \"scatter\", \"uid\": \"0058634a-cf2e-11e8-8bad-b00594f12df5\", \"xaxis\": \"x\", \"yaxis\": \"y\"}, {\"legendgroup\": \"Germany\", \"marker\": {\"color\": \"#499272\"}, \"name\": \"mean DE\", \"showlegend\": false, \"x\": [-100], \"y\": [7.990481461445953], \"type\": \"scatter\", \"uid\": \"005c1aee-cf2e-11e8-a139-b00594f12df5\", \"xaxis\": \"x\", \"yaxis\": \"y\"}, {\"legendgroup\": \"Germany\", \"line\": {\"color\": \"#499272\", \"shape\": \"spline\", \"smoothing\": 0.4}, \"mode\": \"lines\", \"name\": \"wind speed DE\", \"showlegend\": false, \"x\": [1983.0, 1990.0, 1991.0, 1992.0, 1993.0, 1994.0, 1995.0, 1996.0, 1997.0, 1998.0, 1999.0, 2000.0, 2001.0, 2002.0, 2003.0, 2004.0, 2005.0, 2006.0, 2007.0, 2008.0, 2009.0, 2010.0, 2011.0, 2012.0, 2013.0, 2014.0, 2015.0, 2016.0, 2017.0, 2018.0], \"y\": [9.48143, 8.304646891117478, 7.794043931818181, 7.540589034391534, 8.165037379581152, 7.3542909861705, 7.082939270877081, 7.083304597458614, 6.757151796331622, 6.938807516222154, 6.7036219163763064, 6.663127824348485, 6.715095188892516, 6.495130506584215, 6.644191727800117, 6.5617620231492655, 6.410703943101665, 6.525232580554483, 6.527573334169104, 6.56348885284506, 6.593895352578254, 6.895365498174506, 6.7625776536367175, 6.661369615909214, 6.858323569403738, 6.828555184351356, 6.83958668527234, 6.851153591996096, 6.167723684210526, 7.066216841334137], \"type\": \"scatter\", \"uid\": \"006039d0-cf2e-11e8-8996-b00594f12df5\", \"xaxis\": \"x2\", \"yaxis\": \"y\"}, {\"legendgroup\": \"Germany\", \"line\": {\"color\": \"#499272\", \"dash\": \"dash\", \"shape\": \"spline\", \"smoothing\": 0.4}, \"mode\": \"lines\", \"name\": \"capacity DE\", \"showlegend\": false, \"x\": [1983.0, 1990.0, 1991.0, 1992.0, 1993.0, 1994.0, 1995.0, 1996.0, 1997.0, 1998.0, 1999.0, 2000.0, 2001.0, 2002.0, 2003.0, 2004.0, 2005.0, 2006.0, 2007.0, 2008.0, 2009.0, 2010.0, 2011.0, 2012.0, 2013.0, 2014.0, 2015.0, 2016.0, 2017.0, 2018.0], \"y\": [0.0003, 0.00698, 0.0132, 0.0189, 0.0573, 0.129795, 0.300018, 0.279139, 0.34075, 0.78288, 1.229795, 1.703145, 3.324245, 3.26007, 2.876085, 2.11497, 1.910425, 2.56131, 1.79475, 1.0404, 2.65005, 0.94495, 1.0284, 0.91645, 1.04065, 1.35475, 1.24514, 0.6147, 0.0342, 0.58015], \"type\": \"scatter\", \"uid\": \"00640a46-cf2e-11e8-b780-b00594f12df5\", \"xaxis\": \"x2\", \"yaxis\": \"y2\"}, {\"fill\": \"toself\", \"legendgroup\": \"France\", \"line\": {\"color\": \"#D4CB6A\", \"shape\": \"spline\", \"smoothing\": 0.9}, \"mode\": \"lines\", \"name\": \"France\", \"x\": [33.42148578645111, 443.7292391139924, 1275.9867975162203, 1073.562661829521, 225.2576723282198, 22.266624274739918, 0.0, 0.0, 0.0], \"y\": [6.1, 7.0, 7.6, 8.2, 8.7, 9.6, 10.7, 11.8, 12.9], \"type\": \"scatter\", \"uid\": \"0093b738-cf2e-11e8-a61b-b00594f12df5\", \"xaxis\": \"x\", \"yaxis\": \"y\"}, {\"legendgroup\": \"France\", \"marker\": {\"color\": \"#D4CB6A\"}, \"name\": \"mean FR\", \"showlegend\": false, \"x\": [-100], \"y\": [7.80170437029663], \"type\": \"scatter\", \"uid\": \"00969d6e-cf2e-11e8-8276-b00594f12df5\", \"xaxis\": \"x\", \"yaxis\": \"y\"}, {\"legendgroup\": \"France\", \"line\": {\"color\": \"#D4CB6A\", \"shape\": \"spline\", \"smoothing\": 0.4}, \"mode\": \"lines\", \"name\": \"wind speed FR\", \"showlegend\": false, \"x\": [1991.0, 1993.0, 1996.0, 1997.0, 1998.0, 1999.0, 2000.0, 2001.0, 2002.0, 2003.0, 2004.0, 2005.0, 2006.0, 2007.0, 2008.0, 2009.0, 2010.0, 2011.0, 2012.0, 2013.0, 2014.0, 2015.0, 2016.0, 2017.0, 2018.0], \"y\": [8.7361, 8.7361, 7.34531, 7.62879, 7.81375, 8.068387413914266, 8.02366561466571, 8.165482133614999, 8.36173933550312, 8.275221074632954, 7.809093328125, 7.340965523748805, 7.4400045692654135, 7.246539322146315, 7.350973280548889, 7.29926875522899, 7.1439970058516975, 7.421231464611294, 7.355876443707066, 7.291084621356267, 7.2362215903479745, 7.103630568753422, 7.254465501156515, 6.7232427234042555, 7.044087568258513], \"type\": \"scatter\", \"uid\": \"0099d1b6-cf2e-11e8-ac84-b00594f12df5\", \"xaxis\": \"x2\", \"yaxis\": \"y\"}, {\"legendgroup\": \"France\", \"line\": {\"color\": \"#D4CB6A\", \"dash\": \"dash\", \"shape\": \"spline\", \"smoothing\": 0.4}, \"mode\": \"lines\", \"name\": \"capacity FR\", \"showlegend\": false, \"x\": [1991.0, 1993.0, 1996.0, 1997.0, 1998.0, 1999.0, 2000.0, 2001.0, 2002.0, 2003.0, 2004.0, 2005.0, 2006.0, 2007.0, 2008.0, 2009.0, 2010.0, 2011.0, 2012.0, 2013.0, 2014.0, 2015.0, 2016.0, 2017.0, 2018.0], \"y\": [0.0002, 0.002, 0.0027, 0.0004, 0.00025, 0.007115, 0.04173, 0.03787, 0.07374, 0.09808, 0.128, 0.392125, 0.668335, 0.75385, 1.131015, 1.19765, 1.405575, 0.7898, 0.8589, 0.65695, 1.07335, 1.068565, 1.0376, 0.047, 0.48895], \"type\": \"scatter\", \"uid\": \"009d6910-cf2e-11e8-a2e3-b00594f12df5\", \"xaxis\": \"x2\", \"yaxis\": \"y2\"}], {\"legend\": {\"orientation\": \"h\", \"x\": 0.55, \"xanchor\": \"center\", \"y\": 1}, \"title\": \"Onshore wind resources vs. projects by capacity weighted average wind speed\", \"xaxis\": {\"autorange\": \"reversed\", \"domain\": [0, 0.3], \"title\": \"Available power (TW)\"}, \"yaxis\": {\"hoverformat\": \".2f\", \"title\": \"Wind speed (m/s)\"}, \"xaxis2\": {\"domain\": [0.3, 1], \"title\": \"Year\"}, \"yaxis2\": {\"anchor\": \"x2\", \"hoverformat\": \".2f\", \"overlaying\": \"y\", \"showgrid\": false, \"side\": \"right\", \"title\": \"Yearly project capacity (GW)\"}, \"showlegend\": true, \"hovermode\": \"x\"}, {\"showLink\": true, \"linkText\": \"Export to plot.ly\"})});</script>"
      ]
     },
     "metadata": {},
     "output_type": "display_data"
    }
   ],
   "source": [
    "fig = tools.make_subplots(rows=1, cols=3);\n",
    "axes=[]\n",
    "for i in range(len(cs)):\n",
    "    c=cs[i]\n",
    "    c2=c2s[i]\n",
    "    x,y,z,w=projects(ons,c,cumulative=False)\n",
    "    x2=[class2speed[i] for i in wind_res[c2].keys()]\n",
    "    y2=np.array(list(wind_res[c2].values()))\n",
    "    #calculate average resource class, weighted by available capacity in each class \n",
    "    x2a=np.average(x2,weights=y2)\n",
    "    fig.append_trace(\n",
    "        go.Scatter(x=y2,y=x2,\n",
    "            mode = 'lines',\n",
    "            fill='toself',\n",
    "            legendgroup= c2,\n",
    "            name = c2,\n",
    "            line=dict(\n",
    "                color=colors[i],\n",
    "                shape='spline',\n",
    "                smoothing=smoothing[1]\n",
    "            )\n",
    "        ),1,1\n",
    "    ); axes.append({'x':'','y':''});\n",
    "    fig.append_trace(\n",
    "        go.Scatter(x=[-100],y=[x2a],\n",
    "            legendgroup= c2,\n",
    "            name = 'mean '+c,\n",
    "            marker=dict(\n",
    "                color=colors[i],\n",
    "            ),\n",
    "            showlegend=False\n",
    "        ),1,1\n",
    "    ); axes.append({'x':'','y':''});\n",
    "    fig.append_trace(\n",
    "        go.Scatter(x=x,y=z,\n",
    "            mode = 'lines',\n",
    "            name = 'wind speed '+c,  \n",
    "            legendgroup= c2,\n",
    "            line=dict(\n",
    "                color=colors[i],\n",
    "                shape='spline',\n",
    "                smoothing=smoothing[0]\n",
    "            ),\n",
    "            showlegend=False\n",
    "        ),1,2\n",
    "    ); axes.append({'x':'2','y':''});\n",
    "    fig.append_trace(\n",
    "        go.Scatter(x=x,y=np.array(w)/1e6, #kW to GW conversion\n",
    "            mode = 'lines',\n",
    "            name = 'capacity '+c,  \n",
    "            legendgroup= c2,\n",
    "            line=dict(\n",
    "                color=colors[i],\n",
    "                shape='spline',\n",
    "                dash='dash',\n",
    "                smoothing=smoothing[0]\n",
    "            ),\n",
    "            showlegend=False\n",
    "        ),1,3\n",
    "    ); axes.append({'x':'2','y':'2'});\n",
    "\n",
    "for i in range(len(fig['data'])):\n",
    "    fig['data'][i]['xaxis']='x'+axes[i]['x']\n",
    "    fig['data'][i]['yaxis']='y'+axes[i]['y']\n",
    "\n",
    "layout = go.Layout(\n",
    "    xaxis=dict(\n",
    "        domain=[0, 0.3],\n",
    "        title='Available power (TW)',\n",
    "        autorange='reversed'\n",
    "    ),\n",
    "    yaxis=dict(\n",
    "        title='Wind speed (m/s)',\n",
    "        hoverformat = '.2f'\n",
    "    ),\n",
    "    xaxis2=dict(\n",
    "        domain=[0.3, 1],\n",
    "        title='Year'\n",
    "    ),\n",
    "    yaxis2=dict(\n",
    "        overlaying='y',\n",
    "        showgrid=False,\n",
    "        side='right',\n",
    "        anchor='x2',\n",
    "        hoverformat = '.2f',\n",
    "        title='Yearly project capacity (GW)',\n",
    "    ),\n",
    "    title='Onshore wind resources vs. projects by capacity weighted average wind speed',\n",
    "    legend=dict(\n",
    "        orientation='h',\n",
    "        x=0.55,\n",
    "        y=1,\n",
    "        xanchor='center'\n",
    "    )\n",
    ")\n",
    "fig[\"layout\"]=layout\n",
    "fig[\"layout\"][\"showlegend\"] = True\n",
    "fig[\"layout\"]['hovermode']='x'\n",
    "iplot(fig, filename='ons5b')"
   ]
  },
  {
   "cell_type": "code",
   "execution_count": 359,
   "metadata": {},
   "outputs": [
    {
     "name": "stdout",
     "output_type": "stream",
     "text": [
      "This is the format of your plot grid:\n",
      "[ (1,1) x1,y1 ]  [ (1,2) x2,y2 ]  [ (1,3) x3,y3 ]\n",
      "\n"
     ]
    },
    {
     "data": {
      "application/vnd.plotly.v1+json": {
       "data": [
        {
         "fill": "toself",
         "legendgroup": "United Kingdom",
         "line": {
          "color": "#AA5585",
          "shape": "spline",
          "smoothing": 0.9
         },
         "mode": "lines",
         "name": "United Kingdom",
         "type": "scatter",
         "uid": "04d7d2b6-cf2e-11e8-a6e9-b00594f12df5",
         "x": [
          0,
          0,
          0,
          0,
          116.94847569595635,
          1108.4278851044735,
          292.7286431643525,
          6.9409166095039145,
          0
         ],
         "xaxis": "x",
         "y": [
          6.1,
          7,
          7.6,
          8.2,
          8.7,
          9.6,
          10.7,
          11.8,
          12.9
         ],
         "yaxis": "y"
        },
        {
         "legendgroup": "United Kingdom",
         "marker": {
          "color": "#AA5585"
         },
         "name": "mean GB",
         "showlegend": false,
         "type": "scatter",
         "uid": "04da43ae-cf2e-11e8-ba9c-b00594f12df5",
         "x": [
          -100
         ],
         "xaxis": "x",
         "y": [
          9.752138301388305
         ],
         "yaxis": "y"
        },
        {
         "legendgroup": "United Kingdom",
         "line": {
          "color": "#AA5585",
          "shape": "spline",
          "smoothing": 0.4
         },
         "mode": "lines",
         "name": "wind speed GB",
         "showlegend": false,
         "type": "scatter",
         "uid": "04dcb49a-cf2e-11e8-97a5-b00594f12df5",
         "x": [
          2003,
          2004,
          2005,
          2006,
          2007,
          2009,
          2010,
          2011,
          2012,
          2013,
          2014,
          2015,
          2016,
          2018,
          2019
         ],
         "xaxis": "x2",
         "y": [
          9.35932,
          9.237325,
          9.254585714285714,
          9.26149,
          9.27352,
          9.422690035587188,
          9.322648925399644,
          9.37293808444097,
          9.432361213743864,
          9.347033650110346,
          9.351255929321914,
          9.342738530193992,
          9.34355767058999,
          9.204796740701097,
          8.14233380795427
         ],
         "yaxis": "y"
        },
        {
         "legendgroup": "United Kingdom",
         "line": {
          "color": "#AA5585",
          "dash": "dash",
          "shape": "spline",
          "smoothing": 0.4
         },
         "mode": "lines",
         "name": "capacity GB",
         "showlegend": false,
         "type": "scatter",
         "uid": "04df4cd4-cf2e-11e8-9362-b00594f12df5",
         "x": [
          2003,
          2004,
          2005,
          2006,
          2007,
          2009,
          2010,
          2011,
          2012,
          2013,
          2014,
          2015,
          2016,
          2018,
          2019
         ],
         "xaxis": "x2",
         "y": [
          0.06,
          0.12,
          0.21,
          0.3,
          0.39,
          0.6744,
          1.3512,
          1.5348,
          2.6892,
          3.6703,
          4.6351,
          5.1136,
          5.3696,
          8.9688,
          16.444
         ],
         "yaxis": "y2"
        },
        {
         "fill": "toself",
         "legendgroup": "Germany",
         "line": {
          "color": "#499272",
          "shape": "spline",
          "smoothing": 0.9
         },
         "mode": "lines",
         "name": "Germany",
         "type": "scatter",
         "uid": "04f8a128-cf2e-11e8-bd15-b00594f12df5",
         "x": [
          0,
          0,
          0,
          5.0890195522969215,
          74.30827093511061,
          151.88721668743847,
          55.034432604449286,
          0,
          0
         ],
         "xaxis": "x",
         "y": [
          6.1,
          7,
          7.6,
          8.2,
          8.7,
          9.6,
          10.7,
          11.8,
          12.9
         ],
         "yaxis": "y"
        },
        {
         "legendgroup": "Germany",
         "marker": {
          "color": "#499272"
         },
         "name": "mean DE",
         "showlegend": false,
         "type": "scatter",
         "uid": "04fbfc7a-cf2e-11e8-8df9-b00594f12df5",
         "x": [
          -100
         ],
         "xaxis": "x",
         "y": [
          9.552974835125122
         ],
         "yaxis": "y"
        },
        {
         "legendgroup": "Germany",
         "line": {
          "color": "#499272",
          "shape": "spline",
          "smoothing": 0.4
         },
         "mode": "lines",
         "name": "wind speed DE",
         "showlegend": false,
         "type": "scatter",
         "uid": "0500de9c-cf2e-11e8-bd3b-b00594f12df5",
         "x": [
          2004,
          2006,
          2009,
          2011,
          2013,
          2014,
          2015,
          2017,
          2018,
          2019
         ],
         "xaxis": "x2",
         "y": [
          8.76715,
          9.007121428571429,
          9.446355970149256,
          9.131452549869906,
          6.947254956336114,
          5.06961597607813,
          6.918375563063751,
          6.987687127166685,
          6.113952125085596,
          6.195107493025836
         ],
         "yaxis": "y"
        },
        {
         "legendgroup": "Germany",
         "line": {
          "color": "#499272",
          "dash": "dash",
          "shape": "spline",
          "smoothing": 0.4
         },
         "mode": "lines",
         "name": "capacity DE",
         "showlegend": false,
         "type": "scatter",
         "uid": "050683c2-cf2e-11e8-8baf-b00594f12df5",
         "x": [
          2004,
          2006,
          2009,
          2011,
          2013,
          2014,
          2015,
          2017,
          2018,
          2019
         ],
         "xaxis": "x2",
         "y": [
          0.0045,
          0.007,
          0.067,
          0.1153,
          0.5153,
          0.9113,
          3.2705,
          3.6692,
          5.6953,
          12.0803
         ],
         "yaxis": "y2"
        },
        {
         "fill": "toself",
         "legendgroup": "France",
         "line": {
          "color": "#D4CB6A",
          "shape": "spline",
          "smoothing": 0.9
         },
         "mode": "lines",
         "name": "France",
         "type": "scatter",
         "uid": "051abcba-cf2e-11e8-abb3-b00594f12df5",
         "x": [
          0,
          10.862479455809078,
          43.965105308288614,
          87.63534171024406,
          200.26574502243497,
          81.00500274771323,
          0,
          0,
          0
         ],
         "xaxis": "x",
         "y": [
          6.1,
          7,
          7.6,
          8.2,
          8.7,
          9.6,
          10.7,
          11.8,
          12.9
         ],
         "yaxis": "y"
        },
        {
         "legendgroup": "France",
         "marker": {
          "color": "#D4CB6A"
         },
         "name": "mean FR",
         "showlegend": false,
         "type": "scatter",
         "uid": "051f9ed2-cf2e-11e8-a97e-b00594f12df5",
         "x": [
          -100
         ],
         "xaxis": "x",
         "y": [
          8.610932263376366
         ],
         "yaxis": "y"
        },
        {
         "legendgroup": "France",
         "line": {
          "color": "#D4CB6A",
          "shape": "spline",
          "smoothing": 0.4
         },
         "mode": "lines",
         "name": "wind speed FR",
         "showlegend": false,
         "type": "scatter",
         "uid": "05251cfa-cf2e-11e8-aa84-b00594f12df5",
         "x": [
          2012,
          2015,
          2018,
          2019
         ],
         "xaxis": "x2",
         "y": [
          7.51338,
          8.761631428571429,
          8.75387625,
          9.022859823949005
         ],
         "yaxis": "y"
        },
        {
         "legendgroup": "France",
         "line": {
          "color": "#D4CB6A",
          "dash": "dash",
          "shape": "spline",
          "smoothing": 0.4
         },
         "mode": "lines",
         "name": "capacity FR",
         "showlegend": false,
         "type": "scatter",
         "uid": "0529b0d2-cf2e-11e8-9594-b00594f12df5",
         "x": [
          2012,
          2015,
          2018,
          2019
         ],
         "xaxis": "x2",
         "y": [
          0.006,
          0.014,
          0.016,
          2.6356
         ],
         "yaxis": "y2"
        }
       ],
       "layout": {
        "hovermode": "x",
        "legend": {
         "orientation": "h",
         "x": 0.55,
         "xanchor": "center",
         "y": 1
        },
        "showlegend": true,
        "title": "Offshore wind resources vs. projects by capacity weighted average wind speed",
        "xaxis": {
         "autorange": "reversed",
         "domain": [
          0,
          0.3
         ],
         "title": "Available power (TW)"
        },
        "xaxis2": {
         "domain": [
          0.3,
          1
         ],
         "title": "Year"
        },
        "yaxis": {
         "hoverformat": ".2f",
         "title": "Wind speed (m/s)"
        },
        "yaxis2": {
         "anchor": "x2",
         "hoverformat": ".2f",
         "overlaying": "y",
         "showgrid": false,
         "side": "right",
         "title": "Cumulative project capacity (GW)"
        }
       }
      },
      "text/html": [
       "<div id=\"4ec5be6d-84f8-4ddd-89e5-e2b544d9609c\" style=\"height: 525px; width: 100%;\" class=\"plotly-graph-div\"></div><script type=\"text/javascript\">require([\"plotly\"], function(Plotly) { window.PLOTLYENV=window.PLOTLYENV || {};window.PLOTLYENV.BASE_URL=\"https://plot.ly\";Plotly.newPlot(\"4ec5be6d-84f8-4ddd-89e5-e2b544d9609c\", [{\"fill\": \"toself\", \"legendgroup\": \"United Kingdom\", \"line\": {\"color\": \"#AA5585\", \"shape\": \"spline\", \"smoothing\": 0.9}, \"mode\": \"lines\", \"name\": \"United Kingdom\", \"x\": [0.0, 0.0, 0.0, 0.0, 116.94847569595635, 1108.4278851044735, 292.7286431643525, 6.9409166095039145, 0.0], \"y\": [6.1, 7.0, 7.6, 8.2, 8.7, 9.6, 10.7, 11.8, 12.9], \"type\": \"scatter\", \"uid\": \"04d7d2b6-cf2e-11e8-a6e9-b00594f12df5\", \"xaxis\": \"x\", \"yaxis\": \"y\"}, {\"legendgroup\": \"United Kingdom\", \"marker\": {\"color\": \"#AA5585\"}, \"name\": \"mean GB\", \"showlegend\": false, \"x\": [-100], \"y\": [9.752138301388305], \"type\": \"scatter\", \"uid\": \"04da43ae-cf2e-11e8-ba9c-b00594f12df5\", \"xaxis\": \"x\", \"yaxis\": \"y\"}, {\"legendgroup\": \"United Kingdom\", \"line\": {\"color\": \"#AA5585\", \"shape\": \"spline\", \"smoothing\": 0.4}, \"mode\": \"lines\", \"name\": \"wind speed GB\", \"showlegend\": false, \"x\": [2003.0, 2004.0, 2005.0, 2006.0, 2007.0, 2009.0, 2010.0, 2011.0, 2012.0, 2013.0, 2014.0, 2015.0, 2016.0, 2018.0, 2019.0], \"y\": [9.35932, 9.237325, 9.254585714285714, 9.26149, 9.27352, 9.422690035587188, 9.322648925399644, 9.37293808444097, 9.432361213743864, 9.347033650110346, 9.351255929321914, 9.342738530193992, 9.34355767058999, 9.204796740701097, 8.14233380795427], \"type\": \"scatter\", \"uid\": \"04dcb49a-cf2e-11e8-97a5-b00594f12df5\", \"xaxis\": \"x2\", \"yaxis\": \"y\"}, {\"legendgroup\": \"United Kingdom\", \"line\": {\"color\": \"#AA5585\", \"dash\": \"dash\", \"shape\": \"spline\", \"smoothing\": 0.4}, \"mode\": \"lines\", \"name\": \"capacity GB\", \"showlegend\": false, \"x\": [2003.0, 2004.0, 2005.0, 2006.0, 2007.0, 2009.0, 2010.0, 2011.0, 2012.0, 2013.0, 2014.0, 2015.0, 2016.0, 2018.0, 2019.0], \"y\": [0.06, 0.12, 0.21, 0.3, 0.39, 0.6744, 1.3512, 1.5348, 2.6892, 3.6703, 4.6351, 5.1136, 5.3696, 8.9688, 16.444], \"type\": \"scatter\", \"uid\": \"04df4cd4-cf2e-11e8-9362-b00594f12df5\", \"xaxis\": \"x2\", \"yaxis\": \"y2\"}, {\"fill\": \"toself\", \"legendgroup\": \"Germany\", \"line\": {\"color\": \"#499272\", \"shape\": \"spline\", \"smoothing\": 0.9}, \"mode\": \"lines\", \"name\": \"Germany\", \"x\": [0.0, 0.0, 0.0, 5.0890195522969215, 74.30827093511061, 151.88721668743847, 55.034432604449286, 0.0, 0.0], \"y\": [6.1, 7.0, 7.6, 8.2, 8.7, 9.6, 10.7, 11.8, 12.9], \"type\": \"scatter\", \"uid\": \"04f8a128-cf2e-11e8-bd15-b00594f12df5\", \"xaxis\": \"x\", \"yaxis\": \"y\"}, {\"legendgroup\": \"Germany\", \"marker\": {\"color\": \"#499272\"}, \"name\": \"mean DE\", \"showlegend\": false, \"x\": [-100], \"y\": [9.552974835125122], \"type\": \"scatter\", \"uid\": \"04fbfc7a-cf2e-11e8-8df9-b00594f12df5\", \"xaxis\": \"x\", \"yaxis\": \"y\"}, {\"legendgroup\": \"Germany\", \"line\": {\"color\": \"#499272\", \"shape\": \"spline\", \"smoothing\": 0.4}, \"mode\": \"lines\", \"name\": \"wind speed DE\", \"showlegend\": false, \"x\": [2004.0, 2006.0, 2009.0, 2011.0, 2013.0, 2014.0, 2015.0, 2017.0, 2018.0, 2019.0], \"y\": [8.76715, 9.007121428571429, 9.446355970149256, 9.131452549869906, 6.947254956336114, 5.06961597607813, 6.918375563063751, 6.987687127166685, 6.113952125085596, 6.195107493025836], \"type\": \"scatter\", \"uid\": \"0500de9c-cf2e-11e8-bd3b-b00594f12df5\", \"xaxis\": \"x2\", \"yaxis\": \"y\"}, {\"legendgroup\": \"Germany\", \"line\": {\"color\": \"#499272\", \"dash\": \"dash\", \"shape\": \"spline\", \"smoothing\": 0.4}, \"mode\": \"lines\", \"name\": \"capacity DE\", \"showlegend\": false, \"x\": [2004.0, 2006.0, 2009.0, 2011.0, 2013.0, 2014.0, 2015.0, 2017.0, 2018.0, 2019.0], \"y\": [0.0045, 0.007, 0.067, 0.1153, 0.5153, 0.9113, 3.2705, 3.6692, 5.6953, 12.0803], \"type\": \"scatter\", \"uid\": \"050683c2-cf2e-11e8-8baf-b00594f12df5\", \"xaxis\": \"x2\", \"yaxis\": \"y2\"}, {\"fill\": \"toself\", \"legendgroup\": \"France\", \"line\": {\"color\": \"#D4CB6A\", \"shape\": \"spline\", \"smoothing\": 0.9}, \"mode\": \"lines\", \"name\": \"France\", \"x\": [0.0, 10.862479455809078, 43.965105308288614, 87.63534171024406, 200.26574502243497, 81.00500274771323, 0.0, 0.0, 0.0], \"y\": [6.1, 7.0, 7.6, 8.2, 8.7, 9.6, 10.7, 11.8, 12.9], \"type\": \"scatter\", \"uid\": \"051abcba-cf2e-11e8-abb3-b00594f12df5\", \"xaxis\": \"x\", \"yaxis\": \"y\"}, {\"legendgroup\": \"France\", \"marker\": {\"color\": \"#D4CB6A\"}, \"name\": \"mean FR\", \"showlegend\": false, \"x\": [-100], \"y\": [8.610932263376366], \"type\": \"scatter\", \"uid\": \"051f9ed2-cf2e-11e8-a97e-b00594f12df5\", \"xaxis\": \"x\", \"yaxis\": \"y\"}, {\"legendgroup\": \"France\", \"line\": {\"color\": \"#D4CB6A\", \"shape\": \"spline\", \"smoothing\": 0.4}, \"mode\": \"lines\", \"name\": \"wind speed FR\", \"showlegend\": false, \"x\": [2012.0, 2015.0, 2018.0, 2019.0], \"y\": [7.51338, 8.761631428571429, 8.75387625, 9.022859823949005], \"type\": \"scatter\", \"uid\": \"05251cfa-cf2e-11e8-aa84-b00594f12df5\", \"xaxis\": \"x2\", \"yaxis\": \"y\"}, {\"legendgroup\": \"France\", \"line\": {\"color\": \"#D4CB6A\", \"dash\": \"dash\", \"shape\": \"spline\", \"smoothing\": 0.4}, \"mode\": \"lines\", \"name\": \"capacity FR\", \"showlegend\": false, \"x\": [2012.0, 2015.0, 2018.0, 2019.0], \"y\": [0.006, 0.014, 0.016, 2.6356], \"type\": \"scatter\", \"uid\": \"0529b0d2-cf2e-11e8-9594-b00594f12df5\", \"xaxis\": \"x2\", \"yaxis\": \"y2\"}], {\"legend\": {\"orientation\": \"h\", \"x\": 0.55, \"xanchor\": \"center\", \"y\": 1}, \"title\": \"Offshore wind resources vs. projects by capacity weighted average wind speed\", \"xaxis\": {\"autorange\": \"reversed\", \"domain\": [0, 0.3], \"title\": \"Available power (TW)\"}, \"yaxis\": {\"hoverformat\": \".2f\", \"title\": \"Wind speed (m/s)\"}, \"xaxis2\": {\"domain\": [0.3, 1], \"title\": \"Year\"}, \"yaxis2\": {\"anchor\": \"x2\", \"hoverformat\": \".2f\", \"overlaying\": \"y\", \"showgrid\": false, \"side\": \"right\", \"title\": \"Cumulative project capacity (GW)\"}, \"showlegend\": true, \"hovermode\": \"x\"}, {\"showLink\": true, \"linkText\": \"Export to plot.ly\"})});</script>"
      ],
      "text/vnd.plotly.v1+html": [
       "<div id=\"4ec5be6d-84f8-4ddd-89e5-e2b544d9609c\" style=\"height: 525px; width: 100%;\" class=\"plotly-graph-div\"></div><script type=\"text/javascript\">require([\"plotly\"], function(Plotly) { window.PLOTLYENV=window.PLOTLYENV || {};window.PLOTLYENV.BASE_URL=\"https://plot.ly\";Plotly.newPlot(\"4ec5be6d-84f8-4ddd-89e5-e2b544d9609c\", [{\"fill\": \"toself\", \"legendgroup\": \"United Kingdom\", \"line\": {\"color\": \"#AA5585\", \"shape\": \"spline\", \"smoothing\": 0.9}, \"mode\": \"lines\", \"name\": \"United Kingdom\", \"x\": [0.0, 0.0, 0.0, 0.0, 116.94847569595635, 1108.4278851044735, 292.7286431643525, 6.9409166095039145, 0.0], \"y\": [6.1, 7.0, 7.6, 8.2, 8.7, 9.6, 10.7, 11.8, 12.9], \"type\": \"scatter\", \"uid\": \"04d7d2b6-cf2e-11e8-a6e9-b00594f12df5\", \"xaxis\": \"x\", \"yaxis\": \"y\"}, {\"legendgroup\": \"United Kingdom\", \"marker\": {\"color\": \"#AA5585\"}, \"name\": \"mean GB\", \"showlegend\": false, \"x\": [-100], \"y\": [9.752138301388305], \"type\": \"scatter\", \"uid\": \"04da43ae-cf2e-11e8-ba9c-b00594f12df5\", \"xaxis\": \"x\", \"yaxis\": \"y\"}, {\"legendgroup\": \"United Kingdom\", \"line\": {\"color\": \"#AA5585\", \"shape\": \"spline\", \"smoothing\": 0.4}, \"mode\": \"lines\", \"name\": \"wind speed GB\", \"showlegend\": false, \"x\": [2003.0, 2004.0, 2005.0, 2006.0, 2007.0, 2009.0, 2010.0, 2011.0, 2012.0, 2013.0, 2014.0, 2015.0, 2016.0, 2018.0, 2019.0], \"y\": [9.35932, 9.237325, 9.254585714285714, 9.26149, 9.27352, 9.422690035587188, 9.322648925399644, 9.37293808444097, 9.432361213743864, 9.347033650110346, 9.351255929321914, 9.342738530193992, 9.34355767058999, 9.204796740701097, 8.14233380795427], \"type\": \"scatter\", \"uid\": \"04dcb49a-cf2e-11e8-97a5-b00594f12df5\", \"xaxis\": \"x2\", \"yaxis\": \"y\"}, {\"legendgroup\": \"United Kingdom\", \"line\": {\"color\": \"#AA5585\", \"dash\": \"dash\", \"shape\": \"spline\", \"smoothing\": 0.4}, \"mode\": \"lines\", \"name\": \"capacity GB\", \"showlegend\": false, \"x\": [2003.0, 2004.0, 2005.0, 2006.0, 2007.0, 2009.0, 2010.0, 2011.0, 2012.0, 2013.0, 2014.0, 2015.0, 2016.0, 2018.0, 2019.0], \"y\": [0.06, 0.12, 0.21, 0.3, 0.39, 0.6744, 1.3512, 1.5348, 2.6892, 3.6703, 4.6351, 5.1136, 5.3696, 8.9688, 16.444], \"type\": \"scatter\", \"uid\": \"04df4cd4-cf2e-11e8-9362-b00594f12df5\", \"xaxis\": \"x2\", \"yaxis\": \"y2\"}, {\"fill\": \"toself\", \"legendgroup\": \"Germany\", \"line\": {\"color\": \"#499272\", \"shape\": \"spline\", \"smoothing\": 0.9}, \"mode\": \"lines\", \"name\": \"Germany\", \"x\": [0.0, 0.0, 0.0, 5.0890195522969215, 74.30827093511061, 151.88721668743847, 55.034432604449286, 0.0, 0.0], \"y\": [6.1, 7.0, 7.6, 8.2, 8.7, 9.6, 10.7, 11.8, 12.9], \"type\": \"scatter\", \"uid\": \"04f8a128-cf2e-11e8-bd15-b00594f12df5\", \"xaxis\": \"x\", \"yaxis\": \"y\"}, {\"legendgroup\": \"Germany\", \"marker\": {\"color\": \"#499272\"}, \"name\": \"mean DE\", \"showlegend\": false, \"x\": [-100], \"y\": [9.552974835125122], \"type\": \"scatter\", \"uid\": \"04fbfc7a-cf2e-11e8-8df9-b00594f12df5\", \"xaxis\": \"x\", \"yaxis\": \"y\"}, {\"legendgroup\": \"Germany\", \"line\": {\"color\": \"#499272\", \"shape\": \"spline\", \"smoothing\": 0.4}, \"mode\": \"lines\", \"name\": \"wind speed DE\", \"showlegend\": false, \"x\": [2004.0, 2006.0, 2009.0, 2011.0, 2013.0, 2014.0, 2015.0, 2017.0, 2018.0, 2019.0], \"y\": [8.76715, 9.007121428571429, 9.446355970149256, 9.131452549869906, 6.947254956336114, 5.06961597607813, 6.918375563063751, 6.987687127166685, 6.113952125085596, 6.195107493025836], \"type\": \"scatter\", \"uid\": \"0500de9c-cf2e-11e8-bd3b-b00594f12df5\", \"xaxis\": \"x2\", \"yaxis\": \"y\"}, {\"legendgroup\": \"Germany\", \"line\": {\"color\": \"#499272\", \"dash\": \"dash\", \"shape\": \"spline\", \"smoothing\": 0.4}, \"mode\": \"lines\", \"name\": \"capacity DE\", \"showlegend\": false, \"x\": [2004.0, 2006.0, 2009.0, 2011.0, 2013.0, 2014.0, 2015.0, 2017.0, 2018.0, 2019.0], \"y\": [0.0045, 0.007, 0.067, 0.1153, 0.5153, 0.9113, 3.2705, 3.6692, 5.6953, 12.0803], \"type\": \"scatter\", \"uid\": \"050683c2-cf2e-11e8-8baf-b00594f12df5\", \"xaxis\": \"x2\", \"yaxis\": \"y2\"}, {\"fill\": \"toself\", \"legendgroup\": \"France\", \"line\": {\"color\": \"#D4CB6A\", \"shape\": \"spline\", \"smoothing\": 0.9}, \"mode\": \"lines\", \"name\": \"France\", \"x\": [0.0, 10.862479455809078, 43.965105308288614, 87.63534171024406, 200.26574502243497, 81.00500274771323, 0.0, 0.0, 0.0], \"y\": [6.1, 7.0, 7.6, 8.2, 8.7, 9.6, 10.7, 11.8, 12.9], \"type\": \"scatter\", \"uid\": \"051abcba-cf2e-11e8-abb3-b00594f12df5\", \"xaxis\": \"x\", \"yaxis\": \"y\"}, {\"legendgroup\": \"France\", \"marker\": {\"color\": \"#D4CB6A\"}, \"name\": \"mean FR\", \"showlegend\": false, \"x\": [-100], \"y\": [8.610932263376366], \"type\": \"scatter\", \"uid\": \"051f9ed2-cf2e-11e8-a97e-b00594f12df5\", \"xaxis\": \"x\", \"yaxis\": \"y\"}, {\"legendgroup\": \"France\", \"line\": {\"color\": \"#D4CB6A\", \"shape\": \"spline\", \"smoothing\": 0.4}, \"mode\": \"lines\", \"name\": \"wind speed FR\", \"showlegend\": false, \"x\": [2012.0, 2015.0, 2018.0, 2019.0], \"y\": [7.51338, 8.761631428571429, 8.75387625, 9.022859823949005], \"type\": \"scatter\", \"uid\": \"05251cfa-cf2e-11e8-aa84-b00594f12df5\", \"xaxis\": \"x2\", \"yaxis\": \"y\"}, {\"legendgroup\": \"France\", \"line\": {\"color\": \"#D4CB6A\", \"dash\": \"dash\", \"shape\": \"spline\", \"smoothing\": 0.4}, \"mode\": \"lines\", \"name\": \"capacity FR\", \"showlegend\": false, \"x\": [2012.0, 2015.0, 2018.0, 2019.0], \"y\": [0.006, 0.014, 0.016, 2.6356], \"type\": \"scatter\", \"uid\": \"0529b0d2-cf2e-11e8-9594-b00594f12df5\", \"xaxis\": \"x2\", \"yaxis\": \"y2\"}], {\"legend\": {\"orientation\": \"h\", \"x\": 0.55, \"xanchor\": \"center\", \"y\": 1}, \"title\": \"Offshore wind resources vs. projects by capacity weighted average wind speed\", \"xaxis\": {\"autorange\": \"reversed\", \"domain\": [0, 0.3], \"title\": \"Available power (TW)\"}, \"yaxis\": {\"hoverformat\": \".2f\", \"title\": \"Wind speed (m/s)\"}, \"xaxis2\": {\"domain\": [0.3, 1], \"title\": \"Year\"}, \"yaxis2\": {\"anchor\": \"x2\", \"hoverformat\": \".2f\", \"overlaying\": \"y\", \"showgrid\": false, \"side\": \"right\", \"title\": \"Cumulative project capacity (GW)\"}, \"showlegend\": true, \"hovermode\": \"x\"}, {\"showLink\": true, \"linkText\": \"Export to plot.ly\"})});</script>"
      ]
     },
     "metadata": {},
     "output_type": "display_data"
    }
   ],
   "source": [
    "fig = tools.make_subplots(rows=1, cols=3);\n",
    "axes=[]\n",
    "for i in range(len(cs)):\n",
    "    c=cs[i]\n",
    "    c2=c2s[i]\n",
    "    x,y,z,w=projects(ofs,c)\n",
    "    x2=[class2speed[i] for i in wind_res2[c2].keys()]\n",
    "    y2=np.array(list(wind_res2[c2].values()))\n",
    "    #calculate average resource class, weighted by available capacity in each class \n",
    "    x2a=np.average(x2,weights=y2)\n",
    "    fig.append_trace(\n",
    "        go.Scatter(x=y2,y=x2,\n",
    "            mode = 'lines',\n",
    "            fill='toself',\n",
    "            legendgroup= c2,\n",
    "            name = c2,\n",
    "            line=dict(\n",
    "                color=colors[i],\n",
    "                shape='spline',\n",
    "                smoothing=smoothing[1]\n",
    "            )\n",
    "        ),1,1\n",
    "    ); axes.append({'x':'','y':''});\n",
    "    fig.append_trace(\n",
    "        go.Scatter(x=[-100],y=[x2a],\n",
    "            legendgroup= c2,\n",
    "            name = 'mean '+c,\n",
    "            marker=dict(\n",
    "                color=colors[i],\n",
    "            ),\n",
    "            showlegend=False\n",
    "        ),1,1\n",
    "    ); axes.append({'x':'','y':''});\n",
    "    fig.append_trace(\n",
    "        go.Scatter(x=x,y=z,\n",
    "            mode = 'lines',\n",
    "            name = 'wind speed '+c,  \n",
    "            legendgroup= c2,\n",
    "            line=dict(\n",
    "                color=colors[i],\n",
    "                shape='spline',\n",
    "                smoothing=smoothing[0]\n",
    "            ),\n",
    "            showlegend=False\n",
    "        ),1,2\n",
    "    ); axes.append({'x':'2','y':''});\n",
    "    fig.append_trace(\n",
    "        go.Scatter(x=x,y=np.array(w)/1e6, #kW to GW conversion\n",
    "            mode = 'lines',\n",
    "            name = 'capacity '+c,  \n",
    "            legendgroup= c2,\n",
    "            line=dict(\n",
    "                color=colors[i],\n",
    "                shape='spline',\n",
    "                dash='dash',\n",
    "                smoothing=smoothing[0]\n",
    "            ),\n",
    "            showlegend=False\n",
    "        ),1,3\n",
    "    ); axes.append({'x':'2','y':'2'});\n",
    "\n",
    "for i in range(len(fig['data'])):\n",
    "    fig['data'][i]['xaxis']='x'+axes[i]['x']\n",
    "    fig['data'][i]['yaxis']='y'+axes[i]['y']\n",
    "\n",
    "layout = go.Layout(\n",
    "    xaxis=dict(\n",
    "        domain=[0, 0.3],\n",
    "        title='Available power (TW)',\n",
    "        autorange='reversed'\n",
    "    ),\n",
    "    yaxis=dict(\n",
    "        title='Wind speed (m/s)',\n",
    "        hoverformat = '.2f'\n",
    "    ),\n",
    "    xaxis2=dict(\n",
    "        domain=[0.3, 1],\n",
    "        title='Year'\n",
    "    ),\n",
    "    yaxis2=dict(\n",
    "        overlaying='y',\n",
    "        showgrid=False,\n",
    "        side='right',\n",
    "        anchor='x2',\n",
    "        hoverformat = '.2f',\n",
    "        title='Cumulative project capacity (GW)',\n",
    "    ),\n",
    "    title='Offshore wind resources vs. projects by capacity weighted average wind speed',\n",
    "    legend=dict(\n",
    "        orientation='h',\n",
    "        x=0.55,\n",
    "        y=1,\n",
    "        xanchor='center'\n",
    "    )\n",
    ")\n",
    "fig[\"layout\"]=layout\n",
    "fig[\"layout\"][\"showlegend\"] = True\n",
    "fig[\"layout\"]['hovermode']='x'\n",
    "iplot(fig, filename='ofs5')"
   ]
  },
  {
   "cell_type": "code",
   "execution_count": 386,
   "metadata": {},
   "outputs": [
    {
     "name": "stdout",
     "output_type": "stream",
     "text": [
      "This is the format of your plot grid:\n",
      "[ (1,1) x1,y1 ]  [ (1,2) x2,y2 ]  [ (1,3) x3,y3 ]\n",
      "\n"
     ]
    },
    {
     "data": {
      "application/vnd.plotly.v1+json": {
       "data": [
        {
         "fill": "toself",
         "legendgroup": "United Kingdom",
         "line": {
          "color": "#AA5585",
          "shape": "spline",
          "smoothing": 0.9
         },
         "mode": "lines",
         "name": "United Kingdom",
         "type": "scatter",
         "uid": "56ca302c-cf2f-11e8-98db-b00594f12df5",
         "x": [
          0,
          0,
          0,
          0,
          116.94847569595635,
          1108.4278851044735,
          292.7286431643525,
          6.9409166095039145,
          0
         ],
         "xaxis": "x",
         "y": [
          6.1,
          7,
          7.6,
          8.2,
          8.7,
          9.6,
          10.7,
          11.8,
          12.9
         ],
         "yaxis": "y"
        },
        {
         "legendgroup": "United Kingdom",
         "marker": {
          "color": "#AA5585"
         },
         "name": "mean GB",
         "showlegend": false,
         "type": "scatter",
         "uid": "56cd165c-cf2f-11e8-a3b1-b00594f12df5",
         "x": [
          -100
         ],
         "xaxis": "x",
         "y": [
          9.752138301388305
         ],
         "yaxis": "y"
        },
        {
         "legendgroup": "United Kingdom",
         "line": {
          "color": "#AA5585",
          "shape": "spline",
          "smoothing": 0.4
         },
         "mode": "lines",
         "name": "wind speed GB",
         "showlegend": false,
         "type": "scatter",
         "uid": "56d0115c-cf2f-11e8-b4a7-b00594f12df5",
         "x": [
          2003,
          2004,
          2005,
          2006,
          2007,
          2009,
          2010,
          2011,
          2012,
          2013,
          2014,
          2015,
          2016,
          2018,
          2019
         ],
         "xaxis": "x2",
         "y": [
          9.35932,
          9.11533,
          9.2776,
          9.2776,
          9.31362,
          9.627248101265824,
          9.222962570921986,
          9.74304,
          9.511365561330562,
          9.113150372031393,
          9.367318358208955,
          9.26023278996865,
          9.35992,
          8.997781101355857,
          6.867582958315496
         ],
         "yaxis": "y"
        },
        {
         "legendgroup": "United Kingdom",
         "line": {
          "color": "#AA5585",
          "dash": "dash",
          "shape": "spline",
          "smoothing": 0.4
         },
         "mode": "lines",
         "name": "capacity GB",
         "showlegend": false,
         "type": "scatter",
         "uid": "56d393de-cf2f-11e8-87bc-b00594f12df5",
         "x": [
          2003,
          2004,
          2005,
          2006,
          2007,
          2009,
          2010,
          2011,
          2012,
          2013,
          2014,
          2015,
          2016,
          2018,
          2019
         ],
         "xaxis": "x2",
         "y": [
          0.06,
          0.06,
          0.09,
          0.09,
          0.09,
          0.2844,
          0.6768,
          0.1836,
          1.1544,
          0.9811,
          0.9648,
          0.4785,
          0.256,
          3.5992,
          7.4752
         ],
         "yaxis": "y2"
        },
        {
         "fill": "toself",
         "legendgroup": "Germany",
         "line": {
          "color": "#499272",
          "shape": "spline",
          "smoothing": 0.9
         },
         "mode": "lines",
         "name": "Germany",
         "type": "scatter",
         "uid": "571809b4-cf2f-11e8-8046-b00594f12df5",
         "x": [
          0,
          0,
          0,
          5.0890195522969215,
          74.30827093511061,
          151.88721668743847,
          55.034432604449286,
          0,
          0
         ],
         "xaxis": "x",
         "y": [
          6.1,
          7,
          7.6,
          8.2,
          8.7,
          9.6,
          10.7,
          11.8,
          12.9
         ],
         "yaxis": "y"
        },
        {
         "legendgroup": "Germany",
         "marker": {
          "color": "#499272"
         },
         "name": "mean DE",
         "showlegend": false,
         "type": "scatter",
         "uid": "571cebd8-cf2f-11e8-a33f-b00594f12df5",
         "x": [
          -100
         ],
         "xaxis": "x",
         "y": [
          9.552974835125122
         ],
         "yaxis": "y"
        },
        {
         "legendgroup": "Germany",
         "line": {
          "color": "#499272",
          "shape": "spline",
          "smoothing": 0.4
         },
         "mode": "lines",
         "name": "wind speed DE",
         "showlegend": false,
         "type": "scatter",
         "uid": "57224524-cf2f-11e8-b887-b00594f12df5",
         "x": [
          2004,
          2006,
          2009,
          2011,
          2013,
          2014,
          2015,
          2017,
          2018,
          2019
         ],
         "xaxis": "x2",
         "y": [
          8.76715,
          9.43907,
          9.4976,
          8.69463,
          6.31766,
          2.626314545454546,
          7.63250518819939,
          7.556243611738148,
          4.531646972508761,
          6.267496555990604
         ],
         "yaxis": "y"
        },
        {
         "legendgroup": "Germany",
         "line": {
          "color": "#499272",
          "dash": "dash",
          "shape": "spline",
          "smoothing": 0.4
         },
         "mode": "lines",
         "name": "capacity DE",
         "showlegend": false,
         "type": "scatter",
         "uid": "572609d8-cf2f-11e8-a5ad-b00594f12df5",
         "x": [
          2004,
          2006,
          2009,
          2011,
          2013,
          2014,
          2015,
          2017,
          2018,
          2019
         ],
         "xaxis": "x2",
         "y": [
          0.0045,
          0.0025,
          0.06,
          0.0483,
          0.4,
          0.396,
          2.3592,
          0.3987,
          2.0261,
          6.385
         ],
         "yaxis": "y2"
        },
        {
         "fill": "toself",
         "legendgroup": "France",
         "line": {
          "color": "#D4CB6A",
          "shape": "spline",
          "smoothing": 0.9
         },
         "mode": "lines",
         "name": "France",
         "type": "scatter",
         "uid": "572dbb08-cf2f-11e8-8d2c-b00594f12df5",
         "x": [
          0,
          10.862479455809078,
          43.965105308288614,
          87.63534171024406,
          200.26574502243497,
          81.00500274771323,
          0,
          0,
          0
         ],
         "xaxis": "x",
         "y": [
          6.1,
          7,
          7.6,
          8.2,
          8.7,
          9.6,
          10.7,
          11.8,
          12.9
         ],
         "yaxis": "y"
        },
        {
         "legendgroup": "France",
         "marker": {
          "color": "#D4CB6A"
         },
         "name": "mean FR",
         "showlegend": false,
         "type": "scatter",
         "uid": "5730fa36-cf2f-11e8-9cbe-b00594f12df5",
         "x": [
          -100
         ],
         "xaxis": "x",
         "y": [
          8.610932263376366
         ],
         "yaxis": "y"
        },
        {
         "legendgroup": "France",
         "line": {
          "color": "#D4CB6A",
          "shape": "spline",
          "smoothing": 0.4
         },
         "mode": "lines",
         "name": "wind speed FR",
         "showlegend": false,
         "type": "scatter",
         "uid": "5734e9da-cf2f-11e8-8ed0-b00594f12df5",
         "x": [
          2012,
          2015,
          2018,
          2019
         ],
         "xaxis": "x2",
         "y": [
          7.51338,
          9.69782,
          8.69959,
          9.024502722553061
         ],
         "yaxis": "y"
        },
        {
         "legendgroup": "France",
         "line": {
          "color": "#D4CB6A",
          "dash": "dash",
          "shape": "spline",
          "smoothing": 0.4
         },
         "mode": "lines",
         "name": "capacity FR",
         "showlegend": false,
         "type": "scatter",
         "uid": "57389b28-cf2f-11e8-8a18-b00594f12df5",
         "x": [
          2012,
          2015,
          2018,
          2019
         ],
         "xaxis": "x2",
         "y": [
          0.006,
          0.008,
          0.002,
          2.6196
         ],
         "yaxis": "y2"
        }
       ],
       "layout": {
        "hovermode": "x",
        "legend": {
         "orientation": "h",
         "x": 0.55,
         "xanchor": "center",
         "y": 1
        },
        "showlegend": true,
        "title": "Offshore wind resources vs. projects by capacity weighted average wind speed",
        "xaxis": {
         "autorange": "reversed",
         "domain": [
          0,
          0.3
         ],
         "title": "Available power (TW)"
        },
        "xaxis2": {
         "domain": [
          0.3,
          1
         ],
         "title": "Year"
        },
        "yaxis": {
         "hoverformat": ".2f",
         "title": "Wind speed (m/s)"
        },
        "yaxis2": {
         "anchor": "x2",
         "hoverformat": ".2f",
         "overlaying": "y",
         "showgrid": false,
         "side": "right",
         "title": "Yearly project capacity (GW)"
        }
       }
      },
      "text/html": [
       "<div id=\"58584e3b-6d26-4f53-9cd1-945e056bd35d\" style=\"height: 525px; width: 100%;\" class=\"plotly-graph-div\"></div><script type=\"text/javascript\">require([\"plotly\"], function(Plotly) { window.PLOTLYENV=window.PLOTLYENV || {};window.PLOTLYENV.BASE_URL=\"https://plot.ly\";Plotly.newPlot(\"58584e3b-6d26-4f53-9cd1-945e056bd35d\", [{\"fill\": \"toself\", \"legendgroup\": \"United Kingdom\", \"line\": {\"color\": \"#AA5585\", \"shape\": \"spline\", \"smoothing\": 0.9}, \"mode\": \"lines\", \"name\": \"United Kingdom\", \"x\": [0.0, 0.0, 0.0, 0.0, 116.94847569595635, 1108.4278851044735, 292.7286431643525, 6.9409166095039145, 0.0], \"y\": [6.1, 7.0, 7.6, 8.2, 8.7, 9.6, 10.7, 11.8, 12.9], \"type\": \"scatter\", \"uid\": \"56ca302c-cf2f-11e8-98db-b00594f12df5\", \"xaxis\": \"x\", \"yaxis\": \"y\"}, {\"legendgroup\": \"United Kingdom\", \"marker\": {\"color\": \"#AA5585\"}, \"name\": \"mean GB\", \"showlegend\": false, \"x\": [-100], \"y\": [9.752138301388305], \"type\": \"scatter\", \"uid\": \"56cd165c-cf2f-11e8-a3b1-b00594f12df5\", \"xaxis\": \"x\", \"yaxis\": \"y\"}, {\"legendgroup\": \"United Kingdom\", \"line\": {\"color\": \"#AA5585\", \"shape\": \"spline\", \"smoothing\": 0.4}, \"mode\": \"lines\", \"name\": \"wind speed GB\", \"showlegend\": false, \"x\": [2003.0, 2004.0, 2005.0, 2006.0, 2007.0, 2009.0, 2010.0, 2011.0, 2012.0, 2013.0, 2014.0, 2015.0, 2016.0, 2018.0, 2019.0], \"y\": [9.35932, 9.11533, 9.2776, 9.2776, 9.31362, 9.627248101265824, 9.222962570921986, 9.74304, 9.511365561330562, 9.113150372031393, 9.367318358208955, 9.26023278996865, 9.35992, 8.997781101355857, 6.867582958315496], \"type\": \"scatter\", \"uid\": \"56d0115c-cf2f-11e8-b4a7-b00594f12df5\", \"xaxis\": \"x2\", \"yaxis\": \"y\"}, {\"legendgroup\": \"United Kingdom\", \"line\": {\"color\": \"#AA5585\", \"dash\": \"dash\", \"shape\": \"spline\", \"smoothing\": 0.4}, \"mode\": \"lines\", \"name\": \"capacity GB\", \"showlegend\": false, \"x\": [2003.0, 2004.0, 2005.0, 2006.0, 2007.0, 2009.0, 2010.0, 2011.0, 2012.0, 2013.0, 2014.0, 2015.0, 2016.0, 2018.0, 2019.0], \"y\": [0.06, 0.06, 0.09, 0.09, 0.09, 0.2844, 0.6768, 0.1836, 1.1544, 0.9811, 0.9648, 0.4785, 0.256, 3.5992, 7.4752], \"type\": \"scatter\", \"uid\": \"56d393de-cf2f-11e8-87bc-b00594f12df5\", \"xaxis\": \"x2\", \"yaxis\": \"y2\"}, {\"fill\": \"toself\", \"legendgroup\": \"Germany\", \"line\": {\"color\": \"#499272\", \"shape\": \"spline\", \"smoothing\": 0.9}, \"mode\": \"lines\", \"name\": \"Germany\", \"x\": [0.0, 0.0, 0.0, 5.0890195522969215, 74.30827093511061, 151.88721668743847, 55.034432604449286, 0.0, 0.0], \"y\": [6.1, 7.0, 7.6, 8.2, 8.7, 9.6, 10.7, 11.8, 12.9], \"type\": \"scatter\", \"uid\": \"571809b4-cf2f-11e8-8046-b00594f12df5\", \"xaxis\": \"x\", \"yaxis\": \"y\"}, {\"legendgroup\": \"Germany\", \"marker\": {\"color\": \"#499272\"}, \"name\": \"mean DE\", \"showlegend\": false, \"x\": [-100], \"y\": [9.552974835125122], \"type\": \"scatter\", \"uid\": \"571cebd8-cf2f-11e8-a33f-b00594f12df5\", \"xaxis\": \"x\", \"yaxis\": \"y\"}, {\"legendgroup\": \"Germany\", \"line\": {\"color\": \"#499272\", \"shape\": \"spline\", \"smoothing\": 0.4}, \"mode\": \"lines\", \"name\": \"wind speed DE\", \"showlegend\": false, \"x\": [2004.0, 2006.0, 2009.0, 2011.0, 2013.0, 2014.0, 2015.0, 2017.0, 2018.0, 2019.0], \"y\": [8.76715, 9.43907, 9.4976, 8.69463, 6.31766, 2.626314545454546, 7.63250518819939, 7.556243611738148, 4.531646972508761, 6.267496555990604], \"type\": \"scatter\", \"uid\": \"57224524-cf2f-11e8-b887-b00594f12df5\", \"xaxis\": \"x2\", \"yaxis\": \"y\"}, {\"legendgroup\": \"Germany\", \"line\": {\"color\": \"#499272\", \"dash\": \"dash\", \"shape\": \"spline\", \"smoothing\": 0.4}, \"mode\": \"lines\", \"name\": \"capacity DE\", \"showlegend\": false, \"x\": [2004.0, 2006.0, 2009.0, 2011.0, 2013.0, 2014.0, 2015.0, 2017.0, 2018.0, 2019.0], \"y\": [0.0045, 0.0025, 0.06, 0.0483, 0.4, 0.396, 2.3592, 0.3987, 2.0261, 6.385], \"type\": \"scatter\", \"uid\": \"572609d8-cf2f-11e8-a5ad-b00594f12df5\", \"xaxis\": \"x2\", \"yaxis\": \"y2\"}, {\"fill\": \"toself\", \"legendgroup\": \"France\", \"line\": {\"color\": \"#D4CB6A\", \"shape\": \"spline\", \"smoothing\": 0.9}, \"mode\": \"lines\", \"name\": \"France\", \"x\": [0.0, 10.862479455809078, 43.965105308288614, 87.63534171024406, 200.26574502243497, 81.00500274771323, 0.0, 0.0, 0.0], \"y\": [6.1, 7.0, 7.6, 8.2, 8.7, 9.6, 10.7, 11.8, 12.9], \"type\": \"scatter\", \"uid\": \"572dbb08-cf2f-11e8-8d2c-b00594f12df5\", \"xaxis\": \"x\", \"yaxis\": \"y\"}, {\"legendgroup\": \"France\", \"marker\": {\"color\": \"#D4CB6A\"}, \"name\": \"mean FR\", \"showlegend\": false, \"x\": [-100], \"y\": [8.610932263376366], \"type\": \"scatter\", \"uid\": \"5730fa36-cf2f-11e8-9cbe-b00594f12df5\", \"xaxis\": \"x\", \"yaxis\": \"y\"}, {\"legendgroup\": \"France\", \"line\": {\"color\": \"#D4CB6A\", \"shape\": \"spline\", \"smoothing\": 0.4}, \"mode\": \"lines\", \"name\": \"wind speed FR\", \"showlegend\": false, \"x\": [2012.0, 2015.0, 2018.0, 2019.0], \"y\": [7.51338, 9.69782, 8.69959, 9.024502722553061], \"type\": \"scatter\", \"uid\": \"5734e9da-cf2f-11e8-8ed0-b00594f12df5\", \"xaxis\": \"x2\", \"yaxis\": \"y\"}, {\"legendgroup\": \"France\", \"line\": {\"color\": \"#D4CB6A\", \"dash\": \"dash\", \"shape\": \"spline\", \"smoothing\": 0.4}, \"mode\": \"lines\", \"name\": \"capacity FR\", \"showlegend\": false, \"x\": [2012.0, 2015.0, 2018.0, 2019.0], \"y\": [0.006, 0.008, 0.002, 2.6196], \"type\": \"scatter\", \"uid\": \"57389b28-cf2f-11e8-8a18-b00594f12df5\", \"xaxis\": \"x2\", \"yaxis\": \"y2\"}], {\"legend\": {\"orientation\": \"h\", \"x\": 0.55, \"xanchor\": \"center\", \"y\": 1}, \"title\": \"Offshore wind resources vs. projects by capacity weighted average wind speed\", \"xaxis\": {\"autorange\": \"reversed\", \"domain\": [0, 0.3], \"title\": \"Available power (TW)\"}, \"yaxis\": {\"hoverformat\": \".2f\", \"title\": \"Wind speed (m/s)\"}, \"xaxis2\": {\"domain\": [0.3, 1], \"title\": \"Year\"}, \"yaxis2\": {\"anchor\": \"x2\", \"hoverformat\": \".2f\", \"overlaying\": \"y\", \"showgrid\": false, \"side\": \"right\", \"title\": \"Yearly project capacity (GW)\"}, \"showlegend\": true, \"hovermode\": \"x\"}, {\"showLink\": true, \"linkText\": \"Export to plot.ly\"})});</script>"
      ],
      "text/vnd.plotly.v1+html": [
       "<div id=\"58584e3b-6d26-4f53-9cd1-945e056bd35d\" style=\"height: 525px; width: 100%;\" class=\"plotly-graph-div\"></div><script type=\"text/javascript\">require([\"plotly\"], function(Plotly) { window.PLOTLYENV=window.PLOTLYENV || {};window.PLOTLYENV.BASE_URL=\"https://plot.ly\";Plotly.newPlot(\"58584e3b-6d26-4f53-9cd1-945e056bd35d\", [{\"fill\": \"toself\", \"legendgroup\": \"United Kingdom\", \"line\": {\"color\": \"#AA5585\", \"shape\": \"spline\", \"smoothing\": 0.9}, \"mode\": \"lines\", \"name\": \"United Kingdom\", \"x\": [0.0, 0.0, 0.0, 0.0, 116.94847569595635, 1108.4278851044735, 292.7286431643525, 6.9409166095039145, 0.0], \"y\": [6.1, 7.0, 7.6, 8.2, 8.7, 9.6, 10.7, 11.8, 12.9], \"type\": \"scatter\", \"uid\": \"56ca302c-cf2f-11e8-98db-b00594f12df5\", \"xaxis\": \"x\", \"yaxis\": \"y\"}, {\"legendgroup\": \"United Kingdom\", \"marker\": {\"color\": \"#AA5585\"}, \"name\": \"mean GB\", \"showlegend\": false, \"x\": [-100], \"y\": [9.752138301388305], \"type\": \"scatter\", \"uid\": \"56cd165c-cf2f-11e8-a3b1-b00594f12df5\", \"xaxis\": \"x\", \"yaxis\": \"y\"}, {\"legendgroup\": \"United Kingdom\", \"line\": {\"color\": \"#AA5585\", \"shape\": \"spline\", \"smoothing\": 0.4}, \"mode\": \"lines\", \"name\": \"wind speed GB\", \"showlegend\": false, \"x\": [2003.0, 2004.0, 2005.0, 2006.0, 2007.0, 2009.0, 2010.0, 2011.0, 2012.0, 2013.0, 2014.0, 2015.0, 2016.0, 2018.0, 2019.0], \"y\": [9.35932, 9.11533, 9.2776, 9.2776, 9.31362, 9.627248101265824, 9.222962570921986, 9.74304, 9.511365561330562, 9.113150372031393, 9.367318358208955, 9.26023278996865, 9.35992, 8.997781101355857, 6.867582958315496], \"type\": \"scatter\", \"uid\": \"56d0115c-cf2f-11e8-b4a7-b00594f12df5\", \"xaxis\": \"x2\", \"yaxis\": \"y\"}, {\"legendgroup\": \"United Kingdom\", \"line\": {\"color\": \"#AA5585\", \"dash\": \"dash\", \"shape\": \"spline\", \"smoothing\": 0.4}, \"mode\": \"lines\", \"name\": \"capacity GB\", \"showlegend\": false, \"x\": [2003.0, 2004.0, 2005.0, 2006.0, 2007.0, 2009.0, 2010.0, 2011.0, 2012.0, 2013.0, 2014.0, 2015.0, 2016.0, 2018.0, 2019.0], \"y\": [0.06, 0.06, 0.09, 0.09, 0.09, 0.2844, 0.6768, 0.1836, 1.1544, 0.9811, 0.9648, 0.4785, 0.256, 3.5992, 7.4752], \"type\": \"scatter\", \"uid\": \"56d393de-cf2f-11e8-87bc-b00594f12df5\", \"xaxis\": \"x2\", \"yaxis\": \"y2\"}, {\"fill\": \"toself\", \"legendgroup\": \"Germany\", \"line\": {\"color\": \"#499272\", \"shape\": \"spline\", \"smoothing\": 0.9}, \"mode\": \"lines\", \"name\": \"Germany\", \"x\": [0.0, 0.0, 0.0, 5.0890195522969215, 74.30827093511061, 151.88721668743847, 55.034432604449286, 0.0, 0.0], \"y\": [6.1, 7.0, 7.6, 8.2, 8.7, 9.6, 10.7, 11.8, 12.9], \"type\": \"scatter\", \"uid\": \"571809b4-cf2f-11e8-8046-b00594f12df5\", \"xaxis\": \"x\", \"yaxis\": \"y\"}, {\"legendgroup\": \"Germany\", \"marker\": {\"color\": \"#499272\"}, \"name\": \"mean DE\", \"showlegend\": false, \"x\": [-100], \"y\": [9.552974835125122], \"type\": \"scatter\", \"uid\": \"571cebd8-cf2f-11e8-a33f-b00594f12df5\", \"xaxis\": \"x\", \"yaxis\": \"y\"}, {\"legendgroup\": \"Germany\", \"line\": {\"color\": \"#499272\", \"shape\": \"spline\", \"smoothing\": 0.4}, \"mode\": \"lines\", \"name\": \"wind speed DE\", \"showlegend\": false, \"x\": [2004.0, 2006.0, 2009.0, 2011.0, 2013.0, 2014.0, 2015.0, 2017.0, 2018.0, 2019.0], \"y\": [8.76715, 9.43907, 9.4976, 8.69463, 6.31766, 2.626314545454546, 7.63250518819939, 7.556243611738148, 4.531646972508761, 6.267496555990604], \"type\": \"scatter\", \"uid\": \"57224524-cf2f-11e8-b887-b00594f12df5\", \"xaxis\": \"x2\", \"yaxis\": \"y\"}, {\"legendgroup\": \"Germany\", \"line\": {\"color\": \"#499272\", \"dash\": \"dash\", \"shape\": \"spline\", \"smoothing\": 0.4}, \"mode\": \"lines\", \"name\": \"capacity DE\", \"showlegend\": false, \"x\": [2004.0, 2006.0, 2009.0, 2011.0, 2013.0, 2014.0, 2015.0, 2017.0, 2018.0, 2019.0], \"y\": [0.0045, 0.0025, 0.06, 0.0483, 0.4, 0.396, 2.3592, 0.3987, 2.0261, 6.385], \"type\": \"scatter\", \"uid\": \"572609d8-cf2f-11e8-a5ad-b00594f12df5\", \"xaxis\": \"x2\", \"yaxis\": \"y2\"}, {\"fill\": \"toself\", \"legendgroup\": \"France\", \"line\": {\"color\": \"#D4CB6A\", \"shape\": \"spline\", \"smoothing\": 0.9}, \"mode\": \"lines\", \"name\": \"France\", \"x\": [0.0, 10.862479455809078, 43.965105308288614, 87.63534171024406, 200.26574502243497, 81.00500274771323, 0.0, 0.0, 0.0], \"y\": [6.1, 7.0, 7.6, 8.2, 8.7, 9.6, 10.7, 11.8, 12.9], \"type\": \"scatter\", \"uid\": \"572dbb08-cf2f-11e8-8d2c-b00594f12df5\", \"xaxis\": \"x\", \"yaxis\": \"y\"}, {\"legendgroup\": \"France\", \"marker\": {\"color\": \"#D4CB6A\"}, \"name\": \"mean FR\", \"showlegend\": false, \"x\": [-100], \"y\": [8.610932263376366], \"type\": \"scatter\", \"uid\": \"5730fa36-cf2f-11e8-9cbe-b00594f12df5\", \"xaxis\": \"x\", \"yaxis\": \"y\"}, {\"legendgroup\": \"France\", \"line\": {\"color\": \"#D4CB6A\", \"shape\": \"spline\", \"smoothing\": 0.4}, \"mode\": \"lines\", \"name\": \"wind speed FR\", \"showlegend\": false, \"x\": [2012.0, 2015.0, 2018.0, 2019.0], \"y\": [7.51338, 9.69782, 8.69959, 9.024502722553061], \"type\": \"scatter\", \"uid\": \"5734e9da-cf2f-11e8-8ed0-b00594f12df5\", \"xaxis\": \"x2\", \"yaxis\": \"y\"}, {\"legendgroup\": \"France\", \"line\": {\"color\": \"#D4CB6A\", \"dash\": \"dash\", \"shape\": \"spline\", \"smoothing\": 0.4}, \"mode\": \"lines\", \"name\": \"capacity FR\", \"showlegend\": false, \"x\": [2012.0, 2015.0, 2018.0, 2019.0], \"y\": [0.006, 0.008, 0.002, 2.6196], \"type\": \"scatter\", \"uid\": \"57389b28-cf2f-11e8-8a18-b00594f12df5\", \"xaxis\": \"x2\", \"yaxis\": \"y2\"}], {\"legend\": {\"orientation\": \"h\", \"x\": 0.55, \"xanchor\": \"center\", \"y\": 1}, \"title\": \"Offshore wind resources vs. projects by capacity weighted average wind speed\", \"xaxis\": {\"autorange\": \"reversed\", \"domain\": [0, 0.3], \"title\": \"Available power (TW)\"}, \"yaxis\": {\"hoverformat\": \".2f\", \"title\": \"Wind speed (m/s)\"}, \"xaxis2\": {\"domain\": [0.3, 1], \"title\": \"Year\"}, \"yaxis2\": {\"anchor\": \"x2\", \"hoverformat\": \".2f\", \"overlaying\": \"y\", \"showgrid\": false, \"side\": \"right\", \"title\": \"Yearly project capacity (GW)\"}, \"showlegend\": true, \"hovermode\": \"x\"}, {\"showLink\": true, \"linkText\": \"Export to plot.ly\"})});</script>"
      ]
     },
     "metadata": {},
     "output_type": "display_data"
    }
   ],
   "source": [
    "fig = tools.make_subplots(rows=1, cols=3);\n",
    "axes=[]\n",
    "for i in range(len(cs)):\n",
    "    c=cs[i]\n",
    "    c2=c2s[i]\n",
    "    x,y,z,w=projects(ofs,c,cumulative=False)\n",
    "    x2=[class2speed[i] for i in wind_res2[c2].keys()]\n",
    "    y2=np.array(list(wind_res2[c2].values()))\n",
    "    #calculate average resource class, weighted by available capacity in each class \n",
    "    x2a=np.average(x2,weights=y2)\n",
    "    fig.append_trace(\n",
    "        go.Scatter(x=y2,y=x2,\n",
    "            mode = 'lines',\n",
    "            fill='toself',\n",
    "            legendgroup= c2,\n",
    "            name = c2,\n",
    "            line=dict(\n",
    "                color=colors[i],\n",
    "                shape='spline',\n",
    "                smoothing=smoothing[1]\n",
    "            )\n",
    "        ),1,1\n",
    "    ); axes.append({'x':'','y':''});\n",
    "    fig.append_trace(\n",
    "        go.Scatter(x=[-100],y=[x2a],\n",
    "            legendgroup= c2,\n",
    "            name = 'mean '+c,\n",
    "            marker=dict(\n",
    "                color=colors[i],\n",
    "            ),\n",
    "            showlegend=False\n",
    "        ),1,1\n",
    "    ); axes.append({'x':'','y':''});\n",
    "    fig.append_trace(\n",
    "        go.Scatter(x=x,y=z,\n",
    "            mode = 'lines',\n",
    "            name = 'wind speed '+c,  \n",
    "            legendgroup= c2,\n",
    "            line=dict(\n",
    "                color=colors[i],\n",
    "                shape='spline',\n",
    "                smoothing=smoothing[0]\n",
    "            ),\n",
    "            showlegend=False\n",
    "        ),1,2\n",
    "    ); axes.append({'x':'2','y':''});\n",
    "    fig.append_trace(\n",
    "        go.Scatter(x=x,y=np.array(w)/1e6, #kW to GW conversion\n",
    "            mode = 'lines',\n",
    "            name = 'capacity '+c,  \n",
    "            legendgroup= c2,\n",
    "            line=dict(\n",
    "                color=colors[i],\n",
    "                shape='spline',\n",
    "                dash='dash',\n",
    "                smoothing=smoothing[0]\n",
    "            ),\n",
    "            showlegend=False\n",
    "        ),1,3\n",
    "    ); axes.append({'x':'2','y':'2'});\n",
    "\n",
    "for i in range(len(fig['data'])):\n",
    "    fig['data'][i]['xaxis']='x'+axes[i]['x']\n",
    "    fig['data'][i]['yaxis']='y'+axes[i]['y']\n",
    "\n",
    "layout = go.Layout(\n",
    "    xaxis=dict(\n",
    "        domain=[0, 0.3],\n",
    "        title='Available power (TW)',\n",
    "        autorange='reversed'\n",
    "    ),\n",
    "    yaxis=dict(\n",
    "        title='Wind speed (m/s)',\n",
    "        hoverformat = '.2f'\n",
    "    ),\n",
    "    xaxis2=dict(\n",
    "        domain=[0.3, 1],\n",
    "        title='Year'\n",
    "    ),\n",
    "    yaxis2=dict(\n",
    "        overlaying='y',\n",
    "        showgrid=False,\n",
    "        side='right',\n",
    "        anchor='x2',\n",
    "        hoverformat = '.2f',\n",
    "        title='Yearly project capacity (GW)',\n",
    "    ),\n",
    "    title='Offshore wind resources vs. projects by capacity weighted average wind speed',\n",
    "    legend=dict(\n",
    "        orientation='h',\n",
    "        x=0.55,\n",
    "        y=1,\n",
    "        xanchor='center'\n",
    "    )\n",
    ")\n",
    "fig[\"layout\"]=layout\n",
    "fig[\"layout\"][\"showlegend\"] = True\n",
    "fig[\"layout\"]['hovermode']='x'\n",
    "iplot(fig, filename='ofs5b')"
   ]
  },
  {
   "cell_type": "markdown",
   "metadata": {},
   "source": [
    "\n",
    "Select countries to conisder (those with 50 projects at least) to further data collection"
   ]
  },
  {
   "cell_type": "code",
   "execution_count": 361,
   "metadata": {},
   "outputs": [],
   "source": [
    "onsk=ons.groupby('ISO_CODE')[['ID']].nunique().\\\n",
    "    reset_index().set_index('ID').sort_index(ascending=False)\n",
    "ofsk=ofs.groupby('ISO_CODE')[['ID']].nunique().\\\n",
    "    reset_index().set_index('ID').sort_index(ascending=False)"
   ]
  },
  {
   "cell_type": "code",
   "execution_count": 370,
   "metadata": {},
   "outputs": [],
   "source": [
    "#countries with more than k projects\n",
    "onsk2=onsk[onsk.index>50]\n",
    "ofsk2=ofsk[ofsk.index>10]"
   ]
  },
  {
   "cell_type": "code",
   "execution_count": 371,
   "metadata": {},
   "outputs": [],
   "source": [
    "#!pip install squarify"
   ]
  },
  {
   "cell_type": "code",
   "execution_count": 372,
   "metadata": {},
   "outputs": [],
   "source": [
    "def get_spaced_colors(n):\n",
    "    max_value = 16581375 #255**3\n",
    "    interval = int(max_value / n)\n",
    "    colors = [hex(I)[2:].zfill(6) for I in range(0, max_value, interval)]\n",
    "    \n",
    "    return ['rgb('+str(int(i[:2], 16))+','+\\\n",
    "                str(int(i[2:4], 16))+','+\\\n",
    "                str(int(i[4:], 16))+')' for i in colors]"
   ]
  },
  {
   "cell_type": "code",
   "execution_count": 385,
   "metadata": {},
   "outputs": [
    {
     "data": {
      "application/vnd.plotly.v1+json": {
       "data": [
        {
         "mode": "text",
         "text": [
          "6723",
          "1889",
          "1134",
          "1134",
          "780",
          "683",
          "457",
          "431",
          "404",
          "390",
          "307",
          "253",
          "237",
          "207",
          "197",
          "195",
          "194",
          "181",
          "169",
          "140",
          "132",
          "79",
          "70"
         ],
         "type": "scatter",
         "uid": "1609eb22-cf2f-11e8-b496-b00594f12df5",
         "x": [
          26.27853045282558,
          26.27853045282558,
          64.41779567923837,
          88.13926522641279,
          65.2041875268378,
          88.92565707401221,
          60.947704545789485,
          77.25162479183506,
          92.58245069887116,
          58.56718968586947,
          58.56718968586947,
          70.58744724630608,
          70.58744724630608,
          70.58744724630608,
          82.47803205047171,
          94.1792440372095,
          82.65100302766342,
          94.35221501440121,
          82.7258378975447,
          82.7258378975447,
          94.4270498842825,
          91.80888540038838,
          97.38183551610588
         ],
         "y": [
          39.032745006967026,
          89.03274500696703,
          14.587085155647028,
          14.587085155647028,
          38.58374067404168,
          38.58374067404168,
          56.303061487007966,
          56.303061487007966,
          56.303061487007966,
          74.51310128047025,
          92.20669531185693,
          71.03530733168981,
          83.47413240397026,
          94.74523104089376,
          69.72400490723665,
          69.72400490723665,
          79.72473196845519,
          79.72473196845519,
          88.82169168412463,
          96.51455865429276,
          88.22799716308792,
          95.92086413325605,
          95.92086413325603
         ]
        }
       ],
       "layout": {
        "annotations": [
         {
          "font": {
           "size": 25
          },
          "showarrow": false,
          "text": "DE<br>6723",
          "x": 26.27853045282558,
          "y": 39.032745006967026
         },
         {
          "font": {
           "size": 25
          },
          "showarrow": false,
          "text": "DK<br>1889",
          "x": 26.27853045282558,
          "y": 89.03274500696703
         },
         {
          "font": {
           "size": 25
          },
          "showarrow": false,
          "text": "FR<br>1134",
          "x": 64.41779567923837,
          "y": 14.587085155647028
         },
         {
          "font": {
           "size": 25
          },
          "showarrow": false,
          "text": "US<br>1134",
          "x": 88.13926522641279,
          "y": 14.587085155647028
         },
         {
          "font": {
           "size": 25
          },
          "showarrow": false,
          "text": "GB<br>780",
          "x": 65.2041875268378,
          "y": 38.58374067404168
         },
         {
          "font": {
           "size": 25
          },
          "showarrow": false,
          "text": "SE<br>683",
          "x": 88.92565707401221,
          "y": 38.58374067404168
         },
         {
          "font": {
           "size": 25
          },
          "showarrow": false,
          "text": "NL<br>457",
          "x": 60.947704545789485,
          "y": 56.303061487007966
         },
         {
          "font": {
           "size": 25
          },
          "showarrow": false,
          "text": "CN<br>431",
          "x": 77.25162479183506,
          "y": 56.303061487007966
         },
         {
          "font": {
           "size": 25
          },
          "showarrow": false,
          "text": "BR<br>404",
          "x": 92.58245069887116,
          "y": 56.303061487007966
         },
         {
          "font": {
           "size": 25
          },
          "showarrow": false,
          "text": "PT<br>390",
          "x": 58.56718968586947,
          "y": 74.51310128047025
         },
         {
          "font": {
           "size": 25
          },
          "showarrow": false,
          "text": "IT",
          "x": 58.56718968586947,
          "y": 92.20669531185693
         },
         {
          "font": {
           "size": 25
          },
          "showarrow": false,
          "text": "AT",
          "x": 70.58744724630608,
          "y": 71.03530733168981
         },
         {
          "font": {
           "size": 25
          },
          "showarrow": false,
          "text": "CA",
          "x": 70.58744724630608,
          "y": 83.47413240397026
         },
         {
          "font": {
           "size": 25
          },
          "showarrow": false,
          "text": "BE",
          "x": 70.58744724630608,
          "y": 94.74523104089376
         },
         {
          "font": {
           "size": 25
          },
          "showarrow": false,
          "text": "TR",
          "x": 82.47803205047171,
          "y": 69.72400490723665
         },
         {
          "font": {
           "size": 25
          },
          "showarrow": false,
          "text": "ES",
          "x": 94.1792440372095,
          "y": 69.72400490723665
         },
         {
          "font": {
           "size": 25
          },
          "showarrow": false,
          "text": "JP",
          "x": 82.65100302766342,
          "y": 79.72473196845519
         },
         {
          "font": {
           "size": 25
          },
          "showarrow": false,
          "text": "IE",
          "x": 94.35221501440121,
          "y": 79.72473196845519
         },
         {
          "font": {
           "size": 25
          },
          "showarrow": false,
          "text": "IN",
          "x": 82.7258378975447,
          "y": 88.82169168412463
         },
         {
          "font": {
           "size": 25
          },
          "showarrow": false,
          "text": "PL",
          "x": 82.7258378975447,
          "y": 96.51455865429276
         },
         {
          "font": {
           "size": 25
          },
          "showarrow": false,
          "text": "FI",
          "x": 94.4270498842825,
          "y": 88.22799716308792
         },
         {
          "font": {
           "size": 25
          },
          "showarrow": false,
          "text": "CZ",
          "x": 91.80888540038838,
          "y": 95.92086413325605
         },
         {
          "font": {
           "size": 25
          },
          "showarrow": false,
          "text": "AU",
          "x": 97.38183551610588,
          "y": 95.92086413325603
         }
        ],
        "height": 700,
        "hovermode": "closest",
        "shapes": [
         {
          "fillcolor": "rgb(242,228,40)",
          "line": {
           "width": 2
          },
          "type": "rect",
          "x0": 0,
          "x1": 52.55706090565116,
          "y0": 0,
          "y1": 78.06549001393405
         },
         {
          "fillcolor": "rgb(232,197,81)",
          "line": {
           "width": 2
          },
          "type": "rect",
          "x0": 0,
          "x1": 52.55706090565116,
          "y0": 78.06549001393405,
          "y1": 100
         },
         {
          "fillcolor": "rgb(222,166,122)",
          "line": {
           "width": 2
          },
          "type": "rect",
          "x0": 52.55706090565116,
          "x1": 76.27853045282558,
          "y0": 0,
          "y1": 29.174170311294056
         },
         {
          "fillcolor": "rgb(212,135,163)",
          "line": {
           "width": 2
          },
          "type": "rect",
          "x0": 76.27853045282558,
          "x1": 100,
          "y0": 0,
          "y1": 29.174170311294056
         },
         {
          "fillcolor": "rgb(202,104,204)",
          "line": {
           "width": 2
          },
          "type": "rect",
          "x0": 52.55706090565116,
          "x1": 77.85131414802443,
          "y0": 29.174170311294056,
          "y1": 47.993311036789294
         },
         {
          "fillcolor": "rgb(192,73,245)",
          "line": {
           "width": 2
          },
          "type": "rect",
          "x0": 77.85131414802443,
          "x1": 100,
          "y0": 29.174170311294056,
          "y1": 47.993311036789294
         },
         {
          "fillcolor": "rgb(182,43,30)",
          "line": {
           "width": 2
          },
          "type": "rect",
          "x0": 52.55706090565116,
          "x1": 69.3383481859278,
          "y0": 47.993311036789294,
          "y1": 64.61281193722664
         },
         {
          "fillcolor": "rgb(172,12,71)",
          "line": {
           "width": 2
          },
          "type": "rect",
          "x0": 69.3383481859278,
          "x1": 85.16490139774231,
          "y0": 47.993311036789294,
          "y1": 64.61281193722664
         },
         {
          "fillcolor": "rgb(161,237,112)",
          "line": {
           "width": 2
          },
          "type": "rect",
          "x0": 85.16490139774231,
          "x1": 100,
          "y0": 47.993311036789294,
          "y1": 64.61281193722664
         },
         {
          "fillcolor": "rgb(151,206,153)",
          "line": {
           "width": 2
          },
          "type": "rect",
          "x0": 52.55706090565116,
          "x1": 64.57731846608777,
          "y0": 64.61281193722664,
          "y1": 84.41339062371388
         },
         {
          "fillcolor": "rgb(141,175,194)",
          "line": {
           "width": 2
          },
          "type": "rect",
          "x0": 52.55706090565116,
          "x1": 64.57731846608777,
          "y0": 84.41339062371388,
          "y1": 99.99999999999999
         },
         {
          "fillcolor": "rgb(131,144,235)",
          "line": {
           "width": 2
          },
          "type": "rect",
          "x0": 64.57731846608777,
          "x1": 76.5975760265244,
          "y0": 64.61281193722664,
          "y1": 77.45780272615298
         },
         {
          "fillcolor": "rgb(121,114,20)",
          "line": {
           "width": 2
          },
          "type": "rect",
          "x0": 64.57731846608777,
          "x1": 76.5975760265244,
          "y0": 77.45780272615298,
          "y1": 89.49046208178753
         },
         {
          "fillcolor": "rgb(111,83,61)",
          "line": {
           "width": 2
          },
          "type": "rect",
          "x0": 64.57731846608777,
          "x1": 76.5975760265244,
          "y0": 89.49046208178753,
          "y1": 99.99999999999999
         },
         {
          "fillcolor": "rgb(101,52,102)",
          "line": {
           "width": 2
          },
          "type": "rect",
          "x0": 76.5975760265244,
          "x1": 88.35848807441901,
          "y0": 64.61281193722664,
          "y1": 74.83519787724664
         },
         {
          "fillcolor": "rgb(91,21,143)",
          "line": {
           "width": 2
          },
          "type": "rect",
          "x0": 88.35848807441901,
          "x1": 99.99999999999999,
          "y0": 64.61281193722664,
          "y1": 74.83519787724664
         },
         {
          "fillcolor": "rgb(80,246,184)",
          "line": {
           "width": 2
          },
          "type": "rect",
          "x0": 76.5975760265244,
          "x1": 88.70443002880243,
          "y0": 74.83519787724664,
          "y1": 84.61426605966375
         },
         {
          "fillcolor": "rgb(70,215,225)",
          "line": {
           "width": 2
          },
          "type": "rect",
          "x0": 88.70443002880243,
          "x1": 99.99999999999999,
          "y0": 74.83519787724664,
          "y1": 84.61426605966375
         },
         {
          "fillcolor": "rgb(60,185,10)",
          "line": {
           "width": 2
          },
          "type": "rect",
          "x0": 76.5975760265244,
          "x1": 88.854099768565,
          "y0": 84.61426605966375,
          "y1": 93.02911730858551
         },
         {
          "fillcolor": "rgb(50,154,51)",
          "line": {
           "width": 2
          },
          "type": "rect",
          "x0": 76.5975760265244,
          "x1": 88.854099768565,
          "y0": 93.02911730858551,
          "y1": 99.99999999999999
         },
         {
          "fillcolor": "rgb(40,123,92)",
          "line": {
           "width": 2
          },
          "type": "rect",
          "x0": 88.854099768565,
          "x1": 100,
          "y0": 84.61426605966375,
          "y1": 91.84172826651209
         },
         {
          "fillcolor": "rgb(30,92,133)",
          "line": {
           "width": 2
          },
          "type": "rect",
          "x0": 88.854099768565,
          "x1": 94.76367103221175,
          "y0": 91.84172826651209,
          "y1": 100
         },
         {
          "fillcolor": "rgb(20,61,174)",
          "line": {
           "width": 2
          },
          "type": "rect",
          "x0": 94.76367103221175,
          "x1": 100,
          "y0": 91.84172826651209,
          "y1": 99.99999999999999
         }
        ],
        "width": 700,
        "xaxis": {
         "showgrid": false,
         "showticklabels": false,
         "zeroline": false
        },
        "yaxis": {
         "showgrid": false,
         "showticklabels": false,
         "zeroline": false
        }
       }
      },
      "text/html": [
       "<div id=\"5dfd8bc9-c61b-4970-8cb9-ff26a2b7453c\" style=\"height: 700px; width: 700px;\" class=\"plotly-graph-div\"></div><script type=\"text/javascript\">require([\"plotly\"], function(Plotly) { window.PLOTLYENV=window.PLOTLYENV || {};window.PLOTLYENV.BASE_URL=\"https://plot.ly\";Plotly.newPlot(\"5dfd8bc9-c61b-4970-8cb9-ff26a2b7453c\", [{\"mode\": \"text\", \"text\": [\"6723\", \"1889\", \"1134\", \"1134\", \"780\", \"683\", \"457\", \"431\", \"404\", \"390\", \"307\", \"253\", \"237\", \"207\", \"197\", \"195\", \"194\", \"181\", \"169\", \"140\", \"132\", \"79\", \"70\"], \"x\": [26.27853045282558, 26.27853045282558, 64.41779567923837, 88.13926522641279, 65.2041875268378, 88.92565707401221, 60.947704545789485, 77.25162479183506, 92.58245069887116, 58.56718968586947, 58.56718968586947, 70.58744724630608, 70.58744724630608, 70.58744724630608, 82.47803205047171, 94.1792440372095, 82.65100302766342, 94.35221501440121, 82.7258378975447, 82.7258378975447, 94.4270498842825, 91.80888540038838, 97.38183551610588], \"y\": [39.032745006967026, 89.03274500696703, 14.587085155647028, 14.587085155647028, 38.58374067404168, 38.58374067404168, 56.303061487007966, 56.303061487007966, 56.303061487007966, 74.51310128047025, 92.20669531185693, 71.03530733168981, 83.47413240397026, 94.74523104089376, 69.72400490723665, 69.72400490723665, 79.72473196845519, 79.72473196845519, 88.82169168412463, 96.51455865429276, 88.22799716308792, 95.92086413325605, 95.92086413325603], \"type\": \"scatter\", \"uid\": \"1623668c-cf2f-11e8-ae72-b00594f12df5\"}], {\"annotations\": [{\"font\": {\"size\": 25}, \"showarrow\": false, \"text\": \"DE<br>6723\", \"x\": 26.27853045282558, \"y\": 39.032745006967026}, {\"font\": {\"size\": 25}, \"showarrow\": false, \"text\": \"DK<br>1889\", \"x\": 26.27853045282558, \"y\": 89.03274500696703}, {\"font\": {\"size\": 25}, \"showarrow\": false, \"text\": \"FR<br>1134\", \"x\": 64.41779567923837, \"y\": 14.587085155647028}, {\"font\": {\"size\": 25}, \"showarrow\": false, \"text\": \"US<br>1134\", \"x\": 88.13926522641279, \"y\": 14.587085155647028}, {\"font\": {\"size\": 25}, \"showarrow\": false, \"text\": \"GB<br>780\", \"x\": 65.2041875268378, \"y\": 38.58374067404168}, {\"font\": {\"size\": 25}, \"showarrow\": false, \"text\": \"SE<br>683\", \"x\": 88.92565707401221, \"y\": 38.58374067404168}, {\"font\": {\"size\": 25}, \"showarrow\": false, \"text\": \"NL<br>457\", \"x\": 60.947704545789485, \"y\": 56.303061487007966}, {\"font\": {\"size\": 25}, \"showarrow\": false, \"text\": \"CN<br>431\", \"x\": 77.25162479183506, \"y\": 56.303061487007966}, {\"font\": {\"size\": 25}, \"showarrow\": false, \"text\": \"BR<br>404\", \"x\": 92.58245069887116, \"y\": 56.303061487007966}, {\"font\": {\"size\": 25}, \"showarrow\": false, \"text\": \"PT<br>390\", \"x\": 58.56718968586947, \"y\": 74.51310128047025}, {\"font\": {\"size\": 25}, \"showarrow\": false, \"text\": \"IT\", \"x\": 58.56718968586947, \"y\": 92.20669531185693}, {\"font\": {\"size\": 25}, \"showarrow\": false, \"text\": \"AT\", \"x\": 70.58744724630608, \"y\": 71.03530733168981}, {\"font\": {\"size\": 25}, \"showarrow\": false, \"text\": \"CA\", \"x\": 70.58744724630608, \"y\": 83.47413240397026}, {\"font\": {\"size\": 25}, \"showarrow\": false, \"text\": \"BE\", \"x\": 70.58744724630608, \"y\": 94.74523104089376}, {\"font\": {\"size\": 25}, \"showarrow\": false, \"text\": \"TR\", \"x\": 82.47803205047171, \"y\": 69.72400490723665}, {\"font\": {\"size\": 25}, \"showarrow\": false, \"text\": \"ES\", \"x\": 94.1792440372095, \"y\": 69.72400490723665}, {\"font\": {\"size\": 25}, \"showarrow\": false, \"text\": \"JP\", \"x\": 82.65100302766342, \"y\": 79.72473196845519}, {\"font\": {\"size\": 25}, \"showarrow\": false, \"text\": \"IE\", \"x\": 94.35221501440121, \"y\": 79.72473196845519}, {\"font\": {\"size\": 25}, \"showarrow\": false, \"text\": \"IN\", \"x\": 82.7258378975447, \"y\": 88.82169168412463}, {\"font\": {\"size\": 25}, \"showarrow\": false, \"text\": \"PL\", \"x\": 82.7258378975447, \"y\": 96.51455865429276}, {\"font\": {\"size\": 25}, \"showarrow\": false, \"text\": \"FI\", \"x\": 94.4270498842825, \"y\": 88.22799716308792}, {\"font\": {\"size\": 25}, \"showarrow\": false, \"text\": \"CZ\", \"x\": 91.80888540038838, \"y\": 95.92086413325605}, {\"font\": {\"size\": 25}, \"showarrow\": false, \"text\": \"AU\", \"x\": 97.38183551610588, \"y\": 95.92086413325603}], \"height\": 700, \"hovermode\": \"closest\", \"shapes\": [{\"fillcolor\": \"rgb(242,228,40)\", \"line\": {\"width\": 2}, \"type\": \"rect\", \"x0\": 0.0, \"x1\": 52.55706090565116, \"y0\": 0.0, \"y1\": 78.06549001393405}, {\"fillcolor\": \"rgb(232,197,81)\", \"line\": {\"width\": 2}, \"type\": \"rect\", \"x0\": 0.0, \"x1\": 52.55706090565116, \"y0\": 78.06549001393405, \"y1\": 100.0}, {\"fillcolor\": \"rgb(222,166,122)\", \"line\": {\"width\": 2}, \"type\": \"rect\", \"x0\": 52.55706090565116, \"x1\": 76.27853045282558, \"y0\": 0.0, \"y1\": 29.174170311294056}, {\"fillcolor\": \"rgb(212,135,163)\", \"line\": {\"width\": 2}, \"type\": \"rect\", \"x0\": 76.27853045282558, \"x1\": 100.0, \"y0\": 0.0, \"y1\": 29.174170311294056}, {\"fillcolor\": \"rgb(202,104,204)\", \"line\": {\"width\": 2}, \"type\": \"rect\", \"x0\": 52.55706090565116, \"x1\": 77.85131414802443, \"y0\": 29.174170311294056, \"y1\": 47.993311036789294}, {\"fillcolor\": \"rgb(192,73,245)\", \"line\": {\"width\": 2}, \"type\": \"rect\", \"x0\": 77.85131414802443, \"x1\": 100.0, \"y0\": 29.174170311294056, \"y1\": 47.993311036789294}, {\"fillcolor\": \"rgb(182,43,30)\", \"line\": {\"width\": 2}, \"type\": \"rect\", \"x0\": 52.55706090565116, \"x1\": 69.3383481859278, \"y0\": 47.993311036789294, \"y1\": 64.61281193722664}, {\"fillcolor\": \"rgb(172,12,71)\", \"line\": {\"width\": 2}, \"type\": \"rect\", \"x0\": 69.3383481859278, \"x1\": 85.16490139774231, \"y0\": 47.993311036789294, \"y1\": 64.61281193722664}, {\"fillcolor\": \"rgb(161,237,112)\", \"line\": {\"width\": 2}, \"type\": \"rect\", \"x0\": 85.16490139774231, \"x1\": 100.0, \"y0\": 47.993311036789294, \"y1\": 64.61281193722664}, {\"fillcolor\": \"rgb(151,206,153)\", \"line\": {\"width\": 2}, \"type\": \"rect\", \"x0\": 52.55706090565116, \"x1\": 64.57731846608777, \"y0\": 64.61281193722664, \"y1\": 84.41339062371388}, {\"fillcolor\": \"rgb(141,175,194)\", \"line\": {\"width\": 2}, \"type\": \"rect\", \"x0\": 52.55706090565116, \"x1\": 64.57731846608777, \"y0\": 84.41339062371388, \"y1\": 99.99999999999999}, {\"fillcolor\": \"rgb(131,144,235)\", \"line\": {\"width\": 2}, \"type\": \"rect\", \"x0\": 64.57731846608777, \"x1\": 76.5975760265244, \"y0\": 64.61281193722664, \"y1\": 77.45780272615298}, {\"fillcolor\": \"rgb(121,114,20)\", \"line\": {\"width\": 2}, \"type\": \"rect\", \"x0\": 64.57731846608777, \"x1\": 76.5975760265244, \"y0\": 77.45780272615298, \"y1\": 89.49046208178753}, {\"fillcolor\": \"rgb(111,83,61)\", \"line\": {\"width\": 2}, \"type\": \"rect\", \"x0\": 64.57731846608777, \"x1\": 76.5975760265244, \"y0\": 89.49046208178753, \"y1\": 99.99999999999999}, {\"fillcolor\": \"rgb(101,52,102)\", \"line\": {\"width\": 2}, \"type\": \"rect\", \"x0\": 76.5975760265244, \"x1\": 88.35848807441901, \"y0\": 64.61281193722664, \"y1\": 74.83519787724664}, {\"fillcolor\": \"rgb(91,21,143)\", \"line\": {\"width\": 2}, \"type\": \"rect\", \"x0\": 88.35848807441901, \"x1\": 99.99999999999999, \"y0\": 64.61281193722664, \"y1\": 74.83519787724664}, {\"fillcolor\": \"rgb(80,246,184)\", \"line\": {\"width\": 2}, \"type\": \"rect\", \"x0\": 76.5975760265244, \"x1\": 88.70443002880243, \"y0\": 74.83519787724664, \"y1\": 84.61426605966375}, {\"fillcolor\": \"rgb(70,215,225)\", \"line\": {\"width\": 2}, \"type\": \"rect\", \"x0\": 88.70443002880243, \"x1\": 99.99999999999999, \"y0\": 74.83519787724664, \"y1\": 84.61426605966375}, {\"fillcolor\": \"rgb(60,185,10)\", \"line\": {\"width\": 2}, \"type\": \"rect\", \"x0\": 76.5975760265244, \"x1\": 88.854099768565, \"y0\": 84.61426605966375, \"y1\": 93.02911730858551}, {\"fillcolor\": \"rgb(50,154,51)\", \"line\": {\"width\": 2}, \"type\": \"rect\", \"x0\": 76.5975760265244, \"x1\": 88.854099768565, \"y0\": 93.02911730858551, \"y1\": 99.99999999999999}, {\"fillcolor\": \"rgb(40,123,92)\", \"line\": {\"width\": 2}, \"type\": \"rect\", \"x0\": 88.854099768565, \"x1\": 100.0, \"y0\": 84.61426605966375, \"y1\": 91.84172826651209}, {\"fillcolor\": \"rgb(30,92,133)\", \"line\": {\"width\": 2}, \"type\": \"rect\", \"x0\": 88.854099768565, \"x1\": 94.76367103221175, \"y0\": 91.84172826651209, \"y1\": 100.0}, {\"fillcolor\": \"rgb(20,61,174)\", \"line\": {\"width\": 2}, \"type\": \"rect\", \"x0\": 94.76367103221175, \"x1\": 100.0, \"y0\": 91.84172826651209, \"y1\": 99.99999999999999}], \"width\": 700, \"xaxis\": {\"showgrid\": false, \"showticklabels\": false, \"zeroline\": false}, \"yaxis\": {\"showgrid\": false, \"showticklabels\": false, \"zeroline\": false}}, {\"showLink\": true, \"linkText\": \"Export to plot.ly\"})});</script>"
      ],
      "text/vnd.plotly.v1+html": [
       "<div id=\"5dfd8bc9-c61b-4970-8cb9-ff26a2b7453c\" style=\"height: 700px; width: 700px;\" class=\"plotly-graph-div\"></div><script type=\"text/javascript\">require([\"plotly\"], function(Plotly) { window.PLOTLYENV=window.PLOTLYENV || {};window.PLOTLYENV.BASE_URL=\"https://plot.ly\";Plotly.newPlot(\"5dfd8bc9-c61b-4970-8cb9-ff26a2b7453c\", [{\"mode\": \"text\", \"text\": [\"6723\", \"1889\", \"1134\", \"1134\", \"780\", \"683\", \"457\", \"431\", \"404\", \"390\", \"307\", \"253\", \"237\", \"207\", \"197\", \"195\", \"194\", \"181\", \"169\", \"140\", \"132\", \"79\", \"70\"], \"x\": [26.27853045282558, 26.27853045282558, 64.41779567923837, 88.13926522641279, 65.2041875268378, 88.92565707401221, 60.947704545789485, 77.25162479183506, 92.58245069887116, 58.56718968586947, 58.56718968586947, 70.58744724630608, 70.58744724630608, 70.58744724630608, 82.47803205047171, 94.1792440372095, 82.65100302766342, 94.35221501440121, 82.7258378975447, 82.7258378975447, 94.4270498842825, 91.80888540038838, 97.38183551610588], \"y\": [39.032745006967026, 89.03274500696703, 14.587085155647028, 14.587085155647028, 38.58374067404168, 38.58374067404168, 56.303061487007966, 56.303061487007966, 56.303061487007966, 74.51310128047025, 92.20669531185693, 71.03530733168981, 83.47413240397026, 94.74523104089376, 69.72400490723665, 69.72400490723665, 79.72473196845519, 79.72473196845519, 88.82169168412463, 96.51455865429276, 88.22799716308792, 95.92086413325605, 95.92086413325603], \"type\": \"scatter\", \"uid\": \"1623668c-cf2f-11e8-ae72-b00594f12df5\"}], {\"annotations\": [{\"font\": {\"size\": 25}, \"showarrow\": false, \"text\": \"DE<br>6723\", \"x\": 26.27853045282558, \"y\": 39.032745006967026}, {\"font\": {\"size\": 25}, \"showarrow\": false, \"text\": \"DK<br>1889\", \"x\": 26.27853045282558, \"y\": 89.03274500696703}, {\"font\": {\"size\": 25}, \"showarrow\": false, \"text\": \"FR<br>1134\", \"x\": 64.41779567923837, \"y\": 14.587085155647028}, {\"font\": {\"size\": 25}, \"showarrow\": false, \"text\": \"US<br>1134\", \"x\": 88.13926522641279, \"y\": 14.587085155647028}, {\"font\": {\"size\": 25}, \"showarrow\": false, \"text\": \"GB<br>780\", \"x\": 65.2041875268378, \"y\": 38.58374067404168}, {\"font\": {\"size\": 25}, \"showarrow\": false, \"text\": \"SE<br>683\", \"x\": 88.92565707401221, \"y\": 38.58374067404168}, {\"font\": {\"size\": 25}, \"showarrow\": false, \"text\": \"NL<br>457\", \"x\": 60.947704545789485, \"y\": 56.303061487007966}, {\"font\": {\"size\": 25}, \"showarrow\": false, \"text\": \"CN<br>431\", \"x\": 77.25162479183506, \"y\": 56.303061487007966}, {\"font\": {\"size\": 25}, \"showarrow\": false, \"text\": \"BR<br>404\", \"x\": 92.58245069887116, \"y\": 56.303061487007966}, {\"font\": {\"size\": 25}, \"showarrow\": false, \"text\": \"PT<br>390\", \"x\": 58.56718968586947, \"y\": 74.51310128047025}, {\"font\": {\"size\": 25}, \"showarrow\": false, \"text\": \"IT\", \"x\": 58.56718968586947, \"y\": 92.20669531185693}, {\"font\": {\"size\": 25}, \"showarrow\": false, \"text\": \"AT\", \"x\": 70.58744724630608, \"y\": 71.03530733168981}, {\"font\": {\"size\": 25}, \"showarrow\": false, \"text\": \"CA\", \"x\": 70.58744724630608, \"y\": 83.47413240397026}, {\"font\": {\"size\": 25}, \"showarrow\": false, \"text\": \"BE\", \"x\": 70.58744724630608, \"y\": 94.74523104089376}, {\"font\": {\"size\": 25}, \"showarrow\": false, \"text\": \"TR\", \"x\": 82.47803205047171, \"y\": 69.72400490723665}, {\"font\": {\"size\": 25}, \"showarrow\": false, \"text\": \"ES\", \"x\": 94.1792440372095, \"y\": 69.72400490723665}, {\"font\": {\"size\": 25}, \"showarrow\": false, \"text\": \"JP\", \"x\": 82.65100302766342, \"y\": 79.72473196845519}, {\"font\": {\"size\": 25}, \"showarrow\": false, \"text\": \"IE\", \"x\": 94.35221501440121, \"y\": 79.72473196845519}, {\"font\": {\"size\": 25}, \"showarrow\": false, \"text\": \"IN\", \"x\": 82.7258378975447, \"y\": 88.82169168412463}, {\"font\": {\"size\": 25}, \"showarrow\": false, \"text\": \"PL\", \"x\": 82.7258378975447, \"y\": 96.51455865429276}, {\"font\": {\"size\": 25}, \"showarrow\": false, \"text\": \"FI\", \"x\": 94.4270498842825, \"y\": 88.22799716308792}, {\"font\": {\"size\": 25}, \"showarrow\": false, \"text\": \"CZ\", \"x\": 91.80888540038838, \"y\": 95.92086413325605}, {\"font\": {\"size\": 25}, \"showarrow\": false, \"text\": \"AU\", \"x\": 97.38183551610588, \"y\": 95.92086413325603}], \"height\": 700, \"hovermode\": \"closest\", \"shapes\": [{\"fillcolor\": \"rgb(242,228,40)\", \"line\": {\"width\": 2}, \"type\": \"rect\", \"x0\": 0.0, \"x1\": 52.55706090565116, \"y0\": 0.0, \"y1\": 78.06549001393405}, {\"fillcolor\": \"rgb(232,197,81)\", \"line\": {\"width\": 2}, \"type\": \"rect\", \"x0\": 0.0, \"x1\": 52.55706090565116, \"y0\": 78.06549001393405, \"y1\": 100.0}, {\"fillcolor\": \"rgb(222,166,122)\", \"line\": {\"width\": 2}, \"type\": \"rect\", \"x0\": 52.55706090565116, \"x1\": 76.27853045282558, \"y0\": 0.0, \"y1\": 29.174170311294056}, {\"fillcolor\": \"rgb(212,135,163)\", \"line\": {\"width\": 2}, \"type\": \"rect\", \"x0\": 76.27853045282558, \"x1\": 100.0, \"y0\": 0.0, \"y1\": 29.174170311294056}, {\"fillcolor\": \"rgb(202,104,204)\", \"line\": {\"width\": 2}, \"type\": \"rect\", \"x0\": 52.55706090565116, \"x1\": 77.85131414802443, \"y0\": 29.174170311294056, \"y1\": 47.993311036789294}, {\"fillcolor\": \"rgb(192,73,245)\", \"line\": {\"width\": 2}, \"type\": \"rect\", \"x0\": 77.85131414802443, \"x1\": 100.0, \"y0\": 29.174170311294056, \"y1\": 47.993311036789294}, {\"fillcolor\": \"rgb(182,43,30)\", \"line\": {\"width\": 2}, \"type\": \"rect\", \"x0\": 52.55706090565116, \"x1\": 69.3383481859278, \"y0\": 47.993311036789294, \"y1\": 64.61281193722664}, {\"fillcolor\": \"rgb(172,12,71)\", \"line\": {\"width\": 2}, \"type\": \"rect\", \"x0\": 69.3383481859278, \"x1\": 85.16490139774231, \"y0\": 47.993311036789294, \"y1\": 64.61281193722664}, {\"fillcolor\": \"rgb(161,237,112)\", \"line\": {\"width\": 2}, \"type\": \"rect\", \"x0\": 85.16490139774231, \"x1\": 100.0, \"y0\": 47.993311036789294, \"y1\": 64.61281193722664}, {\"fillcolor\": \"rgb(151,206,153)\", \"line\": {\"width\": 2}, \"type\": \"rect\", \"x0\": 52.55706090565116, \"x1\": 64.57731846608777, \"y0\": 64.61281193722664, \"y1\": 84.41339062371388}, {\"fillcolor\": \"rgb(141,175,194)\", \"line\": {\"width\": 2}, \"type\": \"rect\", \"x0\": 52.55706090565116, \"x1\": 64.57731846608777, \"y0\": 84.41339062371388, \"y1\": 99.99999999999999}, {\"fillcolor\": \"rgb(131,144,235)\", \"line\": {\"width\": 2}, \"type\": \"rect\", \"x0\": 64.57731846608777, \"x1\": 76.5975760265244, \"y0\": 64.61281193722664, \"y1\": 77.45780272615298}, {\"fillcolor\": \"rgb(121,114,20)\", \"line\": {\"width\": 2}, \"type\": \"rect\", \"x0\": 64.57731846608777, \"x1\": 76.5975760265244, \"y0\": 77.45780272615298, \"y1\": 89.49046208178753}, {\"fillcolor\": \"rgb(111,83,61)\", \"line\": {\"width\": 2}, \"type\": \"rect\", \"x0\": 64.57731846608777, \"x1\": 76.5975760265244, \"y0\": 89.49046208178753, \"y1\": 99.99999999999999}, {\"fillcolor\": \"rgb(101,52,102)\", \"line\": {\"width\": 2}, \"type\": \"rect\", \"x0\": 76.5975760265244, \"x1\": 88.35848807441901, \"y0\": 64.61281193722664, \"y1\": 74.83519787724664}, {\"fillcolor\": \"rgb(91,21,143)\", \"line\": {\"width\": 2}, \"type\": \"rect\", \"x0\": 88.35848807441901, \"x1\": 99.99999999999999, \"y0\": 64.61281193722664, \"y1\": 74.83519787724664}, {\"fillcolor\": \"rgb(80,246,184)\", \"line\": {\"width\": 2}, \"type\": \"rect\", \"x0\": 76.5975760265244, \"x1\": 88.70443002880243, \"y0\": 74.83519787724664, \"y1\": 84.61426605966375}, {\"fillcolor\": \"rgb(70,215,225)\", \"line\": {\"width\": 2}, \"type\": \"rect\", \"x0\": 88.70443002880243, \"x1\": 99.99999999999999, \"y0\": 74.83519787724664, \"y1\": 84.61426605966375}, {\"fillcolor\": \"rgb(60,185,10)\", \"line\": {\"width\": 2}, \"type\": \"rect\", \"x0\": 76.5975760265244, \"x1\": 88.854099768565, \"y0\": 84.61426605966375, \"y1\": 93.02911730858551}, {\"fillcolor\": \"rgb(50,154,51)\", \"line\": {\"width\": 2}, \"type\": \"rect\", \"x0\": 76.5975760265244, \"x1\": 88.854099768565, \"y0\": 93.02911730858551, \"y1\": 99.99999999999999}, {\"fillcolor\": \"rgb(40,123,92)\", \"line\": {\"width\": 2}, \"type\": \"rect\", \"x0\": 88.854099768565, \"x1\": 100.0, \"y0\": 84.61426605966375, \"y1\": 91.84172826651209}, {\"fillcolor\": \"rgb(30,92,133)\", \"line\": {\"width\": 2}, \"type\": \"rect\", \"x0\": 88.854099768565, \"x1\": 94.76367103221175, \"y0\": 91.84172826651209, \"y1\": 100.0}, {\"fillcolor\": \"rgb(20,61,174)\", \"line\": {\"width\": 2}, \"type\": \"rect\", \"x0\": 94.76367103221175, \"x1\": 100.0, \"y0\": 91.84172826651209, \"y1\": 99.99999999999999}], \"width\": 700, \"xaxis\": {\"showgrid\": false, \"showticklabels\": false, \"zeroline\": false}, \"yaxis\": {\"showgrid\": false, \"showticklabels\": false, \"zeroline\": false}}, {\"showLink\": true, \"linkText\": \"Export to plot.ly\"})});</script>"
      ]
     },
     "metadata": {},
     "output_type": "display_data"
    }
   ],
   "source": [
    "import squarify\n",
    "x = 0.\n",
    "y = 0.\n",
    "width = 100.\n",
    "height = 100.\n",
    "\n",
    "values = np.array(onsk2.index)\n",
    "labels=np.array(onsk2.values).squeeze()\n",
    "\n",
    "normed = squarify.normalize_sizes(values, width, height)\n",
    "rects = squarify.squarify(normed, x, y, width, height)\n",
    "shapes = []\n",
    "annotations = []\n",
    "colors2=get_spaced_colors(len(values)+2)[::-1]\n",
    "\n",
    "for i,r in enumerate(rects):\n",
    "    shapes.append( \n",
    "        dict(\n",
    "            type = 'rect', \n",
    "            x0 = r['x'], \n",
    "            y0 = r['y'], \n",
    "            x1 = r['x']+r['dx'], \n",
    "            y1 = r['y']+r['dy'],\n",
    "            line = dict( width = 2 ),\n",
    "            fillcolor=colors2[i]\n",
    "        ),\n",
    "    )\n",
    "    label=labels[i]\n",
    "    if i<10: label=label+'<br>'+str(values[i])\n",
    "    annotations.append(\n",
    "        dict(\n",
    "            x = r['x']+(r['dx']/2),\n",
    "            y = r['y']+(r['dy']/2),\n",
    "            text = label,\n",
    "            font=dict(size=25),\n",
    "            showarrow = False\n",
    "        )\n",
    "    )\n",
    "    \n",
    "# For hover text\n",
    "trace0 = go.Scatter(\n",
    "    x = [ r['x']+(r['dx']/2) for r in rects ], \n",
    "    y = [ r['y']+(r['dy']/2) for r in rects ],\n",
    "    text = [ str(v) for v in values ], \n",
    "    mode = 'text',\n",
    ")\n",
    "        \n",
    "layout = dict(\n",
    "    height=700, \n",
    "    width=700,\n",
    "    xaxis=dict(showgrid=False,zeroline=False,showticklabels=False),\n",
    "    yaxis=dict(showgrid=False,zeroline=False,showticklabels=False),\n",
    "    shapes=shapes,\n",
    "    annotations=annotations,\n",
    "    hovermode='closest'\n",
    ")\n",
    "\n",
    "# With hovertext\n",
    "figure = dict(data=[trace0], layout=layout)\n",
    "\n",
    "iplot(figure, filename='squarify-treemap')"
   ]
  },
  {
   "cell_type": "code",
   "execution_count": 384,
   "metadata": {},
   "outputs": [
    {
     "data": {
      "application/vnd.plotly.v1+json": {
       "data": [
        {
         "mode": "text",
         "text": [
          "110",
          "56",
          "49",
          "37",
          "30",
          "23",
          "19",
          "17",
          "15",
          "15",
          "14",
          "12",
          "11",
          "11"
         ],
         "type": "scatter",
         "uid": "1094384c-cf2f-11e8-b69d-b00594f12df5",
         "x": [
          19.8090692124105,
          19.8090692124105,
          56.819947827052225,
          87.01087861464173,
          56.70734453100373,
          86.89827531859324,
          49.152116568270316,
          49.152116568270316,
          69.01457103378972,
          89.67152367792991,
          69.87527739396224,
          69.87527739396224,
          90.53223003810243,
          90.53223003810243
         ],
         "y": [
          33.13253012048193,
          83.13253012048193,
          16.99604743083004,
          16.99604743083004,
          44.466403162055336,
          44.466403162055336,
          66.83135704874836,
          89.36100131752305,
          63.60595925813317,
          63.60595925813317,
          79.73665130855765,
          93.60104778164978,
          79.20340529036181,
          93.06780176345393
         ]
        }
       ],
       "layout": {
        "annotations": [
         {
          "font": {
           "size": 25
          },
          "showarrow": false,
          "text": "CN<br>110",
          "x": 19.8090692124105,
          "y": 33.13253012048193
         },
         {
          "font": {
           "size": 25
          },
          "showarrow": false,
          "text": "GB<br>56",
          "x": 19.8090692124105,
          "y": 83.13253012048193
         },
         {
          "font": {
           "size": 25
          },
          "showarrow": false,
          "text": "DE<br>49",
          "x": 56.819947827052225,
          "y": 16.99604743083004
         },
         {
          "font": {
           "size": 25
          },
          "showarrow": false,
          "text": "GR<br>37",
          "x": 87.01087861464173,
          "y": 16.99604743083004
         },
         {
          "font": {
           "size": 25
          },
          "showarrow": false,
          "text": "JP<br>30",
          "x": 56.70734453100373,
          "y": 44.466403162055336
         },
         {
          "font": {
           "size": 25
          },
          "showarrow": false,
          "text": "DK<br>23",
          "x": 86.89827531859324,
          "y": 44.466403162055336
         },
         {
          "font": {
           "size": 25
          },
          "showarrow": false,
          "text": "US<br>19",
          "x": 49.152116568270316,
          "y": 66.83135704874836
         },
         {
          "font": {
           "size": 25
          },
          "showarrow": false,
          "text": "SE<br>17",
          "x": 49.152116568270316,
          "y": 89.36100131752305
         },
         {
          "font": {
           "size": 25
          },
          "showarrow": false,
          "text": "FR<br>15",
          "x": 69.01457103378972,
          "y": 63.60595925813317
         },
         {
          "font": {
           "size": 25
          },
          "showarrow": false,
          "text": "KR<br>15",
          "x": 89.67152367792991,
          "y": 63.60595925813317
         },
         {
          "font": {
           "size": 25
          },
          "showarrow": false,
          "text": "NL",
          "x": 69.87527739396224,
          "y": 79.73665130855765
         },
         {
          "font": {
           "size": 25
          },
          "showarrow": false,
          "text": "FI",
          "x": 69.87527739396224,
          "y": 93.60104778164978
         },
         {
          "font": {
           "size": 25
          },
          "showarrow": false,
          "text": "VN",
          "x": 90.53223003810243,
          "y": 79.20340529036181
         },
         {
          "font": {
           "size": 25
          },
          "showarrow": false,
          "text": "TW",
          "x": 90.53223003810243,
          "y": 93.06780176345393
         }
        ],
        "height": 700,
        "hovermode": "closest",
        "shapes": [
         {
          "fillcolor": "rgb(242,228,40)",
          "line": {
           "width": 2
          },
          "type": "rect",
          "x0": 0,
          "x1": 39.618138424821,
          "y0": 0,
          "y1": 66.26506024096386
         },
         {
          "fillcolor": "rgb(232,197,81)",
          "line": {
           "width": 2
          },
          "type": "rect",
          "x0": 0,
          "x1": 39.618138424821,
          "y0": 66.26506024096386,
          "y1": 100.00000000000001
         },
         {
          "fillcolor": "rgb(222,166,122)",
          "line": {
           "width": 2
          },
          "type": "rect",
          "x0": 39.618138424821,
          "x1": 74.02175722928345,
          "y0": 0,
          "y1": 33.99209486166008
         },
         {
          "fillcolor": "rgb(212,135,163)",
          "line": {
           "width": 2
          },
          "type": "rect",
          "x0": 74.02175722928345,
          "x1": 100,
          "y0": 0,
          "y1": 33.99209486166008
         },
         {
          "fillcolor": "rgb(202,104,204)",
          "line": {
           "width": 2
          },
          "type": "rect",
          "x0": 39.618138424821,
          "x1": 73.79655063718647,
          "y0": 33.99209486166008,
          "y1": 54.940711462450594
         },
         {
          "fillcolor": "rgb(192,73,245)",
          "line": {
           "width": 2
          },
          "type": "rect",
          "x0": 73.79655063718647,
          "x1": 100,
          "y0": 33.99209486166008,
          "y1": 54.940711462450594
         },
         {
          "fillcolor": "rgb(182,43,30)",
          "line": {
           "width": 2
          },
          "type": "rect",
          "x0": 39.618138424821,
          "x1": 58.68609471171963,
          "y0": 54.940711462450594,
          "y1": 78.72200263504611
         },
         {
          "fillcolor": "rgb(172,12,71)",
          "line": {
           "width": 2
          },
          "type": "rect",
          "x0": 39.618138424821,
          "x1": 58.68609471171963,
          "y0": 78.72200263504611,
          "y1": 100
         },
         {
          "fillcolor": "rgb(161,237,112)",
          "line": {
           "width": 2
          },
          "type": "rect",
          "x0": 58.68609471171963,
          "x1": 79.34304735585982,
          "y0": 54.940711462450594,
          "y1": 72.27120705381574
         },
         {
          "fillcolor": "rgb(151,206,153)",
          "line": {
           "width": 2
          },
          "type": "rect",
          "x0": 79.34304735585982,
          "x1": 100,
          "y0": 54.940711462450594,
          "y1": 72.27120705381574
         },
         {
          "fillcolor": "rgb(141,175,194)",
          "line": {
           "width": 2
          },
          "type": "rect",
          "x0": 58.68609471171963,
          "x1": 81.06446007620484,
          "y0": 72.27120705381574,
          "y1": 87.20209556329957
         },
         {
          "fillcolor": "rgb(131,144,235)",
          "line": {
           "width": 2
          },
          "type": "rect",
          "x0": 58.68609471171963,
          "x1": 81.06446007620484,
          "y0": 87.20209556329957,
          "y1": 99.99999999999999
         },
         {
          "fillcolor": "rgb(121,114,20)",
          "line": {
           "width": 2
          },
          "type": "rect",
          "x0": 81.06446007620484,
          "x1": 100,
          "y0": 72.27120705381574,
          "y1": 86.13560352690787
         },
         {
          "fillcolor": "rgb(111,83,61)",
          "line": {
           "width": 2
          },
          "type": "rect",
          "x0": 81.06446007620484,
          "x1": 100.00000000000001,
          "y0": 86.13560352690787,
          "y1": 100
         }
        ],
        "width": 700,
        "xaxis": {
         "showgrid": false,
         "showticklabels": false,
         "zeroline": false
        },
        "yaxis": {
         "showgrid": false,
         "showticklabels": false,
         "zeroline": false
        }
       }
      },
      "text/html": [
       "<div id=\"920b1c1e-0cc1-4ce3-803d-8f483800f561\" style=\"height: 700px; width: 700px;\" class=\"plotly-graph-div\"></div><script type=\"text/javascript\">require([\"plotly\"], function(Plotly) { window.PLOTLYENV=window.PLOTLYENV || {};window.PLOTLYENV.BASE_URL=\"https://plot.ly\";Plotly.newPlot(\"920b1c1e-0cc1-4ce3-803d-8f483800f561\", [{\"mode\": \"text\", \"text\": [\"110\", \"56\", \"49\", \"37\", \"30\", \"23\", \"19\", \"17\", \"15\", \"15\", \"14\", \"12\", \"11\", \"11\"], \"x\": [19.8090692124105, 19.8090692124105, 56.819947827052225, 87.01087861464173, 56.70734453100373, 86.89827531859324, 49.152116568270316, 49.152116568270316, 69.01457103378972, 89.67152367792991, 69.87527739396224, 69.87527739396224, 90.53223003810243, 90.53223003810243], \"y\": [33.13253012048193, 83.13253012048193, 16.99604743083004, 16.99604743083004, 44.466403162055336, 44.466403162055336, 66.83135704874836, 89.36100131752305, 63.60595925813317, 63.60595925813317, 79.73665130855765, 93.60104778164978, 79.20340529036181, 93.06780176345393], \"type\": \"scatter\", \"uid\": \"10a639b4-cf2f-11e8-81e6-b00594f12df5\"}], {\"annotations\": [{\"font\": {\"size\": 25}, \"showarrow\": false, \"text\": \"CN<br>110\", \"x\": 19.8090692124105, \"y\": 33.13253012048193}, {\"font\": {\"size\": 25}, \"showarrow\": false, \"text\": \"GB<br>56\", \"x\": 19.8090692124105, \"y\": 83.13253012048193}, {\"font\": {\"size\": 25}, \"showarrow\": false, \"text\": \"DE<br>49\", \"x\": 56.819947827052225, \"y\": 16.99604743083004}, {\"font\": {\"size\": 25}, \"showarrow\": false, \"text\": \"GR<br>37\", \"x\": 87.01087861464173, \"y\": 16.99604743083004}, {\"font\": {\"size\": 25}, \"showarrow\": false, \"text\": \"JP<br>30\", \"x\": 56.70734453100373, \"y\": 44.466403162055336}, {\"font\": {\"size\": 25}, \"showarrow\": false, \"text\": \"DK<br>23\", \"x\": 86.89827531859324, \"y\": 44.466403162055336}, {\"font\": {\"size\": 25}, \"showarrow\": false, \"text\": \"US<br>19\", \"x\": 49.152116568270316, \"y\": 66.83135704874836}, {\"font\": {\"size\": 25}, \"showarrow\": false, \"text\": \"SE<br>17\", \"x\": 49.152116568270316, \"y\": 89.36100131752305}, {\"font\": {\"size\": 25}, \"showarrow\": false, \"text\": \"FR<br>15\", \"x\": 69.01457103378972, \"y\": 63.60595925813317}, {\"font\": {\"size\": 25}, \"showarrow\": false, \"text\": \"KR<br>15\", \"x\": 89.67152367792991, \"y\": 63.60595925813317}, {\"font\": {\"size\": 25}, \"showarrow\": false, \"text\": \"NL\", \"x\": 69.87527739396224, \"y\": 79.73665130855765}, {\"font\": {\"size\": 25}, \"showarrow\": false, \"text\": \"FI\", \"x\": 69.87527739396224, \"y\": 93.60104778164978}, {\"font\": {\"size\": 25}, \"showarrow\": false, \"text\": \"VN\", \"x\": 90.53223003810243, \"y\": 79.20340529036181}, {\"font\": {\"size\": 25}, \"showarrow\": false, \"text\": \"TW\", \"x\": 90.53223003810243, \"y\": 93.06780176345393}], \"height\": 700, \"hovermode\": \"closest\", \"shapes\": [{\"fillcolor\": \"rgb(242,228,40)\", \"line\": {\"width\": 2}, \"type\": \"rect\", \"x0\": 0.0, \"x1\": 39.618138424821, \"y0\": 0.0, \"y1\": 66.26506024096386}, {\"fillcolor\": \"rgb(232,197,81)\", \"line\": {\"width\": 2}, \"type\": \"rect\", \"x0\": 0.0, \"x1\": 39.618138424821, \"y0\": 66.26506024096386, \"y1\": 100.00000000000001}, {\"fillcolor\": \"rgb(222,166,122)\", \"line\": {\"width\": 2}, \"type\": \"rect\", \"x0\": 39.618138424821, \"x1\": 74.02175722928345, \"y0\": 0.0, \"y1\": 33.99209486166008}, {\"fillcolor\": \"rgb(212,135,163)\", \"line\": {\"width\": 2}, \"type\": \"rect\", \"x0\": 74.02175722928345, \"x1\": 100.0, \"y0\": 0.0, \"y1\": 33.99209486166008}, {\"fillcolor\": \"rgb(202,104,204)\", \"line\": {\"width\": 2}, \"type\": \"rect\", \"x0\": 39.618138424821, \"x1\": 73.79655063718647, \"y0\": 33.99209486166008, \"y1\": 54.940711462450594}, {\"fillcolor\": \"rgb(192,73,245)\", \"line\": {\"width\": 2}, \"type\": \"rect\", \"x0\": 73.79655063718647, \"x1\": 100.0, \"y0\": 33.99209486166008, \"y1\": 54.940711462450594}, {\"fillcolor\": \"rgb(182,43,30)\", \"line\": {\"width\": 2}, \"type\": \"rect\", \"x0\": 39.618138424821, \"x1\": 58.68609471171963, \"y0\": 54.940711462450594, \"y1\": 78.72200263504611}, {\"fillcolor\": \"rgb(172,12,71)\", \"line\": {\"width\": 2}, \"type\": \"rect\", \"x0\": 39.618138424821, \"x1\": 58.68609471171963, \"y0\": 78.72200263504611, \"y1\": 100.0}, {\"fillcolor\": \"rgb(161,237,112)\", \"line\": {\"width\": 2}, \"type\": \"rect\", \"x0\": 58.68609471171963, \"x1\": 79.34304735585982, \"y0\": 54.940711462450594, \"y1\": 72.27120705381574}, {\"fillcolor\": \"rgb(151,206,153)\", \"line\": {\"width\": 2}, \"type\": \"rect\", \"x0\": 79.34304735585982, \"x1\": 100.0, \"y0\": 54.940711462450594, \"y1\": 72.27120705381574}, {\"fillcolor\": \"rgb(141,175,194)\", \"line\": {\"width\": 2}, \"type\": \"rect\", \"x0\": 58.68609471171963, \"x1\": 81.06446007620484, \"y0\": 72.27120705381574, \"y1\": 87.20209556329957}, {\"fillcolor\": \"rgb(131,144,235)\", \"line\": {\"width\": 2}, \"type\": \"rect\", \"x0\": 58.68609471171963, \"x1\": 81.06446007620484, \"y0\": 87.20209556329957, \"y1\": 99.99999999999999}, {\"fillcolor\": \"rgb(121,114,20)\", \"line\": {\"width\": 2}, \"type\": \"rect\", \"x0\": 81.06446007620484, \"x1\": 100.0, \"y0\": 72.27120705381574, \"y1\": 86.13560352690787}, {\"fillcolor\": \"rgb(111,83,61)\", \"line\": {\"width\": 2}, \"type\": \"rect\", \"x0\": 81.06446007620484, \"x1\": 100.00000000000001, \"y0\": 86.13560352690787, \"y1\": 100.0}], \"width\": 700, \"xaxis\": {\"showgrid\": false, \"showticklabels\": false, \"zeroline\": false}, \"yaxis\": {\"showgrid\": false, \"showticklabels\": false, \"zeroline\": false}}, {\"showLink\": true, \"linkText\": \"Export to plot.ly\"})});</script>"
      ],
      "text/vnd.plotly.v1+html": [
       "<div id=\"920b1c1e-0cc1-4ce3-803d-8f483800f561\" style=\"height: 700px; width: 700px;\" class=\"plotly-graph-div\"></div><script type=\"text/javascript\">require([\"plotly\"], function(Plotly) { window.PLOTLYENV=window.PLOTLYENV || {};window.PLOTLYENV.BASE_URL=\"https://plot.ly\";Plotly.newPlot(\"920b1c1e-0cc1-4ce3-803d-8f483800f561\", [{\"mode\": \"text\", \"text\": [\"110\", \"56\", \"49\", \"37\", \"30\", \"23\", \"19\", \"17\", \"15\", \"15\", \"14\", \"12\", \"11\", \"11\"], \"x\": [19.8090692124105, 19.8090692124105, 56.819947827052225, 87.01087861464173, 56.70734453100373, 86.89827531859324, 49.152116568270316, 49.152116568270316, 69.01457103378972, 89.67152367792991, 69.87527739396224, 69.87527739396224, 90.53223003810243, 90.53223003810243], \"y\": [33.13253012048193, 83.13253012048193, 16.99604743083004, 16.99604743083004, 44.466403162055336, 44.466403162055336, 66.83135704874836, 89.36100131752305, 63.60595925813317, 63.60595925813317, 79.73665130855765, 93.60104778164978, 79.20340529036181, 93.06780176345393], \"type\": \"scatter\", \"uid\": \"10a639b4-cf2f-11e8-81e6-b00594f12df5\"}], {\"annotations\": [{\"font\": {\"size\": 25}, \"showarrow\": false, \"text\": \"CN<br>110\", \"x\": 19.8090692124105, \"y\": 33.13253012048193}, {\"font\": {\"size\": 25}, \"showarrow\": false, \"text\": \"GB<br>56\", \"x\": 19.8090692124105, \"y\": 83.13253012048193}, {\"font\": {\"size\": 25}, \"showarrow\": false, \"text\": \"DE<br>49\", \"x\": 56.819947827052225, \"y\": 16.99604743083004}, {\"font\": {\"size\": 25}, \"showarrow\": false, \"text\": \"GR<br>37\", \"x\": 87.01087861464173, \"y\": 16.99604743083004}, {\"font\": {\"size\": 25}, \"showarrow\": false, \"text\": \"JP<br>30\", \"x\": 56.70734453100373, \"y\": 44.466403162055336}, {\"font\": {\"size\": 25}, \"showarrow\": false, \"text\": \"DK<br>23\", \"x\": 86.89827531859324, \"y\": 44.466403162055336}, {\"font\": {\"size\": 25}, \"showarrow\": false, \"text\": \"US<br>19\", \"x\": 49.152116568270316, \"y\": 66.83135704874836}, {\"font\": {\"size\": 25}, \"showarrow\": false, \"text\": \"SE<br>17\", \"x\": 49.152116568270316, \"y\": 89.36100131752305}, {\"font\": {\"size\": 25}, \"showarrow\": false, \"text\": \"FR<br>15\", \"x\": 69.01457103378972, \"y\": 63.60595925813317}, {\"font\": {\"size\": 25}, \"showarrow\": false, \"text\": \"KR<br>15\", \"x\": 89.67152367792991, \"y\": 63.60595925813317}, {\"font\": {\"size\": 25}, \"showarrow\": false, \"text\": \"NL\", \"x\": 69.87527739396224, \"y\": 79.73665130855765}, {\"font\": {\"size\": 25}, \"showarrow\": false, \"text\": \"FI\", \"x\": 69.87527739396224, \"y\": 93.60104778164978}, {\"font\": {\"size\": 25}, \"showarrow\": false, \"text\": \"VN\", \"x\": 90.53223003810243, \"y\": 79.20340529036181}, {\"font\": {\"size\": 25}, \"showarrow\": false, \"text\": \"TW\", \"x\": 90.53223003810243, \"y\": 93.06780176345393}], \"height\": 700, \"hovermode\": \"closest\", \"shapes\": [{\"fillcolor\": \"rgb(242,228,40)\", \"line\": {\"width\": 2}, \"type\": \"rect\", \"x0\": 0.0, \"x1\": 39.618138424821, \"y0\": 0.0, \"y1\": 66.26506024096386}, {\"fillcolor\": \"rgb(232,197,81)\", \"line\": {\"width\": 2}, \"type\": \"rect\", \"x0\": 0.0, \"x1\": 39.618138424821, \"y0\": 66.26506024096386, \"y1\": 100.00000000000001}, {\"fillcolor\": \"rgb(222,166,122)\", \"line\": {\"width\": 2}, \"type\": \"rect\", \"x0\": 39.618138424821, \"x1\": 74.02175722928345, \"y0\": 0.0, \"y1\": 33.99209486166008}, {\"fillcolor\": \"rgb(212,135,163)\", \"line\": {\"width\": 2}, \"type\": \"rect\", \"x0\": 74.02175722928345, \"x1\": 100.0, \"y0\": 0.0, \"y1\": 33.99209486166008}, {\"fillcolor\": \"rgb(202,104,204)\", \"line\": {\"width\": 2}, \"type\": \"rect\", \"x0\": 39.618138424821, \"x1\": 73.79655063718647, \"y0\": 33.99209486166008, \"y1\": 54.940711462450594}, {\"fillcolor\": \"rgb(192,73,245)\", \"line\": {\"width\": 2}, \"type\": \"rect\", \"x0\": 73.79655063718647, \"x1\": 100.0, \"y0\": 33.99209486166008, \"y1\": 54.940711462450594}, {\"fillcolor\": \"rgb(182,43,30)\", \"line\": {\"width\": 2}, \"type\": \"rect\", \"x0\": 39.618138424821, \"x1\": 58.68609471171963, \"y0\": 54.940711462450594, \"y1\": 78.72200263504611}, {\"fillcolor\": \"rgb(172,12,71)\", \"line\": {\"width\": 2}, \"type\": \"rect\", \"x0\": 39.618138424821, \"x1\": 58.68609471171963, \"y0\": 78.72200263504611, \"y1\": 100.0}, {\"fillcolor\": \"rgb(161,237,112)\", \"line\": {\"width\": 2}, \"type\": \"rect\", \"x0\": 58.68609471171963, \"x1\": 79.34304735585982, \"y0\": 54.940711462450594, \"y1\": 72.27120705381574}, {\"fillcolor\": \"rgb(151,206,153)\", \"line\": {\"width\": 2}, \"type\": \"rect\", \"x0\": 79.34304735585982, \"x1\": 100.0, \"y0\": 54.940711462450594, \"y1\": 72.27120705381574}, {\"fillcolor\": \"rgb(141,175,194)\", \"line\": {\"width\": 2}, \"type\": \"rect\", \"x0\": 58.68609471171963, \"x1\": 81.06446007620484, \"y0\": 72.27120705381574, \"y1\": 87.20209556329957}, {\"fillcolor\": \"rgb(131,144,235)\", \"line\": {\"width\": 2}, \"type\": \"rect\", \"x0\": 58.68609471171963, \"x1\": 81.06446007620484, \"y0\": 87.20209556329957, \"y1\": 99.99999999999999}, {\"fillcolor\": \"rgb(121,114,20)\", \"line\": {\"width\": 2}, \"type\": \"rect\", \"x0\": 81.06446007620484, \"x1\": 100.0, \"y0\": 72.27120705381574, \"y1\": 86.13560352690787}, {\"fillcolor\": \"rgb(111,83,61)\", \"line\": {\"width\": 2}, \"type\": \"rect\", \"x0\": 81.06446007620484, \"x1\": 100.00000000000001, \"y0\": 86.13560352690787, \"y1\": 100.0}], \"width\": 700, \"xaxis\": {\"showgrid\": false, \"showticklabels\": false, \"zeroline\": false}, \"yaxis\": {\"showgrid\": false, \"showticklabels\": false, \"zeroline\": false}}, {\"showLink\": true, \"linkText\": \"Export to plot.ly\"})});</script>"
      ]
     },
     "metadata": {},
     "output_type": "display_data"
    }
   ],
   "source": [
    "values = np.array(ofsk2.index)\n",
    "labels=np.array(ofsk2.values).squeeze()\n",
    "\n",
    "normed = squarify.normalize_sizes(values, width, height)\n",
    "rects = squarify.squarify(normed, x, y, width, height)\n",
    "shapes = []\n",
    "annotations = []\n",
    "\n",
    "for i,r in enumerate(rects):\n",
    "    shapes.append( \n",
    "        dict(\n",
    "            type = 'rect', \n",
    "            x0 = r['x'], \n",
    "            y0 = r['y'], \n",
    "            x1 = r['x']+r['dx'], \n",
    "            y1 = r['y']+r['dy'],\n",
    "            line = dict( width = 2 ),\n",
    "            fillcolor=colors2[i]\n",
    "        ),\n",
    "    )\n",
    "    label=labels[i]\n",
    "    if i<10: label=label+'<br>'+str(values[i])\n",
    "    annotations.append(\n",
    "        dict(\n",
    "            x = r['x']+(r['dx']/2),\n",
    "            y = r['y']+(r['dy']/2),\n",
    "            text = label,\n",
    "            font=dict(size=25),\n",
    "            showarrow = False\n",
    "        )\n",
    "    )\n",
    "    \n",
    "# For hover text\n",
    "trace0 = go.Scatter(\n",
    "    x = [ r['x']+(r['dx']/2) for r in rects ], \n",
    "    y = [ r['y']+(r['dy']/2) for r in rects ],\n",
    "    text = [ str(v) for v in values ], \n",
    "    mode = 'text',\n",
    ")\n",
    "        \n",
    "layout = dict(\n",
    "    height=700, \n",
    "    width=700,\n",
    "    xaxis=dict(showgrid=False,zeroline=False,showticklabels=False),\n",
    "    yaxis=dict(showgrid=False,zeroline=False,showticklabels=False),\n",
    "    shapes=shapes,\n",
    "    annotations=annotations,\n",
    "    hovermode='closest',\n",
    ")\n",
    "\n",
    "# With hovertext\n",
    "figure = dict(data=[trace0], layout=layout)\n",
    "\n",
    "iplot(figure, filename='squarify-treemap')"
   ]
  },
  {
   "cell_type": "markdown",
   "metadata": {},
   "source": [
    "Create country name converter"
   ]
  },
  {
   "cell_type": "code",
   "execution_count": 392,
   "metadata": {},
   "outputs": [],
   "source": [
    "#!pip install pycountry"
   ]
  },
  {
   "cell_type": "code",
   "execution_count": 393,
   "metadata": {},
   "outputs": [],
   "source": [
    "import pycountry"
   ]
  },
  {
   "cell_type": "code",
   "execution_count": 395,
   "metadata": {},
   "outputs": [],
   "source": [
    "countries=list(pycountry.countries)"
   ]
  },
  {
   "cell_type": "code",
   "execution_count": 442,
   "metadata": {},
   "outputs": [],
   "source": [
    "def plotter(fig,df,cs,c2s,offshore=True,cumulative=True):\n",
    "    axes=[]\n",
    "    if offshore:\n",
    "        tl='Offshore'\n",
    "        res=wind_res2\n",
    "    else:\n",
    "        tl='Onshore'\n",
    "        res=wind_res\n",
    "    for i in range(len(cs)):\n",
    "        c=cs[i]\n",
    "        c2=c2s[i]\n",
    "        x,y,z,w=projects(ofs,c,cumulative=cumulative)\n",
    "        x2=[class2speed[i] for i in res[c2].keys()]\n",
    "        y2=np.array(list(res[c2].values()))\n",
    "        #calculate average resource class, weighted by available capacity in each class \n",
    "        x2a=np.average(x2,weights=y2)\n",
    "        fig.append_trace(\n",
    "            go.Scatter(x=y2,y=x2,\n",
    "                mode = 'lines',\n",
    "                fill='toself',\n",
    "                legendgroup= c2,\n",
    "                name = c2,\n",
    "                line=dict(\n",
    "                    color=colors2[i],\n",
    "                    shape='spline',\n",
    "                    smoothing=smoothing[1]\n",
    "                )\n",
    "            ),1,1\n",
    "        ); axes.append({'x':'','y':''});\n",
    "        fig.append_trace(\n",
    "            go.Scatter(x=[-100],y=[x2a],\n",
    "                legendgroup= c2,\n",
    "                name = 'mean '+c,\n",
    "                marker=dict(\n",
    "                    color=colors2[i],\n",
    "                ),\n",
    "                showlegend=False\n",
    "            ),1,1\n",
    "        ); axes.append({'x':'','y':''});\n",
    "        fig.append_trace(\n",
    "            go.Scatter(x=x,y=z,\n",
    "                mode = 'lines',\n",
    "                name = 'wind speed '+c,  \n",
    "                legendgroup= c2,\n",
    "                line=dict(\n",
    "                    color=colors2[i],\n",
    "                    shape='spline',\n",
    "                    smoothing=smoothing[0]\n",
    "                ),\n",
    "                showlegend=False\n",
    "            ),1,2\n",
    "        ); axes.append({'x':'2','y':''});\n",
    "        fig.append_trace(\n",
    "            go.Scatter(x=x,y=np.array(w)/1e6, #kW to GW conversion\n",
    "                mode = 'lines',\n",
    "                name = 'capacity '+c,  \n",
    "                legendgroup= c2,\n",
    "                line=dict(\n",
    "                    color=colors2[i],\n",
    "                    shape='spline',\n",
    "                    dash='dash',\n",
    "                    smoothing=smoothing[0]\n",
    "                ),\n",
    "                showlegend=False\n",
    "            ),1,3\n",
    "        ); axes.append({'x':'2','y':'2'});\n",
    "\n",
    "    for i in range(len(fig['data'])):\n",
    "        fig['data'][i]['xaxis']='x'+axes[i]['x']\n",
    "        fig['data'][i]['yaxis']='y'+axes[i]['y']\n",
    "\n",
    "    layout = go.Layout(\n",
    "        xaxis=dict(\n",
    "            domain=[0, 0.3],\n",
    "            title='Available power (TW)',\n",
    "            autorange='reversed'\n",
    "        ),\n",
    "        yaxis=dict(\n",
    "            title='Wind speed (m/s)',\n",
    "            hoverformat = '.2f'\n",
    "        ),\n",
    "        xaxis2=dict(\n",
    "            domain=[0.3, 1],\n",
    "            title='Year'\n",
    "        ),\n",
    "        yaxis2=dict(\n",
    "            overlaying='y',\n",
    "            showgrid=False,\n",
    "            side='right',\n",
    "            anchor='x2',\n",
    "            hoverformat = '.2f',\n",
    "            title='Yearly project capacity (GW)',\n",
    "        ),\n",
    "        title=tl+' wind resources vs. projects by capacity weighted average wind speed',\n",
    "        legend=dict(\n",
    "            orientation='h',\n",
    "            x=0.55,\n",
    "            y=1,\n",
    "            xanchor='center'\n",
    "        )\n",
    "    )\n",
    "    fig[\"layout\"]=layout\n",
    "    fig[\"layout\"][\"showlegend\"] = True\n",
    "    fig[\"layout\"]['hovermode']='x'\n",
    "    return fig"
   ]
  },
  {
   "cell_type": "code",
   "execution_count": 445,
   "metadata": {},
   "outputs": [
    {
     "name": "stdout",
     "output_type": "stream",
     "text": [
      "This is the format of your plot grid:\n",
      "[ (1,1) x1,y1 ]  [ (1,2) x2,y2 ]  [ (1,3) x3,y3 ]\n",
      "\n"
     ]
    },
    {
     "data": {
      "application/vnd.plotly.v1+json": {
       "data": [
        {
         "fill": "toself",
         "legendgroup": "China",
         "line": {
          "color": "rgb(242,228,40)",
          "shape": "spline",
          "smoothing": 0.9
         },
         "mode": "lines",
         "name": "China",
         "type": "scatter",
         "uid": "c81bca4c-cf32-11e8-bb22-b00594f12df5",
         "x": [
          0,
          84.34860799842978,
          833.5618606111843,
          1999.8170007864228,
          1095.9664731642956,
          360.38202121178426,
          226.79825618888998,
          0,
          0
         ],
         "xaxis": "x",
         "y": [
          6.1,
          7,
          7.6,
          8.2,
          8.7,
          9.6,
          10.7,
          11.8,
          12.9
         ],
         "yaxis": "y"
        },
        {
         "legendgroup": "China",
         "marker": {
          "color": "rgb(242,228,40)"
         },
         "name": "mean CN",
         "showlegend": false,
         "type": "scatter",
         "uid": "c81e8942-cf32-11e8-9c80-b00594f12df5",
         "x": [
          -100
         ],
         "xaxis": "x",
         "y": [
          8.421296695390788
         ],
         "yaxis": "y"
        },
        {
         "legendgroup": "China",
         "line": {
          "color": "rgb(242,228,40)",
          "shape": "spline",
          "smoothing": 0.4
         },
         "mode": "lines",
         "name": "wind speed CN",
         "showlegend": false,
         "type": "scatter",
         "uid": "c8228122-cf32-11e8-8ada-b00594f12df5",
         "x": [
          2007,
          2009,
          2010,
          2011,
          2012,
          2013,
          2014,
          2015,
          2016,
          2018,
          2019
         ],
         "xaxis": "x2",
         "y": [
          7.86113,
          7.3582075,
          7.4992941758241765,
          7.245248675496689,
          7.380361802869619,
          7.553138392857143,
          7.873453426028921,
          7.692642727272727,
          7.9394340562249,
          5.876597397540984,
          7.617294301122286
         ],
         "yaxis": "y"
        },
        {
         "legendgroup": "China",
         "line": {
          "color": "rgb(242,228,40)",
          "dash": "dash",
          "shape": "spline",
          "smoothing": 0.4
         },
         "mode": "lines",
         "name": "capacity CN",
         "showlegend": false,
         "type": "scatter",
         "uid": "c825401a-cf32-11e8-99b2-b00594f12df5",
         "x": [
          2007,
          2009,
          2010,
          2011,
          2012,
          2013,
          2014,
          2015,
          2016,
          2018,
          2019
         ],
         "xaxis": "x2",
         "y": [
          0.0015,
          0.008,
          0.1365,
          0.0151,
          0.1603,
          0.056,
          0.2697,
          0.374,
          0.498,
          1.1712,
          17.1525
         ],
         "yaxis": "y2"
        },
        {
         "fill": "toself",
         "legendgroup": "Germany",
         "line": {
          "color": "rgb(232,197,81)",
          "shape": "spline",
          "smoothing": 0.9
         },
         "mode": "lines",
         "name": "Germany",
         "type": "scatter",
         "uid": "c83b6014-cf32-11e8-a4e1-b00594f12df5",
         "x": [
          0,
          0,
          0,
          5.0890195522969215,
          74.30827093511061,
          151.88721668743847,
          55.034432604449286,
          0,
          0
         ],
         "xaxis": "x",
         "y": [
          6.1,
          7,
          7.6,
          8.2,
          8.7,
          9.6,
          10.7,
          11.8,
          12.9
         ],
         "yaxis": "y"
        },
        {
         "legendgroup": "Germany",
         "marker": {
          "color": "rgb(232,197,81)"
         },
         "name": "mean GB",
         "showlegend": false,
         "type": "scatter",
         "uid": "c83e2e40-cf32-11e8-a2a2-b00594f12df5",
         "x": [
          -100
         ],
         "xaxis": "x",
         "y": [
          9.552974835125122
         ],
         "yaxis": "y"
        },
        {
         "legendgroup": "Germany",
         "line": {
          "color": "rgb(232,197,81)",
          "shape": "spline",
          "smoothing": 0.4
         },
         "mode": "lines",
         "name": "wind speed GB",
         "showlegend": false,
         "type": "scatter",
         "uid": "c83fbb86-cf32-11e8-b50b-b00594f12df5",
         "x": [
          2003,
          2004,
          2005,
          2006,
          2007,
          2009,
          2010,
          2011,
          2012,
          2013,
          2014,
          2015,
          2016,
          2018,
          2019
         ],
         "xaxis": "x2",
         "y": [
          9.35932,
          9.11533,
          9.2776,
          9.2776,
          9.31362,
          9.627248101265824,
          9.222962570921986,
          9.74304,
          9.511365561330562,
          9.113150372031393,
          9.367318358208955,
          9.26023278996865,
          9.35992,
          8.997781101355857,
          6.867582958315496
         ],
         "yaxis": "y"
        },
        {
         "legendgroup": "Germany",
         "line": {
          "color": "rgb(232,197,81)",
          "dash": "dash",
          "shape": "spline",
          "smoothing": 0.4
         },
         "mode": "lines",
         "name": "capacity GB",
         "showlegend": false,
         "type": "scatter",
         "uid": "c8414890-cf32-11e8-b766-b00594f12df5",
         "x": [
          2003,
          2004,
          2005,
          2006,
          2007,
          2009,
          2010,
          2011,
          2012,
          2013,
          2014,
          2015,
          2016,
          2018,
          2019
         ],
         "xaxis": "x2",
         "y": [
          0.06,
          0.06,
          0.09,
          0.09,
          0.09,
          0.2844,
          0.6768,
          0.1836,
          1.1544,
          0.9811,
          0.9648,
          0.4785,
          0.256,
          3.5992,
          7.4752
         ],
         "yaxis": "y2"
        },
        {
         "fill": "toself",
         "legendgroup": "Denmark",
         "line": {
          "color": "rgb(222,166,122)",
          "shape": "spline",
          "smoothing": 0.9
         },
         "mode": "lines",
         "name": "Denmark",
         "type": "scatter",
         "uid": "c8537c3e-cf32-11e8-afa4-b00594f12df5",
         "x": [
          0,
          0,
          0,
          0.4586406261423828,
          191.6997872121452,
          243.06456317735731,
          250.70056633669006,
          0,
          0
         ],
         "xaxis": "x",
         "y": [
          6.1,
          7,
          7.6,
          8.2,
          8.7,
          9.6,
          10.7,
          11.8,
          12.9
         ],
         "yaxis": "y"
        },
        {
         "legendgroup": "Denmark",
         "marker": {
          "color": "rgb(222,166,122)"
         },
         "name": "mean DE",
         "showlegend": false,
         "type": "scatter",
         "uid": "c856d7b6-cf32-11e8-9b38-b00594f12df5",
         "x": [
          -100
         ],
         "xaxis": "x",
         "y": [
          9.7495774806144
         ],
         "yaxis": "y"
        },
        {
         "legendgroup": "Denmark",
         "line": {
          "color": "rgb(222,166,122)",
          "shape": "spline",
          "smoothing": 0.4
         },
         "mode": "lines",
         "name": "wind speed DE",
         "showlegend": false,
         "type": "scatter",
         "uid": "c85a0bf4-cf32-11e8-ad52-b00594f12df5",
         "x": [
          2004,
          2006,
          2009,
          2011,
          2013,
          2014,
          2015,
          2017,
          2018,
          2019
         ],
         "xaxis": "x2",
         "y": [
          8.76715,
          9.43907,
          9.4976,
          8.69463,
          6.31766,
          2.626314545454546,
          7.63250518819939,
          7.556243611738148,
          4.531646972508761,
          6.267496555990604
         ],
         "yaxis": "y"
        },
        {
         "legendgroup": "Denmark",
         "line": {
          "color": "rgb(222,166,122)",
          "dash": "dash",
          "shape": "spline",
          "smoothing": 0.4
         },
         "mode": "lines",
         "name": "capacity DE",
         "showlegend": false,
         "type": "scatter",
         "uid": "c85e9fb8-cf32-11e8-9632-b00594f12df5",
         "x": [
          2004,
          2006,
          2009,
          2011,
          2013,
          2014,
          2015,
          2017,
          2018,
          2019
         ],
         "xaxis": "x2",
         "y": [
          0.0045,
          0.0025,
          0.06,
          0.0483,
          0.4,
          0.396,
          2.3592,
          0.3987,
          2.0261,
          6.385
         ],
         "yaxis": "y2"
        },
        {
         "fill": "toself",
         "legendgroup": "United Kingdom",
         "line": {
          "color": "rgb(212,135,163)",
          "shape": "spline",
          "smoothing": 0.9
         },
         "mode": "lines",
         "name": "United Kingdom",
         "type": "scatter",
         "uid": "c8657dc6-cf32-11e8-bdc5-b00594f12df5",
         "x": [
          0,
          0,
          0,
          0,
          116.94847569595635,
          1108.4278851044735,
          292.7286431643525,
          6.9409166095039145,
          0
         ],
         "xaxis": "x",
         "y": [
          6.1,
          7,
          7.6,
          8.2,
          8.7,
          9.6,
          10.7,
          11.8,
          12.9
         ],
         "yaxis": "y"
        },
        {
         "legendgroup": "United Kingdom",
         "marker": {
          "color": "rgb(212,135,163)"
         },
         "name": "mean GR",
         "showlegend": false,
         "type": "scatter",
         "uid": "c869270a-cf32-11e8-a4c2-b00594f12df5",
         "x": [
          -100
         ],
         "xaxis": "x",
         "y": [
          9.752138301388305
         ],
         "yaxis": "y"
        },
        {
         "legendgroup": "United Kingdom",
         "line": {
          "color": "rgb(212,135,163)",
          "shape": "spline",
          "smoothing": 0.4
         },
         "mode": "lines",
         "name": "wind speed GR",
         "showlegend": false,
         "type": "scatter",
         "uid": "c86d6cc6-cf32-11e8-a996-b00594f12df5",
         "x": [
          2019
         ],
         "xaxis": "x2",
         "y": [
          7.825108340324386
         ],
         "yaxis": "y"
        },
        {
         "legendgroup": "United Kingdom",
         "line": {
          "color": "rgb(212,135,163)",
          "dash": "dash",
          "shape": "spline",
          "smoothing": 0.4
         },
         "mode": "lines",
         "name": "capacity GR",
         "showlegend": false,
         "type": "scatter",
         "uid": "c870ef5a-cf32-11e8-9773-b00594f12df5",
         "x": [
          2019
         ],
         "xaxis": "x2",
         "y": [
          5.0064
         ],
         "yaxis": "y2"
        },
        {
         "fill": "toself",
         "legendgroup": "Greece",
         "line": {
          "color": "rgb(202,104,204)",
          "shape": "spline",
          "smoothing": 0.9
         },
         "mode": "lines",
         "name": "Greece",
         "type": "scatter",
         "uid": "c87fcd9e-cf32-11e8-bd15-b00594f12df5",
         "x": [
          0.417148814714492,
          0.6687719919149118,
          10.162204102700795,
          4.138056397920845,
          0.4220849412623938,
          0,
          0,
          0,
          0
         ],
         "xaxis": "x",
         "y": [
          6.1,
          7,
          7.6,
          8.2,
          8.7,
          9.6,
          10.7,
          11.8,
          12.9
         ],
         "yaxis": "y"
        },
        {
         "legendgroup": "Greece",
         "marker": {
          "color": "rgb(202,104,204)"
         },
         "name": "mean JP",
         "showlegend": false,
         "type": "scatter",
         "uid": "c88212ca-cf32-11e8-93dc-b00594f12df5",
         "x": [
          -100
         ],
         "xaxis": "x",
         "y": [
          7.721464354581011
         ],
         "yaxis": "y"
        },
        {
         "legendgroup": "Greece",
         "line": {
          "color": "rgb(202,104,204)",
          "shape": "spline",
          "smoothing": 0.4
         },
         "mode": "lines",
         "name": "wind speed JP",
         "showlegend": false,
         "type": "scatter",
         "uid": "c886b22e-cf32-11e8-9de3-b00594f12df5",
         "x": [
          2004,
          2010,
          2013,
          2014,
          2015,
          2019
         ],
         "xaxis": "x2",
         "y": [
          7.913976237188874,
          8.71289,
          8.306599375000001,
          7.27417,
          7.9455496000000005,
          8.122249633422161
         ],
         "yaxis": "y"
        },
        {
         "legendgroup": "Greece",
         "line": {
          "color": "rgb(202,104,204)",
          "dash": "dash",
          "shape": "spline",
          "smoothing": 0.4
         },
         "mode": "lines",
         "name": "capacity JP",
         "showlegend": false,
         "type": "scatter",
         "uid": "c88a769e-cf32-11e8-9ab8-b00594f12df5",
         "x": [
          2004,
          2010,
          2013,
          2014,
          2015,
          2019
         ],
         "xaxis": "x2",
         "y": [
          0.02732,
          0.014,
          0.0064,
          0.005,
          0.025,
          2.38285
         ],
         "yaxis": "y2"
        },
        {
         "fill": "toself",
         "legendgroup": "Japan",
         "line": {
          "color": "rgb(192,73,245)",
          "shape": "spline",
          "smoothing": 0.9
         },
         "mode": "lines",
         "name": "Japan",
         "type": "scatter",
         "uid": "c8a370e2-cf32-11e8-9af2-b00594f12df5",
         "x": [
          0,
          7.497679113797633,
          33.997830212871854,
          50.095602491743534,
          22.943363665679698,
          0.9776671177662594,
          0,
          0,
          0
         ],
         "xaxis": "x",
         "y": [
          6.1,
          7,
          7.6,
          8.2,
          8.7,
          9.6,
          10.7,
          11.8,
          12.9
         ],
         "yaxis": "y"
        },
        {
         "legendgroup": "Japan",
         "marker": {
          "color": "rgb(192,73,245)"
         },
         "name": "mean DK",
         "showlegend": false,
         "type": "scatter",
         "uid": "c8aa27c8-cf32-11e8-9853-b00594f12df5",
         "x": [
          -100
         ],
         "xaxis": "x",
         "y": [
          8.056677428938096
         ],
         "yaxis": "y"
        },
        {
         "legendgroup": "Japan",
         "line": {
          "color": "rgb(192,73,245)",
          "shape": "spline",
          "smoothing": 0.4
         },
         "mode": "lines",
         "name": "wind speed DK",
         "showlegend": false,
         "type": "scatter",
         "uid": "c8af09a8-cf32-11e8-a479-b00594f12df5",
         "x": [
          1995,
          2000,
          2002,
          2003,
          2009,
          2010,
          2011,
          2012,
          2019
         ],
         "xaxis": "x2",
         "y": [
          9.07521,
          9.93416,
          9.94053,
          8.823008622305531,
          9.790390425531916,
          9.0396,
          8.69724,
          9.11872,
          9.00308509977827
         ],
         "yaxis": "y"
        },
        {
         "legendgroup": "Japan",
         "line": {
          "color": "rgb(192,73,245)",
          "dash": "dash",
          "shape": "spline",
          "smoothing": 0.4
         },
         "mode": "lines",
         "name": "capacity DK",
         "showlegend": false,
         "type": "scatter",
         "uid": "c8b4d85a-cf32-11e8-852a-b00594f12df5",
         "x": [
          1995,
          2000,
          2002,
          2003,
          2009,
          2010,
          2011,
          2012,
          2019
         ],
         "xaxis": "x2",
         "y": [
          0.005,
          0.04,
          0.16,
          0.2134,
          0.2303,
          0.207,
          0.0108,
          0.3996,
          1.804
         ],
         "yaxis": "y2"
        }
       ],
       "layout": {
        "hovermode": "x",
        "legend": {
         "orientation": "h",
         "x": 0.55,
         "xanchor": "center",
         "y": 1
        },
        "showlegend": true,
        "title": "Offshore wind resources vs. projects by capacity weighted average wind speed",
        "xaxis": {
         "autorange": "reversed",
         "domain": [
          0,
          0.3
         ],
         "title": "Available power (TW)"
        },
        "xaxis2": {
         "domain": [
          0.3,
          1
         ],
         "title": "Year"
        },
        "yaxis": {
         "hoverformat": ".2f",
         "title": "Wind speed (m/s)"
        },
        "yaxis2": {
         "anchor": "x2",
         "hoverformat": ".2f",
         "overlaying": "y",
         "showgrid": false,
         "side": "right",
         "title": "Yearly project capacity (GW)"
        }
       }
      },
      "text/html": [
       "<div id=\"ff3cec59-6028-4adb-8003-ea3d9dda1885\" style=\"height: 525px; width: 100%;\" class=\"plotly-graph-div\"></div><script type=\"text/javascript\">require([\"plotly\"], function(Plotly) { window.PLOTLYENV=window.PLOTLYENV || {};window.PLOTLYENV.BASE_URL=\"https://plot.ly\";Plotly.newPlot(\"ff3cec59-6028-4adb-8003-ea3d9dda1885\", [{\"fill\": \"toself\", \"legendgroup\": \"China\", \"line\": {\"color\": \"rgb(242,228,40)\", \"shape\": \"spline\", \"smoothing\": 0.9}, \"mode\": \"lines\", \"name\": \"China\", \"x\": [0.0, 84.34860799842978, 833.5618606111843, 1999.8170007864228, 1095.9664731642956, 360.38202121178426, 226.79825618888998, 0.0, 0.0], \"y\": [6.1, 7.0, 7.6, 8.2, 8.7, 9.6, 10.7, 11.8, 12.9], \"type\": \"scatter\", \"uid\": \"c81bca4c-cf32-11e8-bb22-b00594f12df5\", \"xaxis\": \"x\", \"yaxis\": \"y\"}, {\"legendgroup\": \"China\", \"marker\": {\"color\": \"rgb(242,228,40)\"}, \"name\": \"mean CN\", \"showlegend\": false, \"x\": [-100], \"y\": [8.421296695390788], \"type\": \"scatter\", \"uid\": \"c81e8942-cf32-11e8-9c80-b00594f12df5\", \"xaxis\": \"x\", \"yaxis\": \"y\"}, {\"legendgroup\": \"China\", \"line\": {\"color\": \"rgb(242,228,40)\", \"shape\": \"spline\", \"smoothing\": 0.4}, \"mode\": \"lines\", \"name\": \"wind speed CN\", \"showlegend\": false, \"x\": [2007.0, 2009.0, 2010.0, 2011.0, 2012.0, 2013.0, 2014.0, 2015.0, 2016.0, 2018.0, 2019.0], \"y\": [7.86113, 7.3582075, 7.4992941758241765, 7.245248675496689, 7.380361802869619, 7.553138392857143, 7.873453426028921, 7.692642727272727, 7.9394340562249, 5.876597397540984, 7.617294301122286], \"type\": \"scatter\", \"uid\": \"c8228122-cf32-11e8-8ada-b00594f12df5\", \"xaxis\": \"x2\", \"yaxis\": \"y\"}, {\"legendgroup\": \"China\", \"line\": {\"color\": \"rgb(242,228,40)\", \"dash\": \"dash\", \"shape\": \"spline\", \"smoothing\": 0.4}, \"mode\": \"lines\", \"name\": \"capacity CN\", \"showlegend\": false, \"x\": [2007.0, 2009.0, 2010.0, 2011.0, 2012.0, 2013.0, 2014.0, 2015.0, 2016.0, 2018.0, 2019.0], \"y\": [0.0015, 0.008, 0.1365, 0.0151, 0.1603, 0.056, 0.2697, 0.374, 0.498, 1.1712, 17.1525], \"type\": \"scatter\", \"uid\": \"c825401a-cf32-11e8-99b2-b00594f12df5\", \"xaxis\": \"x2\", \"yaxis\": \"y2\"}, {\"fill\": \"toself\", \"legendgroup\": \"Germany\", \"line\": {\"color\": \"rgb(232,197,81)\", \"shape\": \"spline\", \"smoothing\": 0.9}, \"mode\": \"lines\", \"name\": \"Germany\", \"x\": [0.0, 0.0, 0.0, 5.0890195522969215, 74.30827093511061, 151.88721668743847, 55.034432604449286, 0.0, 0.0], \"y\": [6.1, 7.0, 7.6, 8.2, 8.7, 9.6, 10.7, 11.8, 12.9], \"type\": \"scatter\", \"uid\": \"c83b6014-cf32-11e8-a4e1-b00594f12df5\", \"xaxis\": \"x\", \"yaxis\": \"y\"}, {\"legendgroup\": \"Germany\", \"marker\": {\"color\": \"rgb(232,197,81)\"}, \"name\": \"mean GB\", \"showlegend\": false, \"x\": [-100], \"y\": [9.552974835125122], \"type\": \"scatter\", \"uid\": \"c83e2e40-cf32-11e8-a2a2-b00594f12df5\", \"xaxis\": \"x\", \"yaxis\": \"y\"}, {\"legendgroup\": \"Germany\", \"line\": {\"color\": \"rgb(232,197,81)\", \"shape\": \"spline\", \"smoothing\": 0.4}, \"mode\": \"lines\", \"name\": \"wind speed GB\", \"showlegend\": false, \"x\": [2003.0, 2004.0, 2005.0, 2006.0, 2007.0, 2009.0, 2010.0, 2011.0, 2012.0, 2013.0, 2014.0, 2015.0, 2016.0, 2018.0, 2019.0], \"y\": [9.35932, 9.11533, 9.2776, 9.2776, 9.31362, 9.627248101265824, 9.222962570921986, 9.74304, 9.511365561330562, 9.113150372031393, 9.367318358208955, 9.26023278996865, 9.35992, 8.997781101355857, 6.867582958315496], \"type\": \"scatter\", \"uid\": \"c83fbb86-cf32-11e8-b50b-b00594f12df5\", \"xaxis\": \"x2\", \"yaxis\": \"y\"}, {\"legendgroup\": \"Germany\", \"line\": {\"color\": \"rgb(232,197,81)\", \"dash\": \"dash\", \"shape\": \"spline\", \"smoothing\": 0.4}, \"mode\": \"lines\", \"name\": \"capacity GB\", \"showlegend\": false, \"x\": [2003.0, 2004.0, 2005.0, 2006.0, 2007.0, 2009.0, 2010.0, 2011.0, 2012.0, 2013.0, 2014.0, 2015.0, 2016.0, 2018.0, 2019.0], \"y\": [0.06, 0.06, 0.09, 0.09, 0.09, 0.2844, 0.6768, 0.1836, 1.1544, 0.9811, 0.9648, 0.4785, 0.256, 3.5992, 7.4752], \"type\": \"scatter\", \"uid\": \"c8414890-cf32-11e8-b766-b00594f12df5\", \"xaxis\": \"x2\", \"yaxis\": \"y2\"}, {\"fill\": \"toself\", \"legendgroup\": \"Denmark\", \"line\": {\"color\": \"rgb(222,166,122)\", \"shape\": \"spline\", \"smoothing\": 0.9}, \"mode\": \"lines\", \"name\": \"Denmark\", \"x\": [0.0, 0.0, 0.0, 0.4586406261423828, 191.6997872121452, 243.06456317735731, 250.70056633669006, 0.0, 0.0], \"y\": [6.1, 7.0, 7.6, 8.2, 8.7, 9.6, 10.7, 11.8, 12.9], \"type\": \"scatter\", \"uid\": \"c8537c3e-cf32-11e8-afa4-b00594f12df5\", \"xaxis\": \"x\", \"yaxis\": \"y\"}, {\"legendgroup\": \"Denmark\", \"marker\": {\"color\": \"rgb(222,166,122)\"}, \"name\": \"mean DE\", \"showlegend\": false, \"x\": [-100], \"y\": [9.7495774806144], \"type\": \"scatter\", \"uid\": \"c856d7b6-cf32-11e8-9b38-b00594f12df5\", \"xaxis\": \"x\", \"yaxis\": \"y\"}, {\"legendgroup\": \"Denmark\", \"line\": {\"color\": \"rgb(222,166,122)\", \"shape\": \"spline\", \"smoothing\": 0.4}, \"mode\": \"lines\", \"name\": \"wind speed DE\", \"showlegend\": false, \"x\": [2004.0, 2006.0, 2009.0, 2011.0, 2013.0, 2014.0, 2015.0, 2017.0, 2018.0, 2019.0], \"y\": [8.76715, 9.43907, 9.4976, 8.69463, 6.31766, 2.626314545454546, 7.63250518819939, 7.556243611738148, 4.531646972508761, 6.267496555990604], \"type\": \"scatter\", \"uid\": \"c85a0bf4-cf32-11e8-ad52-b00594f12df5\", \"xaxis\": \"x2\", \"yaxis\": \"y\"}, {\"legendgroup\": \"Denmark\", \"line\": {\"color\": \"rgb(222,166,122)\", \"dash\": \"dash\", \"shape\": \"spline\", \"smoothing\": 0.4}, \"mode\": \"lines\", \"name\": \"capacity DE\", \"showlegend\": false, \"x\": [2004.0, 2006.0, 2009.0, 2011.0, 2013.0, 2014.0, 2015.0, 2017.0, 2018.0, 2019.0], \"y\": [0.0045, 0.0025, 0.06, 0.0483, 0.4, 0.396, 2.3592, 0.3987, 2.0261, 6.385], \"type\": \"scatter\", \"uid\": \"c85e9fb8-cf32-11e8-9632-b00594f12df5\", \"xaxis\": \"x2\", \"yaxis\": \"y2\"}, {\"fill\": \"toself\", \"legendgroup\": \"United Kingdom\", \"line\": {\"color\": \"rgb(212,135,163)\", \"shape\": \"spline\", \"smoothing\": 0.9}, \"mode\": \"lines\", \"name\": \"United Kingdom\", \"x\": [0.0, 0.0, 0.0, 0.0, 116.94847569595635, 1108.4278851044735, 292.7286431643525, 6.9409166095039145, 0.0], \"y\": [6.1, 7.0, 7.6, 8.2, 8.7, 9.6, 10.7, 11.8, 12.9], \"type\": \"scatter\", \"uid\": \"c8657dc6-cf32-11e8-bdc5-b00594f12df5\", \"xaxis\": \"x\", \"yaxis\": \"y\"}, {\"legendgroup\": \"United Kingdom\", \"marker\": {\"color\": \"rgb(212,135,163)\"}, \"name\": \"mean GR\", \"showlegend\": false, \"x\": [-100], \"y\": [9.752138301388305], \"type\": \"scatter\", \"uid\": \"c869270a-cf32-11e8-a4c2-b00594f12df5\", \"xaxis\": \"x\", \"yaxis\": \"y\"}, {\"legendgroup\": \"United Kingdom\", \"line\": {\"color\": \"rgb(212,135,163)\", \"shape\": \"spline\", \"smoothing\": 0.4}, \"mode\": \"lines\", \"name\": \"wind speed GR\", \"showlegend\": false, \"x\": [2019.0], \"y\": [7.825108340324386], \"type\": \"scatter\", \"uid\": \"c86d6cc6-cf32-11e8-a996-b00594f12df5\", \"xaxis\": \"x2\", \"yaxis\": \"y\"}, {\"legendgroup\": \"United Kingdom\", \"line\": {\"color\": \"rgb(212,135,163)\", \"dash\": \"dash\", \"shape\": \"spline\", \"smoothing\": 0.4}, \"mode\": \"lines\", \"name\": \"capacity GR\", \"showlegend\": false, \"x\": [2019.0], \"y\": [5.0064], \"type\": \"scatter\", \"uid\": \"c870ef5a-cf32-11e8-9773-b00594f12df5\", \"xaxis\": \"x2\", \"yaxis\": \"y2\"}, {\"fill\": \"toself\", \"legendgroup\": \"Greece\", \"line\": {\"color\": \"rgb(202,104,204)\", \"shape\": \"spline\", \"smoothing\": 0.9}, \"mode\": \"lines\", \"name\": \"Greece\", \"x\": [0.417148814714492, 0.6687719919149118, 10.162204102700795, 4.138056397920845, 0.4220849412623938, 0.0, 0.0, 0.0, 0.0], \"y\": [6.1, 7.0, 7.6, 8.2, 8.7, 9.6, 10.7, 11.8, 12.9], \"type\": \"scatter\", \"uid\": \"c87fcd9e-cf32-11e8-bd15-b00594f12df5\", \"xaxis\": \"x\", \"yaxis\": \"y\"}, {\"legendgroup\": \"Greece\", \"marker\": {\"color\": \"rgb(202,104,204)\"}, \"name\": \"mean JP\", \"showlegend\": false, \"x\": [-100], \"y\": [7.721464354581011], \"type\": \"scatter\", \"uid\": \"c88212ca-cf32-11e8-93dc-b00594f12df5\", \"xaxis\": \"x\", \"yaxis\": \"y\"}, {\"legendgroup\": \"Greece\", \"line\": {\"color\": \"rgb(202,104,204)\", \"shape\": \"spline\", \"smoothing\": 0.4}, \"mode\": \"lines\", \"name\": \"wind speed JP\", \"showlegend\": false, \"x\": [2004.0, 2010.0, 2013.0, 2014.0, 2015.0, 2019.0], \"y\": [7.913976237188874, 8.71289, 8.306599375000001, 7.27417, 7.9455496000000005, 8.122249633422161], \"type\": \"scatter\", \"uid\": \"c886b22e-cf32-11e8-9de3-b00594f12df5\", \"xaxis\": \"x2\", \"yaxis\": \"y\"}, {\"legendgroup\": \"Greece\", \"line\": {\"color\": \"rgb(202,104,204)\", \"dash\": \"dash\", \"shape\": \"spline\", \"smoothing\": 0.4}, \"mode\": \"lines\", \"name\": \"capacity JP\", \"showlegend\": false, \"x\": [2004.0, 2010.0, 2013.0, 2014.0, 2015.0, 2019.0], \"y\": [0.02732, 0.014, 0.0064, 0.005, 0.025, 2.38285], \"type\": \"scatter\", \"uid\": \"c88a769e-cf32-11e8-9ab8-b00594f12df5\", \"xaxis\": \"x2\", \"yaxis\": \"y2\"}, {\"fill\": \"toself\", \"legendgroup\": \"Japan\", \"line\": {\"color\": \"rgb(192,73,245)\", \"shape\": \"spline\", \"smoothing\": 0.9}, \"mode\": \"lines\", \"name\": \"Japan\", \"x\": [0.0, 7.497679113797633, 33.997830212871854, 50.095602491743534, 22.943363665679698, 0.9776671177662594, 0.0, 0.0, 0.0], \"y\": [6.1, 7.0, 7.6, 8.2, 8.7, 9.6, 10.7, 11.8, 12.9], \"type\": \"scatter\", \"uid\": \"c8a370e2-cf32-11e8-9af2-b00594f12df5\", \"xaxis\": \"x\", \"yaxis\": \"y\"}, {\"legendgroup\": \"Japan\", \"marker\": {\"color\": \"rgb(192,73,245)\"}, \"name\": \"mean DK\", \"showlegend\": false, \"x\": [-100], \"y\": [8.056677428938096], \"type\": \"scatter\", \"uid\": \"c8aa27c8-cf32-11e8-9853-b00594f12df5\", \"xaxis\": \"x\", \"yaxis\": \"y\"}, {\"legendgroup\": \"Japan\", \"line\": {\"color\": \"rgb(192,73,245)\", \"shape\": \"spline\", \"smoothing\": 0.4}, \"mode\": \"lines\", \"name\": \"wind speed DK\", \"showlegend\": false, \"x\": [1995.0, 2000.0, 2002.0, 2003.0, 2009.0, 2010.0, 2011.0, 2012.0, 2019.0], \"y\": [9.07521, 9.93416, 9.94053, 8.823008622305531, 9.790390425531916, 9.0396, 8.69724, 9.11872, 9.00308509977827], \"type\": \"scatter\", \"uid\": \"c8af09a8-cf32-11e8-a479-b00594f12df5\", \"xaxis\": \"x2\", \"yaxis\": \"y\"}, {\"legendgroup\": \"Japan\", \"line\": {\"color\": \"rgb(192,73,245)\", \"dash\": \"dash\", \"shape\": \"spline\", \"smoothing\": 0.4}, \"mode\": \"lines\", \"name\": \"capacity DK\", \"showlegend\": false, \"x\": [1995.0, 2000.0, 2002.0, 2003.0, 2009.0, 2010.0, 2011.0, 2012.0, 2019.0], \"y\": [0.005, 0.04, 0.16, 0.2134, 0.2303, 0.207, 0.0108, 0.3996, 1.804], \"type\": \"scatter\", \"uid\": \"c8b4d85a-cf32-11e8-852a-b00594f12df5\", \"xaxis\": \"x2\", \"yaxis\": \"y2\"}], {\"legend\": {\"orientation\": \"h\", \"x\": 0.55, \"xanchor\": \"center\", \"y\": 1}, \"title\": \"Offshore wind resources vs. projects by capacity weighted average wind speed\", \"xaxis\": {\"autorange\": \"reversed\", \"domain\": [0, 0.3], \"title\": \"Available power (TW)\"}, \"yaxis\": {\"hoverformat\": \".2f\", \"title\": \"Wind speed (m/s)\"}, \"xaxis2\": {\"domain\": [0.3, 1], \"title\": \"Year\"}, \"yaxis2\": {\"anchor\": \"x2\", \"hoverformat\": \".2f\", \"overlaying\": \"y\", \"showgrid\": false, \"side\": \"right\", \"title\": \"Yearly project capacity (GW)\"}, \"showlegend\": true, \"hovermode\": \"x\"}, {\"showLink\": true, \"linkText\": \"Export to plot.ly\"})});</script>"
      ],
      "text/vnd.plotly.v1+html": [
       "<div id=\"ff3cec59-6028-4adb-8003-ea3d9dda1885\" style=\"height: 525px; width: 100%;\" class=\"plotly-graph-div\"></div><script type=\"text/javascript\">require([\"plotly\"], function(Plotly) { window.PLOTLYENV=window.PLOTLYENV || {};window.PLOTLYENV.BASE_URL=\"https://plot.ly\";Plotly.newPlot(\"ff3cec59-6028-4adb-8003-ea3d9dda1885\", [{\"fill\": \"toself\", \"legendgroup\": \"China\", \"line\": {\"color\": \"rgb(242,228,40)\", \"shape\": \"spline\", \"smoothing\": 0.9}, \"mode\": \"lines\", \"name\": \"China\", \"x\": [0.0, 84.34860799842978, 833.5618606111843, 1999.8170007864228, 1095.9664731642956, 360.38202121178426, 226.79825618888998, 0.0, 0.0], \"y\": [6.1, 7.0, 7.6, 8.2, 8.7, 9.6, 10.7, 11.8, 12.9], \"type\": \"scatter\", \"uid\": \"c81bca4c-cf32-11e8-bb22-b00594f12df5\", \"xaxis\": \"x\", \"yaxis\": \"y\"}, {\"legendgroup\": \"China\", \"marker\": {\"color\": \"rgb(242,228,40)\"}, \"name\": \"mean CN\", \"showlegend\": false, \"x\": [-100], \"y\": [8.421296695390788], \"type\": \"scatter\", \"uid\": \"c81e8942-cf32-11e8-9c80-b00594f12df5\", \"xaxis\": \"x\", \"yaxis\": \"y\"}, {\"legendgroup\": \"China\", \"line\": {\"color\": \"rgb(242,228,40)\", \"shape\": \"spline\", \"smoothing\": 0.4}, \"mode\": \"lines\", \"name\": \"wind speed CN\", \"showlegend\": false, \"x\": [2007.0, 2009.0, 2010.0, 2011.0, 2012.0, 2013.0, 2014.0, 2015.0, 2016.0, 2018.0, 2019.0], \"y\": [7.86113, 7.3582075, 7.4992941758241765, 7.245248675496689, 7.380361802869619, 7.553138392857143, 7.873453426028921, 7.692642727272727, 7.9394340562249, 5.876597397540984, 7.617294301122286], \"type\": \"scatter\", \"uid\": \"c8228122-cf32-11e8-8ada-b00594f12df5\", \"xaxis\": \"x2\", \"yaxis\": \"y\"}, {\"legendgroup\": \"China\", \"line\": {\"color\": \"rgb(242,228,40)\", \"dash\": \"dash\", \"shape\": \"spline\", \"smoothing\": 0.4}, \"mode\": \"lines\", \"name\": \"capacity CN\", \"showlegend\": false, \"x\": [2007.0, 2009.0, 2010.0, 2011.0, 2012.0, 2013.0, 2014.0, 2015.0, 2016.0, 2018.0, 2019.0], \"y\": [0.0015, 0.008, 0.1365, 0.0151, 0.1603, 0.056, 0.2697, 0.374, 0.498, 1.1712, 17.1525], \"type\": \"scatter\", \"uid\": \"c825401a-cf32-11e8-99b2-b00594f12df5\", \"xaxis\": \"x2\", \"yaxis\": \"y2\"}, {\"fill\": \"toself\", \"legendgroup\": \"Germany\", \"line\": {\"color\": \"rgb(232,197,81)\", \"shape\": \"spline\", \"smoothing\": 0.9}, \"mode\": \"lines\", \"name\": \"Germany\", \"x\": [0.0, 0.0, 0.0, 5.0890195522969215, 74.30827093511061, 151.88721668743847, 55.034432604449286, 0.0, 0.0], \"y\": [6.1, 7.0, 7.6, 8.2, 8.7, 9.6, 10.7, 11.8, 12.9], \"type\": \"scatter\", \"uid\": \"c83b6014-cf32-11e8-a4e1-b00594f12df5\", \"xaxis\": \"x\", \"yaxis\": \"y\"}, {\"legendgroup\": \"Germany\", \"marker\": {\"color\": \"rgb(232,197,81)\"}, \"name\": \"mean GB\", \"showlegend\": false, \"x\": [-100], \"y\": [9.552974835125122], \"type\": \"scatter\", \"uid\": \"c83e2e40-cf32-11e8-a2a2-b00594f12df5\", \"xaxis\": \"x\", \"yaxis\": \"y\"}, {\"legendgroup\": \"Germany\", \"line\": {\"color\": \"rgb(232,197,81)\", \"shape\": \"spline\", \"smoothing\": 0.4}, \"mode\": \"lines\", \"name\": \"wind speed GB\", \"showlegend\": false, \"x\": [2003.0, 2004.0, 2005.0, 2006.0, 2007.0, 2009.0, 2010.0, 2011.0, 2012.0, 2013.0, 2014.0, 2015.0, 2016.0, 2018.0, 2019.0], \"y\": [9.35932, 9.11533, 9.2776, 9.2776, 9.31362, 9.627248101265824, 9.222962570921986, 9.74304, 9.511365561330562, 9.113150372031393, 9.367318358208955, 9.26023278996865, 9.35992, 8.997781101355857, 6.867582958315496], \"type\": \"scatter\", \"uid\": \"c83fbb86-cf32-11e8-b50b-b00594f12df5\", \"xaxis\": \"x2\", \"yaxis\": \"y\"}, {\"legendgroup\": \"Germany\", \"line\": {\"color\": \"rgb(232,197,81)\", \"dash\": \"dash\", \"shape\": \"spline\", \"smoothing\": 0.4}, \"mode\": \"lines\", \"name\": \"capacity GB\", \"showlegend\": false, \"x\": [2003.0, 2004.0, 2005.0, 2006.0, 2007.0, 2009.0, 2010.0, 2011.0, 2012.0, 2013.0, 2014.0, 2015.0, 2016.0, 2018.0, 2019.0], \"y\": [0.06, 0.06, 0.09, 0.09, 0.09, 0.2844, 0.6768, 0.1836, 1.1544, 0.9811, 0.9648, 0.4785, 0.256, 3.5992, 7.4752], \"type\": \"scatter\", \"uid\": \"c8414890-cf32-11e8-b766-b00594f12df5\", \"xaxis\": \"x2\", \"yaxis\": \"y2\"}, {\"fill\": \"toself\", \"legendgroup\": \"Denmark\", \"line\": {\"color\": \"rgb(222,166,122)\", \"shape\": \"spline\", \"smoothing\": 0.9}, \"mode\": \"lines\", \"name\": \"Denmark\", \"x\": [0.0, 0.0, 0.0, 0.4586406261423828, 191.6997872121452, 243.06456317735731, 250.70056633669006, 0.0, 0.0], \"y\": [6.1, 7.0, 7.6, 8.2, 8.7, 9.6, 10.7, 11.8, 12.9], \"type\": \"scatter\", \"uid\": \"c8537c3e-cf32-11e8-afa4-b00594f12df5\", \"xaxis\": \"x\", \"yaxis\": \"y\"}, {\"legendgroup\": \"Denmark\", \"marker\": {\"color\": \"rgb(222,166,122)\"}, \"name\": \"mean DE\", \"showlegend\": false, \"x\": [-100], \"y\": [9.7495774806144], \"type\": \"scatter\", \"uid\": \"c856d7b6-cf32-11e8-9b38-b00594f12df5\", \"xaxis\": \"x\", \"yaxis\": \"y\"}, {\"legendgroup\": \"Denmark\", \"line\": {\"color\": \"rgb(222,166,122)\", \"shape\": \"spline\", \"smoothing\": 0.4}, \"mode\": \"lines\", \"name\": \"wind speed DE\", \"showlegend\": false, \"x\": [2004.0, 2006.0, 2009.0, 2011.0, 2013.0, 2014.0, 2015.0, 2017.0, 2018.0, 2019.0], \"y\": [8.76715, 9.43907, 9.4976, 8.69463, 6.31766, 2.626314545454546, 7.63250518819939, 7.556243611738148, 4.531646972508761, 6.267496555990604], \"type\": \"scatter\", \"uid\": \"c85a0bf4-cf32-11e8-ad52-b00594f12df5\", \"xaxis\": \"x2\", \"yaxis\": \"y\"}, {\"legendgroup\": \"Denmark\", \"line\": {\"color\": \"rgb(222,166,122)\", \"dash\": \"dash\", \"shape\": \"spline\", \"smoothing\": 0.4}, \"mode\": \"lines\", \"name\": \"capacity DE\", \"showlegend\": false, \"x\": [2004.0, 2006.0, 2009.0, 2011.0, 2013.0, 2014.0, 2015.0, 2017.0, 2018.0, 2019.0], \"y\": [0.0045, 0.0025, 0.06, 0.0483, 0.4, 0.396, 2.3592, 0.3987, 2.0261, 6.385], \"type\": \"scatter\", \"uid\": \"c85e9fb8-cf32-11e8-9632-b00594f12df5\", \"xaxis\": \"x2\", \"yaxis\": \"y2\"}, {\"fill\": \"toself\", \"legendgroup\": \"United Kingdom\", \"line\": {\"color\": \"rgb(212,135,163)\", \"shape\": \"spline\", \"smoothing\": 0.9}, \"mode\": \"lines\", \"name\": \"United Kingdom\", \"x\": [0.0, 0.0, 0.0, 0.0, 116.94847569595635, 1108.4278851044735, 292.7286431643525, 6.9409166095039145, 0.0], \"y\": [6.1, 7.0, 7.6, 8.2, 8.7, 9.6, 10.7, 11.8, 12.9], \"type\": \"scatter\", \"uid\": \"c8657dc6-cf32-11e8-bdc5-b00594f12df5\", \"xaxis\": \"x\", \"yaxis\": \"y\"}, {\"legendgroup\": \"United Kingdom\", \"marker\": {\"color\": \"rgb(212,135,163)\"}, \"name\": \"mean GR\", \"showlegend\": false, \"x\": [-100], \"y\": [9.752138301388305], \"type\": \"scatter\", \"uid\": \"c869270a-cf32-11e8-a4c2-b00594f12df5\", \"xaxis\": \"x\", \"yaxis\": \"y\"}, {\"legendgroup\": \"United Kingdom\", \"line\": {\"color\": \"rgb(212,135,163)\", \"shape\": \"spline\", \"smoothing\": 0.4}, \"mode\": \"lines\", \"name\": \"wind speed GR\", \"showlegend\": false, \"x\": [2019.0], \"y\": [7.825108340324386], \"type\": \"scatter\", \"uid\": \"c86d6cc6-cf32-11e8-a996-b00594f12df5\", \"xaxis\": \"x2\", \"yaxis\": \"y\"}, {\"legendgroup\": \"United Kingdom\", \"line\": {\"color\": \"rgb(212,135,163)\", \"dash\": \"dash\", \"shape\": \"spline\", \"smoothing\": 0.4}, \"mode\": \"lines\", \"name\": \"capacity GR\", \"showlegend\": false, \"x\": [2019.0], \"y\": [5.0064], \"type\": \"scatter\", \"uid\": \"c870ef5a-cf32-11e8-9773-b00594f12df5\", \"xaxis\": \"x2\", \"yaxis\": \"y2\"}, {\"fill\": \"toself\", \"legendgroup\": \"Greece\", \"line\": {\"color\": \"rgb(202,104,204)\", \"shape\": \"spline\", \"smoothing\": 0.9}, \"mode\": \"lines\", \"name\": \"Greece\", \"x\": [0.417148814714492, 0.6687719919149118, 10.162204102700795, 4.138056397920845, 0.4220849412623938, 0.0, 0.0, 0.0, 0.0], \"y\": [6.1, 7.0, 7.6, 8.2, 8.7, 9.6, 10.7, 11.8, 12.9], \"type\": \"scatter\", \"uid\": \"c87fcd9e-cf32-11e8-bd15-b00594f12df5\", \"xaxis\": \"x\", \"yaxis\": \"y\"}, {\"legendgroup\": \"Greece\", \"marker\": {\"color\": \"rgb(202,104,204)\"}, \"name\": \"mean JP\", \"showlegend\": false, \"x\": [-100], \"y\": [7.721464354581011], \"type\": \"scatter\", \"uid\": \"c88212ca-cf32-11e8-93dc-b00594f12df5\", \"xaxis\": \"x\", \"yaxis\": \"y\"}, {\"legendgroup\": \"Greece\", \"line\": {\"color\": \"rgb(202,104,204)\", \"shape\": \"spline\", \"smoothing\": 0.4}, \"mode\": \"lines\", \"name\": \"wind speed JP\", \"showlegend\": false, \"x\": [2004.0, 2010.0, 2013.0, 2014.0, 2015.0, 2019.0], \"y\": [7.913976237188874, 8.71289, 8.306599375000001, 7.27417, 7.9455496000000005, 8.122249633422161], \"type\": \"scatter\", \"uid\": \"c886b22e-cf32-11e8-9de3-b00594f12df5\", \"xaxis\": \"x2\", \"yaxis\": \"y\"}, {\"legendgroup\": \"Greece\", \"line\": {\"color\": \"rgb(202,104,204)\", \"dash\": \"dash\", \"shape\": \"spline\", \"smoothing\": 0.4}, \"mode\": \"lines\", \"name\": \"capacity JP\", \"showlegend\": false, \"x\": [2004.0, 2010.0, 2013.0, 2014.0, 2015.0, 2019.0], \"y\": [0.02732, 0.014, 0.0064, 0.005, 0.025, 2.38285], \"type\": \"scatter\", \"uid\": \"c88a769e-cf32-11e8-9ab8-b00594f12df5\", \"xaxis\": \"x2\", \"yaxis\": \"y2\"}, {\"fill\": \"toself\", \"legendgroup\": \"Japan\", \"line\": {\"color\": \"rgb(192,73,245)\", \"shape\": \"spline\", \"smoothing\": 0.9}, \"mode\": \"lines\", \"name\": \"Japan\", \"x\": [0.0, 7.497679113797633, 33.997830212871854, 50.095602491743534, 22.943363665679698, 0.9776671177662594, 0.0, 0.0, 0.0], \"y\": [6.1, 7.0, 7.6, 8.2, 8.7, 9.6, 10.7, 11.8, 12.9], \"type\": \"scatter\", \"uid\": \"c8a370e2-cf32-11e8-9af2-b00594f12df5\", \"xaxis\": \"x\", \"yaxis\": \"y\"}, {\"legendgroup\": \"Japan\", \"marker\": {\"color\": \"rgb(192,73,245)\"}, \"name\": \"mean DK\", \"showlegend\": false, \"x\": [-100], \"y\": [8.056677428938096], \"type\": \"scatter\", \"uid\": \"c8aa27c8-cf32-11e8-9853-b00594f12df5\", \"xaxis\": \"x\", \"yaxis\": \"y\"}, {\"legendgroup\": \"Japan\", \"line\": {\"color\": \"rgb(192,73,245)\", \"shape\": \"spline\", \"smoothing\": 0.4}, \"mode\": \"lines\", \"name\": \"wind speed DK\", \"showlegend\": false, \"x\": [1995.0, 2000.0, 2002.0, 2003.0, 2009.0, 2010.0, 2011.0, 2012.0, 2019.0], \"y\": [9.07521, 9.93416, 9.94053, 8.823008622305531, 9.790390425531916, 9.0396, 8.69724, 9.11872, 9.00308509977827], \"type\": \"scatter\", \"uid\": \"c8af09a8-cf32-11e8-a479-b00594f12df5\", \"xaxis\": \"x2\", \"yaxis\": \"y\"}, {\"legendgroup\": \"Japan\", \"line\": {\"color\": \"rgb(192,73,245)\", \"dash\": \"dash\", \"shape\": \"spline\", \"smoothing\": 0.4}, \"mode\": \"lines\", \"name\": \"capacity DK\", \"showlegend\": false, \"x\": [1995.0, 2000.0, 2002.0, 2003.0, 2009.0, 2010.0, 2011.0, 2012.0, 2019.0], \"y\": [0.005, 0.04, 0.16, 0.2134, 0.2303, 0.207, 0.0108, 0.3996, 1.804], \"type\": \"scatter\", \"uid\": \"c8b4d85a-cf32-11e8-852a-b00594f12df5\", \"xaxis\": \"x2\", \"yaxis\": \"y2\"}], {\"legend\": {\"orientation\": \"h\", \"x\": 0.55, \"xanchor\": \"center\", \"y\": 1}, \"title\": \"Offshore wind resources vs. projects by capacity weighted average wind speed\", \"xaxis\": {\"autorange\": \"reversed\", \"domain\": [0, 0.3], \"title\": \"Available power (TW)\"}, \"yaxis\": {\"hoverformat\": \".2f\", \"title\": \"Wind speed (m/s)\"}, \"xaxis2\": {\"domain\": [0.3, 1], \"title\": \"Year\"}, \"yaxis2\": {\"anchor\": \"x2\", \"hoverformat\": \".2f\", \"overlaying\": \"y\", \"showgrid\": false, \"side\": \"right\", \"title\": \"Yearly project capacity (GW)\"}, \"showlegend\": true, \"hovermode\": \"x\"}, {\"showLink\": true, \"linkText\": \"Export to plot.ly\"})});</script>"
      ]
     },
     "metadata": {},
     "output_type": "display_data"
    }
   ],
   "source": [
    "cs=ofsk2[:6].values.squeeze()\n",
    "c2s=[]\n",
    "for c in [i.name for i in countries if i.alpha_2 in cs]:\n",
    "    if c in wind_res2.keys():\n",
    "        c2s.append(c)\n",
    "    elif c=='United States': \n",
    "        c2s.append('United States of America')\n",
    "    elif c=='Korea, Republic of': \n",
    "        c2s.append('Republic of Korea')\n",
    "    elif c=='Taiwan, Province of China': \n",
    "        c2s.append('Taiwan')        \n",
    "fig = tools.make_subplots(rows=1, cols=3);\n",
    "iplot(plotter(fig,ofsk2[:6],cs,c2s,offshore=True,cumulative=False), filename='ofsk1')"
   ]
  },
  {
   "cell_type": "code",
   "execution_count": null,
   "metadata": {},
   "outputs": [],
   "source": []
  }
 ],
 "metadata": {
  "anaconda-cloud": {},
  "kernelspec": {
   "display_name": "Python 3",
   "language": "python",
   "name": "python3"
  },
  "language_info": {
   "codemirror_mode": {
    "name": "ipython",
    "version": 3
   },
   "file_extension": ".py",
   "mimetype": "text/x-python",
   "name": "python",
   "nbconvert_exporter": "python",
   "pygments_lexer": "ipython3",
   "version": "3.7.0"
  }
 },
 "nbformat": 4,
 "nbformat_minor": 2
}
