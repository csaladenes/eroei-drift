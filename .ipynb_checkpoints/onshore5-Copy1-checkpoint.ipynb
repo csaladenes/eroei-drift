{
 "cells": [
  {
   "cell_type": "code",
   "execution_count": 10,
   "metadata": {
    "collapsed": true
   },
   "outputs": [],
   "source": [
    "import pandas as pd, numpy as np\n",
    "import matplotlib.pyplot as plt\n",
    "import seaborn as sns\n",
    "%matplotlib inline\n",
    "from jupyterthemes import jtplot\n",
    "# oceans16 | grade3 | chesterish | onedork | monokai | solarizedl\n",
    "jtplot.style('solarized-light')"
   ]
  },
  {
   "cell_type": "code",
   "execution_count": 11,
   "metadata": {
    "collapsed": false
   },
   "outputs": [],
   "source": [
    "dz=pd.read_excel('data/20170616_wind_farms_with_ws_2k_5k_v2_sgouris.xlsx')\n",
    "df=dz.set_index(['OFFSHORE'],drop=False).drop(['diff_exact_2k','diff_2k_5k'],axis=1)"
   ]
  },
  {
   "cell_type": "code",
   "execution_count": 12,
   "metadata": {
    "collapsed": false
   },
   "outputs": [],
   "source": [
    "df['wind']=[df['value_exact'].values[i] if df['ACCUR_LOC'].values[i]=='yes' \\\n",
    " else np.mean([df['value_exact'].values[i],df['value_max_2k'].values[i],df['value_max_5k'].values[i]]) \\\n",
    " for i in range(len(df['ACCUR_LOC']))]"
   ]
  },
  {
   "cell_type": "code",
   "execution_count": 13,
   "metadata": {
    "collapsed": true
   },
   "outputs": [],
   "source": [
    "from datetime import datetime as dt\n",
    "import time\n",
    "\n",
    "def toYearFraction(date):\n",
    "    def sinceEpoch(date): # returns seconds since epoch\n",
    "        return time.mktime(date.timetuple())\n",
    "    s = sinceEpoch\n",
    "\n",
    "    year = date.year\n",
    "    startOfThisYear = dt(year=year, month=1, day=1)\n",
    "    startOfNextYear = dt(year=year+1, month=1, day=1)\n",
    "\n",
    "    yearElapsed = s(date) - s(startOfThisYear)\n",
    "    yearDuration = s(startOfNextYear) - s(startOfThisYear)\n",
    "    fraction = yearElapsed/yearDuration\n",
    "\n",
    "    return date.year + fraction"
   ]
  },
  {
   "cell_type": "code",
   "execution_count": 14,
   "metadata": {
    "collapsed": false
   },
   "outputs": [],
   "source": [
    "smartyear=[]\n",
    "for i in range(len(df)):\n",
    "    if len(str(df['COMM'].values[i]))>4:\n",
    "        smartyear.append(toYearFraction(pd.to_datetime(df['COMM'].values[i])))\n",
    "    elif len(str(df['Year'].values[i]))>3:\n",
    "        smartyear.append(df['Year'].values[i])\n",
    "    elif df['STATUS'].values[i]=='constr':\n",
    "        y=2016 if np.random.rand(1)>0.5 else 2017\n",
    "        smartyear.append(y)\n",
    "    elif df['STATUS'].values[i]=='appr':\n",
    "        y=2017 if np.random.rand(1)>0.5 else 2018\n",
    "        smartyear.append(y)\n",
    "    elif df['STATUS'].values[i]=='plan':\n",
    "        y=2018 if np.random.rand(1)>0.5 else 2019\n",
    "        smartyear.append(y)\n",
    "    else:\n",
    "        #smartyear.append(np.nan)\n",
    "        smartyear.append(df['Year'].values[i])\n",
    "df['smartyear']=smartyear"
   ]
  },
  {
   "cell_type": "code",
   "execution_count": 15,
   "metadata": {
    "collapsed": false
   },
   "outputs": [],
   "source": [
    "wd=df.drop(['value_exact','value_max_2k','value_max_5k','ACCUR_LOC','ID'],axis=1)"
   ]
  },
  {
   "cell_type": "code",
   "execution_count": 16,
   "metadata": {
    "collapsed": false
   },
   "outputs": [
    {
     "data": {
      "text/plain": [
       "21825"
      ]
     },
     "execution_count": 16,
     "metadata": {},
     "output_type": "execute_result"
    }
   ],
   "source": [
    "len(wd)"
   ]
  },
  {
   "cell_type": "markdown",
   "metadata": {},
   "source": [
    "Probabilistically back-assign?"
   ]
  },
  {
   "cell_type": "code",
   "execution_count": 17,
   "metadata": {
    "collapsed": false
   },
   "outputs": [
    {
     "ename": "ValueError",
     "evalue": "could not convert string to float: #ND",
     "output_type": "error",
     "traceback": [
      "\u001b[0;31m---------------------------------------------------------------------------\u001b[0m",
      "\u001b[0;31mValueError\u001b[0m                                Traceback (most recent call last)",
      "\u001b[0;32m<ipython-input-17-463e541c65ca>\u001b[0m in \u001b[0;36m<module>\u001b[0;34m()\u001b[0m\n\u001b[0;32m----> 1\u001b[0;31m \u001b[0mwd\u001b[0m\u001b[1;33m[\u001b[0m\u001b[1;34m'power'\u001b[0m\u001b[1;33m]\u001b[0m\u001b[1;33m=\u001b[0m\u001b[0mwd\u001b[0m\u001b[1;33m[\u001b[0m\u001b[1;34m'POWER_KW'\u001b[0m\u001b[1;33m]\u001b[0m\u001b[1;33m.\u001b[0m\u001b[0mastype\u001b[0m\u001b[1;33m(\u001b[0m\u001b[0mfloat\u001b[0m\u001b[1;33m,\u001b[0m\u001b[0merrors\u001b[0m\u001b[1;33m=\u001b[0m\u001b[1;34m'ignore'\u001b[0m\u001b[1;33m)\u001b[0m\u001b[1;33m.\u001b[0m\u001b[0mreplace\u001b[0m\u001b[1;33m(\u001b[0m\u001b[1;36m0\u001b[0m\u001b[1;33m,\u001b[0m\u001b[0mnp\u001b[0m\u001b[1;33m.\u001b[0m\u001b[0mnan\u001b[0m\u001b[1;33m)\u001b[0m\u001b[1;33m.\u001b[0m\u001b[0mreplace\u001b[0m\u001b[1;33m(\u001b[0m\u001b[1;34m'#ND'\u001b[0m\u001b[1;33m,\u001b[0m\u001b[0mnp\u001b[0m\u001b[1;33m.\u001b[0m\u001b[0mnan\u001b[0m\u001b[1;33m)\u001b[0m\u001b[1;33m/\u001b[0m\u001b[1;36m1000.0\u001b[0m\u001b[1;33m\u001b[0m\u001b[0m\n\u001b[0m",
      "\u001b[0;32mC:\\Anaconda2\\lib\\site-packages\\pandas\\core\\generic.pyc\u001b[0m in \u001b[0;36mastype\u001b[0;34m(self, dtype, copy, raise_on_error, **kwargs)\u001b[0m\n\u001b[1;32m   2948\u001b[0m \u001b[1;33m\u001b[0m\u001b[0m\n\u001b[1;32m   2949\u001b[0m         mgr = self._data.astype(dtype=dtype, copy=copy,\n\u001b[0;32m-> 2950\u001b[0;31m                                 raise_on_error=raise_on_error, **kwargs)\n\u001b[0m\u001b[1;32m   2951\u001b[0m         \u001b[1;32mreturn\u001b[0m \u001b[0mself\u001b[0m\u001b[1;33m.\u001b[0m\u001b[0m_constructor\u001b[0m\u001b[1;33m(\u001b[0m\u001b[0mmgr\u001b[0m\u001b[1;33m)\u001b[0m\u001b[1;33m.\u001b[0m\u001b[0m__finalize__\u001b[0m\u001b[1;33m(\u001b[0m\u001b[0mself\u001b[0m\u001b[1;33m)\u001b[0m\u001b[1;33m\u001b[0m\u001b[0m\n\u001b[1;32m   2952\u001b[0m \u001b[1;33m\u001b[0m\u001b[0m\n",
      "\u001b[0;32mC:\\Anaconda2\\lib\\site-packages\\pandas\\core\\internals.pyc\u001b[0m in \u001b[0;36mastype\u001b[0;34m(self, dtype, **kwargs)\u001b[0m\n\u001b[1;32m   2936\u001b[0m \u001b[1;33m\u001b[0m\u001b[0m\n\u001b[1;32m   2937\u001b[0m     \u001b[1;32mdef\u001b[0m \u001b[0mastype\u001b[0m\u001b[1;33m(\u001b[0m\u001b[0mself\u001b[0m\u001b[1;33m,\u001b[0m \u001b[0mdtype\u001b[0m\u001b[1;33m,\u001b[0m \u001b[1;33m**\u001b[0m\u001b[0mkwargs\u001b[0m\u001b[1;33m)\u001b[0m\u001b[1;33m:\u001b[0m\u001b[1;33m\u001b[0m\u001b[0m\n\u001b[0;32m-> 2938\u001b[0;31m         \u001b[1;32mreturn\u001b[0m \u001b[0mself\u001b[0m\u001b[1;33m.\u001b[0m\u001b[0mapply\u001b[0m\u001b[1;33m(\u001b[0m\u001b[1;34m'astype'\u001b[0m\u001b[1;33m,\u001b[0m \u001b[0mdtype\u001b[0m\u001b[1;33m=\u001b[0m\u001b[0mdtype\u001b[0m\u001b[1;33m,\u001b[0m \u001b[1;33m**\u001b[0m\u001b[0mkwargs\u001b[0m\u001b[1;33m)\u001b[0m\u001b[1;33m\u001b[0m\u001b[0m\n\u001b[0m\u001b[1;32m   2939\u001b[0m \u001b[1;33m\u001b[0m\u001b[0m\n\u001b[1;32m   2940\u001b[0m     \u001b[1;32mdef\u001b[0m \u001b[0mconvert\u001b[0m\u001b[1;33m(\u001b[0m\u001b[0mself\u001b[0m\u001b[1;33m,\u001b[0m \u001b[1;33m**\u001b[0m\u001b[0mkwargs\u001b[0m\u001b[1;33m)\u001b[0m\u001b[1;33m:\u001b[0m\u001b[1;33m\u001b[0m\u001b[0m\n",
      "\u001b[0;32mC:\\Anaconda2\\lib\\site-packages\\pandas\\core\\internals.pyc\u001b[0m in \u001b[0;36mapply\u001b[0;34m(self, f, axes, filter, do_integrity_check, consolidate, raw, **kwargs)\u001b[0m\n\u001b[1;32m   2888\u001b[0m \u001b[1;33m\u001b[0m\u001b[0m\n\u001b[1;32m   2889\u001b[0m             \u001b[0mkwargs\u001b[0m\u001b[1;33m[\u001b[0m\u001b[1;34m'mgr'\u001b[0m\u001b[1;33m]\u001b[0m \u001b[1;33m=\u001b[0m \u001b[0mself\u001b[0m\u001b[1;33m\u001b[0m\u001b[0m\n\u001b[0;32m-> 2890\u001b[0;31m             \u001b[0mapplied\u001b[0m \u001b[1;33m=\u001b[0m \u001b[0mgetattr\u001b[0m\u001b[1;33m(\u001b[0m\u001b[0mb\u001b[0m\u001b[1;33m,\u001b[0m \u001b[0mf\u001b[0m\u001b[1;33m)\u001b[0m\u001b[1;33m(\u001b[0m\u001b[1;33m**\u001b[0m\u001b[0mkwargs\u001b[0m\u001b[1;33m)\u001b[0m\u001b[1;33m\u001b[0m\u001b[0m\n\u001b[0m\u001b[1;32m   2891\u001b[0m             \u001b[0mresult_blocks\u001b[0m \u001b[1;33m=\u001b[0m \u001b[0m_extend_blocks\u001b[0m\u001b[1;33m(\u001b[0m\u001b[0mapplied\u001b[0m\u001b[1;33m,\u001b[0m \u001b[0mresult_blocks\u001b[0m\u001b[1;33m)\u001b[0m\u001b[1;33m\u001b[0m\u001b[0m\n\u001b[1;32m   2892\u001b[0m \u001b[1;33m\u001b[0m\u001b[0m\n",
      "\u001b[0;32mC:\\Anaconda2\\lib\\site-packages\\pandas\\core\\internals.pyc\u001b[0m in \u001b[0;36mastype\u001b[0;34m(self, dtype, copy, raise_on_error, values, **kwargs)\u001b[0m\n\u001b[1;32m    432\u001b[0m                **kwargs):\n\u001b[1;32m    433\u001b[0m         return self._astype(dtype, copy=copy, raise_on_error=raise_on_error,\n\u001b[0;32m--> 434\u001b[0;31m                             values=values, **kwargs)\n\u001b[0m\u001b[1;32m    435\u001b[0m \u001b[1;33m\u001b[0m\u001b[0m\n\u001b[1;32m    436\u001b[0m     def _astype(self, dtype, copy=False, raise_on_error=True, values=None,\n",
      "\u001b[0;32mC:\\Anaconda2\\lib\\site-packages\\pandas\\core\\internals.pyc\u001b[0m in \u001b[0;36m_astype\u001b[0;34m(self, dtype, copy, raise_on_error, values, klass, mgr, **kwargs)\u001b[0m\n\u001b[1;32m    475\u001b[0m \u001b[1;33m\u001b[0m\u001b[0m\n\u001b[1;32m    476\u001b[0m                 \u001b[1;31m# _astype_nansafe works fine with 1-d only\u001b[0m\u001b[1;33m\u001b[0m\u001b[1;33m\u001b[0m\u001b[0m\n\u001b[0;32m--> 477\u001b[0;31m                 \u001b[0mvalues\u001b[0m \u001b[1;33m=\u001b[0m \u001b[0mcom\u001b[0m\u001b[1;33m.\u001b[0m\u001b[0m_astype_nansafe\u001b[0m\u001b[1;33m(\u001b[0m\u001b[0mvalues\u001b[0m\u001b[1;33m.\u001b[0m\u001b[0mravel\u001b[0m\u001b[1;33m(\u001b[0m\u001b[1;33m)\u001b[0m\u001b[1;33m,\u001b[0m \u001b[0mdtype\u001b[0m\u001b[1;33m,\u001b[0m \u001b[0mcopy\u001b[0m\u001b[1;33m=\u001b[0m\u001b[0mTrue\u001b[0m\u001b[1;33m)\u001b[0m\u001b[1;33m\u001b[0m\u001b[0m\n\u001b[0m\u001b[1;32m    478\u001b[0m                 \u001b[0mvalues\u001b[0m \u001b[1;33m=\u001b[0m \u001b[0mvalues\u001b[0m\u001b[1;33m.\u001b[0m\u001b[0mreshape\u001b[0m\u001b[1;33m(\u001b[0m\u001b[0mself\u001b[0m\u001b[1;33m.\u001b[0m\u001b[0mshape\u001b[0m\u001b[1;33m)\u001b[0m\u001b[1;33m\u001b[0m\u001b[0m\n\u001b[1;32m    479\u001b[0m \u001b[1;33m\u001b[0m\u001b[0m\n",
      "\u001b[0;32mC:\\Anaconda2\\lib\\site-packages\\pandas\\core\\common.pyc\u001b[0m in \u001b[0;36m_astype_nansafe\u001b[0;34m(arr, dtype, copy)\u001b[0m\n\u001b[1;32m   1918\u001b[0m \u001b[1;33m\u001b[0m\u001b[0m\n\u001b[1;32m   1919\u001b[0m     \u001b[1;32mif\u001b[0m \u001b[0mcopy\u001b[0m\u001b[1;33m:\u001b[0m\u001b[1;33m\u001b[0m\u001b[0m\n\u001b[0;32m-> 1920\u001b[0;31m         \u001b[1;32mreturn\u001b[0m \u001b[0marr\u001b[0m\u001b[1;33m.\u001b[0m\u001b[0mastype\u001b[0m\u001b[1;33m(\u001b[0m\u001b[0mdtype\u001b[0m\u001b[1;33m)\u001b[0m\u001b[1;33m\u001b[0m\u001b[0m\n\u001b[0m\u001b[1;32m   1921\u001b[0m     \u001b[1;32mreturn\u001b[0m \u001b[0marr\u001b[0m\u001b[1;33m.\u001b[0m\u001b[0mview\u001b[0m\u001b[1;33m(\u001b[0m\u001b[0mdtype\u001b[0m\u001b[1;33m)\u001b[0m\u001b[1;33m\u001b[0m\u001b[0m\n\u001b[1;32m   1922\u001b[0m \u001b[1;33m\u001b[0m\u001b[0m\n",
      "\u001b[0;31mValueError\u001b[0m: could not convert string to float: #ND"
     ]
    }
   ],
   "source": [
    "wd['power']=wd['POWER_KW'].astype(float,errors='ignore').replace(0,np.nan).replace('#ND',np.nan)/1000.0"
   ]
  },
  {
   "cell_type": "code",
   "execution_count": null,
   "metadata": {
    "collapsed": false
   },
   "outputs": [],
   "source": [
    "wd['year']=wd['smartyear'].replace('#ND',np.nan).astype(float)"
   ]
  },
  {
   "cell_type": "code",
   "execution_count": null,
   "metadata": {
    "collapsed": true
   },
   "outputs": [],
   "source": [
    "wd['weighted']=wd['wind']*wd['power']/wd['power'].mean()"
   ]
  },
  {
   "cell_type": "code",
   "execution_count": null,
   "metadata": {
    "collapsed": false
   },
   "outputs": [],
   "source": [
    "wd=wd.drop(['POWER_KW','Year','smartyear','COMM','STATUS'],axis=1)\n",
    "wd['powerlog']=np.log10(wd['power'])\n",
    "wd['windlog']=np.log10(wd['wind'])"
   ]
  },
  {
   "cell_type": "code",
   "execution_count": null,
   "metadata": {
    "collapsed": false
   },
   "outputs": [],
   "source": [
    "wd.head()"
   ]
  },
  {
   "cell_type": "code",
   "execution_count": null,
   "metadata": {
    "collapsed": false
   },
   "outputs": [],
   "source": [
    "from scipy import stats\n",
    "slope, intercept, r_value, p_value, std_err = \\\n",
    "    stats.linregress(wd.dropna()['powerlog'].values, wd.dropna()['year'].values)\n",
    "print slope, intercept, r_value, p_value, std_err"
   ]
  },
  {
   "cell_type": "code",
   "execution_count": null,
   "metadata": {
    "collapsed": false
   },
   "outputs": [],
   "source": [
    "sns.lmplot(x='powerlog',y='year',data=wd)\n",
    "x=np.arange(0,2,0.1)\n",
    "plt.plot(x,x*slope+intercept,'r')"
   ]
  },
  {
   "cell_type": "code",
   "execution_count": null,
   "metadata": {
    "collapsed": false
   },
   "outputs": [],
   "source": [
    "smartyear=[]\n",
    "for i in range(len(wd)):\n",
    "    if np.isnan(wd['year'].values[i]):\n",
    "        smartyear.append(wd['powerlog'].values[i]*slope+intercept)\n",
    "    else:\n",
    "        smartyear.append(wd['year'].values[i])\n",
    "wd['smartyear']=smartyear\n",
    "wd['year']=np.array(smartyear).astype(int)"
   ]
  },
  {
   "cell_type": "code",
   "execution_count": null,
   "metadata": {
    "collapsed": false
   },
   "outputs": [],
   "source": [
    "slope, intercept, r_value, p_value, std_err = \\\n",
    "    stats.linregress(wd.dropna()['year'].values, wd.dropna()['powerlog'].values)\n",
    "print slope, intercept, r_value, p_value, std_err"
   ]
  },
  {
   "cell_type": "code",
   "execution_count": null,
   "metadata": {
    "collapsed": false
   },
   "outputs": [],
   "source": [
    "smartpower=[]\n",
    "for i in range(len(wd)):\n",
    "    if np.isnan(wd['powerlog'].values[i]):\n",
    "        smartpower.append(wd['year'].values[i]*slope+intercept)\n",
    "    else:\n",
    "        smartpower.append(wd['powerlog'].values[i])\n",
    "wd['smartpowerlog']=smartpower\n",
    "wd['smartpower']=10**np.array(smartpower)"
   ]
  },
  {
   "cell_type": "code",
   "execution_count": null,
   "metadata": {
    "collapsed": false
   },
   "outputs": [],
   "source": [
    "wd[np.isnan(wd['wind'])]"
   ]
  },
  {
   "cell_type": "code",
   "execution_count": null,
   "metadata": {
    "collapsed": false
   },
   "outputs": [],
   "source": [
    "len(wd)"
   ]
  },
  {
   "cell_type": "code",
   "execution_count": null,
   "metadata": {
    "collapsed": true
   },
   "outputs": [],
   "source": [
    "wd=wd.dropna()"
   ]
  },
  {
   "cell_type": "code",
   "execution_count": null,
   "metadata": {
    "collapsed": false
   },
   "outputs": [],
   "source": [
    "len(wd)"
   ]
  },
  {
   "cell_type": "code",
   "execution_count": null,
   "metadata": {
    "collapsed": false
   },
   "outputs": [],
   "source": [
    "df=wd\n",
    "plt.hist(df['wind'],weights=df['smartpower'])"
   ]
  },
  {
   "cell_type": "code",
   "execution_count": null,
   "metadata": {
    "collapsed": false
   },
   "outputs": [],
   "source": [
    "wd.loc['no'].groupby('year').mean()['wind'].plot()"
   ]
  },
  {
   "cell_type": "code",
   "execution_count": null,
   "metadata": {
    "collapsed": false
   },
   "outputs": [],
   "source": [
    "def wavg(group):\n",
    "    d = group['wind']\n",
    "    w = group['power']\n",
    "    return (d * w).sum() / w.sum()\n",
    "def wavgl(group):\n",
    "    d = group['wind']\n",
    "    w = group['powerlog']\n",
    "    return (d * w).sum() / w.sum()"
   ]
  },
  {
   "cell_type": "code",
   "execution_count": null,
   "metadata": {
    "collapsed": false
   },
   "outputs": [],
   "source": [
    "wd.loc['no'].groupby('year').apply(wavg).plot()\n",
    "plt.xlim(1987,2017)\n",
    "plt.ylim(5,10)\n",
    "plt.title('onshore global mean windspeed in m/s, weighted by capacity')"
   ]
  },
  {
   "cell_type": "code",
   "execution_count": null,
   "metadata": {
    "collapsed": false
   },
   "outputs": [],
   "source": [
    "wd.loc['no'].groupby('year').apply(wavgl).plot()\n",
    "plt.xlim(1987,2017)\n",
    "plt.ylim(5,10)\n",
    "plt.title('onshore global mean windspeed in m/s, weighted by log of capacity')"
   ]
  },
  {
   "cell_type": "code",
   "execution_count": null,
   "metadata": {
    "collapsed": false
   },
   "outputs": [],
   "source": [
    "wd.loc['yes'].groupby('year').apply(wavg).plot()\n",
    "plt.xlim(1987,2017)\n",
    "plt.ylim(5,20)\n",
    "plt.title('offshore global mean windspeed in m/s, weighted by capacity')"
   ]
  },
  {
   "cell_type": "code",
   "execution_count": null,
   "metadata": {
    "collapsed": false
   },
   "outputs": [],
   "source": [
    "wd.loc['yes'].groupby('year').apply(wavgl).plot()\n",
    "plt.xlim(1987,2017)\n",
    "plt.ylim(5,20)\n",
    "plt.title('offshore global mean windspeed in m/s, weighted by log of capacity')"
   ]
  },
  {
   "cell_type": "code",
   "execution_count": null,
   "metadata": {
    "collapsed": false
   },
   "outputs": [],
   "source": [
    "wd.loc['no'].set_index('ISO_CODE').loc['DE'].groupby('year').apply(wavg).plot()\n",
    "plt.xlim(1987,2017)\n",
    "#plt.ylim(5,10)\n",
    "plt.title('onshore germany mean windspeed in m/s, weighted by capacity')"
   ]
  },
  {
   "cell_type": "code",
   "execution_count": null,
   "metadata": {
    "collapsed": false
   },
   "outputs": [],
   "source": [
    "wd.loc['no'].set_index('ISO_CODE').loc['GB'].groupby('year').apply(wavg).plot()\n",
    "plt.xlim(1987,2017)\n",
    "#plt.ylim(5,10)\n",
    "plt.title('onshore UK mean windspeed in m/s, weighted by capacity')"
   ]
  },
  {
   "cell_type": "code",
   "execution_count": null,
   "metadata": {
    "collapsed": false
   },
   "outputs": [],
   "source": [
    "wd.loc['no'].set_index('ISO_CODE').loc['CN'].groupby('year').apply(wavg).plot()\n",
    "plt.xlim(1987,2017)\n",
    "#plt.ylim(5,10)\n",
    "plt.title('onshore china mean windspeed in m/s, weighted by capacity')"
   ]
  },
  {
   "cell_type": "code",
   "execution_count": null,
   "metadata": {
    "collapsed": false
   },
   "outputs": [],
   "source": [
    "wd.loc['no'].set_index('ISO_CODE').loc['NL'].groupby('year').apply(wavg).plot()\n",
    "plt.xlim(1987,2017)\n",
    "#plt.ylim(5,10)\n",
    "plt.title('onshore netherlands mean windspeed in m/s, weighted by capacity')"
   ]
  },
  {
   "cell_type": "code",
   "execution_count": null,
   "metadata": {
    "collapsed": false
   },
   "outputs": [],
   "source": [
    "wd.loc['no'].set_index('Sub-national').loc['California'].groupby('year').apply(wavg).plot()\n",
    "plt.xlim(1987,2017)\n",
    "#plt.ylim(5,10)\n",
    "plt.title('onshore California mean windspeed in m/s, weighted by capacity')"
   ]
  },
  {
   "cell_type": "code",
   "execution_count": null,
   "metadata": {
    "collapsed": false
   },
   "outputs": [],
   "source": [
    "wd.loc['no'].set_index('Sub-national').loc['Texas'].groupby('year').apply(wavg).plot()\n",
    "plt.xlim(1987,2017)\n",
    "#plt.ylim(5,10)\n",
    "plt.title('onshore Texas mean windspeed in m/s, weighted by capacity')"
   ]
  },
  {
   "cell_type": "code",
   "execution_count": null,
   "metadata": {
    "collapsed": false
   },
   "outputs": [],
   "source": [
    "wd.loc['no'].set_index('Sub-national').loc['England'].groupby('year').apply(wavg).plot()\n",
    "plt.xlim(1987,2017)\n",
    "#plt.ylim(5,10)\n",
    "plt.title('onshore England mean windspeed in m/s, weighted by capacity')"
   ]
  },
  {
   "cell_type": "code",
   "execution_count": null,
   "metadata": {
    "collapsed": false
   },
   "outputs": [],
   "source": [
    "wd.loc['no'].set_index('Sub-national').loc['Iowa'].groupby('year').apply(wavg).plot()\n",
    "plt.xlim(1987,2017)\n",
    "#plt.ylim(5,10)\n",
    "plt.title('onshore Iowa mean windspeed in m/s, weighted by capacity')"
   ]
  },
  {
   "cell_type": "code",
   "execution_count": null,
   "metadata": {
    "collapsed": false
   },
   "outputs": [],
   "source": [
    "wd.loc['no'].set_index('Sub-national').loc['Oklahoma'].groupby('year').apply(wavg).plot()\n",
    "plt.xlim(1987,2017)\n",
    "#plt.ylim(5,10)\n",
    "plt.title('onshore Oklahoma mean windspeed in m/s, weighted by capacity')"
   ]
  },
  {
   "cell_type": "code",
   "execution_count": null,
   "metadata": {
    "collapsed": false
   },
   "outputs": [],
   "source": [
    "fig,ax=plt.subplots(5,6,figsize=(15,10))\n",
    "for i in range(5):\n",
    "    for j in range(6):\n",
    "        year=i*6+j+1988\n",
    "        df=wd.loc['no'].set_index('year').loc[year]\n",
    "        ax[i][j].hist(df['wind'].values,weights=df['power'].values,bins=range(3,12))\n",
    "        ax[i][j].set_xlim(3,12)\n",
    "        ax[i][j].set_title(year,y=0.9)\n",
    "        ax[i][j].axvline(np.average(df['wind'].values,weights=df['power'].values),color='r')\n",
    "plt.suptitle('onshore global windspeed histograms weighted by installed capacity')"
   ]
  },
  {
   "cell_type": "code",
   "execution_count": null,
   "metadata": {
    "collapsed": false
   },
   "outputs": [],
   "source": [
    "fig,ax=plt.subplots(5,6,figsize=(15,10))\n",
    "for i in range(5):\n",
    "    for j in range(6):\n",
    "        year=i*6+j+1988\n",
    "        try:\n",
    "            df=wd.loc['no'].set_index('ISO_CODE').loc['US'].set_index('year').loc[year]\n",
    "            ax[i][j].hist(df['wind'].values,weights=df['power'].values,bins=range(3,12))\n",
    "            ax[i][j].set_xlim(3,12)\n",
    "            ax[i][j].set_title(year,y=0.9)\n",
    "            ax[i][j].axvline(np.average(df['wind'].values,weights=df['power'].values),color='r')\n",
    "        except:pass\n",
    "plt.suptitle('onshore US windspeed histograms weighted by installed capacity')"
   ]
  },
  {
   "cell_type": "code",
   "execution_count": null,
   "metadata": {
    "collapsed": false
   },
   "outputs": [],
   "source": [
    "fig,ax=plt.subplots(5,6,figsize=(15,10))\n",
    "for i in range(5):\n",
    "    for j in range(6):\n",
    "        year=i*6+j+1988\n",
    "        try:\n",
    "            df=wd.loc['no'].set_index('ISO_CODE').loc['DE'].set_index('year').loc[year]\n",
    "            ax[i][j].hist(df['wind'].values,weights=df['power'].values,bins=range(3,12))\n",
    "            ax[i][j].set_xlim(3,12)\n",
    "            ax[i][j].set_title(year,y=0.9)\n",
    "            ax[i][j].axvline(np.average(df['wind'].values,weights=df['power'].values),color='r')\n",
    "        except:pass\n",
    "plt.suptitle('onshore germany windspeed histograms weighted by installed capacity')"
   ]
  },
  {
   "cell_type": "code",
   "execution_count": null,
   "metadata": {
    "collapsed": false
   },
   "outputs": [],
   "source": [
    "fig,ax=plt.subplots(5,6,figsize=(15,10))\n",
    "for i in range(5):\n",
    "    for j in range(6):\n",
    "        year=i*6+j+1988\n",
    "        try:\n",
    "            df=wd.loc['no'].set_index('ISO_CODE').loc['GB'].set_index('year').loc[year]\n",
    "            ax[i][j].hist(df['wind'].values,weights=df['power'].values,bins=range(3,12))\n",
    "            ax[i][j].set_xlim(3,12)\n",
    "            ax[i][j].set_title(year,y=0.9)\n",
    "            ax[i][j].axvline(np.average(df['wind'].values,weights=df['power'].values),color='r')\n",
    "        except:pass\n",
    "plt.suptitle('onshore UK windspeed histograms weighted by installed capacity')"
   ]
  },
  {
   "cell_type": "code",
   "execution_count": null,
   "metadata": {
    "collapsed": false
   },
   "outputs": [],
   "source": [
    "fig,ax=plt.subplots(5,6,figsize=(15,10))\n",
    "for i in range(5):\n",
    "    for j in range(6):\n",
    "        year=i*6+j+1988\n",
    "        try:\n",
    "            df=wd.loc['yes'].set_index('year').loc[year]\n",
    "            ax[i][j].hist(df['wind'].values,weights=df['power'].values,bins=range(3,12))\n",
    "            ax[i][j].set_xlim(3,12)\n",
    "            ax[i][j].set_title(year,y=0.9)\n",
    "            ax[i][j].axvline(np.average(df['wind'].values,weights=df['power'].values),color='r')\n",
    "        except:pass\n",
    "plt.suptitle('offshore global windspeed histograms weighted by installed capacity')"
   ]
  },
  {
   "cell_type": "code",
   "execution_count": null,
   "metadata": {
    "collapsed": true
   },
   "outputs": [],
   "source": []
  }
 ],
 "metadata": {
  "anaconda-cloud": {},
  "kernelspec": {
   "display_name": "Python [conda root]",
   "language": "python",
   "name": "conda-root-py"
  },
  "language_info": {
   "codemirror_mode": {
    "name": "ipython",
    "version": 2
   },
   "file_extension": ".py",
   "mimetype": "text/x-python",
   "name": "python",
   "nbconvert_exporter": "python",
   "pygments_lexer": "ipython2",
   "version": "2.7.12"
  }
 },
 "nbformat": 4,
 "nbformat_minor": 1
}
